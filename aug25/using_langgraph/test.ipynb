{
 "cells": [
  {
   "cell_type": "code",
   "execution_count": null,
   "id": "18dddc95",
   "metadata": {},
   "outputs": [],
   "source": [
    "%pip install langchain-tavily"
   ]
  },
  {
   "cell_type": "code",
   "execution_count": 1,
   "id": "e0eda5f9",
   "metadata": {},
   "outputs": [
    {
     "data": {
      "text/plain": [
       "True"
      ]
     },
     "execution_count": 1,
     "metadata": {},
     "output_type": "execute_result"
    }
   ],
   "source": [
    "from dotenv import load_dotenv\n",
    "load_dotenv()"
   ]
  },
  {
   "cell_type": "code",
   "execution_count": 3,
   "id": "209f4d76",
   "metadata": {},
   "outputs": [],
   "source": [
    "import os\n",
    "tavily_api_key = os.getenv('TAVILY_API_KEY')"
   ]
  },
  {
   "cell_type": "code",
   "execution_count": 11,
   "id": "b596c9e5",
   "metadata": {},
   "outputs": [],
   "source": [
    "from langchain.chat_models import init_chat_model\n",
    "\n",
    "model = init_chat_model(\"gemini-2.5-flash\", model_provider=\"google_vertexai\")"
   ]
  },
  {
   "cell_type": "code",
   "execution_count": 5,
   "id": "193f9962",
   "metadata": {},
   "outputs": [],
   "source": [
    "from langchain_tavily import TavilySearch\n",
    "tavily_tool = TavilySearch(\n",
    "    max_results=5,\n",
    "    topic=\"general\",\n",
    "    # include_answer=False,\n",
    "    # include_raw_content=False,\n",
    "    # include_images=False,\n",
    "    # include_image_descriptions=False,\n",
    "    # search_depth=\"basic\",\n",
    "    # time_range=\"day\",\n",
    "    # include_domains=None,\n",
    "    # exclude_domains=None\n",
    ")"
   ]
  },
  {
   "cell_type": "code",
   "execution_count": 13,
   "id": "bb0b9c4f",
   "metadata": {},
   "outputs": [],
   "source": [
    "llmwithtools = model.bind_tools([tavily_tool])"
   ]
  },
  {
   "cell_type": "code",
   "execution_count": 7,
   "id": "c40c5655",
   "metadata": {},
   "outputs": [
    {
     "data": {
      "text/plain": [
       "AIMessage(content='The capital of France is **Paris**.', additional_kwargs={}, response_metadata={'is_blocked': False, 'safety_ratings': [], 'usage_metadata': {'prompt_token_count': 6, 'candidates_token_count': 8, 'total_token_count': 14, 'prompt_tokens_details': [{'modality': 1, 'token_count': 6}], 'candidates_tokens_details': [{'modality': 1, 'token_count': 8}], 'thoughts_token_count': 0, 'cached_content_token_count': 0, 'cache_tokens_details': []}, 'finish_reason': 'STOP', 'avg_logprobs': -0.0034871697425842285, 'model_name': 'gemini-2.5-flash-lite'}, id='run--55f12bf8-0e42-449f-bdc9-9e3584ed9ad9-0', usage_metadata={'input_tokens': 6, 'output_tokens': 8, 'total_tokens': 14, 'input_token_details': {'cache_read': 0}})"
      ]
     },
     "execution_count": 7,
     "metadata": {},
     "output_type": "execute_result"
    }
   ],
   "source": [
    "model.invoke(\"What is capital of france ?\")"
   ]
  },
  {
   "cell_type": "code",
   "execution_count": 14,
   "id": "63635c4e",
   "metadata": {},
   "outputs": [
    {
     "data": {
      "text/plain": [
       "AIMessage(content='', additional_kwargs={'function_call': {'name': 'tavily_search', 'arguments': '{\"query\": \"who won the Asia Cup cricket match yesterday\", \"time_range\": \"day\", \"topic\": \"news\"}'}, '__gemini_function_call_thought_signatures__': {'7c122f0c-09ed-4d35-9d96-0e529eb07a67': 'Ct8GAR/MhbbwxS2s2x00E4jCzszFj9IZT7GtJmnhsypjJsdlEYocp0OWJbct+FSz0jDxm6PskV4j1KSN6S6dfTL6CE9X9Es1/wZRrVeczjksAdzxeMNRT9u205VKSd8qlN8+cz5TgMG7VHlJZPElYh3zmW6wowca0r5KiBhP1XiSFpAjODjZJG0JiNyVx5hmW3LiwxZlugQ0A+au+PbKil1SDVWFSwso+7J0iPg32lkg3ta4FIQeG1xo/0H8vXihjtphMJULMP9rTl0xziBWxdgVVgJkr8pz2HgZjodaLi7VuAtfNd2kDjtE77Rpj+4ut5/I/oCXt16bn8Ctg6ycKSgPeXqzjtwOHmNhuYWQly5nenZlu06ILjDiz3HY3jvAfqHXcAb84pCPqBuuilguTiTWo6akC4eeQ8SF26jHQ8hEmcDG5JIKDZ0vk3vJOP+NKjdT1RaLUhXklK3yXidfZjLrpeh9mjoceWvufa+oQD37e9uvZZ+UKzEDp/136JILulmGgeO54StElhVpEhWA7yv5Ewz+HAnmqIhZR8v+SwUW7DDv8nRcSJEll8d3U7cACrQaQQcWad3j15t+c2er4iJr5l3mGxTznpKOTkW48GMqUJqAVAyNoL26BvITsJaRk3fV8OPE7X/c1ubhoshxxRQ3coYrfppPbbg2Krc0ysZGbginNnhbvK1OwhXSvZgeaDBGMkTb+ZmdRke8wp9hbC7dguxHKjng6Qot3HLHT0E/6DEQAK/o0vYRcq5pdXImBGOwzH0lN5FefTNarT+WxKmXnAg4f4znx8Z0Z5eW6OoO1+nKdxJdttUYtase1WxxifFr6YWFmjhnY5u2xBeHieKxwbMXZ7u9DcEFpHjgsrja5FQSNx3zgyyoh63wcx1vTYdiuQmEPIgWg6/ukWxEFCFIvATzwAINY1S+a2Xi9y30IHb2tsbfbD6ePVgRboiNiXg7Dgdxmp7fOwvn6mdS+jcngiaD+LRplN5SvYZcj2kBpuw5BV41kTpXdU/v5miFBmSe+Kn/2OblBRfFQEeDguJz9t91WVehJZfRHDMvnDF/wvPBuiRzu3HFfogLByFHD2x/i/g/Bb0DV5aMGjDOFQqFZSErTPuT1tqJzU0mcQkoNxJbONX5B2UL74FgkroVZdUKJAEfzIW20xcImpSkef5eoST4zNHl51bRU/yPydfzOQ5geVOYLg=='}}, response_metadata={'is_blocked': False, 'safety_ratings': [], 'usage_metadata': {'prompt_token_count': 1384, 'candidates_token_count': 19, 'total_token_count': 1615, 'prompt_tokens_details': [{'modality': 1, 'token_count': 1384}], 'candidates_tokens_details': [{'modality': 1, 'token_count': 19}], 'thoughts_token_count': 212, 'cached_content_token_count': 0, 'cache_tokens_details': []}, 'finish_reason': 'STOP', 'avg_logprobs': -1.855195497211657, 'model_name': 'gemini-2.5-flash'}, id='run--fae95e1e-73bc-4b56-a926-8fc2ae196fab-0', tool_calls=[{'name': 'tavily_search', 'args': {'query': 'who won the Asia Cup cricket match yesterday', 'time_range': 'day', 'topic': 'news'}, 'id': '7c122f0c-09ed-4d35-9d96-0e529eb07a67', 'type': 'tool_call'}], usage_metadata={'input_tokens': 1384, 'output_tokens': 19, 'total_tokens': 1615, 'input_token_details': {'cache_read': 0}, 'output_token_details': {'reasoning': 212}})"
      ]
     },
     "execution_count": 14,
     "metadata": {},
     "output_type": "execute_result"
    }
   ],
   "source": [
    "llmwithtools.invoke(\"Who won the asia cup cricket match yesterday, can you search and tell\")"
   ]
  },
  {
   "cell_type": "code",
   "execution_count": 15,
   "id": "d2cd1c6c",
   "metadata": {},
   "outputs": [],
   "source": [
    "response = tavily_tool.invoke({\"query\": \"What is gold price in inr ?\"})"
   ]
  },
  {
   "cell_type": "code",
   "execution_count": 16,
   "id": "c5899fa7",
   "metadata": {},
   "outputs": [
    {
     "data": {
      "text/plain": [
       "{'query': 'What is gold price in inr ?',\n",
       " 'follow_up_questions': None,\n",
       " 'answer': None,\n",
       " 'images': [],\n",
       " 'results': [{'url': 'https://goldbroker.com/charts/gold-price/inr',\n",
       "   'title': 'Gold Price in Indian Rupee (INR) - Live Price and Historical Chart',\n",
       "   'content': '*   [Buy gold & silver](https://goldbroker.com/charts/gold-price/inr# \"Purchase physical gold and silver\") *   [Charts](https://goldbroker.com/charts/gold-price/inr# \"Live and historical prices of precious metals: gold, silver, platinum, palladium\") 3.   [Precious metals prices](https://goldbroker.com/charts) 5.   [Gold price](https://goldbroker.com/charts/gold-price) *   [Live price](https://goldbroker.com/charts/gold-price/inr) *   [Historical Chart](https://goldbroker.com/charts/gold-price/inr) [](https://goldbroker.com/charts/gold-price/inr) | [US Dollar (USD)](https://goldbroker.com/charts/gold-price/usd#live-chart) | 0.78 | $3,443.34 | $110,705.95 | $110.71 | | [Indian Rupee (INR)](https://goldbroker.com/charts/gold-price/inr#live-chart) | 1.42 | ₹303,596.00 | ₹9,760,838.06 | ₹9,760.84 | Download the free [GoldBroker mobile app](https://goldbroker.com/mobile-apps-iphone-android) on your iPhone or Android smartphone: live gold and silver prices, real-time performance, historical price charts, news, interviews and videos, client area... [Gold Price in NZD](https://goldbroker.com/charts/gold-price/nzd) [Gold Price in AED](https://goldbroker.com/charts/gold-price/aed) [Gold Price in CZK](https://goldbroker.com/charts/gold-price/czk) [Gold Price in RUB](https://goldbroker.com/charts/gold-price/rub) [Gold Price in CLP](https://goldbroker.com/charts/gold-price/clp) [Gold Price in BGN](https://goldbroker.com/charts/gold-price/bgn) *   [+44 20 7131 0260](https://goldbroker.com/charts/gold-price/inr \"Contact us\")',\n",
       "   'score': 0.9065293,\n",
       "   'raw_content': None},\n",
       "  {'url': 'https://www.gadgets360.com/finance/gold-rate-in-india',\n",
       "   'title': 'Gold Price in India | Gold Rate Today (27th September 2025)',\n",
       "   'content': '+ Gold Rate * Gold Rate # Gold Price in India Find here the latest prices for 24 carat gold and 22 carat gold in India and also compare them to make an informed decision. Gold rate in India today is ₹ 1,12,160 per 10 grams for 24 Carat and ₹ 1,02,730 for 22 Carat. ## 24 Carat Gold Price in India Today Digital Gold Price ## 22 Carat Gold Price in India Today ## Gold Price Today in Major Cities of India Gold rates may vary from city to city based on various factors including demand, interests levied, octroi charges, state taxes, gold traders, bullion associations, transportation costs, making charges and other such. ### Factors Affecting Gold Price in India',\n",
       "   'score': 0.76002824,\n",
       "   'raw_content': None},\n",
       "  {'url': 'https://goldprice.org/gold-price-india.html',\n",
       "   'title': 'Gold Price India',\n",
       "   'content': '## Gold Price India 1 Day gold Price per Ounce in Indian Rupees 1 Day gold Price per Gram in Indian Rupees 30 Day Gold Price History in Indian Rupees per Ounce 60 Day Gold Price History in Indian Rupees per Ounce 1 Year Gold Price History in Indian Rupees per Ounce 2 Year Gold Price History in Indian Rupees per Ounce 5 Year Gold Price History in Indian Rupees per Ounce 10 Year Gold Price History in Indian Rupees per Ounce 15 Year Gold Price History in Indian Rupees per Ounce 20 Year Gold Price History in Indian Rupees per Ounce 30 Year Gold Price History in Indian Rupees per Ounce All Data Gold Price History in Indian Rupees per Ounce',\n",
       "   'score': 0.6506676,\n",
       "   'raw_content': None},\n",
       "  {'url': 'https://www.muthootfinance.com/gold-rate-today',\n",
       "   'title': 'Gold Rate Today in India - 22, 24 Carat Gold Price - Muthoot Finance',\n",
       "   'content': 'Gold Rate Today - Get live 22, 24 CT gold price today in India per 1 gram, 8 gram, 10 gram & 100 gram. Also, check out the Gold price in the last 10 Days on',\n",
       "   'score': 0.59344494,\n",
       "   'raw_content': None},\n",
       "  {'url': 'https://www.livemint.com/gold-prices',\n",
       "   'title': 'Latest Gold Price Today in India for 22K and 24K - Mint',\n",
       "   'content': '* Gold Rate # Gold Rate Today (as on 20-09, 2025) Gold Rate in **Delhi** for 10gm **24 Carat** is **₹-** ## Historical Price of Gold Rate in India ## Gold Rate News ## Gold Rates in Top Cities of India * Gold Rate in Patna * Gold Rate in Jaipur * Gold Rate in Chennai * Gold Rate in Coimbatore * Gold Rate in Hyderabad * Gold Rate in Vijayawada * Gold Rate in Visakhapatnam * Gold Rate in Nagpur * Gold Rate in Bhubaneswar * Gold Rate in Lucknow * Gold Rate in Delhi * Gold Rate in Bangalore * Gold Rate in Pune * Gold Rate in Kolkata * Gold Rate in Surat * Gold Rate in Mumbai',\n",
       "   'score': 0.5694942,\n",
       "   'raw_content': None}],\n",
       " 'response_time': 1.0,\n",
       " 'request_id': '01e9e2d9-0b97-47ac-bb0f-24fc3270e531'}"
      ]
     },
     "execution_count": 16,
     "metadata": {},
     "output_type": "execute_result"
    }
   ],
   "source": [
    "response"
   ]
  },
  {
   "cell_type": "code",
   "execution_count": 18,
   "id": "edd3021e",
   "metadata": {},
   "outputs": [],
   "source": [
    "snippets = []\n",
    "for item in response.get(\"results\", []):\n",
    "    title = item.get('title', '')\n",
    "    url = item.get('url', '')\n",
    "    content = (item.get('content', ''))[:600]\n",
    "    snippets.append(f\"{title}\\n{url}\\n{content}\")"
   ]
  },
  {
   "cell_type": "code",
   "execution_count": 19,
   "id": "3dcf175d",
   "metadata": {},
   "outputs": [
    {
     "data": {
      "text/plain": [
       "['Gold Price in Indian Rupee (INR) - Live Price and Historical Chart\\nhttps://goldbroker.com/charts/gold-price/inr\\n*   [Buy gold & silver](https://goldbroker.com/charts/gold-price/inr# \"Purchase physical gold and silver\") *   [Charts](https://goldbroker.com/charts/gold-price/inr# \"Live and historical prices of precious metals: gold, silver, platinum, palladium\") 3.   [Precious metals prices](https://goldbroker.com/charts) 5.   [Gold price](https://goldbroker.com/charts/gold-price) *   [Live price](https://goldbroker.com/charts/gold-price/inr) *   [Historical Chart](https://goldbroker.com/charts/gold-price/inr) [](https://goldbroker.com/charts/gold-price/inr) | [US Dollar (USD)](https://goldbroker.com/chart',\n",
       " 'Gold Price in India | Gold Rate Today (27th September 2025)\\nhttps://www.gadgets360.com/finance/gold-rate-in-india\\n+ Gold Rate * Gold Rate # Gold Price in India Find here the latest prices for 24 carat gold and 22 carat gold in India and also compare them to make an informed decision. Gold rate in India today is ₹ 1,12,160 per 10 grams for 24 Carat and ₹ 1,02,730 for 22 Carat. ## 24 Carat Gold Price in India Today Digital Gold Price ## 22 Carat Gold Price in India Today ## Gold Price Today in Major Cities of India Gold rates may vary from city to city based on various factors including demand, interests levied, octroi charges, state taxes, gold traders, bullion associations, transportation costs, making ch',\n",
       " 'Gold Price India\\nhttps://goldprice.org/gold-price-india.html\\n## Gold Price India 1 Day gold Price per Ounce in Indian Rupees 1 Day gold Price per Gram in Indian Rupees 30 Day Gold Price History in Indian Rupees per Ounce 60 Day Gold Price History in Indian Rupees per Ounce 1 Year Gold Price History in Indian Rupees per Ounce 2 Year Gold Price History in Indian Rupees per Ounce 5 Year Gold Price History in Indian Rupees per Ounce 10 Year Gold Price History in Indian Rupees per Ounce 15 Year Gold Price History in Indian Rupees per Ounce 20 Year Gold Price History in Indian Rupees per Ounce 30 Year Gold Price History in Indian Rupees per Ounce All Data Gol',\n",
       " 'Gold Rate Today in India - 22, 24 Carat Gold Price - Muthoot Finance\\nhttps://www.muthootfinance.com/gold-rate-today\\nGold Rate Today - Get live 22, 24 CT gold price today in India per 1 gram, 8 gram, 10 gram & 100 gram. Also, check out the Gold price in the last 10 Days on',\n",
       " 'Latest Gold Price Today in India for 22K and 24K - Mint\\nhttps://www.livemint.com/gold-prices\\n* Gold Rate # Gold Rate Today (as on 20-09, 2025) Gold Rate in **Delhi** for 10gm **24 Carat** is **₹-** ## Historical Price of Gold Rate in India ## Gold Rate News ## Gold Rates in Top Cities of India * Gold Rate in Patna * Gold Rate in Jaipur * Gold Rate in Chennai * Gold Rate in Coimbatore * Gold Rate in Hyderabad * Gold Rate in Vijayawada * Gold Rate in Visakhapatnam * Gold Rate in Nagpur * Gold Rate in Bhubaneswar * Gold Rate in Lucknow * Gold Rate in Delhi * Gold Rate in Bangalore * Gold Rate in Pune * Gold Rate in Kolkata * Gold Rate in Surat * Gold Rate in Mumbai']"
      ]
     },
     "execution_count": 19,
     "metadata": {},
     "output_type": "execute_result"
    }
   ],
   "source": [
    "snippets"
   ]
  }
 ],
 "metadata": {
  "kernelspec": {
   "display_name": "using-langgraph",
   "language": "python",
   "name": "python3"
  },
  "language_info": {
   "codemirror_mode": {
    "name": "ipython",
    "version": 3
   },
   "file_extension": ".py",
   "mimetype": "text/x-python",
   "name": "python",
   "nbconvert_exporter": "python",
   "pygments_lexer": "ipython3",
   "version": "3.13.5"
  }
 },
 "nbformat": 4,
 "nbformat_minor": 5
}
