{
 "cells": [
  {
   "cell_type": "code",
   "execution_count": 2,
   "id": "c9e56ac9",
   "metadata": {},
   "outputs": [],
   "source": [
    "from langgraph.graph import StateGraph, END\n",
    "from langchain.chat_models import init_chat_model"
   ]
  },
  {
   "cell_type": "code",
   "execution_count": 3,
   "id": "7f12e7e7",
   "metadata": {},
   "outputs": [],
   "source": [
    "# Defined the state\n",
    "class State(dict):\n",
    "    input: str\n",
    "    output: str"
   ]
  },
  {
   "cell_type": "code",
   "execution_count": 4,
   "id": "a662e03e",
   "metadata": {},
   "outputs": [],
   "source": [
    "# Create a llm\n",
    "\n",
    "llm = init_chat_model(\n",
    "    \"gemini-2.5-flash-lite\",\n",
    "    model_provider=\"google_vertexai\"\n",
    ")"
   ]
  },
  {
   "cell_type": "code",
   "execution_count": 5,
   "id": "8a1f63b5",
   "metadata": {},
   "outputs": [],
   "source": [
    "def start_node(state: State) -> State:\n",
    "    state[\"output\"] = f\"you said {state['input']}\"\n",
    "    return state"
   ]
  },
  {
   "cell_type": "code",
   "execution_count": 6,
   "id": "2fc3aa16",
   "metadata": {},
   "outputs": [],
   "source": [
    "def llm_node(state: State) -> State:\n",
    "    response = llm.invoke(state['input'])\n",
    "    state[\"output\"] = state['output'] + f\"\\n {response.content}\"\n",
    "    return state"
   ]
  },
  {
   "cell_type": "code",
   "execution_count": 7,
   "id": "27ad891d",
   "metadata": {},
   "outputs": [
    {
     "data": {
      "text/plain": [
       "<langgraph.graph.state.StateGraph at 0x2815ea7da90>"
      ]
     },
     "execution_count": 7,
     "metadata": {},
     "output_type": "execute_result"
    }
   ],
   "source": [
    "# Build a graph\n",
    "graph = StateGraph(State)\n",
    "graph.add_node(\"start\", start_node)\n",
    "graph.add_node(\"llm\", llm_node)\n",
    "\n",
    "graph.set_entry_point(\"start\")\n",
    "graph.add_edge(\"start\", \"llm\")\n",
    "graph.add_edge(\"llm\", END)"
   ]
  },
  {
   "cell_type": "code",
   "execution_count": 9,
   "id": "7951e33d",
   "metadata": {},
   "outputs": [],
   "source": [
    "# compile the graph\n",
    "app = graph.compile()"
   ]
  },
  {
   "cell_type": "code",
   "execution_count": 12,
   "id": "982b8af9",
   "metadata": {},
   "outputs": [
    {
     "data": {
      "image/png": "[encoded data removed]",
      "text/plain": [
       "<IPython.core.display.Image object>"
      ]
     },
     "execution_count": 12,
     "metadata": {},
     "output_type": "execute_result"
    }
   ],
   "source": [
    "# draw graph\n",
    "from IPython.display import Image\n",
    "Image(app.get_graph().draw_mermaid_png())"
   ]
  },
  {
   "cell_type": "code",
   "execution_count": 10,
   "id": "d2034fa5",
   "metadata": {},
   "outputs": [
    {
     "data": {
      "text/plain": [
       "{'input': 'What is capital of france',\n",
       " 'output': 'you said What is capital of france\\n The capital of France is **Paris**.'}"
      ]
     },
     "execution_count": 10,
     "metadata": {},
     "output_type": "execute_result"
    }
   ],
   "source": [
    "result = app.invoke({\"input\": \"What is capital of france\"})\n",
    "result"
   ]
  }
 ],
 "metadata": {
  "kernelspec": {
   "display_name": "using-langgraph",
   "language": "python",
   "name": "python3"
  },
  "language_info": {
   "codemirror_mode": {
    "name": "ipython",
    "version": 3
   },
   "file_extension": ".py",
   "mimetype": "text/x-python",
   "name": "python",
   "nbconvert_exporter": "python",
   "pygments_lexer": "ipython3",
   "version": "3.13.5"
  }
 },
 "nbformat": 4,
 "nbformat_minor": 5
}
