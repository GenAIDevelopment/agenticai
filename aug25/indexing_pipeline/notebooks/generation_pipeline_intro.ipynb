{
 "cells": [
  {
   "cell_type": "code",
   "execution_count": 2,
   "id": "a794ef00",
   "metadata": {},
   "outputs": [
    {
     "name": "stdout",
     "output_type": "stream",
     "text": [
      "16\n"
     ]
    }
   ],
   "source": [
    "file_path = \"history.txt\"\n",
    "data = []\n",
    "with open(file=file_path, mode='r') as history_file:\n",
    "    data = history_file.readlines()\n",
    "print(len(data))\n"
   ]
  },
  {
   "cell_type": "code",
   "execution_count": 3,
   "id": "9ebe9328",
   "metadata": {},
   "outputs": [],
   "source": [
    "context = data[2]"
   ]
  },
  {
   "cell_type": "code",
   "execution_count": 4,
   "id": "13ce3ae8",
   "metadata": {},
   "outputs": [],
   "source": [
    "dummy_prompt = f\"You are an helpful assistant, looking into the context {context}. Elaborate the event\""
   ]
  },
  {
   "cell_type": "code",
   "execution_count": 5,
   "id": "a1f7d9a8",
   "metadata": {},
   "outputs": [],
   "source": [
    "from langchain.chat_models import init_chat_model\n"
   ]
  },
  {
   "cell_type": "code",
   "execution_count": 6,
   "id": "4f2d366f",
   "metadata": {},
   "outputs": [],
   "source": [
    "llm = init_chat_model(\n",
    "    model=\"gemini-2.5-flash\",\n",
    "    model_provider=\"google_vertexai\")"
   ]
  },
  {
   "cell_type": "code",
   "execution_count": 7,
   "id": "0389c204",
   "metadata": {},
   "outputs": [],
   "source": [
    "llm_response = llm.invoke(input=dummy_prompt)"
   ]
  },
  {
   "cell_type": "code",
   "execution_count": 8,
   "id": "f65eba84",
   "metadata": {},
   "outputs": [
    {
     "data": {
      "text/plain": [
       "\"The year 1952 marked a historic moment in Indian cricket: the nation secured its first-ever Test victory. After 24 previous attempts spread over two decades, the breakthrough finally came against the formidable England side at the Chepauk stadium in Madras (now Chennai).\\n\\nLet's elaborate on this pivotal event:\\n\\n**1. The Context – A Long Struggle:**\\n*   **India's Test Journey:** India had gained Test status in 1932 but had endured a long and often frustrating journey. Prior to this match, they had played 24 Tests, losing 12, drawing 11, and had yet to taste victory. They were often seen as a developing cricketing nation, still finding their feet.\\n*   **The Series:** This was the fifth and final Test of a five-match series against England, led by Donald Carr. England had already won the series 1-0, with three matches drawn. India was playing for pride and a morale-boosting win.\\n*   **Post-Independence Significance:** India had gained independence in 1947. A victory against England, the former colonial power, carried immense symbolic weight beyond the cricketing field. It was seen as a chance to assert national identity and capability.\\n\\n**2. The Venue and Atmosphere:**\\n*   **Chepauk, Madras:** The M.A. Chidambaram Stadium (Chepauk) in Madras was known for its passionate crowds and a pitch that traditionally assisted spin bowlers. This would prove crucial.\\n*   **Electrifying Atmosphere:** The anticipation was palpable. Fans flocked to the stadium, eager to witness history being made on home soil.\\n\\n**3. The Match unfolded (6-10 February 1952):**\\n\\n*   **England's First Innings (Day 1):**\\n    *   England won the toss and elected to bat. However, they were soon bamboozled by the brilliant left-arm orthodox spin of **Vinoo Mankad**.\\n    *   Mankad was in sensational form, ripping through the English batting line-up. He finished with an incredible **8 wickets for 55 runs**, helping bowl England out for a mere **266**. This performance immediately put India in a strong position.\\n\\n*   **India's First Innings (Day 2 & 3):**\\n    *   In reply, India's batsmen responded magnificently. Openers Pankaj Roy and Vinoo Mankad (yes, the all-rounder) provided a solid start.\\n    *   **Pankaj Roy** scored a magnificent **111**, steadying the innings.\\n    *   **Polly Umrigar** then took charge, smashing an aggressive **130 not out**.\\n    *   Contributions from Vijay Hazare (captain), Dattu Phadkar, and others ensured India built a commanding lead.\\n    *   India declared their innings at a commanding **457/9**, taking a lead of 191 runs.\\n\\n*   **England's Second Innings (Day 4):**\\n    *   Facing a significant deficit, England needed a strong batting performance to save the match.\\n    *   However, **Vinoo Mankad** once again proved to be their tormentor. He picked up another **4 wickets**, taking his match tally to an astonishing **12 wickets for 108 runs**.\\n    *   Ghulam Ahmed also chipped in with 4 wickets.\\n    *   England crumbled under pressure and were bowled out for just **183 runs**.\\n\\n*   **The Victory (Day 4):**\\n    *   With England bowled out for less than India's lead, India won the match by an innings and 8 runs.\\n    *   The moment of victory was celebrated with ecstatic cheers from the packed stadium.\\n\\n**4. Key Performers:**\\n*   **Vinoo Mankad:** Undoubtedly the hero of the match. His 12 wickets (8/55 and 4/53) were instrumental in both dismissing England cheaply and then wrapping up their second innings. He also contributed 35 runs with the bat. His performance established him as one of India's greatest all-rounders.\\n*   **Pankaj Roy:** Scored a patient and crucial 111 runs, providing the foundation for India's strong total.\\n*   **Polly Umrigar:** His aggressive 130 not out was a dominant display of batting that helped India build a formidable lead.\\n*   **Vijay Hazare (Captain):** Led the team effectively and scored a valuable 20 runs.\\n\\n**5. Significance and Impact:**\\n*   **Sporting Milestone:** It was a landmark achievement, breaking the long jinx of never having won a Test match. It proved that India could compete and win at the highest level.\\n*   **National Pride:** For a newly independent nation, this victory against the former colonial rulers was a tremendous source of pride and boosted national morale. It symbolized a coming of age not just in cricket but as an independent entity.\\n*   **Boost for Indian Cricket:** The win instilled confidence within the team and among the cricketing public. It provided a foundation for future successes and inspired a new generation of cricketers. It showed that Indian spin bowling, especially, could be a world-beating force.\\n*   **A Symbol of Defiance:** The win was more than just a game; it was a powerful statement of a young nation finding its feet and asserting its capabilities on the international stage.\\n\\nThe victory in Madras in 1952 remains etched in the annals of Indian cricket history as a truly iconic and foundational moment, paving the way for the cricketing powerhouse India would eventually become.\""
      ]
     },
     "execution_count": 8,
     "metadata": {},
     "output_type": "execute_result"
    }
   ],
   "source": [
    "llm_response.content"
   ]
  },
  {
   "cell_type": "code",
   "execution_count": 9,
   "id": "45d3604a",
   "metadata": {},
   "outputs": [
    {
     "name": "stdout",
     "output_type": "stream",
     "text": [
      "==================================\u001b[1m Ai Message \u001b[0m==================================\n",
      "\n",
      "The year 1952 marked a historic moment in Indian cricket: the nation secured its first-ever Test victory. After 24 previous attempts spread over two decades, the breakthrough finally came against the formidable England side at the Chepauk stadium in Madras (now Chennai).\n",
      "\n",
      "Let's elaborate on this pivotal event:\n",
      "\n",
      "**1. The Context – A Long Struggle:**\n",
      "*   **India's Test Journey:** India had gained Test status in 1932 but had endured a long and often frustrating journey. Prior to this match, they had played 24 Tests, losing 12, drawing 11, and had yet to taste victory. They were often seen as a developing cricketing nation, still finding their feet.\n",
      "*   **The Series:** This was the fifth and final Test of a five-match series against England, led by Donald Carr. England had already won the series 1-0, with three matches drawn. India was playing for pride and a morale-boosting win.\n",
      "*   **Post-Independence Significance:** India had gained independence in 1947. A victory against England, the former colonial power, carried immense symbolic weight beyond the cricketing field. It was seen as a chance to assert national identity and capability.\n",
      "\n",
      "**2. The Venue and Atmosphere:**\n",
      "*   **Chepauk, Madras:** The M.A. Chidambaram Stadium (Chepauk) in Madras was known for its passionate crowds and a pitch that traditionally assisted spin bowlers. This would prove crucial.\n",
      "*   **Electrifying Atmosphere:** The anticipation was palpable. Fans flocked to the stadium, eager to witness history being made on home soil.\n",
      "\n",
      "**3. The Match unfolded (6-10 February 1952):**\n",
      "\n",
      "*   **England's First Innings (Day 1):**\n",
      "    *   England won the toss and elected to bat. However, they were soon bamboozled by the brilliant left-arm orthodox spin of **Vinoo Mankad**.\n",
      "    *   Mankad was in sensational form, ripping through the English batting line-up. He finished with an incredible **8 wickets for 55 runs**, helping bowl England out for a mere **266**. This performance immediately put India in a strong position.\n",
      "\n",
      "*   **India's First Innings (Day 2 & 3):**\n",
      "    *   In reply, India's batsmen responded magnificently. Openers Pankaj Roy and Vinoo Mankad (yes, the all-rounder) provided a solid start.\n",
      "    *   **Pankaj Roy** scored a magnificent **111**, steadying the innings.\n",
      "    *   **Polly Umrigar** then took charge, smashing an aggressive **130 not out**.\n",
      "    *   Contributions from Vijay Hazare (captain), Dattu Phadkar, and others ensured India built a commanding lead.\n",
      "    *   India declared their innings at a commanding **457/9**, taking a lead of 191 runs.\n",
      "\n",
      "*   **England's Second Innings (Day 4):**\n",
      "    *   Facing a significant deficit, England needed a strong batting performance to save the match.\n",
      "    *   However, **Vinoo Mankad** once again proved to be their tormentor. He picked up another **4 wickets**, taking his match tally to an astonishing **12 wickets for 108 runs**.\n",
      "    *   Ghulam Ahmed also chipped in with 4 wickets.\n",
      "    *   England crumbled under pressure and were bowled out for just **183 runs**.\n",
      "\n",
      "*   **The Victory (Day 4):**\n",
      "    *   With England bowled out for less than India's lead, India won the match by an innings and 8 runs.\n",
      "    *   The moment of victory was celebrated with ecstatic cheers from the packed stadium.\n",
      "\n",
      "**4. Key Performers:**\n",
      "*   **Vinoo Mankad:** Undoubtedly the hero of the match. His 12 wickets (8/55 and 4/53) were instrumental in both dismissing England cheaply and then wrapping up their second innings. He also contributed 35 runs with the bat. His performance established him as one of India's greatest all-rounders.\n",
      "*   **Pankaj Roy:** Scored a patient and crucial 111 runs, providing the foundation for India's strong total.\n",
      "*   **Polly Umrigar:** His aggressive 130 not out was a dominant display of batting that helped India build a formidable lead.\n",
      "*   **Vijay Hazare (Captain):** Led the team effectively and scored a valuable 20 runs.\n",
      "\n",
      "**5. Significance and Impact:**\n",
      "*   **Sporting Milestone:** It was a landmark achievement, breaking the long jinx of never having won a Test match. It proved that India could compete and win at the highest level.\n",
      "*   **National Pride:** For a newly independent nation, this victory against the former colonial rulers was a tremendous source of pride and boosted national morale. It symbolized a coming of age not just in cricket but as an independent entity.\n",
      "*   **Boost for Indian Cricket:** The win instilled confidence within the team and among the cricketing public. It provided a foundation for future successes and inspired a new generation of cricketers. It showed that Indian spin bowling, especially, could be a world-beating force.\n",
      "*   **A Symbol of Defiance:** The win was more than just a game; it was a powerful statement of a young nation finding its feet and asserting its capabilities on the international stage.\n",
      "\n",
      "The victory in Madras in 1952 remains etched in the annals of Indian cricket history as a truly iconic and foundational moment, paving the way for the cricketing powerhouse India would eventually become.\n"
     ]
    }
   ],
   "source": [
    "llm_response.pretty_print()"
   ]
  },
  {
   "cell_type": "code",
   "execution_count": 11,
   "id": "dac71ed5",
   "metadata": {},
   "outputs": [
    {
     "data": {
      "text/plain": [
       "StringPromptValue(text='You are an helpful assistant, looking into the context 1952 - India won their first Test match, defeating England at Madras.  \\n. Elaborate the event')"
      ]
     },
     "execution_count": 11,
     "metadata": {},
     "output_type": "execute_result"
    }
   ],
   "source": [
    "from langchain_core.prompts import PromptTemplate\n",
    "\n",
    "prompt_template = PromptTemplate.from_template(\"You are an helpful assistant, looking into the context {context}. Elaborate the event\")\n",
    "\n",
    "prompt_template.invoke({\"context\": data[2]})"
   ]
  },
  {
   "cell_type": "code",
   "execution_count": 12,
   "id": "25fc8fa9",
   "metadata": {},
   "outputs": [
    {
     "data": {
      "text/plain": [
       "ChatVertexAI(client=<google.cloud.aiplatform_v1beta1.services.prediction_service.client.PredictionServiceClient object at 0x00000181A52CA900>, project='massive-seer-457104-j1', model_name='gemini-2.5-flash', full_model_name='projects/massive-seer-457104-j1/locations/us-central1/publishers/google/models/gemini-2.5-flash', client_options=ClientOptions: {'api_endpoint': 'us-central1-aiplatform.googleapis.com', 'client_cert_source': None, 'client_encrypted_cert_source': None, 'quota_project_id': None, 'credentials_file': None, 'scopes': None, 'api_key': None, 'api_audience': None, 'universe_domain': None}, default_metadata=(), model_kwargs={})"
      ]
     },
     "execution_count": 12,
     "metadata": {},
     "output_type": "execute_result"
    }
   ],
   "source": [
    "llm"
   ]
  },
  {
   "cell_type": "code",
   "execution_count": 15,
   "id": "c3ce860f",
   "metadata": {},
   "outputs": [],
   "source": [
    "chain = prompt_template | llm"
   ]
  },
  {
   "cell_type": "code",
   "execution_count": 16,
   "id": "124da323",
   "metadata": {},
   "outputs": [],
   "source": [
    "llm_response = chain.invoke({\"context\": data[2]})"
   ]
  },
  {
   "cell_type": "code",
   "execution_count": 17,
   "id": "8046f31e",
   "metadata": {},
   "outputs": [
    {
     "name": "stdout",
     "output_type": "stream",
     "text": [
      "==================================\u001b[1m Ai Message \u001b[0m==================================\n",
      "\n",
      "The year 1952 marks a truly **watershed moment** in the history of Indian cricket: India secured its **first-ever Test match victory**, defeating England in the fifth and final Test of a five-match series at the **Madras Cricket Club Ground (now M. A. Chidambaram Stadium) in Chepauk, Madras (now Chennai)**.\n",
      "\n",
      "Here's an elaboration of this historic event:\n",
      "\n",
      "### **1. The Context: A Long Wait for Glory**\n",
      "\n",
      "*   **Pre-Independence Struggles:** India had been playing Test cricket since 1932, but in the 20 years leading up to this match, they had played 24 Tests without a single victory. They had drawn some, but mostly suffered defeats. This history meant that Indian cricket fans and players yearned deeply for a breakthrough win.\n",
      "*   **Post-Independence Pride:** With India having gained independence just five years prior (1947), a victory against their former colonial rulers, England, carried immense symbolic weight and national pride.\n",
      "*   **The Series Situation:** England, led by Donald Carr, was touring India for a five-Test series. By the time the final Test in Madras arrived, England was already leading the series 1-0, having won the second Test in Bombay. The pressure was on India to salvage some pride.\n",
      "\n",
      "### **2. The Match Unfolds (February 6-10, 1952)**\n",
      "\n",
      "*   **India's First Innings (Batting First):** Winning the toss, India elected to bat. They posted a strong total of **387 runs**. Key contributions came from Pankaj Roy (111) and Polly Umrigar (130*), both scoring centuries, setting a solid foundation.\n",
      "*   **England's First Innings (Vinoo Mankad's Masterclass):** This is where the legend of **Vinoo Mankad** truly began to solidify. The brilliant left-arm orthodox spinner and all-rounder ripped through the English batting lineup, taking **8 wickets for just 55 runs**. England was bundled out for a mere **266 runs**, giving India a significant first-innings lead of 121 runs.\n",
      "*   **India's Second Innings (Setting the Target):** With a healthy lead, India pressed on. They batted aggressively, scoring **269 runs for 5 wickets before declaring**, setting England a daunting target of **391 runs to win**. Notable scores came from Mankad again (72 runs) and captain Vijay Hazare (56).\n",
      "*   **England's Second Innings (The Collapse):** The stage was set for a dramatic finish, and once again, Vinoo Mankad delivered. Supported by leg-spinner Subhash Gupte (3 wickets), Mankad ran through England's batting order for the second time. England's batsmen crumbled under pressure, unable to handle Mankad's spin and control. They were eventually bowled out for just **183 runs**.\n",
      "\n",
      "### **3. The Result: A Historic Victory!**\n",
      "\n",
      "India won the match comprehensively by a massive margin of **270 runs**.\n",
      "\n",
      "### **4. The Hero: Vinoo Mankad**\n",
      "\n",
      "While it was a team effort, **Vinoo Mankad** was undoubtedly the undisputed hero of this historic match. His all-round performance was phenomenal:\n",
      "*   **Bowling:** He took an astounding **12 wickets in the match** (8/55 in the first innings and 4/53 in the second innings).\n",
      "*   **Batting:** He also contributed significantly with the bat, scoring **72 runs** in the second innings.\n",
      "His performance was a testament to his skill and determination, almost single-handedly dismantling the English side.\n",
      "\n",
      "### **5. Significance and Legacy**\n",
      "\n",
      "*   **End of a Long Wait:** This victory shattered a 20-year jinx and brought immense relief and joy to a nation that had waited patiently for its cricket team to taste success.\n",
      "*   **National Pride:** Coming just a few years after independence, beating England – the inventors of the game and the former colonial power – was a huge source of national pride and a powerful symbol of a new, confident India on the global stage.\n",
      "*   **Boost for Indian Cricket:** The win provided a much-needed morale boost for Indian cricket, inspiring a new generation of cricketers and fans. It demonstrated that India had the talent and capability to compete and win at the highest level.\n",
      "*   **Foundational Moment:** It laid a crucial foundation for future successes and contributed to the growth and popularity of cricket in India, eventually making it the powerhouse it is today.\n",
      "*   **Mankad's Immortalization:** The match cemented Vinoo Mankad's status as one of India's greatest all-rounders and a legendary figure in world cricket.\n",
      "\n",
      "The 1952 Madras Test victory was not just a cricket match; it was a defining moment that resonated deeply with the aspirations of a young, independent nation, marking the beginning of India's journey towards becoming a formidable force in the cricketing world.\n"
     ]
    }
   ],
   "source": [
    "llm_response.pretty_print()"
   ]
  },
  {
   "cell_type": "code",
   "execution_count": null,
   "id": "9436dad9",
   "metadata": {},
   "outputs": [],
   "source": [
    "# hypotetical generation pipeline\n",
    "\n",
    "# chain = retriver | prompt_tempate | llm"
   ]
  }
 ],
 "metadata": {
  "kernelspec": {
   "display_name": ".venv",
   "language": "python",
   "name": "python3"
  },
  "language_info": {
   "codemirror_mode": {
    "name": "ipython",
    "version": 3
   },
   "file_extension": ".py",
   "mimetype": "text/x-python",
   "name": "python",
   "nbconvert_exporter": "python",
   "pygments_lexer": "ipython3",
   "version": "3.13.5"
  }
 },
 "nbformat": 4,
 "nbformat_minor": 5
}
