{
 "cells": [
  {
   "cell_type": "code",
   "execution_count": 2,
   "id": "a794ef00",
   "metadata": {},
   "outputs": [
    {
     "name": "stdout",
     "output_type": "stream",
     "text": [
      "16\n"
     ]
    }
   ],
   "source": [
    "file_path = \"history.txt\"\n",
    "data = []\n",
    "with open(file=file_path, mode='r') as history_file:\n",
    "    data = history_file.readlines()\n",
    "print(len(data))\n"
   ]
  },
  {
   "cell_type": "code",
   "execution_count": 3,
   "id": "9ebe9328",
   "metadata": {},
   "outputs": [],
   "source": [
    "context = data[2]"
   ]
  },
  {
   "cell_type": "code",
   "execution_count": 4,
   "id": "13ce3ae8",
   "metadata": {},
   "outputs": [],
   "source": [
    "dummy_prompt = f\"You are an helpful assistant, looking into the context {context}. Elaborate the event\""
   ]
  },
  {
   "cell_type": "code",
   "execution_count": 5,
   "id": "a1f7d9a8",
   "metadata": {},
   "outputs": [],
   "source": [
    "from langchain.chat_models import init_chat_model\n"
   ]
  },
  {
   "cell_type": "code",
   "execution_count": 6,
   "id": "4f2d366f",
   "metadata": {},
   "outputs": [],
   "source": [
    "llm = init_chat_model(\n",
    "    model=\"gemini-2.5-flash\",\n",
    "    model_provider=\"google_vertexai\")"
   ]
  },
  {
   "cell_type": "code",
   "execution_count": 7,
   "id": "0389c204",
   "metadata": {},
   "outputs": [],
   "source": [
    "llm_response = llm.invoke(input=dummy_prompt)"
   ]
  },
  {
   "cell_type": "code",
   "execution_count": 8,
   "id": "f65eba84",
   "metadata": {},
   "outputs": [
    {
     "data": {
      "text/plain": [
       "\"The year 1952 marked a historic moment in Indian cricket: the nation secured its first-ever Test victory. After 24 previous attempts spread over two decades, the breakthrough finally came against the formidable England side at the Chepauk stadium in Madras (now Chennai).\\n\\nLet's elaborate on this pivotal event:\\n\\n**1. The Context – A Long Struggle:**\\n*   **India's Test Journey:** India had gained Test status in 1932 but had endured a long and often frustrating journey. Prior to this match, they had played 24 Tests, losing 12, drawing 11, and had yet to taste victory. They were often seen as a developing cricketing nation, still finding their feet.\\n*   **The Series:** This was the fifth and final Test of a five-match series against England, led by Donald Carr. England had already won the series 1-0, with three matches drawn. India was playing for pride and a morale-boosting win.\\n*   **Post-Independence Significance:** India had gained independence in 1947. A victory against England, the former colonial power, carried immense symbolic weight beyond the cricketing field. It was seen as a chance to assert national identity and capability.\\n\\n**2. The Venue and Atmosphere:**\\n*   **Chepauk, Madras:** The M.A. Chidambaram Stadium (Chepauk) in Madras was known for its passionate crowds and a pitch that traditionally assisted spin bowlers. This would prove crucial.\\n*   **Electrifying Atmosphere:** The anticipation was palpable. Fans flocked to the stadium, eager to witness history being made on home soil.\\n\\n**3. The Match unfolded (6-10 February 1952):**\\n\\n*   **England's First Innings (Day 1):**\\n    *   England won the toss and elected to bat. However, they were soon bamboozled by the brilliant left-arm orthodox spin of **Vinoo Mankad**.\\n    *   Mankad was in sensational form, ripping through the English batting line-up. He finished with an incredible **8 wickets for 55 runs**, helping bowl England out for a mere **266**. This performance immediately put India in a strong position.\\n\\n*   **India's First Innings (Day 2 & 3):**\\n    *   In reply, India's batsmen responded magnificently. Openers Pankaj Roy and Vinoo Mankad (yes, the all-rounder) provided a solid start.\\n    *   **Pankaj Roy** scored a magnificent **111**, steadying the innings.\\n    *   **Polly Umrigar** then took charge, smashing an aggressive **130 not out**.\\n    *   Contributions from Vijay Hazare (captain), Dattu Phadkar, and others ensured India built a commanding lead.\\n    *   India declared their innings at a commanding **457/9**, taking a lead of 191 runs.\\n\\n*   **England's Second Innings (Day 4):**\\n    *   Facing a significant deficit, England needed a strong batting performance to save the match.\\n    *   However, **Vinoo Mankad** once again proved to be their tormentor. He picked up another **4 wickets**, taking his match tally to an astonishing **12 wickets for 108 runs**.\\n    *   Ghulam Ahmed also chipped in with 4 wickets.\\n    *   England crumbled under pressure and were bowled out for just **183 runs**.\\n\\n*   **The Victory (Day 4):**\\n    *   With England bowled out for less than India's lead, India won the match by an innings and 8 runs.\\n    *   The moment of victory was celebrated with ecstatic cheers from the packed stadium.\\n\\n**4. Key Performers:**\\n*   **Vinoo Mankad:** Undoubtedly the hero of the match. His 12 wickets (8/55 and 4/53) were instrumental in both dismissing England cheaply and then wrapping up their second innings. He also contributed 35 runs with the bat. His performance established him as one of India's greatest all-rounders.\\n*   **Pankaj Roy:** Scored a patient and crucial 111 runs, providing the foundation for India's strong total.\\n*   **Polly Umrigar:** His aggressive 130 not out was a dominant display of batting that helped India build a formidable lead.\\n*   **Vijay Hazare (Captain):** Led the team effectively and scored a valuable 20 runs.\\n\\n**5. Significance and Impact:**\\n*   **Sporting Milestone:** It was a landmark achievement, breaking the long jinx of never having won a Test match. It proved that India could compete and win at the highest level.\\n*   **National Pride:** For a newly independent nation, this victory against the former colonial rulers was a tremendous source of pride and boosted national morale. It symbolized a coming of age not just in cricket but as an independent entity.\\n*   **Boost for Indian Cricket:** The win instilled confidence within the team and among the cricketing public. It provided a foundation for future successes and inspired a new generation of cricketers. It showed that Indian spin bowling, especially, could be a world-beating force.\\n*   **A Symbol of Defiance:** The win was more than just a game; it was a powerful statement of a young nation finding its feet and asserting its capabilities on the international stage.\\n\\nThe victory in Madras in 1952 remains etched in the annals of Indian cricket history as a truly iconic and foundational moment, paving the way for the cricketing powerhouse India would eventually become.\""
      ]
     },
     "execution_count": 8,
     "metadata": {},
     "output_type": "execute_result"
    }
   ],
   "source": [
    "llm_response.content"
   ]
  },
  {
   "cell_type": "code",
   "execution_count": 9,
   "id": "45d3604a",
   "metadata": {},
   "outputs": [
    {
     "name": "stdout",
     "output_type": "stream",
     "text": [
      "==================================\u001b[1m Ai Message \u001b[0m==================================\n",
      "\n",
      "The year 1952 marked a historic moment in Indian cricket: the nation secured its first-ever Test victory. After 24 previous attempts spread over two decades, the breakthrough finally came against the formidable England side at the Chepauk stadium in Madras (now Chennai).\n",
      "\n",
      "Let's elaborate on this pivotal event:\n",
      "\n",
      "**1. The Context – A Long Struggle:**\n",
      "*   **India's Test Journey:** India had gained Test status in 1932 but had endured a long and often frustrating journey. Prior to this match, they had played 24 Tests, losing 12, drawing 11, and had yet to taste victory. They were often seen as a developing cricketing nation, still finding their feet.\n",
      "*   **The Series:** This was the fifth and final Test of a five-match series against England, led by Donald Carr. England had already won the series 1-0, with three matches drawn. India was playing for pride and a morale-boosting win.\n",
      "*   **Post-Independence Significance:** India had gained independence in 1947. A victory against England, the former colonial power, carried immense symbolic weight beyond the cricketing field. It was seen as a chance to assert national identity and capability.\n",
      "\n",
      "**2. The Venue and Atmosphere:**\n",
      "*   **Chepauk, Madras:** The M.A. Chidambaram Stadium (Chepauk) in Madras was known for its passionate crowds and a pitch that traditionally assisted spin bowlers. This would prove crucial.\n",
      "*   **Electrifying Atmosphere:** The anticipation was palpable. Fans flocked to the stadium, eager to witness history being made on home soil.\n",
      "\n",
      "**3. The Match unfolded (6-10 February 1952):**\n",
      "\n",
      "*   **England's First Innings (Day 1):**\n",
      "    *   England won the toss and elected to bat. However, they were soon bamboozled by the brilliant left-arm orthodox spin of **Vinoo Mankad**.\n",
      "    *   Mankad was in sensational form, ripping through the English batting line-up. He finished with an incredible **8 wickets for 55 runs**, helping bowl England out for a mere **266**. This performance immediately put India in a strong position.\n",
      "\n",
      "*   **India's First Innings (Day 2 & 3):**\n",
      "    *   In reply, India's batsmen responded magnificently. Openers Pankaj Roy and Vinoo Mankad (yes, the all-rounder) provided a solid start.\n",
      "    *   **Pankaj Roy** scored a magnificent **111**, steadying the innings.\n",
      "    *   **Polly Umrigar** then took charge, smashing an aggressive **130 not out**.\n",
      "    *   Contributions from Vijay Hazare (captain), Dattu Phadkar, and others ensured India built a commanding lead.\n",
      "    *   India declared their innings at a commanding **457/9**, taking a lead of 191 runs.\n",
      "\n",
      "*   **England's Second Innings (Day 4):**\n",
      "    *   Facing a significant deficit, England needed a strong batting performance to save the match.\n",
      "    *   However, **Vinoo Mankad** once again proved to be their tormentor. He picked up another **4 wickets**, taking his match tally to an astonishing **12 wickets for 108 runs**.\n",
      "    *   Ghulam Ahmed also chipped in with 4 wickets.\n",
      "    *   England crumbled under pressure and were bowled out for just **183 runs**.\n",
      "\n",
      "*   **The Victory (Day 4):**\n",
      "    *   With England bowled out for less than India's lead, India won the match by an innings and 8 runs.\n",
      "    *   The moment of victory was celebrated with ecstatic cheers from the packed stadium.\n",
      "\n",
      "**4. Key Performers:**\n",
      "*   **Vinoo Mankad:** Undoubtedly the hero of the match. His 12 wickets (8/55 and 4/53) were instrumental in both dismissing England cheaply and then wrapping up their second innings. He also contributed 35 runs with the bat. His performance established him as one of India's greatest all-rounders.\n",
      "*   **Pankaj Roy:** Scored a patient and crucial 111 runs, providing the foundation for India's strong total.\n",
      "*   **Polly Umrigar:** His aggressive 130 not out was a dominant display of batting that helped India build a formidable lead.\n",
      "*   **Vijay Hazare (Captain):** Led the team effectively and scored a valuable 20 runs.\n",
      "\n",
      "**5. Significance and Impact:**\n",
      "*   **Sporting Milestone:** It was a landmark achievement, breaking the long jinx of never having won a Test match. It proved that India could compete and win at the highest level.\n",
      "*   **National Pride:** For a newly independent nation, this victory against the former colonial rulers was a tremendous source of pride and boosted national morale. It symbolized a coming of age not just in cricket but as an independent entity.\n",
      "*   **Boost for Indian Cricket:** The win instilled confidence within the team and among the cricketing public. It provided a foundation for future successes and inspired a new generation of cricketers. It showed that Indian spin bowling, especially, could be a world-beating force.\n",
      "*   **A Symbol of Defiance:** The win was more than just a game; it was a powerful statement of a young nation finding its feet and asserting its capabilities on the international stage.\n",
      "\n",
      "The victory in Madras in 1952 remains etched in the annals of Indian cricket history as a truly iconic and foundational moment, paving the way for the cricketing powerhouse India would eventually become.\n"
     ]
    }
   ],
   "source": [
    "llm_response.pretty_print()"
   ]
  }
 ],
 "metadata": {
  "kernelspec": {
   "display_name": ".venv",
   "language": "python",
   "name": "python3"
  },
  "language_info": {
   "codemirror_mode": {
    "name": "ipython",
    "version": 3
   },
   "file_extension": ".py",
   "mimetype": "text/x-python",
   "name": "python",
   "nbconvert_exporter": "python",
   "pygments_lexer": "ipython3",
   "version": "3.13.5"
  }
 },
 "nbformat": 4,
 "nbformat_minor": 5
}
