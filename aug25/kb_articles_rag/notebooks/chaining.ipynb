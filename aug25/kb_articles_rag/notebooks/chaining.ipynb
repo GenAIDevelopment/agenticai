{
 "cells": [
  {
   "cell_type": "code",
   "execution_count": 1,
   "id": "a80b4520",
   "metadata": {},
   "outputs": [],
   "source": [
    "from utils import get_vertex_ai_model\n",
    "llm = get_vertex_ai_model()"
   ]
  },
  {
   "cell_type": "code",
   "execution_count": 2,
   "id": "57d42cfd",
   "metadata": {},
   "outputs": [
    {
     "data": {
      "text/plain": [
       "AIMessage(content='The capital of France is **Paris**.', additional_kwargs={}, response_metadata={'is_blocked': False, 'safety_ratings': [], 'usage_metadata': {'prompt_token_count': 6, 'candidates_token_count': 8, 'total_token_count': 14, 'prompt_tokens_details': [{'modality': 1, 'token_count': 6}], 'candidates_tokens_details': [{'modality': 1, 'token_count': 8}], 'thoughts_token_count': 0, 'cached_content_token_count': 0, 'cache_tokens_details': []}, 'finish_reason': 'STOP', 'avg_logprobs': -0.005295065231621265, 'model_name': 'gemini-2.5-flash-lite'}, id='run--d7f14b91-4a0d-444c-944b-f6d900c7499f-0', usage_metadata={'input_tokens': 6, 'output_tokens': 8, 'total_tokens': 14, 'input_token_details': {'cache_read': 0}})"
      ]
     },
     "execution_count": 2,
     "metadata": {},
     "output_type": "execute_result"
    }
   ],
   "source": [
    "llm.invoke(\"What is capital of france ?\")"
   ]
  },
  {
   "cell_type": "code",
   "execution_count": 3,
   "id": "e815fac7",
   "metadata": {},
   "outputs": [],
   "source": [
    "# Prompt Templates\n",
    "from langchain_core.prompts import ChatPromptTemplate\n",
    "\n",
    "template = ChatPromptTemplate.from_template(\"Give an one liner about a {topic}\")"
   ]
  },
  {
   "cell_type": "markdown",
   "id": "21e78c92",
   "metadata": {},
   "source": [
    "#"
   ]
  },
  {
   "cell_type": "code",
   "execution_count": null,
   "id": "45812d21",
   "metadata": {},
   "outputs": [],
   "source": []
  },
  {
   "cell_type": "markdown",
   "id": "d2e30d75",
   "metadata": {},
   "source": [
    "## Sequence\n",
    "\n",
    "* To construct prompt\n",
    "* pass it to llm\n",
    "* parse the output (optional)"
   ]
  },
  {
   "cell_type": "code",
   "execution_count": 17,
   "id": "33eeb434",
   "metadata": {},
   "outputs": [],
   "source": [
    "def print_hello(x):\n",
    "    print(type(x))\n",
    "    print(x)\n",
    "    print(\"hello\")\n",
    "    return f\"hello {x}\"\n",
    "\n",
    "def print_hai(x):\n",
    "    print(type(x))\n",
    "    print(x)\n",
    "    print(\"hai\")"
   ]
  },
  {
   "cell_type": "code",
   "execution_count": 18,
   "id": "1e098bf8",
   "metadata": {},
   "outputs": [
    {
     "name": "stdout",
     "output_type": "stream",
     "text": [
      "<class 'str'>\n",
      "exx\n",
      "hello\n",
      "<class 'str'>\n",
      "hello exx\n",
      "hai\n"
     ]
    }
   ],
   "source": [
    "from langchain_core.runnables import RunnableSequence\n",
    "first_sequence = RunnableSequence(print_hello, print_hai)\n",
    "first_sequence.invoke(input=\"exx\")"
   ]
  },
  {
   "cell_type": "code",
   "execution_count": 10,
   "id": "dcaaef4f",
   "metadata": {},
   "outputs": [
    {
     "name": "stdout",
     "output_type": "stream",
     "text": [
      "Budgeting is your roadmap to financial freedom, spending wisely is the vehicle.\n"
     ]
    }
   ],
   "source": [
    "rag_sequence = RunnableSequence(template, llm)\n",
    "response = rag_sequence.invoke({\n",
    "    'topic': 'Personal Finance'\n",
    "})\n",
    "print(response.content)"
   ]
  },
  {
   "cell_type": "code",
   "execution_count": 11,
   "id": "7ba8ce08",
   "metadata": {},
   "outputs": [
    {
     "name": "stdout",
     "output_type": "stream",
     "text": [
      "Master your money, master your life.\n"
     ]
    }
   ],
   "source": [
    "chain = template | llm\n",
    "response = chain.invoke({\n",
    "    'topic': 'Personal Finance'\n",
    "})\n",
    "print(response.content)"
   ]
  },
  {
   "cell_type": "code",
   "execution_count": 31,
   "id": "5e9e6028",
   "metadata": {},
   "outputs": [
    {
     "name": "stdout",
     "output_type": "stream",
     "text": [
      "input_variables=['topic'] input_types={} partial_variables={} template='Give me one liner about a {topic}'\n"
     ]
    }
   ],
   "source": [
    "from langchain_core.prompts import load_prompt\n",
    "template = load_prompt('./templates/oneliner.yaml')\n",
    "print(template)"
   ]
  },
  {
   "cell_type": "code",
   "execution_count": 32,
   "id": "1a676285",
   "metadata": {},
   "outputs": [
    {
     "data": {
      "text/plain": [
       "langchain_core.prompts.prompt.PromptTemplate"
      ]
     },
     "execution_count": 32,
     "metadata": {},
     "output_type": "execute_result"
    }
   ],
   "source": [
    "type(template)"
   ]
  },
  {
   "cell_type": "code",
   "execution_count": 33,
   "id": "99d0a831",
   "metadata": {},
   "outputs": [
    {
     "name": "stdout",
     "output_type": "stream",
     "text": [
      "Your money mindset is as crucial as your money management.\n"
     ]
    }
   ],
   "source": [
    "chain = template | llm\n",
    "response = chain.invoke({\n",
    "    'topic': 'Personal Finance'\n",
    "})\n",
    "print(response.content)"
   ]
  },
  {
   "cell_type": "code",
   "execution_count": 35,
   "id": "0f6eaf6e",
   "metadata": {},
   "outputs": [
    {
     "name": "stdout",
     "output_type": "stream",
     "text": [
      "input_variables=['sentiment', 'topic'] input_types={} partial_variables={} template='You are an expert in one-liners. I want a {sentiment} oneliner about {topic}'\n"
     ]
    }
   ],
   "source": [
    "template = load_prompt('./templates/v1.1/oneliner.yaml')\n",
    "print(template)"
   ]
  },
  {
   "cell_type": "code",
   "execution_count": 36,
   "id": "78727ce8",
   "metadata": {},
   "outputs": [
    {
     "name": "stdout",
     "output_type": "stream",
     "text": [
      "Here's one for you:\n",
      "\n",
      "I'm not saying I'm bad at budgeting, but my bank account looks like a ghost whispered \"Boo!\" and then immediately vanished.\n"
     ]
    }
   ],
   "source": [
    "chain = template | llm\n",
    "response = chain.invoke({\n",
    "    'topic': 'Personal Finance',\n",
    "    'sentiment': 'funny'\n",
    "})\n",
    "print(response.content)"
   ]
  },
  {
   "cell_type": "code",
   "execution_count": 37,
   "id": "b60dbe77",
   "metadata": {},
   "outputs": [
    {
     "name": "stdout",
     "output_type": "stream",
     "text": [
      "Here's a serious one-liner about personal finance:\n",
      "\n",
      "**Your financial future is built one responsible decision at a time.**\n"
     ]
    }
   ],
   "source": [
    "chain = template | llm\n",
    "response = chain.invoke({\n",
    "    'topic': 'Personal Finance',\n",
    "    'sentiment': 'serious'\n",
    "})\n",
    "print(response.content)"
   ]
  },
  {
   "cell_type": "code",
   "execution_count": 38,
   "id": "3d445264",
   "metadata": {},
   "outputs": [
    {
     "name": "stdout",
     "output_type": "stream",
     "text": [
      "Here's a factual one-liner about personal finance:\n",
      "\n",
      "**Saving consistently, even small amounts, builds wealth over time due to the power of compound interest.**\n"
     ]
    }
   ],
   "source": [
    "chain = template | llm\n",
    "response = chain.invoke({\n",
    "    'topic': 'Personal Finance',\n",
    "    'sentiment': 'factual'\n",
    "})\n",
    "print(response.content)"
   ]
  },
  {
   "cell_type": "code",
   "execution_count": 39,
   "id": "a299791d",
   "metadata": {},
   "outputs": [
    {
     "name": "stdout",
     "output_type": "stream",
     "text": [
      "input_variables=['audience', 'domain', 'topic'] input_types={} partial_variables={} template='You are an Customer Support agent for {domain}.\\nExplain the following faq in a simple way:\\n\\nTopic: {topic}\\n\\nMake sure to use examples suitable for a {audience}.\\n'\n"
     ]
    }
   ],
   "source": [
    "template = load_prompt('./templates/v1.1/supportagent.yaml')\n",
    "print(template)"
   ]
  },
  {
   "cell_type": "code",
   "execution_count": 40,
   "id": "a70f7ccf",
   "metadata": {},
   "outputs": [
    {
     "name": "stdout",
     "output_type": "stream",
     "text": [
      "Hey there! Welcome to our customer support. I'm here to help you out.\n",
      "\n",
      "Let's talk about what to do when you've **forgotten your password**. Don't worry, it happens to everyone!\n",
      "\n",
      "Think of your password like the special key that unlocks your account here. If you've misplaced that key, we have a super easy way to get you a new one.\n",
      "\n",
      "Here's how it works:\n",
      "\n",
      "1.  **Find the \"Forgot Password\" Link:** When you're on our login page (where you usually put in your email and password), look for a link that says something like:\n",
      "    *   \"Forgot Password?\"\n",
      "    *   \"Reset Password\"\n",
      "    *   \"Can't remember your password?\"\n",
      "\n",
      "    It's usually right below the password box.\n",
      "\n",
      "2.  **Tell Us Your Email:** Click on that link. It will then ask you for the email address you used to sign up for your account. This is really important because it's how we know *whose* password to reset.\n",
      "\n",
      "    *   **Example:** Let's say you signed up with your email as `your.awesome.email@email.com`. You'll need to type that in.\n",
      "\n",
      "3.  **Check Your Email:** After you enter your email, we'll send you a special email. This email will have instructions on how to create a *new* password.\n",
      "\n",
      "    *   **Example:** You'll get an email from us, maybe titled \"Password Reset Request.\" Open that email.\n",
      "\n",
      "4.  **Click the Reset Link:** Inside that email, there will be a special link. Click on that link. It's like a temporary path back to our account system.\n",
      "\n",
      "    *   **Example:** The email might say, \"Click here to reset your password.\" You click that blue text.\n",
      "\n",
      "5.  **Create Your New Password:** This link will take you to a page where you can create a brand new password for your account. Choose something you'll remember, but that's also safe.\n",
      "\n",
      "    *   **Example:** You'll see boxes to type in your \"New Password\" and then maybe \"Confirm New Password.\" Make sure they match!\n",
      "\n",
      "6.  **Log In with Your New Password:** Once you've set your new password, you can go back to our login page and use your email and this new password to get into your account.\n",
      "\n",
      "**In simple terms:** If you lose your key, we give you a way to get a new key sent to your house (your email), and then you can make a new one!\n",
      "\n",
      "If you're having trouble finding the link or don't receive the email, just let me know your email address, and I can try to help you out directly.\n",
      "\n",
      "Does that make sense? Let me know if you have any other questions!\n"
     ]
    }
   ],
   "source": [
    "chain = template | llm\n",
    "response = chain.invoke({\n",
    "    'topic': 'Forgot Password',\n",
    "    'domain': 'ecommerce',\n",
    "    'audience': 'beginner',\n",
    "    'company': 'Amazon'\n",
    "})\n",
    "print(response.content)"
   ]
  },
  {
   "cell_type": "code",
   "execution_count": 41,
   "id": "8fe0df26",
   "metadata": {},
   "outputs": [
    {
     "name": "stdout",
     "output_type": "stream",
     "text": [
      "Hello there! I'm happy to help you with updating your mobile number. It's a really straightforward process, and we're here to make it as easy as possible for you.\n",
      "\n",
      "Think of your mobile number like your primary contact address for us. When we need to reach you quickly, send you important updates about your policy, or even for verifying your identity, your mobile number is usually the first thing we'll use.\n",
      "\n",
      "So, **why is it important to keep your mobile number updated?**\n",
      "\n",
      "*   **Faster Communication:** If there's an emergency or a time-sensitive update about your policy, we can get in touch with you immediately.\n",
      "    *   **Example:** Imagine there's a new feature in our app that could save you money on your premiums, or a deadline approaching for a document. We might send you a quick text message to let you know.\n",
      "*   **Secure Access:** We often use your mobile number for things like sending you a one-time password (OTP) to log in to your online account or to confirm a transaction. If your number is outdated, you won't receive these important security codes.\n",
      "    *   **Example:** When you try to view your policy details online, we might send a code to your phone to make sure it's really you accessing your account. If we have your old number, you won't get that code.\n",
      "*   **Important Notifications:** This includes reminders about your premium payments, confirmation of claims, or any changes to your policy terms.\n",
      "    *   **Example:** If your payment is due soon, we'll send you a reminder text. This helps you avoid any late fees or interruptions to your coverage.\n",
      "*   **Smoother Claims Process:** If you ever need to file a claim, having your correct mobile number means we can communicate with you easily about the progress of your claim.\n",
      "    *   **Example:** After you submit a claim, we might text you to let you know it's been received and what the next steps are.\n",
      "\n",
      "**How can you update your mobile number?**\n",
      "\n",
      "It's super simple! We offer a few easy ways:\n",
      "\n",
      "1.  **Online Portal/App:** This is usually the quickest and most convenient method.\n",
      "    *   **How it works:** You'll log in to your account on our website or our mobile app. Look for a section like \"My Account,\" \"Profile Settings,\" or \"Contact Information.\" You should see an option to edit your mobile number. Simply enter your new number, and follow the on-screen prompts. You might need to verify it with an OTP sent to your new number.\n",
      "    *   **Think of it like this:** It's like updating your address on an online shopping website when you move.\n",
      "2.  **Calling Us:** You can always give us a call directly.\n",
      "    *   **How it works:** Our customer support team is here to help! When you call us, you'll speak to one of our friendly agents who can guide you through the process. They might ask you a few questions to verify your identity before updating your number.\n",
      "    *   **Think of it like this:** You're telling a friend your new phone number so they can call you.\n",
      "3.  **Visiting a Branch (if applicable):** If you prefer face-to-face interaction, you can visit one of our physical branches.\n",
      "    *   **How it works:** Bring a form of identification with you. Our staff at the branch will be able to assist you with updating your contact details.\n",
      "\n",
      "**What do you need to have ready?**\n",
      "\n",
      "When you're ready to update, it's helpful to have your **policy number** handy. This is like your unique customer ID with us. It helps us find your account quickly.\n",
      "\n",
      "We want to make sure we can always reach you and provide you with the best service. So, keeping your mobile number up-to-date is a small but very important step in managing your insurance!\n",
      "\n",
      "Do you have your policy number with you, or would you like to know more about any of these methods? I'm here to help you through it!\n"
     ]
    }
   ],
   "source": [
    "response = chain.invoke({\n",
    "    'topic': 'Update Mobile Number',\n",
    "    'domain': 'insurance',\n",
    "    'audience': 'beginner',\n",
    "    'company': 'United Health Group'\n",
    "})\n",
    "print(response.content)"
   ]
  }
 ],
 "metadata": {
  "kernelspec": {
   "display_name": ".venv",
   "language": "python",
   "name": "python3"
  },
  "language_info": {
   "codemirror_mode": {
    "name": "ipython",
    "version": 3
   },
   "file_extension": ".py",
   "mimetype": "text/x-python",
   "name": "python",
   "nbconvert_exporter": "python",
   "pygments_lexer": "ipython3",
   "version": "3.13.5"
  }
 },
 "nbformat": 4,
 "nbformat_minor": 5
}
