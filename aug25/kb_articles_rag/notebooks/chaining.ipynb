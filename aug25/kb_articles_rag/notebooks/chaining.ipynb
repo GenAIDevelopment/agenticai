{
 "cells": [
  {
   "cell_type": "code",
   "execution_count": 1,
   "id": "a80b4520",
   "metadata": {},
   "outputs": [],
   "source": [
    "from utils import get_vertex_ai_model\n",
    "llm = get_vertex_ai_model()"
   ]
  },
  {
   "cell_type": "code",
   "execution_count": 2,
   "id": "57d42cfd",
   "metadata": {},
   "outputs": [
    {
     "data": {
      "text/plain": [
       "AIMessage(content='The capital of France is **Paris**.', additional_kwargs={}, response_metadata={'is_blocked': False, 'safety_ratings': [], 'usage_metadata': {'prompt_token_count': 6, 'candidates_token_count': 8, 'total_token_count': 14, 'prompt_tokens_details': [{'modality': 1, 'token_count': 6}], 'candidates_tokens_details': [{'modality': 1, 'token_count': 8}], 'thoughts_token_count': 0, 'cached_content_token_count': 0, 'cache_tokens_details': []}, 'finish_reason': 'STOP', 'avg_logprobs': -0.005295065231621265, 'model_name': 'gemini-2.5-flash-lite'}, id='run--d7f14b91-4a0d-444c-944b-f6d900c7499f-0', usage_metadata={'input_tokens': 6, 'output_tokens': 8, 'total_tokens': 14, 'input_token_details': {'cache_read': 0}})"
      ]
     },
     "execution_count": 2,
     "metadata": {},
     "output_type": "execute_result"
    }
   ],
   "source": [
    "llm.invoke(\"What is capital of france ?\")"
   ]
  },
  {
   "cell_type": "code",
   "execution_count": 3,
   "id": "e815fac7",
   "metadata": {},
   "outputs": [],
   "source": [
    "# Prompt Templates\n",
    "from langchain_core.prompts import ChatPromptTemplate\n",
    "\n",
    "template = ChatPromptTemplate.from_template(\"Give an one liner about a {topic}\")"
   ]
  },
  {
   "cell_type": "markdown",
   "id": "21e78c92",
   "metadata": {},
   "source": [
    "#"
   ]
  },
  {
   "cell_type": "markdown",
   "id": "d2e30d75",
   "metadata": {},
   "source": [
    "## Sequence\n",
    "\n",
    "* To construct prompt\n",
    "* pass it to llm\n",
    "* parse the output (optional)"
   ]
  },
  {
   "cell_type": "code",
   "execution_count": 17,
   "id": "33eeb434",
   "metadata": {},
   "outputs": [],
   "source": [
    "def print_hello(x):\n",
    "    print(type(x))\n",
    "    print(x)\n",
    "    print(\"hello\")\n",
    "    return f\"hello {x}\"\n",
    "\n",
    "def print_hai(x):\n",
    "    print(type(x))\n",
    "    print(x)\n",
    "    print(\"hai\")"
   ]
  },
  {
   "cell_type": "code",
   "execution_count": 18,
   "id": "1e098bf8",
   "metadata": {},
   "outputs": [
    {
     "name": "stdout",
     "output_type": "stream",
     "text": [
      "<class 'str'>\n",
      "exx\n",
      "hello\n",
      "<class 'str'>\n",
      "hello exx\n",
      "hai\n"
     ]
    }
   ],
   "source": [
    "from langchain_core.runnables import RunnableSequence\n",
    "first_sequence = RunnableSequence(print_hello, print_hai)\n",
    "first_sequence.invoke(input=\"exx\")"
   ]
  },
  {
   "cell_type": "code",
   "execution_count": 10,
   "id": "dcaaef4f",
   "metadata": {},
   "outputs": [
    {
     "name": "stdout",
     "output_type": "stream",
     "text": [
      "Budgeting is your roadmap to financial freedom, spending wisely is the vehicle.\n"
     ]
    }
   ],
   "source": [
    "rag_sequence = RunnableSequence(template, llm)\n",
    "response = rag_sequence.invoke({\n",
    "    'topic': 'Personal Finance'\n",
    "})\n",
    "print(response.content)"
   ]
  },
  {
   "cell_type": "code",
   "execution_count": 11,
   "id": "7ba8ce08",
   "metadata": {},
   "outputs": [
    {
     "name": "stdout",
     "output_type": "stream",
     "text": [
      "Master your money, master your life.\n"
     ]
    }
   ],
   "source": [
    "chain = template | llm\n",
    "response = chain.invoke({\n",
    "    'topic': 'Personal Finance'\n",
    "})\n",
    "print(response.content)"
   ]
  },
  {
   "cell_type": "code",
   "execution_count": null,
   "id": "5e9e6028",
   "metadata": {},
   "outputs": [],
   "source": [
    "ChatPromptTemplate.from_template()"
   ]
  }
 ],
 "metadata": {
  "kernelspec": {
   "display_name": ".venv",
   "language": "python",
   "name": "python3"
  },
  "language_info": {
   "codemirror_mode": {
    "name": "ipython",
    "version": 3
   },
   "file_extension": ".py",
   "mimetype": "text/x-python",
   "name": "python",
   "nbconvert_exporter": "python",
   "pygments_lexer": "ipython3",
   "version": "3.13.5"
  }
 },
 "nbformat": 4,
 "nbformat_minor": 5
}
