{
 "cells": [
  {
   "cell_type": "code",
   "execution_count": null,
   "id": "c82c574f",
   "metadata": {},
   "outputs": [],
   "source": [
    "#  add langchain-experimental"
   ]
  },
  {
   "cell_type": "code",
   "execution_count": 1,
   "id": "11955111",
   "metadata": {},
   "outputs": [],
   "source": [
    "from utils import get_vertex_ai_embedding, get_vertex_ai_model"
   ]
  },
  {
   "cell_type": "code",
   "execution_count": 2,
   "id": "e6401da9",
   "metadata": {},
   "outputs": [
    {
     "name": "stderr",
     "output_type": "stream",
     "text": [
      "c:\\khajaclassroom\\GenerativeAI\\agenticai\\aug25\\kb_articles_rag\\.venv\\Lib\\site-packages\\vertexai\\_model_garden\\_model_garden_models.py:278: UserWarning: This feature is deprecated as of June 24, 2025 and will be removed on June 24, 2026. For details, see https://cloud.google.com/vertex-ai/generative-ai/docs/deprecations/genai-vertexai-sdk.\n",
      "  warning_logs.show_deprecation_warning()\n"
     ]
    }
   ],
   "source": [
    "text_embedding = get_vertex_ai_embedding()"
   ]
  },
  {
   "cell_type": "code",
   "execution_count": null,
   "id": "491730ec",
   "metadata": {},
   "outputs": [],
   "source": [
    "# semantic chunker\n",
    "from langchain_experimental.text_splitter import SemanticChunker\n",
    "semantic_chunker = SemanticChunker(\n",
    "    embeddings=text_embedding,\n",
    "    breakpoint_threshold_type=\"percentile\",\n",
    "    breakpoint_threshold_amount=95\n",
    ")"
   ]
  },
  {
   "cell_type": "code",
   "execution_count": 1,
   "id": "cfa5b151",
   "metadata": {},
   "outputs": [],
   "source": [
    "DOC = \"\"\"\n",
    "## 🔹 What is a Service Mesh?\n",
    "\n",
    "A **Service Mesh** is a dedicated infrastructure layer that manages **service-to-service communication** in a microservices architecture. Instead of letting each microservice handle things like discovery, retries, security, and observability, a service mesh offloads these responsibilities to a dedicated set of components.\n",
    "\n",
    "Think of it as a **\"traffic controller\"** for microservices, ensuring that communication between services is **secure, reliable, and observable**.\n",
    "\n",
    "---\n",
    "\n",
    "## 🔹 Key Features of a Service Mesh\n",
    "\n",
    "1. **Traffic Management**\n",
    "\n",
    "   * Intelligent routing (A/B testing, canary releases, blue/green deployments).\n",
    "   * Load balancing between services.\n",
    "   * Retry and timeout policies.\n",
    "\n",
    "2. **Security**\n",
    "\n",
    "   * Mutual TLS (mTLS) for encrypting service-to-service communication.\n",
    "   * Authentication and authorization between services.\n",
    "   * Identity management.\n",
    "\n",
    "3. **Observability**\n",
    "\n",
    "   * Distributed tracing (knowing how requests flow through services).\n",
    "   * Metrics (latency, error rates, throughput).\n",
    "   * Logging of service interactions.\n",
    "\n",
    "4. **Reliability**\n",
    "\n",
    "   * Circuit breaking (stop sending requests to failing services).\n",
    "   * Rate limiting (avoid overloading services).\n",
    "   * Failover handling.\n",
    "\n",
    "---\n",
    "\n",
    "## 🔹 How it Works\n",
    "\n",
    "A service mesh typically uses a **sidecar proxy** pattern:\n",
    "\n",
    "* Each microservice instance runs alongside a **proxy** (usually Envoy).\n",
    "* All traffic in and out of the service goes through the proxy.\n",
    "* The proxies communicate with a **control plane**, which manages policies and configurations.\n",
    "\n",
    "So, developers write business logic, and the service mesh takes care of **networking concerns**.\n",
    "\n",
    "---\n",
    "\n",
    "## 🔹 Popular Service Mesh Implementations\n",
    "\n",
    "| Service Mesh                | Key Highlights                                                |\n",
    "| --------------------------- | ------------------------------------------------------------- |\n",
    "| **Istio**                   | Most popular, feature-rich, uses Envoy as sidecar.            |\n",
    "| **Linkerd**                 | Lightweight, simple, built for Kubernetes.                    |\n",
    "| **Consul Connect**          | From HashiCorp, integrates with Consul for service discovery. |\n",
    "| **Kuma**                    | CNCF project by Kong, easy to use, multi-cluster support.     |\n",
    "| **Open Service Mesh (OSM)** | Lightweight, from Microsoft, based on Envoy.                  |\n",
    "\n",
    "---\n",
    "\n",
    "## 🔹 When to Use a Service Mesh?\n",
    "\n",
    "* When you have **many microservices** and need to manage complex communication.\n",
    "* If you need **zero-trust security** with mTLS between services.\n",
    "* For **advanced deployment strategies** (canary, A/B testing).\n",
    "* When you require **deep observability** into service interactions.\n",
    "\n",
    "---\n",
    "\n",
    "✅ **In simple terms**:\n",
    "A Service Mesh helps you **secure, monitor, and control** communication between microservices, without changing your application code.\n",
    "\"\"\""
   ]
  },
  {
   "cell_type": "code",
   "execution_count": 5,
   "id": "8884c3ed",
   "metadata": {},
   "outputs": [],
   "source": [
    "from utils import get_fixed_size_chunker, get_recursive_chunker, get_semantic_chunker, get_vertex_ai_embedding"
   ]
  },
  {
   "cell_type": "code",
   "execution_count": 6,
   "id": "6e52493e",
   "metadata": {},
   "outputs": [
    {
     "name": "stderr",
     "output_type": "stream",
     "text": [
      "c:\\khajaclassroom\\GenerativeAI\\agenticai\\aug25\\kb_articles_rag\\.venv\\Lib\\site-packages\\vertexai\\_model_garden\\_model_garden_models.py:278: UserWarning: This feature is deprecated as of June 24, 2025 and will be removed on June 24, 2026. For details, see https://cloud.google.com/vertex-ai/generative-ai/docs/deprecations/genai-vertexai-sdk.\n",
      "  warning_logs.show_deprecation_warning()\n"
     ]
    }
   ],
   "source": [
    "fixed = get_fixed_size_chunker()\n",
    "recursive = get_recursive_chunker()\n",
    "text_embedding = get_vertex_ai_embedding()\n",
    "semantic = get_semantic_chunker(embedding=text_embedding)"
   ]
  },
  {
   "cell_type": "code",
   "execution_count": 7,
   "id": "d5651e61",
   "metadata": {},
   "outputs": [],
   "source": [
    "fixed_chunks = fixed.split_text(DOC)\n",
    "recursive_chunks = recursive.split_text(DOC)\n",
    "semantic_chunks = semantic.split_text(DOC)"
   ]
  },
  {
   "cell_type": "code",
   "execution_count": 8,
   "id": "b8da94d8",
   "metadata": {},
   "outputs": [
    {
     "name": "stdout",
     "output_type": "stream",
     "text": [
      "Counts \n",
      "fixed: 6 \n",
      "recursive: 7 \n",
      "semantic: 3\n"
     ]
    }
   ],
   "source": [
    "print(f\"Counts \\nfixed: {len(fixed_chunks)} \\nrecursive: {len(recursive_chunks)} \\nsemantic: {len(semantic_chunks)}\")"
   ]
  },
  {
   "cell_type": "code",
   "execution_count": 9,
   "id": "b46fb953",
   "metadata": {},
   "outputs": [],
   "source": [
    "# Build three vector stores\n",
    "from utils import vector_store_from_chunks\n"
   ]
  },
  {
   "cell_type": "code",
   "execution_count": 10,
   "id": "5d8b45c2",
   "metadata": {},
   "outputs": [],
   "source": [
    "vs_fixed = vector_store_from_chunks(\n",
    "    chunks=fixed_chunks,\n",
    "    embedding=text_embedding,\n",
    "    name=\"fixed_demo\",\n",
    "    persist_directory=\"./db/fixed/vectordb\"\n",
    ")"
   ]
  },
  {
   "cell_type": "code",
   "execution_count": 11,
   "id": "b94a5a0b",
   "metadata": {},
   "outputs": [],
   "source": [
    "vs_recursive = vector_store_from_chunks(\n",
    "    chunks=recursive_chunks,\n",
    "    embedding=text_embedding,\n",
    "    name=\"recursive_demo\",\n",
    "    persist_directory=\"./db/recursive/vectordb\"\n",
    ")"
   ]
  },
  {
   "cell_type": "code",
   "execution_count": 12,
   "id": "5f895fa4",
   "metadata": {},
   "outputs": [],
   "source": [
    "vs_semantic = vector_store_from_chunks(\n",
    "    chunks=semantic_chunks,\n",
    "    embedding=text_embedding,\n",
    "    name=\"semantic_demo\",\n",
    "    persist_directory=\"./db/semantic/vectordb\"\n",
    ")"
   ]
  },
  {
   "cell_type": "code",
   "execution_count": 26,
   "id": "2972d2a5",
   "metadata": {},
   "outputs": [],
   "source": [
    "retriver_fixed = vs_fixed.as_retriever(\n",
    "    search_kwargs={\"k\": 1}\n",
    ")\n",
    "retriver_recursive = vs_recursive.as_retriever(\n",
    "    search_kwargs={\"k\": 1}\n",
    ")\n",
    "retriver_semantic = vs_semantic.as_retriever(\n",
    "    search_kwargs={\"k\": 1}\n",
    ")"
   ]
  },
  {
   "cell_type": "code",
   "execution_count": 27,
   "id": "040dc6e1",
   "metadata": {},
   "outputs": [],
   "source": [
    "QUERIES = [\n",
    "    \"How do i enable mutual TLS between services\"\n",
    "]"
   ]
  },
  {
   "cell_type": "code",
   "execution_count": 28,
   "id": "e0c0c4ca",
   "metadata": {},
   "outputs": [],
   "source": [
    "def display_response(response: list):\n",
    "    for doc in response:\n",
    "        print(doc.page_content)"
   ]
  },
  {
   "cell_type": "code",
   "execution_count": 29,
   "id": "917d04b5",
   "metadata": {},
   "outputs": [],
   "source": [
    "fixed_response = retriver_fixed.invoke(QUERIES[0])"
   ]
  },
  {
   "cell_type": "code",
   "execution_count": 30,
   "id": "c6a06141",
   "metadata": {},
   "outputs": [
    {
     "name": "stdout",
     "output_type": "stream",
     "text": [
      "---\n",
      "## 🔹 When to Use a Service Mesh?\n",
      "* When you have **many microservices** and need to manage complex communication.\n",
      "* If you need **zero-trust security** with mTLS between services.\n",
      "* For **advanced deployment strategies** (canary, A/B testing).\n",
      "* When you require **deep observability** into service interactions.\n",
      "---\n",
      "✅ **In simple terms**:\n",
      "A Service Mesh helps you **secure, monitor, and control** communication between microservices, without changing your application code.\n"
     ]
    }
   ],
   "source": [
    "display_response(fixed_response)"
   ]
  },
  {
   "cell_type": "code",
   "execution_count": 31,
   "id": "6b3c0e34",
   "metadata": {},
   "outputs": [],
   "source": [
    "recursive_response = retriver_recursive.invoke(QUERIES[0])"
   ]
  },
  {
   "cell_type": "code",
   "execution_count": 32,
   "id": "b6eca3bb",
   "metadata": {},
   "outputs": [
    {
     "name": "stdout",
     "output_type": "stream",
     "text": [
      "Think of it as a **\"traffic controller\"** for microservices, ensuring that communication between services is **secure, reliable, and observable**.\n",
      "\n",
      "---\n",
      "\n",
      "## 🔹 Key Features of a Service Mesh\n",
      "\n",
      "1. **Traffic Management**\n",
      "\n",
      "   * Intelligent routing (A/B testing, canary releases, blue/green deployments).\n",
      "   * Load balancing between services.\n",
      "   * Retry and timeout policies.\n",
      "\n",
      "2. **Security**\n",
      "\n",
      "   * Mutual TLS (mTLS) for encrypting service-to-service communication.\n"
     ]
    }
   ],
   "source": [
    "display_response(recursive_response)"
   ]
  },
  {
   "cell_type": "code",
   "execution_count": 33,
   "id": "1521a4dc",
   "metadata": {},
   "outputs": [],
   "source": [
    "semantic_response = retriver_semantic.invoke(QUERIES[0])"
   ]
  },
  {
   "cell_type": "code",
   "execution_count": 34,
   "id": "a9757916",
   "metadata": {},
   "outputs": [
    {
     "name": "stdout",
     "output_type": "stream",
     "text": [
      "|\n",
      "| **Consul Connect**          | From HashiCorp, integrates with Consul for service discovery. |\n",
      "| **Kuma**                    | CNCF project by Kong, easy to use, multi-cluster support. |\n",
      "| **Open Service Mesh (OSM)** | Lightweight, from Microsoft, based on Envoy. |\n",
      "\n",
      "---\n",
      "\n",
      "## 🔹 When to Use a Service Mesh? * When you have **many microservices** and need to manage complex communication. * If you need **zero-trust security** with mTLS between services. * For **advanced deployment strategies** (canary, A/B testing). * When you require **deep observability** into service interactions. ---\n",
      "\n",
      "✅ **In simple terms**:\n",
      "A Service Mesh helps you **secure, monitor, and control** communication between microservices, without changing your application code. \n"
     ]
    }
   ],
   "source": [
    "display_response(semantic_response)"
   ]
  }
 ],
 "metadata": {
  "kernelspec": {
   "display_name": ".venv",
   "language": "python",
   "name": "python3"
  },
  "language_info": {
   "codemirror_mode": {
    "name": "ipython",
    "version": 3
   },
   "file_extension": ".py",
   "mimetype": "text/x-python",
   "name": "python",
   "nbconvert_exporter": "python",
   "pygments_lexer": "ipython3",
   "version": "3.13.5"
  }
 },
 "nbformat": 4,
 "nbformat_minor": 5
}
