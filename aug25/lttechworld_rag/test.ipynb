{
 "cells": [
  {
   "cell_type": "code",
   "execution_count": 1,
   "id": "e91fdb17",
   "metadata": {},
   "outputs": [],
   "source": [
    "from langchain_core.documents import Document\n",
    "from langchain_community.document_loaders.csv_loader import CSVLoader\n",
    "from langchain_community.document_loaders.directory import DirectoryLoader\n",
    "from langchain_google_vertexai import VertexAIEmbeddings\n",
    "from langchain_chroma import Chroma\n"
   ]
  },
  {
   "cell_type": "code",
   "execution_count": 2,
   "id": "4d431df9",
   "metadata": {},
   "outputs": [
    {
     "name": "stderr",
     "output_type": "stream",
     "text": [
      "c:\\khajaclassroom\\GenerativeAI\\agenticai\\aug25\\lttechworld_rag\\.venv\\Lib\\site-packages\\vertexai\\_model_garden\\_model_garden_models.py:278: UserWarning: This feature is deprecated as of June 24, 2025 and will be removed on June 24, 2026. For details, see https://cloud.google.com/vertex-ai/generative-ai/docs/deprecations/genai-vertexai-sdk.\n",
      "  warning_logs.show_deprecation_warning()\n"
     ]
    }
   ],
   "source": [
    "chroma_db_path=\"./vector_db\"\n",
    "# Initialize the a specific Embeddings Model version\n",
    "embeddings = VertexAIEmbeddings(model_name=\"text-embedding-005\")"
   ]
  },
  {
   "cell_type": "code",
   "execution_count": 3,
   "id": "743fad23",
   "metadata": {},
   "outputs": [],
   "source": [
    "single_vs = Chroma(\n",
    "    collection_name=\"lttechworld\",\n",
    "    embedding_function=embeddings,\n",
    "    persist_directory=chroma_db_path\n",
    ")"
   ]
  },
  {
   "cell_type": "code",
   "execution_count": 4,
   "id": "84ab0bc7",
   "metadata": {},
   "outputs": [],
   "source": [
    "retriever = single_vs.as_retriever()"
   ]
  },
  {
   "cell_type": "code",
   "execution_count": 5,
   "id": "97a3861b",
   "metadata": {},
   "outputs": [
    {
     "name": "stderr",
     "output_type": "stream",
     "text": [
      "C:\\Users\\DELL\\AppData\\Local\\Temp\\ipykernel_16060\\824093910.py:1: LangChainDeprecationWarning: The method `BaseRetriever.get_relevant_documents` was deprecated in langchain-core 0.1.46 and will be removed in 1.0. Use :meth:`~invoke` instead.\n",
      "  retriever.get_relevant_documents(\"How often should I clean my desktop\")\n"
     ]
    },
    {
     "data": {
      "text/plain": [
       "[Document(id='507cba0e-8837-47a4-a56a-81bb7f050056', metadata={'source': 'data\\\\ltttechworld_faq.csv', 'row': 3}, page_content='question: How often should I clean my desktop PC?\\nanswer: Every 3-6 months depending on dust levels in your environment.\\ntags: desktop,maintenance,cleaning'),\n",
       " Document(id='04bde4de-d7a4-45c2-831b-46e86b57da51', metadata={'row': 8, 'source': 'data\\\\ltttechworld_faq.csv'}, page_content='question: How often should I clean my desktop PC?\\nanswer: Every 3-6 months depending on dust levels in your environment.\\ntags: desktop,maintenance,cleaning'),\n",
       " Document(id='426d876d-89a2-4213-ac03-3e58bceca004', metadata={'source': 'data\\\\ltttechworld_faq.csv', 'row': 12}, page_content='question: How often should I clean my desktop PC?\\nanswer: Every 3-6 months depending on dust levels in your environment.\\ntags: desktop,maintenance,cleaning'),\n",
       " Document(id='9a9b67cb-49ba-4f90-ab34-5d82c3e73131', metadata={'row': 34, 'source': 'data\\\\ltttechworld_faq.csv'}, page_content='question: How often should I clean my desktop PC?\\nanswer: Every 3-6 months depending on dust levels in your environment.\\ntags: desktop,maintenance,cleaning')]"
      ]
     },
     "execution_count": 5,
     "metadata": {},
     "output_type": "execute_result"
    }
   ],
   "source": [
    "retriever.get_relevant_documents(\"How often should I clean my desktop\")"
   ]
  },
  {
   "cell_type": "code",
   "execution_count": 6,
   "id": "d1ae5028",
   "metadata": {},
   "outputs": [
    {
     "data": {
      "text/plain": [
       "[Document(id='507cba0e-8837-47a4-a56a-81bb7f050056', metadata={'row': 3, 'source': 'data\\\\ltttechworld_faq.csv'}, page_content='question: How often should I clean my desktop PC?\\nanswer: Every 3-6 months depending on dust levels in your environment.\\ntags: desktop,maintenance,cleaning'),\n",
       " Document(id='04bde4de-d7a4-45c2-831b-46e86b57da51', metadata={'source': 'data\\\\ltttechworld_faq.csv', 'row': 8}, page_content='question: How often should I clean my desktop PC?\\nanswer: Every 3-6 months depending on dust levels in your environment.\\ntags: desktop,maintenance,cleaning'),\n",
       " Document(id='426d876d-89a2-4213-ac03-3e58bceca004', metadata={'row': 12, 'source': 'data\\\\ltttechworld_faq.csv'}, page_content='question: How often should I clean my desktop PC?\\nanswer: Every 3-6 months depending on dust levels in your environment.\\ntags: desktop,maintenance,cleaning'),\n",
       " Document(id='9a9b67cb-49ba-4f90-ab34-5d82c3e73131', metadata={'source': 'data\\\\ltttechworld_faq.csv', 'row': 34}, page_content='question: How often should I clean my desktop PC?\\nanswer: Every 3-6 months depending on dust levels in your environment.\\ntags: desktop,maintenance,cleaning')]"
      ]
     },
     "execution_count": 6,
     "metadata": {},
     "output_type": "execute_result"
    }
   ],
   "source": [
    "retriever.invoke(\"How often should I clean my desktop\")"
   ]
  }
 ],
 "metadata": {
  "kernelspec": {
   "display_name": "lttechworld-rag",
   "language": "python",
   "name": "python3"
  },
  "language_info": {
   "codemirror_mode": {
    "name": "ipython",
    "version": 3
   },
   "file_extension": ".py",
   "mimetype": "text/x-python",
   "name": "python",
   "nbconvert_exporter": "python",
   "pygments_lexer": "ipython3",
   "version": "3.13.5"
  }
 },
 "nbformat": 4,
 "nbformat_minor": 5
}
