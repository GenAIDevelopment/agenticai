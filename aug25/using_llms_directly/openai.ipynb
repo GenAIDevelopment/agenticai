{
 "cells": [
  {
   "cell_type": "code",
   "execution_count": 1,
   "id": "f6cdf3d5",
   "metadata": {},
   "outputs": [],
   "source": [
    "# code to get an api key\n",
    "import os\n",
    "from dotenv import load_dotenv\n",
    "load_dotenv()\n",
    "OPENAI_API_KEY = os.getenv('OPENAI_API_KEY')"
   ]
  },
  {
   "cell_type": "code",
   "execution_count": 2,
   "id": "252b4dc5",
   "metadata": {},
   "outputs": [],
   "source": [
    "# Lets create an open ai client\n",
    "from openai import OpenAI\n",
    "\n",
    "# Creating an openai client\n",
    "client = OpenAI(api_key=OPENAI_API_KEY)"
   ]
  },
  {
   "cell_type": "code",
   "execution_count": 8,
   "id": "9f0dc94a",
   "metadata": {},
   "outputs": [],
   "source": [
    "response = client.responses.create(\n",
    "    model=\"gpt-4o-mini\",\n",
    "    input=\"Write one fun fact about apis\"\n",
    ")"
   ]
  },
  {
   "cell_type": "code",
   "execution_count": 4,
   "id": "9574417e",
   "metadata": {},
   "outputs": [
    {
     "data": {
      "text/plain": [
       "'One fun fact about APIs is that they enable \"mashups,\" which are applications that combine data and functionality from multiple sources into a single interface. For example, a map app that integrates weather data, restaurant reviews, and social media check-ins is a mashup made possible through various APIs working together!'"
      ]
     },
     "execution_count": 4,
     "metadata": {},
     "output_type": "execute_result"
    }
   ],
   "source": [
    "response.output_text"
   ]
  }
 ],
 "metadata": {
  "kernelspec": {
   "display_name": ".venv",
   "language": "python",
   "name": "python3"
  },
  "language_info": {
   "codemirror_mode": {
    "name": "ipython",
    "version": 3
   },
   "file_extension": ".py",
   "mimetype": "text/x-python",
   "name": "python",
   "nbconvert_exporter": "python",
   "pygments_lexer": "ipython3",
   "version": "3.13.5"
  }
 },
 "nbformat": 4,
 "nbformat_minor": 5
}
