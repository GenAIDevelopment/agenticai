{
 "cells": [
  {
   "cell_type": "code",
   "execution_count": 18,
   "id": "f6cdf3d5",
   "metadata": {},
   "outputs": [],
   "source": [
    "# code to get an api key\n",
    "import os\n",
    "from dotenv import load_dotenv\n",
    "load_dotenv()\n",
    "OPENAI_API_KEY = os.getenv('OPENAI_API_KEY')"
   ]
  },
  {
   "cell_type": "code",
   "execution_count": 19,
   "id": "252b4dc5",
   "metadata": {},
   "outputs": [],
   "source": [
    "# Lets create an open ai client\n",
    "from openai import OpenAI\n",
    "\n",
    "# Creating an openai client\n",
    "client = OpenAI(api_key=OPENAI_API_KEY)"
   ]
  },
  {
   "cell_type": "code",
   "execution_count": 23,
   "id": "9f0dc94a",
   "metadata": {},
   "outputs": [],
   "source": [
    "response = client.responses.create(\n",
    "    model=\"gpt-4o-mini\",\n",
    "    input=\"Write one fun fact about apis\"\n",
    ")"
   ]
  },
  {
   "cell_type": "code",
   "execution_count": 25,
   "id": "9574417e",
   "metadata": {},
   "outputs": [
    {
     "data": {
      "text/plain": [
       "'A fun fact about APIs is that the term \"API\" stands for \"Application Programming Interface,\" and one of the first known APIs was developed by Salesforce in the early 2000s, allowing developers to access features and data from their cloud-based software programmatically, paving the way for modern web services and integrations!'"
      ]
     },
     "execution_count": 25,
     "metadata": {},
     "output_type": "execute_result"
    }
   ],
   "source": [
    "response.output_text"
   ]
  }
 ],
 "metadata": {
  "kernelspec": {
   "display_name": ".venv",
   "language": "python",
   "name": "python3"
  },
  "language_info": {
   "codemirror_mode": {
    "name": "ipython",
    "version": 3
   },
   "file_extension": ".py",
   "mimetype": "text/x-python",
   "name": "python",
   "nbconvert_exporter": "python",
   "pygments_lexer": "ipython3",
   "version": "3.13.5"
  }
 },
 "nbformat": 4,
 "nbformat_minor": 5
}
