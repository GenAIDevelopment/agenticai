{
 "cells": [
  {
   "cell_type": "code",
   "execution_count": 1,
   "id": "d8227adb",
   "metadata": {},
   "outputs": [
    {
     "data": {
      "text/plain": [
       "True"
      ]
     },
     "execution_count": 1,
     "metadata": {},
     "output_type": "execute_result"
    }
   ],
   "source": [
    "from dotenv import load_dotenv\n",
    "load_dotenv()"
   ]
  },
  {
   "cell_type": "code",
   "execution_count": 2,
   "id": "7a6e1722",
   "metadata": {},
   "outputs": [],
   "source": [
    "import os\n",
    "openai_api_key = os.getenv('OPENAI_API_KEY')"
   ]
  },
  {
   "cell_type": "code",
   "execution_count": 3,
   "id": "1133b7d5",
   "metadata": {},
   "outputs": [],
   "source": [
    "from langchain.chat_models import init_chat_model"
   ]
  },
  {
   "cell_type": "code",
   "execution_count": 5,
   "id": "f5020a5d",
   "metadata": {},
   "outputs": [],
   "source": [
    "llm = init_chat_model(model=\"gpt-4o-mini\")"
   ]
  },
  {
   "cell_type": "code",
   "execution_count": 7,
   "id": "804694e7",
   "metadata": {},
   "outputs": [],
   "source": [
    "result = llm.invoke(\"Write one fun fact about apis\")"
   ]
  },
  {
   "cell_type": "code",
   "execution_count": 8,
   "id": "011a89a5",
   "metadata": {},
   "outputs": [
    {
     "name": "stdout",
     "output_type": "stream",
     "text": [
      "==================================\u001b[1m Ai Message \u001b[0m==================================\n",
      "\n",
      "One fun fact about APIs is that they enable the \"mashup\" phenomenon, where developers can combine multiple services into a single application. For example, a travel app can integrate APIs from airlines, hotel booking systems, and weather services to provide users with a comprehensive travel experience—all in one place! This ability to blend different data sources and functionalities makes APIs a powerful tool for innovation in software development.\n"
     ]
    }
   ],
   "source": [
    "result.pretty_print()"
   ]
  },
  {
   "cell_type": "code",
   "execution_count": 11,
   "id": "4d49d18d",
   "metadata": {},
   "outputs": [],
   "source": [
    "from langchain.chat_models import init_chat_model\n",
    "gemini_llm = init_chat_model('gemini-2.5-flash', model_provider=\"google_vertexai\")"
   ]
  },
  {
   "cell_type": "code",
   "execution_count": 12,
   "id": "a2800cc0",
   "metadata": {},
   "outputs": [],
   "source": [
    "result = gemini_llm.invoke(\"Write one fun fact about apis\")"
   ]
  },
  {
   "cell_type": "code",
   "execution_count": 13,
   "id": "8d384860",
   "metadata": {},
   "outputs": [
    {
     "name": "stdout",
     "output_type": "stream",
     "text": [
      "==================================\u001b[1m Ai Message \u001b[0m==================================\n",
      "\n",
      "APIs are like the **secret handshakes** between different computer programs, allowing them to whisper information back and forth so all your favorite apps and websites can magically work together!\n"
     ]
    }
   ],
   "source": [
    "result.pretty_print()"
   ]
  }
 ],
 "metadata": {
  "kernelspec": {
   "display_name": ".venv",
   "language": "python",
   "name": "python3"
  },
  "language_info": {
   "codemirror_mode": {
    "name": "ipython",
    "version": 3
   },
   "file_extension": ".py",
   "mimetype": "text/x-python",
   "name": "python",
   "nbconvert_exporter": "python",
   "pygments_lexer": "ipython3",
   "version": "3.13.5"
  }
 },
 "nbformat": 4,
 "nbformat_minor": 5
}
