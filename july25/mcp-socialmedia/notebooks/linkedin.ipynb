{
 "cells": [
  {
   "cell_type": "code",
   "execution_count": 1,
   "id": "68b7628f",
   "metadata": {},
   "outputs": [
    {
     "data": {
      "text/plain": [
       "True"
      ]
     },
     "execution_count": 1,
     "metadata": {},
     "output_type": "execute_result"
    }
   ],
   "source": [
    "from dotenv import load_dotenv\n",
    "load_dotenv(\"./.env\")"
   ]
  },
  {
   "cell_type": "code",
   "execution_count": 2,
   "id": "ca5e5eaa",
   "metadata": {},
   "outputs": [],
   "source": [
    "import os, sys\n",
    "from linkedin_api.clients.restli.client import RestliClient\n",
    "import json"
   ]
  },
  {
   "cell_type": "code",
   "execution_count": 6,
   "id": "0a28f807",
   "metadata": {},
   "outputs": [],
   "source": [
    "access_token = os.getenv('LINKEDIN_ACCESS_TOKEN')\n"
   ]
  },
  {
   "cell_type": "code",
   "execution_count": 7,
   "id": "c1565116",
   "metadata": {},
   "outputs": [],
   "source": [
    "PROFILE_RESOURCE = \"/userinfo\""
   ]
  },
  {
   "cell_type": "code",
   "execution_count": 5,
   "id": "153d877d",
   "metadata": {},
   "outputs": [],
   "source": [
    "restli_client = RestliClient()"
   ]
  },
  {
   "cell_type": "code",
   "execution_count": 8,
   "id": "863b2a59",
   "metadata": {},
   "outputs": [],
   "source": [
    "response = restli_client.get(resource_path=PROFILE_RESOURCE, access_token=access_token)"
   ]
  },
  {
   "cell_type": "code",
   "execution_count": 9,
   "id": "37e93bd9",
   "metadata": {},
   "outputs": [
    {
     "data": {
      "text/plain": [
       "200"
      ]
     },
     "execution_count": 9,
     "metadata": {},
     "output_type": "execute_result"
    }
   ],
   "source": [
    "response.status_code"
   ]
  },
  {
   "cell_type": "code",
   "execution_count": 11,
   "id": "9f52da17",
   "metadata": {},
   "outputs": [],
   "source": [
    "UGC_POSTS_RESOURCE = \"/ugcPosts\"\n",
    "POSTS_RESOURCE = \"/posts\""
   ]
  },
  {
   "cell_type": "code",
   "execution_count": 12,
   "id": "e7b0542c",
   "metadata": {},
   "outputs": [
    {
     "name": "stdout",
     "output_type": "stream",
     "text": [
      "Successfully created post using /ugcPosts: urn:li:share:7353301665682264067\n"
     ]
    }
   ],
   "source": [
    "ugc_posts_create_response = restli_client.create(\n",
    "    resource_path=UGC_POSTS_RESOURCE,\n",
    "    entity={\n",
    "        \"author\": f\"urn:li:person:{response.entity['sub']}\",\n",
    "        \"lifecycleState\": \"PUBLISHED\",\n",
    "        \"specificContent\": {\n",
    "            \"com.linkedin.ugc.ShareContent\": {\n",
    "                \"shareCommentary\": {\n",
    "                    \"text\": \"Sample text post created with /ugcPosts API\"\n",
    "                },\n",
    "                \"shareMediaCategory\": \"NONE\",\n",
    "            }\n",
    "        },\n",
    "        \"visibility\": {\"com.linkedin.ugc.MemberNetworkVisibility\": \"PUBLIC\"},\n",
    "    },\n",
    "    access_token=access_token,\n",
    ")\n",
    "print(\n",
    "    f\"Successfully created post using /ugcPosts: {ugc_posts_create_response.entity_id}\"\n",
    ")"
   ]
  }
 ],
 "metadata": {
  "kernelspec": {
   "display_name": ".venv",
   "language": "python",
   "name": "python3"
  },
  "language_info": {
   "codemirror_mode": {
    "name": "ipython",
    "version": 3
   },
   "file_extension": ".py",
   "mimetype": "text/x-python",
   "name": "python",
   "nbconvert_exporter": "python",
   "pygments_lexer": "ipython3",
   "version": "3.13.5"
  }
 },
 "nbformat": 4,
 "nbformat_minor": 5
}
