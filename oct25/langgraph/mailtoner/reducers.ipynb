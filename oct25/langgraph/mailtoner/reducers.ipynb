{
 "cells": [
  {
   "cell_type": "code",
   "execution_count": 1,
   "id": "a15581e1",
   "metadata": {},
   "outputs": [],
   "source": [
    "import operator\n",
    "from functools import reduce"
   ]
  },
  {
   "cell_type": "code",
   "execution_count": 2,
   "id": "98c3e340",
   "metadata": {},
   "outputs": [
    {
     "name": "stdout",
     "output_type": "stream",
     "text": [
      "15\n"
     ]
    }
   ],
   "source": [
    "numbers = [1,2,3,4,5]\n",
    "\n",
    "result = reduce(operator.add, numbers)\n",
    "print(result)"
   ]
  },
  {
   "cell_type": "code",
   "execution_count": 3,
   "id": "2778eb61",
   "metadata": {},
   "outputs": [],
   "source": [
    "def product(a,b):\n",
    "    return a * b"
   ]
  },
  {
   "cell_type": "code",
   "execution_count": 4,
   "id": "815418f9",
   "metadata": {},
   "outputs": [
    {
     "name": "stdout",
     "output_type": "stream",
     "text": [
      "120\n"
     ]
    }
   ],
   "source": [
    "result = reduce(product, numbers)\n",
    "print(result)"
   ]
  },
  {
   "cell_type": "code",
   "execution_count": 5,
   "id": "d1f21f80",
   "metadata": {},
   "outputs": [],
   "source": [
    "def merge(a: list|int|str, b: list|int|str ):\n",
    "    return a + b"
   ]
  },
  {
   "cell_type": "code",
   "execution_count": 6,
   "id": "db5c917c",
   "metadata": {},
   "outputs": [
    {
     "data": {
      "text/plain": [
       "[1, 2, 3, 4, 5, 6]"
      ]
     },
     "execution_count": 6,
     "metadata": {},
     "output_type": "execute_result"
    }
   ],
   "source": [
    "merge([1,2,3], [4,5,6])"
   ]
  },
  {
   "cell_type": "code",
   "execution_count": 7,
   "id": "5fda7d47",
   "metadata": {},
   "outputs": [
    {
     "data": {
      "text/plain": [
       "'helloworld'"
      ]
     },
     "execution_count": 7,
     "metadata": {},
     "output_type": "execute_result"
    }
   ],
   "source": [
    "merge(\"hello\", \"world\")"
   ]
  },
  {
   "cell_type": "code",
   "execution_count": 9,
   "id": "9fada7b8",
   "metadata": {},
   "outputs": [
    {
     "name": "stdout",
     "output_type": "stream",
     "text": [
      "15\n"
     ]
    }
   ],
   "source": [
    "result = reduce(merge, numbers)\n",
    "print(result)"
   ]
  },
  {
   "cell_type": "code",
   "execution_count": 10,
   "id": "dffdca8d",
   "metadata": {},
   "outputs": [
    {
     "name": "stdout",
     "output_type": "stream",
     "text": [
      "[1, 2, 3, 4, 5, 6]\n"
     ]
    }
   ],
   "source": [
    "items = [[1,2],[3,4],[5,6]]\n",
    "result = reduce(merge, items)\n",
    "print(result)"
   ]
  },
  {
   "cell_type": "code",
   "execution_count": 11,
   "id": "ca36967f",
   "metadata": {},
   "outputs": [],
   "source": [
    "# lets implement a reducer which will remove duplicate items after merge\n",
    "\n",
    "def merge(a: list, b: list ) -> list:\n",
    "    return list(set(a + b))"
   ]
  },
  {
   "cell_type": "code",
   "execution_count": 12,
   "id": "7b7125a2",
   "metadata": {},
   "outputs": [
    {
     "name": "stdout",
     "output_type": "stream",
     "text": [
      "[1, 2, 3, 4, 5, 6]\n"
     ]
    }
   ],
   "source": [
    "items = [[1,2],[3,4],[5,6]]\n",
    "result = reduce(merge, items)\n",
    "print(result)"
   ]
  },
  {
   "cell_type": "code",
   "execution_count": 13,
   "id": "a7ff9c0e",
   "metadata": {},
   "outputs": [
    {
     "name": "stdout",
     "output_type": "stream",
     "text": [
      "[1, 2, 3, 4, 5, 6, 7]\n"
     ]
    }
   ],
   "source": [
    "items = [[1,2,3],[3,4,5],[5,6,7]]\n",
    "result = reduce(merge, items)\n",
    "print(result)"
   ]
  },
  {
   "cell_type": "code",
   "execution_count": 24,
   "id": "81147d0a",
   "metadata": {},
   "outputs": [],
   "source": [
    "a = {'name': 'test'}\n",
    "b = {'age': 10}\n",
    "c = {'name': 'testing'}\n"
   ]
  },
  {
   "cell_type": "code",
   "execution_count": 25,
   "id": "ec86b913",
   "metadata": {},
   "outputs": [
    {
     "name": "stdout",
     "output_type": "stream",
     "text": [
      "{'name': 'test', 'age': 10}\n"
     ]
    }
   ],
   "source": [
    "a.update(b)\n",
    "print(a)"
   ]
  },
  {
   "cell_type": "code",
   "execution_count": 26,
   "id": "0c2bc927",
   "metadata": {},
   "outputs": [
    {
     "name": "stdout",
     "output_type": "stream",
     "text": [
      "{'name': 'test', 'age': 10}\n",
      "{'name': 'testing', 'age': 10}\n"
     ]
    }
   ],
   "source": [
    "print(a)\n",
    "a.update(c)\n",
    "print(a)"
   ]
  },
  {
   "cell_type": "code",
   "execution_count": 36,
   "id": "aaa41334",
   "metadata": {},
   "outputs": [],
   "source": [
    "def merge(a: dict, b:dict) -> dict:\n",
    "    a.update(b)\n",
    "    return a"
   ]
  },
  {
   "cell_type": "code",
   "execution_count": 39,
   "id": "26d7409f",
   "metadata": {},
   "outputs": [],
   "source": [
    "def make_empty(a, b) -> dict:\n",
    "    return {}"
   ]
  },
  {
   "cell_type": "code",
   "execution_count": 37,
   "id": "3cb70a9a",
   "metadata": {},
   "outputs": [],
   "source": [
    "items = [\n",
    "    {\n",
    "        'name': 'test',\n",
    "        'age': 10\n",
    "    },\n",
    "    {\n",
    "        'city': 'Hyderabad'\n",
    "    },\n",
    "    {\n",
    "        'name': 'qt'\n",
    "    }\n",
    "]"
   ]
  },
  {
   "cell_type": "code",
   "execution_count": 38,
   "id": "bb0a3b4c",
   "metadata": {},
   "outputs": [
    {
     "data": {
      "text/plain": [
       "{'name': 'qt', 'age': 10, 'city': 'Hyderabad'}"
      ]
     },
     "execution_count": 38,
     "metadata": {},
     "output_type": "execute_result"
    }
   ],
   "source": [
    "reduce(merge, items)"
   ]
  },
  {
   "cell_type": "code",
   "execution_count": 40,
   "id": "60eae2ae",
   "metadata": {},
   "outputs": [
    {
     "data": {
      "text/plain": [
       "{}"
      ]
     },
     "execution_count": 40,
     "metadata": {},
     "output_type": "execute_result"
    }
   ],
   "source": [
    "reduce(make_empty, items)"
   ]
  },
  {
   "cell_type": "code",
   "execution_count": 41,
   "id": "44cb5f10",
   "metadata": {},
   "outputs": [],
   "source": [
    "def merge(a: dict, b:dict) -> dict:\n",
    "    a.update(b)\n",
    "    return a"
   ]
  },
  {
   "cell_type": "code",
   "execution_count": 42,
   "id": "b4b93bc8",
   "metadata": {},
   "outputs": [],
   "source": [
    "items = [\n",
    "    {\n",
    "        'name': 'test',\n",
    "    },\n",
    "    {\n",
    "        'city': 'Hyderabad'\n",
    "    },\n",
    "    {\n",
    "        'age': 10\n",
    "    }\n",
    "]"
   ]
  },
  {
   "cell_type": "code",
   "execution_count": 43,
   "id": "8dcfe5b0",
   "metadata": {},
   "outputs": [
    {
     "data": {
      "text/plain": [
       "{'name': 'test', 'city': 'Hyderabad', 'age': 10}"
      ]
     },
     "execution_count": 43,
     "metadata": {},
     "output_type": "execute_result"
    }
   ],
   "source": [
    "reduce(merge, items)"
   ]
  },
  {
   "cell_type": "code",
   "execution_count": 44,
   "id": "1afd8260",
   "metadata": {},
   "outputs": [],
   "source": [
    "items = [\n",
    "    {\n",
    "        'name': 'test',\n",
    "    },\n",
    "    {\n",
    "        'city': 'Hyderabad'\n",
    "    },\n",
    "    {\n",
    "        'age': 10,\n",
    "        'name': 'qt'\n",
    "    }\n",
    "]"
   ]
  },
  {
   "cell_type": "code",
   "execution_count": 45,
   "id": "88ec91d9",
   "metadata": {},
   "outputs": [
    {
     "data": {
      "text/plain": [
       "{'name': 'qt', 'city': 'Hyderabad', 'age': 10}"
      ]
     },
     "execution_count": 45,
     "metadata": {},
     "output_type": "execute_result"
    }
   ],
   "source": [
    "reduce(merge, items)"
   ]
  },
  {
   "cell_type": "code",
   "execution_count": null,
   "id": "5266341f",
   "metadata": {},
   "outputs": [],
   "source": [
    "from langgraph.graph import StateGraph, START, END, MessagesState"
   ]
  },
  {
   "cell_type": "code",
   "execution_count": 49,
   "id": "e5f136f8",
   "metadata": {},
   "outputs": [],
   "source": [
    "from typing import Annotated, TypedDict\n",
    "from operator import add"
   ]
  },
  {
   "cell_type": "code",
   "execution_count": null,
   "id": "4d129782",
   "metadata": {},
   "outputs": [],
   "source": [
    "class MathState(TypedDict, total=False):\n",
    "    a: int\n",
    "    b: int\n",
    "    result:Annotated[list[int], add] # result data type & its reducer"
   ]
  },
  {
   "cell_type": "code",
   "execution_count": 55,
   "id": "7447e56a",
   "metadata": {},
   "outputs": [],
   "source": [
    "def add(state: MathState):\n",
    "    return {'result': [state['a'] + state['b']] }\n",
    "\n",
    "def sub(state: MathState):\n",
    "    return {'result': [state['a'] - state['b']] }"
   ]
  },
  {
   "cell_type": "code",
   "execution_count": 56,
   "id": "8a4d6e85",
   "metadata": {},
   "outputs": [],
   "source": [
    "my_math_graph = StateGraph(MathState)\n",
    "my_math_graph.add_node(\"sum\", add)\n",
    "my_math_graph.add_node(\"diff\", sub)\n",
    "my_math_graph.add_edge(START, \"sum\")\n",
    "my_math_graph.add_edge(START, \"diff\")\n",
    "my_math_graph.add_edge(\"sum\", END)\n",
    "my_math_graph.add_edge(\"diff\", END)\n",
    "graph = my_math_graph.compile()"
   ]
  },
  {
   "cell_type": "code",
   "execution_count": 57,
   "id": "5e2fe4bd",
   "metadata": {},
   "outputs": [
    {
     "data": {
      "image/png": "[encoded data removed]",
      "text/plain": [
       "<IPython.core.display.Image object>"
      ]
     },
     "metadata": {},
     "output_type": "display_data"
    }
   ],
   "source": [
    "from utils import draw_graph\n",
    "draw_graph(graph)"
   ]
  },
  {
   "cell_type": "code",
   "execution_count": 58,
   "id": "88ede152",
   "metadata": {},
   "outputs": [],
   "source": [
    "result = graph.invoke({'a': 10, 'b': 3})"
   ]
  },
  {
   "cell_type": "code",
   "execution_count": 59,
   "id": "d4eb2740",
   "metadata": {},
   "outputs": [
    {
     "data": {
      "text/plain": [
       "{'a': 10, 'b': 3, 'result': [7, 13]}"
      ]
     },
     "execution_count": 59,
     "metadata": {},
     "output_type": "execute_result"
    }
   ],
   "source": [
    "result"
   ]
  },
  {
   "cell_type": "code",
   "execution_count": null,
   "id": "884d90f9",
   "metadata": {},
   "outputs": [],
   "source": [
    "def my_reducer(a, b):\n",
    "    return b"
   ]
  }
 ],
 "metadata": {
  "kernelspec": {
   "display_name": "mailtoner",
   "language": "python",
   "name": "python3"
  },
  "language_info": {
   "codemirror_mode": {
    "name": "ipython",
    "version": 3
   },
   "file_extension": ".py",
   "mimetype": "text/x-python",
   "name": "python",
   "nbconvert_exporter": "python",
   "pygments_lexer": "ipython3",
   "version": "3.13.5"
  }
 },
 "nbformat": 4,
 "nbformat_minor": 5
}
