{
 "cells": [
  {
   "cell_type": "code",
   "execution_count": 4,
   "id": "b9d9f093",
   "metadata": {},
   "outputs": [],
   "source": [
    "from dotenv import load_dotenv"
   ]
  },
  {
   "cell_type": "code",
   "execution_count": 5,
   "id": "535c0ba5",
   "metadata": {},
   "outputs": [
    {
     "data": {
      "text/plain": [
       "True"
      ]
     },
     "execution_count": 5,
     "metadata": {},
     "output_type": "execute_result"
    }
   ],
   "source": [
    "load_dotenv()"
   ]
  },
  {
   "cell_type": "code",
   "execution_count": 6,
   "id": "c0641613",
   "metadata": {},
   "outputs": [],
   "source": [
    "## interacting with llms\n",
    "import os\n",
    "from langchain.chat_models import init_chat_model\n",
    "\n",
    "model_name = os.getenv('MODEL_NAME')\n",
    "model_provider = os.getenv('MODEL_PROVIDER')\n"
   ]
  },
  {
   "cell_type": "code",
   "execution_count": 7,
   "id": "17f3d12d",
   "metadata": {},
   "outputs": [],
   "source": [
    "llm = init_chat_model(model=model_name, model_provider=model_provider)"
   ]
  },
  {
   "cell_type": "code",
   "execution_count": 8,
   "id": "3151c419",
   "metadata": {},
   "outputs": [
    {
     "data": {
      "text/plain": [
       "AIMessage(content='The capital of France is **Paris**.', additional_kwargs={}, response_metadata={'is_blocked': False, 'safety_ratings': [], 'usage_metadata': {'prompt_token_count': 6, 'candidates_token_count': 8, 'total_token_count': 14, 'prompt_tokens_details': [{'modality': 1, 'token_count': 6}], 'candidates_tokens_details': [{'modality': 1, 'token_count': 8}], 'thoughts_token_count': 0, 'cached_content_token_count': 0, 'cache_tokens_details': []}, 'finish_reason': 'STOP', 'avg_logprobs': -0.004736664704978466, 'model_provider': 'google_vertexai', 'model_name': 'gemini-2.5-flash-lite'}, id='lc_run--b1a4c5a1-23d8-4adc-b227-24f24cf4f25e-0', usage_metadata={'input_tokens': 6, 'output_tokens': 8, 'total_tokens': 14, 'input_token_details': {'cache_read': 0}})"
      ]
     },
     "execution_count": 8,
     "metadata": {},
     "output_type": "execute_result"
    }
   ],
   "source": [
    "llm.invoke(\"What is capital of France?\")"
   ]
  },
  {
   "cell_type": "code",
   "execution_count": 9,
   "id": "9bc55c60",
   "metadata": {},
   "outputs": [],
   "source": [
    "## Messages\n",
    "from langchain_core.messages import HumanMessage, SystemMessage, AIMessage\n",
    "\n",
    "messages = [\n",
    "    SystemMessage(\"You are expert in math\"),\n",
    "    HumanMessage(\"How to find a lowest point in calculus ?\")\n",
    "]"
   ]
  },
  {
   "cell_type": "code",
   "execution_count": 10,
   "id": "5ddcbdd4",
   "metadata": {},
   "outputs": [],
   "source": [
    "response = llm.invoke(messages)"
   ]
  },
  {
   "cell_type": "code",
   "execution_count": 11,
   "id": "fef175be",
   "metadata": {},
   "outputs": [
    {
     "data": {
      "text/plain": [
       "langchain_core.messages.ai.AIMessage"
      ]
     },
     "execution_count": 11,
     "metadata": {},
     "output_type": "execute_result"
    }
   ],
   "source": [
    "type(response)"
   ]
  },
  {
   "cell_type": "code",
   "execution_count": 12,
   "id": "2afd0d4f",
   "metadata": {},
   "outputs": [
    {
     "name": "stdout",
     "output_type": "stream",
     "text": [
      "In calculus, finding the lowest point of a function is a crucial task, and it's typically done by analyzing the **critical points** of the function and its **behavior**. Here's a breakdown of the process:\n",
      "\n",
      "**1. Understanding the Concept: Local vs. Global Minima**\n",
      "\n",
      "Before diving into methods, it's important to distinguish between:\n",
      "\n",
      "*   **Local Minimum (or Relative Minimum):** A point where the function's value is lower than at all *nearby* points. Imagine a valley in a hilly landscape.\n",
      "*   **Global Minimum (or Absolute Minimum):** The absolute lowest value the function can take over its entire domain. This is the deepest point in the entire landscape.\n",
      "\n",
      "**2. The Power of the Derivative**\n",
      "\n",
      "The first derivative of a function, $f'(x)$, tells us about the **slope** of the tangent line to the function at any given point.\n",
      "\n",
      "*   **Where the slope is zero ($f'(x) = 0$):** This indicates a horizontal tangent line. These are potential locations for local minima or maxima.\n",
      "*   **Where the slope is undefined ($f'(x)$ is undefined):** These are also critical points where a local extremum might occur. This can happen at sharp corners or vertical tangents.\n",
      "\n",
      "**3. Finding Critical Points**\n",
      "\n",
      "Critical points are the candidates for local minima and maxima. You find them by:\n",
      "\n",
      "*   **Step 1: Find the first derivative ($f'(x)$).**\n",
      "*   **Step 2: Set the first derivative equal to zero ($f'(x) = 0$) and solve for $x$.** The solutions are critical numbers.\n",
      "*   **Step 3: Find where the first derivative is undefined.** Again, the $x$-values where this occurs are critical numbers.\n",
      "\n",
      "**4. Determining if a Critical Point is a Minimum (Local or Global)**\n",
      "\n",
      "Once you have your critical points, you need to determine if they correspond to a minimum and what *kind* of minimum. There are two primary tests for this:\n",
      "\n",
      "**a) The First Derivative Test**\n",
      "\n",
      "This test examines the behavior of the derivative *around* a critical point.\n",
      "\n",
      "*   **How it works:**\n",
      "    1.  Choose a critical number, $c$.\n",
      "    2.  Pick a test value, $x_1$, slightly *less than* $c$. Calculate $f'(x_1)$.\n",
      "    3.  Pick a test value, $x_2$, slightly *greater than* $c$. Calculate $f'(x_2)$.\n",
      "    4.  **Analysis:**\n",
      "        *   If $f'(x_1) < 0$ (function is decreasing) and $f'(x_2) > 0$ (function is increasing), then $f(c)$ is a **local minimum**.\n",
      "        *   If $f'(x_1) > 0$ (function is increasing) and $f'(x_2) < 0$ (function is decreasing), then $f(c)$ is a **local maximum**.\n",
      "        *   If the sign of $f'(x)$ doesn't change around $c$ (both positive or both negative), then $f(c)$ is neither a local minimum nor a local maximum (it might be an inflection point).\n",
      "\n",
      "**b) The Second Derivative Test**\n",
      "\n",
      "This test uses the concavity of the function at the critical point. It's often quicker than the first derivative test if the second derivative is easy to compute.\n",
      "\n",
      "*   **How it works:**\n",
      "    1.  Find the second derivative, $f''(x)$.\n",
      "    2.  For each critical number $c$ where $f'(c) = 0$:\n",
      "        *   If $f''(c) > 0$, then $f(c)$ is a **local minimum**. (The function is concave up, like a smile).\n",
      "        *   If $f''(c) < 0$, then $f(c)$ is a **local maximum**. (The function is concave down, like a frown).\n",
      "        *   If $f''(c) = 0$, the test is **inconclusive**. You must use the first derivative test in this case.\n",
      "\n",
      "**5. Finding the Global Minimum**\n",
      "\n",
      "Finding the global minimum requires a bit more consideration.\n",
      "\n",
      "*   **For functions defined on a closed interval [a, b]:**\n",
      "    1.  Find all critical points within the interval (a, b).\n",
      "    2.  Evaluate the function at these critical points.\n",
      "    3.  Evaluate the function at the endpoints of the interval, $f(a)$ and $f(b)$.\n",
      "    4.  The smallest of all these values is the **global minimum**.\n",
      "\n",
      "*   **For functions defined on an open interval or the entire real line:**\n",
      "    1.  Find all local minima using the tests above.\n",
      "    2.  Analyze the **end behavior** of the function as $x$ approaches positive and negative infinity.\n",
      "        *   If the function approaches infinity at both ends, and there's a single local minimum, that local minimum is likely the global minimum.\n",
      "        *   If the function approaches a specific value or negative infinity at one or both ends, you need to compare the function values at the local minima with the limiting values. If the function approaches negative infinity, there might not be a global minimum.\n",
      "\n",
      "**Summary of Steps to Find the Lowest Point (Global Minimum):**\n",
      "\n",
      "1.  **Find the domain of the function.**\n",
      "2.  **Find the first derivative ($f'(x)$).**\n",
      "3.  **Find the critical points:**\n",
      "    *   Set $f'(x) = 0$ and solve for $x$.\n",
      "    *   Find $x$ where $f'(x)$ is undefined.\n",
      "4.  **If the domain is a closed interval [a, b]:**\n",
      "    *   Evaluate $f(x)$ at all critical points within (a, b).\n",
      "    *   Evaluate $f(x)$ at the endpoints $a$ and $b$.\n",
      "    *   The smallest of these values is the global minimum.\n",
      "5.  **If the domain is an open interval or the entire real line:**\n",
      "    *   Use the First or Second Derivative Test to identify any local minima.\n",
      "    *   Analyze the end behavior of the function (limits as $x \\to \\infty$ and $x \\to -\\infty$).\n",
      "    *   Compare the function values at the local minima with the limiting behavior to determine the global minimum. If the function approaches $-\\infty$, there might not be a global minimum.\n",
      "\n",
      "**Example:** Find the lowest point of $f(x) = x^3 - 6x^2 + 5$.\n",
      "\n",
      "1.  **Domain:** All real numbers.\n",
      "2.  **First Derivative:** $f'(x) = 3x^2 - 12x$.\n",
      "3.  **Critical Points:**\n",
      "    *   $f'(x) = 0 \\implies 3x^2 - 12x = 0 \\implies 3x(x - 4) = 0 \\implies x = 0$ or $x = 4$.\n",
      "    *   $f'(x)$ is defined everywhere.\n",
      "    Critical points are $x = 0$ and $x = 4$.\n",
      "\n",
      "4.  **Second Derivative Test:**\n",
      "    *   **Second Derivative:** $f''(x) = 6x - 12$.\n",
      "    *   **At $x = 0$:** $f''(0) = 6(0) - 12 = -12 < 0$. This is a local maximum.\n",
      "    *   **At $x = 4$:** $f''(4) = 6(4) - 12 = 24 - 12 = 12 > 0$. This is a local minimum.\n",
      "\n",
      "5.  **End Behavior:**\n",
      "    *   As $x \\to \\infty$, $f(x) = x^3 - 6x^2 + 5 \\to \\infty$.\n",
      "    *   As $x \\to -\\infty$, $f(x) = x^3 - 6x^2 + 5 \\to -\\infty$.\n",
      "\n",
      "Since the function goes to $-\\infty$ as $x \\to -\\infty$, there is **no global minimum** for this function. However, $f(4)$ is a **local minimum**.\n",
      "\n",
      "**Key Takeaways:**\n",
      "\n",
      "*   The derivative is your primary tool.\n",
      "*   Critical points are where the \"action\" happens.\n",
      "*   The First and Second Derivative Tests help classify critical points.\n",
      "*   End behavior is crucial for determining global extrema, especially on open intervals.\n",
      "\n",
      "Practice with different types of functions and intervals will solidify your understanding!\n"
     ]
    }
   ],
   "source": [
    "print(response.content)"
   ]
  },
  {
   "cell_type": "code",
   "execution_count": 13,
   "id": "055d85fa",
   "metadata": {},
   "outputs": [],
   "source": [
    "from langchain_core.prompts import PromptTemplate, ChatPromptTemplate"
   ]
  },
  {
   "cell_type": "code",
   "execution_count": 14,
   "id": "5ccaba21",
   "metadata": {},
   "outputs": [],
   "source": [
    "prompt = PromptTemplate.from_template(\"You are expert in {area}. Explain in 3 sentences what is {topic}\")"
   ]
  },
  {
   "cell_type": "code",
   "execution_count": 15,
   "id": "1aba65c6",
   "metadata": {},
   "outputs": [
    {
     "data": {
      "text/plain": [
       "StringPromptValue(text='You are expert in physics. Explain in 3 sentences what is inertia')"
      ]
     },
     "execution_count": 15,
     "metadata": {},
     "output_type": "execute_result"
    }
   ],
   "source": [
    "prompt.invoke({'area': 'physics', 'topic': 'inertia'})"
   ]
  },
  {
   "cell_type": "code",
   "execution_count": 16,
   "id": "0074d932",
   "metadata": {},
   "outputs": [],
   "source": [
    "chain = prompt | llm"
   ]
  },
  {
   "cell_type": "code",
   "execution_count": 17,
   "id": "11afb2d6",
   "metadata": {},
   "outputs": [],
   "source": [
    "response = chain.invoke({'area': 'physics', 'topic': 'inertia'})"
   ]
  },
  {
   "cell_type": "code",
   "execution_count": 19,
   "id": "9bb4c1b5",
   "metadata": {},
   "outputs": [
    {
     "name": "stdout",
     "output_type": "stream",
     "text": [
      "==================================\u001b[1m Ai Message \u001b[0m==================================\n",
      "\n",
      "Inertia is the inherent property of all matter that resists changes in its state of motion. This means an object at rest will stay at rest, and an object in motion will continue in motion with the same speed and in the same direction, unless acted upon by an external force. The greater an object's mass, the more inertia it possesses, and thus the more difficult it is to alter its motion.\n"
     ]
    }
   ],
   "source": [
    "response.pretty_print()"
   ]
  },
  {
   "cell_type": "code",
   "execution_count": 20,
   "id": "ddf77474",
   "metadata": {},
   "outputs": [],
   "source": [
    "prompt = ChatPromptTemplate([\n",
    "    (\"system\", \"you are expert in {area}. Explain the question asked in plain english\"),\n",
    "    (\"user\", \"What is {topic}.\")\n",
    "])"
   ]
  },
  {
   "cell_type": "code",
   "execution_count": 21,
   "id": "8c06f8cc",
   "metadata": {},
   "outputs": [],
   "source": [
    "chain = prompt | llm"
   ]
  },
  {
   "cell_type": "code",
   "execution_count": 22,
   "id": "d6db29cf",
   "metadata": {},
   "outputs": [],
   "source": [
    "response = chain.invoke({'area': 'maths', 'topic': 'trignometry'})"
   ]
  },
  {
   "cell_type": "code",
   "execution_count": 23,
   "id": "42ce8225",
   "metadata": {},
   "outputs": [
    {
     "name": "stdout",
     "output_type": "stream",
     "text": [
      "==================================\u001b[1m Ai Message \u001b[0m==================================\n",
      "\n",
      "Trigonometry is a branch of mathematics that studies the relationships between the sides and angles of triangles.\n",
      "\n",
      "Think of it like this:\n",
      "\n",
      "*   **Triangles are everywhere!** From the shape of a roof to the way a ladder leans against a wall, triangles are fundamental shapes in the world around us.\n",
      "*   **Trigonometry helps us measure things we can't easily reach.** Imagine trying to find the height of a tall tree or the distance across a river. You can't just use a ruler! Trigonometry provides the tools to calculate these distances and heights indirectly by measuring angles and known lengths.\n",
      "\n",
      "**The core idea is this:**\n",
      "\n",
      "If you know some of the angles and some of the side lengths of a triangle, you can use trigonometry to figure out the rest of the unknown angles and side lengths.\n",
      "\n",
      "**It's all about specific \"trig\" functions:**\n",
      "\n",
      "Trigonometry is built around a few special functions (like sine, cosine, and tangent) that connect the angles of a triangle to the ratios of its sides. These functions act like special keys that unlock the secrets of triangle measurements.\n",
      "\n",
      "**In simpler terms:**\n",
      "\n",
      "Trigonometry is the math of **\"triangle measuring.\"** It uses the relationships between angles and sides to help us solve problems involving distances, heights, and angles, especially in situations where direct measurement is difficult or impossible.\n"
     ]
    }
   ],
   "source": [
    "response.pretty_print()"
   ]
  }
 ],
 "metadata": {
  "kernelspec": {
   "display_name": "mailtoner",
   "language": "python",
   "name": "python3"
  },
  "language_info": {
   "codemirror_mode": {
    "name": "ipython",
    "version": 3
   },
   "file_extension": ".py",
   "mimetype": "text/x-python",
   "name": "python",
   "nbconvert_exporter": "python",
   "pygments_lexer": "ipython3",
   "version": "3.13.5"
  }
 },
 "nbformat": 4,
 "nbformat_minor": 5
}
