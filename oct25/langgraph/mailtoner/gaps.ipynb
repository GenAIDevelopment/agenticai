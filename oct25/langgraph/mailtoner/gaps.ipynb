{
 "cells": [
  {
   "cell_type": "code",
   "execution_count": 1,
   "id": "b9d9f093",
   "metadata": {},
   "outputs": [],
   "source": [
    "from dotenv import load_dotenv"
   ]
  },
  {
   "cell_type": "code",
   "execution_count": 3,
   "id": "535c0ba5",
   "metadata": {},
   "outputs": [
    {
     "data": {
      "text/plain": [
       "True"
      ]
     },
     "execution_count": 3,
     "metadata": {},
     "output_type": "execute_result"
    }
   ],
   "source": [
    "load_dotenv()"
   ]
  },
  {
   "cell_type": "code",
   "execution_count": 4,
   "id": "c0641613",
   "metadata": {},
   "outputs": [],
   "source": [
    "## interacting with llms\n",
    "import os\n",
    "from langchain.chat_models import init_chat_model\n",
    "\n",
    "model_name = os.getenv('MODEL_NAME')\n",
    "model_provider = os.getenv('MODEL_PROVIDER')\n"
   ]
  },
  {
   "cell_type": "code",
   "execution_count": 5,
   "id": "17f3d12d",
   "metadata": {},
   "outputs": [],
   "source": [
    "llm = init_chat_model(model=model_name, model_provider=model_provider)"
   ]
  },
  {
   "cell_type": "code",
   "execution_count": 6,
   "id": "3151c419",
   "metadata": {},
   "outputs": [
    {
     "data": {
      "text/plain": [
       "AIMessage(content='The capital of France is **Paris**.', additional_kwargs={}, response_metadata={'is_blocked': False, 'safety_ratings': [], 'usage_metadata': {'prompt_token_count': 6, 'candidates_token_count': 8, 'total_token_count': 14, 'prompt_tokens_details': [{'modality': 1, 'token_count': 6}], 'candidates_tokens_details': [{'modality': 1, 'token_count': 8}], 'thoughts_token_count': 0, 'cached_content_token_count': 0, 'cache_tokens_details': []}, 'finish_reason': 'STOP', 'avg_logprobs': -0.004736664704978466, 'model_provider': 'google_vertexai', 'model_name': 'gemini-2.5-flash-lite'}, id='lc_run--7e516984-fca3-471c-957c-24539944f627-0', usage_metadata={'input_tokens': 6, 'output_tokens': 8, 'total_tokens': 14, 'input_token_details': {'cache_read': 0}})"
      ]
     },
     "execution_count": 6,
     "metadata": {},
     "output_type": "execute_result"
    }
   ],
   "source": [
    "llm.invoke(\"What is capital of France?\")"
   ]
  },
  {
   "cell_type": "code",
   "execution_count": 7,
   "id": "9bc55c60",
   "metadata": {},
   "outputs": [],
   "source": [
    "## Messages\n",
    "from langchain_core.messages import HumanMessage, SystemMessage, AIMessage\n",
    "\n",
    "messages = [\n",
    "    SystemMessage(\"You are expert in math\"),\n",
    "    HumanMessage(\"How to find a lowest point in calculus ?\")\n",
    "]"
   ]
  },
  {
   "cell_type": "code",
   "execution_count": 9,
   "id": "5ddcbdd4",
   "metadata": {},
   "outputs": [],
   "source": [
    "response = llm.invoke(messages)"
   ]
  },
  {
   "cell_type": "code",
   "execution_count": 10,
   "id": "fef175be",
   "metadata": {},
   "outputs": [
    {
     "data": {
      "text/plain": [
       "langchain_core.messages.ai.AIMessage"
      ]
     },
     "execution_count": 10,
     "metadata": {},
     "output_type": "execute_result"
    }
   ],
   "source": [
    "type(response)"
   ]
  },
  {
   "cell_type": "code",
   "execution_count": 12,
   "id": "2afd0d4f",
   "metadata": {},
   "outputs": [
    {
     "name": "stdout",
     "output_type": "stream",
     "text": [
      "In calculus, finding the lowest point of a function is often referred to as finding a **global minimum** or a **local minimum**. The approach depends on whether you're looking for the absolute lowest value the function can take over its entire domain or the lowest value within a specific interval.\n",
      "\n",
      "Here's a breakdown of how to find the lowest point using calculus:\n",
      "\n",
      "## 1. Finding Local Minima\n",
      "\n",
      "Local minima are points where the function's value is lower than at all surrounding points, but not necessarily the absolute lowest value of the function.\n",
      "\n",
      "**The First Derivative Test:**\n",
      "\n",
      "This is the most common method to find local minima. It relies on the fact that the slope of the tangent line (the derivative) at a local minimum is zero or undefined.\n",
      "\n",
      "*   **Step 1: Find the derivative of the function.**\n",
      "    Let $f(x)$ be your function. Calculate its first derivative, denoted as $f'(x)$.\n",
      "\n",
      "*   **Step 2: Find the critical points.**\n",
      "    Critical points are the x-values where the first derivative is either equal to zero ($f'(x) = 0$) or where the derivative is undefined. These are the potential locations of local minima and maxima.\n",
      "    *   Solve $f'(x) = 0$.\n",
      "    *   Identify any x-values where $f'(x)$ is undefined (e.g., due to division by zero or square roots of negative numbers).\n",
      "\n",
      "*   **Step 3: Use the First Derivative Test to classify critical points.**\n",
      "    For each critical point $c$:\n",
      "    *   **Choose a test value to the left of $c$** (let's call it $x_1$, so $x_1 < c$). Evaluate $f'(x_1)$.\n",
      "        *   If $f'(x_1) > 0$, the function is increasing to the left of $c$.\n",
      "        *   If $f'(x_1) < 0$, the function is decreasing to the left of $c$.\n",
      "    *   **Choose a test value to the right of $c$** (let's call it $x_2$, so $x_2 > c$). Evaluate $f'(x_2)$.\n",
      "        *   If $f'(x_2) > 0$, the function is increasing to the right of $c$.\n",
      "        *   If $f'(x_2) < 0$, the function is decreasing to the right of $c$.\n",
      "\n",
      "    **Classification:**\n",
      "    *   **Local Minimum:** If $f'(x)$ changes from **negative** to **positive** at $c$ (i.e., the function changes from decreasing to increasing), then $f(c)$ is a local minimum.\n",
      "    *   **Local Maximum:** If $f'(x)$ changes from **positive** to **negative** at $c$ (i.e., the function changes from increasing to decreasing), then $f(c)$ is a local maximum.\n",
      "    *   **Neither:** If $f'(x)$ does not change sign at $c$, then $c$ is neither a local minimum nor a local maximum.\n",
      "\n",
      "**The Second Derivative Test:**\n",
      "\n",
      "This test can be quicker if the second derivative is easy to compute.\n",
      "\n",
      "*   **Step 1: Find the first and second derivatives of the function.**\n",
      "    Calculate $f'(x)$ and $f''(x)$.\n",
      "\n",
      "*   **Step 2: Find the critical points.**\n",
      "    As before, find the x-values where $f'(x) = 0$ or $f'(x)$ is undefined.\n",
      "\n",
      "*   **Step 3: Use the Second Derivative Test to classify critical points.**\n",
      "    For each critical point $c$ where $f'(c) = 0$:\n",
      "    *   **Evaluate the second derivative at $c$, $f''(c)$.**\n",
      "        *   **Local Minimum:** If $f''(c) > 0$, then $f(c)$ is a local minimum. (The function is concave up at this point).\n",
      "        *   **Local Maximum:** If $f''(c) < 0$, then $f(c)$ is a local maximum. (The function is concave down at this point).\n",
      "        *   **Inconclusive:** If $f''(c) = 0$, the test is inconclusive. You'll need to use the First Derivative Test in this case.\n",
      "\n",
      "**Important Note:** The Second Derivative Test only applies to critical points where $f'(x) = 0$. It cannot be used for critical points where the derivative is undefined.\n",
      "\n",
      "## 2. Finding Global Minima (Absolute Minima)\n",
      "\n",
      "Global minima are the absolute lowest points of a function over its entire domain or a specified closed interval.\n",
      "\n",
      "**For Functions on a Closed Interval $[a, b]$:**\n",
      "\n",
      "This is a very common scenario in applied calculus problems.\n",
      "\n",
      "*   **Step 1: Find the critical points of the function within the open interval $(a, b)$.**\n",
      "    This involves finding where $f'(x) = 0$ or $f'(x)$ is undefined.\n",
      "\n",
      "*   **Step 2: Evaluate the function at the critical points found in Step 1.**\n",
      "\n",
      "*   **Step 3: Evaluate the function at the endpoints of the interval, $a$ and $b$.**\n",
      "\n",
      "*   **Step 4: Compare all the function values calculated in Steps 2 and 3.**\n",
      "    *   The **smallest** of these values is the global minimum, and its corresponding x-value is where the global minimum occurs.\n",
      "    *   The **largest** of these values is the global maximum.\n",
      "\n",
      "**For Functions on an Open Interval or the Entire Real Line (where the domain is not a closed interval):**\n",
      "\n",
      "This is more complex as there might not be a global minimum or maximum. You often need to consider the behavior of the function as $x$ approaches infinity and negative infinity.\n",
      "\n",
      "*   **Step 1: Find all local minima and maxima using the First or Second Derivative Test.**\n",
      "\n",
      "*   **Step 2: Analyze the end behavior of the function.**\n",
      "    *   Calculate the limits: $\\lim_{x \\to \\infty} f(x)$ and $\\lim_{x \\to -\\infty} f(x)$.\n",
      "    *   If these limits approach infinity, it suggests there might not be a global maximum.\n",
      "    *   If these limits approach negative infinity, it suggests there might not be a global minimum.\n",
      "\n",
      "*   **Step 3: Compare the values of the local minima with the end behavior.**\n",
      "    *   If a local minimum value is lower than what the function approaches at the ends of its domain, then that local minimum is also the global minimum.\n",
      "    *   If the function approaches $-\\infty$ at either end, then there is no global minimum.\n",
      "\n",
      "**Summary of Steps to Find the Lowest Point:**\n",
      "\n",
      "1.  **Understand the Domain:** Are you looking for a local minimum, a global minimum on a closed interval, or a global minimum on an open/unbounded interval?\n",
      "2.  **Find the Derivative(s):** Calculate $f'(x)$ and, if using the Second Derivative Test, $f''(x)$.\n",
      "3.  **Find Critical Points:** Determine where $f'(x) = 0$ or $f'(x)$ is undefined.\n",
      "4.  **Apply the Appropriate Test:**\n",
      "    *   **First Derivative Test:** For local minima, check the sign change of $f'(x)$ around critical points.\n",
      "    *   **Second Derivative Test:** For local minima (where $f'(x) = 0$), check the sign of $f''(x)$.\n",
      "5.  **Consider Endpoints and End Behavior:** If on a closed interval, evaluate at the endpoints. If on an unbounded interval, analyze limits as $x \\to \\pm \\infty$.\n",
      "6.  **Compare Values:** Identify the absolute smallest value among critical points and endpoints/end behavior analysis.\n",
      "\n",
      "**Example:** Find the lowest point of $f(x) = x^3 - 6x^2 + 5$ on the interval $[-1, 5]$.\n",
      "\n",
      "1.  **Domain:** Closed interval $[-1, 5]$. We're looking for the global minimum.\n",
      "2.  **Derivatives:**\n",
      "    $f'(x) = 3x^2 - 12x$\n",
      "    $f''(x) = 6x - 12$\n",
      "3.  **Critical Points:**\n",
      "    $f'(x) = 3x^2 - 12x = 0$\n",
      "    $3x(x - 4) = 0$\n",
      "    Critical points are $x = 0$ and $x = 4$. Both are within the interval $(-1, 5)$.\n",
      "4.  **Evaluate at Critical Points and Endpoints:**\n",
      "    *   $f(-1) = (-1)^3 - 6(-1)^2 + 5 = -1 - 6 + 5 = -2$\n",
      "    *   $f(0) = (0)^3 - 6(0)^2 + 5 = 0 - 0 + 5 = 5$\n",
      "    *   $f(4) = (4)^3 - 6(4)^2 + 5 = 64 - 6(16) + 5 = 64 - 96 + 5 = -27$\n",
      "    *   $f(5) = (5)^3 - 6(5)^2 + 5 = 125 - 6(25) + 5 = 125 - 150 + 5 = -20$\n",
      "5.  **Compare Values:** The values are $-2, 5, -27, -20$.\n",
      "6.  **Global Minimum:** The smallest value is $-27$. Therefore, the lowest point is at $x = 4$, and the lowest value is $-27$. The lowest point on the graph is $(4, -27)$.\n",
      "\n",
      "By following these steps, you can systematically find the lowest points of a function using calculus.\n"
     ]
    }
   ],
   "source": [
    "print(response.content)"
   ]
  }
 ],
 "metadata": {
  "kernelspec": {
   "display_name": "mailtoner",
   "language": "python",
   "name": "python3"
  },
  "language_info": {
   "codemirror_mode": {
    "name": "ipython",
    "version": 3
   },
   "file_extension": ".py",
   "mimetype": "text/x-python",
   "name": "python",
   "nbconvert_exporter": "python",
   "pygments_lexer": "ipython3",
   "version": "3.13.5"
  }
 },
 "nbformat": 4,
 "nbformat_minor": 5
}
