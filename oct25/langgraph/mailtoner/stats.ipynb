{
 "cells": [
  {
   "cell_type": "code",
   "execution_count": 2,
   "id": "190b17c6",
   "metadata": {},
   "outputs": [],
   "source": [
    "from langgraph.graph import StateGraph, START, END\n",
    "from typing import TypedDict"
   ]
  },
  {
   "cell_type": "code",
   "execution_count": 3,
   "id": "9432047d",
   "metadata": {},
   "outputs": [],
   "source": [
    "class ResultState(TypedDict):\n",
    "    value1: int\n",
    "    value2: int\n",
    "    result: int"
   ]
  },
  {
   "cell_type": "code",
   "execution_count": 4,
   "id": "98cc4196",
   "metadata": {},
   "outputs": [],
   "source": [
    "def add(state: ResultState) -> ResultState:\n",
    "    state['result'] = state['value1'] + state['value2']\n",
    "    return state\n",
    "\n",
    "def sub(state: ResultState) -> ResultState:\n",
    "    state['result'] = state['value1'] - state['value2']\n",
    "    return state"
   ]
  },
  {
   "cell_type": "code",
   "execution_count": 5,
   "id": "75fce9df",
   "metadata": {},
   "outputs": [],
   "source": [
    "seq_graph = StateGraph(ResultState)\n",
    "seq_graph.add_node(\"add\", add)\n",
    "seq_graph.add_node(\"sub\", sub)\n",
    "seq_graph.set_entry_point(\"add\")\n",
    "seq_graph.add_edge(\"add\", \"sub\")\n",
    "seq_graph.set_finish_point(\"sub\")\n",
    "graph = seq_graph.compile()"
   ]
  },
  {
   "cell_type": "code",
   "execution_count": 6,
   "id": "d36321c0",
   "metadata": {},
   "outputs": [
    {
     "data": {
      "image/png": "[encoded data removed]",
      "text/plain": [
       "<IPython.core.display.Image object>"
      ]
     },
     "metadata": {},
     "output_type": "display_data"
    }
   ],
   "source": [
    "from utils import draw_graph\n",
    "draw_graph(graph)"
   ]
  },
  {
   "cell_type": "code",
   "execution_count": 7,
   "id": "2b443fcf",
   "metadata": {},
   "outputs": [
    {
     "name": "stdout",
     "output_type": "stream",
     "text": [
      "{'value1': 10, 'value2': 3, 'result': 7}\n"
     ]
    }
   ],
   "source": [
    "state = ResultState(value1 = 10, value2= 3)\n",
    "result = graph.invoke(state)\n",
    "print(result)"
   ]
  },
  {
   "cell_type": "markdown",
   "id": "df4d0a1b",
   "metadata": {},
   "source": [
    "# To prevent overriting \n",
    "\n",
    "##Approach 1 have different values in state\n",
    "```python\n",
    "class ResultState(TypedDict):\n",
    "    value1: int\n",
    "    value2: int\n",
    "    add_result: int\n",
    "    sub_result: int\n",
    "```\n",
    "\n",
    "## Approach 2 use list for results\n",
    "```python\n",
    "class ResultState(TypedDict):\n",
    "    value1: int\n",
    "    value2: int\n",
    "    result: list[int]\n",
    "    # result: dict[str, int]\n",
    "```"
   ]
  },
  {
   "cell_type": "code",
   "execution_count": 8,
   "id": "c9180275",
   "metadata": {},
   "outputs": [
    {
     "name": "stdout",
     "output_type": "stream",
     "text": [
      "{'value1': 10, 'value2': 3, 'result': 7}\n"
     ]
    }
   ],
   "source": [
    "## different ways of calling graphs\n",
    "\n",
    "## use dictionary syntaxes\n",
    "#state = ResultState(value1 = 10, value2= 3)\n",
    "result = graph.invoke({\"value1\": 10, \"value2\": 3})\n",
    "print(result)"
   ]
  },
  {
   "cell_type": "code",
   "execution_count": 10,
   "id": "fb6caf17",
   "metadata": {},
   "outputs": [
    {
     "data": {
      "image/png": "[encoded data removed]",
      "text/plain": [
       "<IPython.core.display.Image object>"
      ]
     },
     "metadata": {},
     "output_type": "display_data"
    }
   ],
   "source": [
    "# It is not necessary that every node has to return the complete state\n",
    "# partial updates are also ok\n",
    "\n",
    "class ResultState(TypedDict):\n",
    "    value1: int\n",
    "    value2: int\n",
    "    add_result: int\n",
    "    sub_result: int\n",
    "\n",
    "    \n",
    "# nodes with partial updates\n",
    "def add(state: ResultState):\n",
    "    return { \"add_result\": state['value1'] + state['value2']}\n",
    "\n",
    "def sub(state: ResultState):\n",
    "    return { \"sub_result\": state['value1'] - state['value2']}\n",
    "\n",
    "seq_graph = StateGraph(ResultState)\n",
    "seq_graph.add_node(\"add\", add)\n",
    "seq_graph.add_node(\"sub\", sub)\n",
    "seq_graph.set_entry_point(\"add\")\n",
    "seq_graph.add_edge(\"add\", \"sub\")\n",
    "seq_graph.set_finish_point(\"sub\")\n",
    "graph = seq_graph.compile()\n",
    "\n",
    "draw_graph(graph)"
   ]
  },
  {
   "cell_type": "code",
   "execution_count": 11,
   "id": "6ffac707",
   "metadata": {},
   "outputs": [],
   "source": [
    "result = graph.invoke({\"value1\": 10, \"value2\": 3})"
   ]
  },
  {
   "cell_type": "code",
   "execution_count": 12,
   "id": "30e7e01d",
   "metadata": {},
   "outputs": [
    {
     "data": {
      "text/plain": [
       "{'value1': 10, 'value2': 3, 'add_result': 13, 'sub_result': 7}"
      ]
     },
     "execution_count": 12,
     "metadata": {},
     "output_type": "execute_result"
    }
   ],
   "source": [
    "result"
   ]
  },
  {
   "cell_type": "code",
   "execution_count": 13,
   "id": "f4c1a7a4",
   "metadata": {},
   "outputs": [
    {
     "data": {
      "image/png": "[encoded data removed]",
      "text/plain": [
       "<IPython.core.display.Image object>"
      ]
     },
     "metadata": {},
     "output_type": "display_data"
    }
   ],
   "source": [
    "class ResultState(TypedDict):\n",
    "    value1: int\n",
    "    value2: int\n",
    "    add_result: int\n",
    "    sub_result: int\n",
    "\n",
    "    \n",
    "# nodes with partial updates\n",
    "def add(state: ResultState):\n",
    "    return { \"add_result\": state['value1'] + state['value2']}\n",
    "\n",
    "def sub(state: ResultState):\n",
    "    return { \"sub_result\": state['value1'] - state['value2']}\n",
    "\n",
    "seq_graph = StateGraph(ResultState)\n",
    "seq_graph.add_node(\"add\", add)\n",
    "seq_graph.add_node(\"sub\", sub)\n",
    "seq_graph.add_edge(START, \"add\")\n",
    "seq_graph.add_edge(\"add\", END)\n",
    "seq_graph.add_edge(START, \"sub\")\n",
    "seq_graph.add_edge(\"sub\", END)\n",
    "graph = seq_graph.compile()\n",
    "\n",
    "draw_graph(graph)"
   ]
  },
  {
   "cell_type": "code",
   "execution_count": 14,
   "id": "c2ea7758",
   "metadata": {},
   "outputs": [],
   "source": [
    "result = graph.invoke({\"value1\": 10, \"value2\": 3})"
   ]
  },
  {
   "cell_type": "code",
   "execution_count": 15,
   "id": "4f33e2c6",
   "metadata": {},
   "outputs": [
    {
     "data": {
      "text/plain": [
       "{'value1': 10, 'value2': 3, 'add_result': 13, 'sub_result': 7}"
      ]
     },
     "execution_count": 15,
     "metadata": {},
     "output_type": "execute_result"
    }
   ],
   "source": [
    "result"
   ]
  }
 ],
 "metadata": {
  "kernelspec": {
   "display_name": "mailtoner",
   "language": "python",
   "name": "python3"
  },
  "language_info": {
   "codemirror_mode": {
    "name": "ipython",
    "version": 3
   },
   "file_extension": ".py",
   "mimetype": "text/x-python",
   "name": "python",
   "nbconvert_exporter": "python",
   "pygments_lexer": "ipython3",
   "version": "3.13.5"
  }
 },
 "nbformat": 4,
 "nbformat_minor": 5
}
