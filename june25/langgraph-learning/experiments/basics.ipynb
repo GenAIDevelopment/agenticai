{
 "cells": [
  {
   "cell_type": "code",
   "execution_count": 1,
   "id": "6faf0686",
   "metadata": {},
   "outputs": [],
   "source": [
    "x = 5\n",
    "y = \"hello\"\n",
    "z = True"
   ]
  },
  {
   "cell_type": "code",
   "execution_count": 2,
   "id": "b2761fd9",
   "metadata": {},
   "outputs": [
    {
     "data": {
      "text/plain": [
       "5"
      ]
     },
     "execution_count": 2,
     "metadata": {},
     "output_type": "execute_result"
    }
   ],
   "source": [
    "x.__hash__()"
   ]
  },
  {
   "cell_type": "code",
   "execution_count": 3,
   "id": "058a62c4",
   "metadata": {},
   "outputs": [
    {
     "data": {
      "text/plain": [
       "-1048367596172050431"
      ]
     },
     "execution_count": 3,
     "metadata": {},
     "output_type": "execute_result"
    }
   ],
   "source": [
    "y.__hash__()"
   ]
  },
  {
   "cell_type": "code",
   "execution_count": 4,
   "id": "affea2b2",
   "metadata": {},
   "outputs": [
    {
     "data": {
      "text/plain": [
       "1"
      ]
     },
     "execution_count": 4,
     "metadata": {},
     "output_type": "execute_result"
    }
   ],
   "source": [
    "z.__hash__()"
   ]
  },
  {
   "cell_type": "code",
   "execution_count": 5,
   "id": "45197331",
   "metadata": {},
   "outputs": [
    {
     "data": {
      "text/plain": [
       "'5'"
      ]
     },
     "execution_count": 5,
     "metadata": {},
     "output_type": "execute_result"
    }
   ],
   "source": [
    "x.__str__()"
   ]
  },
  {
   "cell_type": "code",
   "execution_count": 6,
   "id": "295f3f26",
   "metadata": {},
   "outputs": [],
   "source": [
    "from langchain.chat_models import init_chat_model\n",
    "def get_llm(name, provider):\n",
    "    return init_chat_model(model=name, model_provider=provider)\n",
    "\n",
    "def ask_llm(llm, question):\n",
    "    response = llm.invoke(question)\n",
    "    response.pretty_print()"
   ]
  },
  {
   "cell_type": "code",
   "execution_count": 7,
   "id": "bf60818b",
   "metadata": {},
   "outputs": [],
   "source": [
    "model_name = \"gemini-2.5-flash\"\n",
    "model_provider = \"google_vertexai\"\n",
    "\n",
    "gemini_llm = get_llm(model_name, model_provider)"
   ]
  },
  {
   "cell_type": "code",
   "execution_count": 8,
   "id": "c551f94f",
   "metadata": {},
   "outputs": [
    {
     "data": {
      "text/plain": [
       "langchain_google_vertexai.chat_models.ChatVertexAI"
      ]
     },
     "execution_count": 8,
     "metadata": {},
     "output_type": "execute_result"
    }
   ],
   "source": [
    "type(gemini_llm)"
   ]
  },
  {
   "cell_type": "code",
   "execution_count": 9,
   "id": "7d51e358",
   "metadata": {},
   "outputs": [],
   "source": [
    "response = gemini_llm.invoke(\"What is capital of france?\")"
   ]
  },
  {
   "cell_type": "code",
   "execution_count": 10,
   "id": "86c35f69",
   "metadata": {},
   "outputs": [
    {
     "data": {
      "text/plain": [
       "langchain_core.messages.ai.AIMessage"
      ]
     },
     "execution_count": 10,
     "metadata": {},
     "output_type": "execute_result"
    }
   ],
   "source": [
    "type(response)"
   ]
  },
  {
   "cell_type": "code",
   "execution_count": 11,
   "id": "f11344e8",
   "metadata": {},
   "outputs": [],
   "source": [
    "from langchain_core.messages import SystemMessage, HumanMessage, AIMessage"
   ]
  },
  {
   "cell_type": "code",
   "execution_count": 12,
   "id": "1ecc7d4c",
   "metadata": {},
   "outputs": [],
   "source": [
    "# few shot prompt\n",
    "\n",
    "messages = [\n",
    "    SystemMessage(content=\"You are an expert in mathematics\"),\n",
    "    HumanMessage(content=\"I have 2 pens now i bought 2 more. What is total number of pens?\"),\n",
    "    AIMessage(content=\"This refers to addition. 2 + 2 = 4 \"),\n",
    "    HumanMessage(content=\"I have 10 pens now i lost 2. What is total number of pens?\"),\n",
    "    AIMessage(content=\"This refers to subtraction. 10 - 2 = 8 \"),\n",
    "    HumanMessage(content=\"I have 10 bikes i sold one, How many bikes do i have left ?\")\n",
    "\n",
    "]"
   ]
  },
  {
   "cell_type": "code",
   "execution_count": 13,
   "id": "0f7ad865",
   "metadata": {},
   "outputs": [],
   "source": [
    "response = gemini_llm.invoke(messages)"
   ]
  },
  {
   "cell_type": "code",
   "execution_count": 14,
   "id": "4b95e39f",
   "metadata": {},
   "outputs": [
    {
     "data": {
      "text/plain": [
       "AIMessage(content='This is another subtraction problem.\\n\\n10 - 1 = 9\\n\\nYou have **9 bikes left**.', additional_kwargs={}, response_metadata={'is_blocked': False, 'safety_ratings': [], 'usage_metadata': {'prompt_token_count': 91, 'candidates_token_count': 23, 'total_token_count': 155, 'prompt_tokens_details': [{'modality': 1, 'token_count': 91}], 'candidates_tokens_details': [{'modality': 1, 'token_count': 23}], 'thoughts_token_count': 41, 'cached_content_token_count': 0, 'cache_tokens_details': []}, 'finish_reason': 'STOP', 'avg_logprobs': -0.39093059042225714, 'model_name': 'gemini-2.5-flash'}, id='run--8186eca2-abdb-4c87-b61c-f21ef603553f-0', usage_metadata={'input_tokens': 91, 'output_tokens': 23, 'total_tokens': 155, 'input_token_details': {'cache_read': 0}, 'output_token_details': {'reasoning': 41}})"
      ]
     },
     "execution_count": 14,
     "metadata": {},
     "output_type": "execute_result"
    }
   ],
   "source": [
    "response"
   ]
  },
  {
   "cell_type": "code",
   "execution_count": 15,
   "id": "e398db8d",
   "metadata": {},
   "outputs": [
    {
     "name": "stdout",
     "output_type": "stream",
     "text": [
      "==================================\u001b[1m Ai Message \u001b[0m==================================\n",
      "\n",
      "This is another subtraction problem.\n",
      "\n",
      "10 - 1 = 9\n",
      "\n",
      "You have **9 bikes left**.\n"
     ]
    }
   ],
   "source": [
    "response.pretty_print()"
   ]
  }
 ],
 "metadata": {
  "kernelspec": {
   "display_name": ".venv",
   "language": "python",
   "name": "python3"
  },
  "language_info": {
   "codemirror_mode": {
    "name": "ipython",
    "version": 3
   },
   "file_extension": ".py",
   "mimetype": "text/x-python",
   "name": "python",
   "nbconvert_exporter": "python",
   "pygments_lexer": "ipython3",
   "version": "3.11.9"
  }
 },
 "nbformat": 4,
 "nbformat_minor": 5
}
