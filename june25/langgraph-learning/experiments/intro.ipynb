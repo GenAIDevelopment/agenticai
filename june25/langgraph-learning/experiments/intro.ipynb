{
 "cells": [
  {
   "cell_type": "code",
   "execution_count": 1,
   "id": "7441d2d0",
   "metadata": {},
   "outputs": [],
   "source": [
    "from langchain.chat_models import init_chat_model"
   ]
  },
  {
   "cell_type": "code",
   "execution_count": 9,
   "id": "2ff03580",
   "metadata": {},
   "outputs": [],
   "source": [
    "model_name = \"o4-mini\"\n",
    "model_provider = \"openai\""
   ]
  },
  {
   "cell_type": "code",
   "execution_count": 10,
   "id": "5772a17b",
   "metadata": {},
   "outputs": [],
   "source": [
    "llm = init_chat_model(model=model_name,model_provider=model_provider)"
   ]
  },
  {
   "cell_type": "code",
   "execution_count": 11,
   "id": "847700d5",
   "metadata": {},
   "outputs": [
    {
     "name": "stdout",
     "output_type": "stream",
     "text": [
      "==================================\u001b[1m Ai Message \u001b[0m==================================\n",
      "\n",
      "The capital of Telangana is Hyderabad.\n"
     ]
    }
   ],
   "source": [
    "response = llm.invoke(\"What is capital of Telangana?\")\n",
    "response.pretty_print()"
   ]
  },
  {
   "cell_type": "code",
   "execution_count": 14,
   "id": "a6fb744e",
   "metadata": {},
   "outputs": [
    {
     "name": "stdout",
     "output_type": "stream",
     "text": [
      "==================================\u001b[1m Ai Message \u001b[0m==================================\n",
      "\n",
      "The capital of Telangana is **Hyderabad**.\n"
     ]
    }
   ],
   "source": [
    "model_name = \"gemini-2.5-flash\"\n",
    "model_provider = \"google_vertexai\"\n",
    "llm = init_chat_model(model=model_name,model_provider=model_provider)\n",
    "response = llm.invoke(\"What is capital of Telangana?\")\n",
    "response.pretty_print()"
   ]
  },
  {
   "cell_type": "code",
   "execution_count": 17,
   "id": "c78b5674",
   "metadata": {},
   "outputs": [],
   "source": [
    "def get_llm(name, provider):\n",
    "    return init_chat_model(model=name, model_provider=provider)"
   ]
  },
  {
   "cell_type": "code",
   "execution_count": 16,
   "id": "6872f1d6",
   "metadata": {},
   "outputs": [],
   "source": [
    "def ask_llm(llm, question):\n",
    "    response = llm.invoke(question)\n",
    "    response.pretty_print()"
   ]
  },
  {
   "cell_type": "code",
   "execution_count": 18,
   "id": "20c9c2e4",
   "metadata": {},
   "outputs": [
    {
     "name": "stdout",
     "output_type": "stream",
     "text": [
      "==================================\u001b[1m Ai Message \u001b[0m==================================\n",
      "\n",
      "Here are the seven traditional rainbow colors in order:  \n",
      "1. Red  \n",
      "2. Orange  \n",
      "3. Yellow  \n",
      "4. Green  \n",
      "5. Blue  \n",
      "6. Indigo  \n",
      "7. Violet\n"
     ]
    }
   ],
   "source": [
    "# openai\n",
    "openai_llm = get_llm(\"o4-mini\",\"openai\")\n",
    "ask_llm(openai_llm, \"List me colors in rainbow\")"
   ]
  },
  {
   "cell_type": "code",
   "execution_count": 19,
   "id": "0aadb452",
   "metadata": {},
   "outputs": [
    {
     "name": "stdout",
     "output_type": "stream",
     "text": [
      "==================================\u001b[1m Ai Message \u001b[0m==================================\n",
      "\n",
      "The colors in a rainbow, in order, are:\n",
      "\n",
      "1.  **Red**\n",
      "2.  **Orange**\n",
      "3.  **Yellow**\n",
      "4.  **Green**\n",
      "5.  **Blue**\n",
      "6.  **Indigo**\n",
      "7.  **Violet**\n",
      "\n",
      "You can remember them with the mnemonic **ROY G. BIV**.\n"
     ]
    }
   ],
   "source": [
    "gemini_flash_llm = get_llm(\"gemini-2.5-flash\", \"google_vertexai\")\n",
    "ask_llm(gemini_flash_llm, \"List me colors in rainbow\")"
   ]
  }
 ],
 "metadata": {
  "kernelspec": {
   "display_name": ".venv",
   "language": "python",
   "name": "python3"
  },
  "language_info": {
   "codemirror_mode": {
    "name": "ipython",
    "version": 3
   },
   "file_extension": ".py",
   "mimetype": "text/x-python",
   "name": "python",
   "nbconvert_exporter": "python",
   "pygments_lexer": "ipython3",
   "version": "3.11.9"
  }
 },
 "nbformat": 4,
 "nbformat_minor": 5
}
