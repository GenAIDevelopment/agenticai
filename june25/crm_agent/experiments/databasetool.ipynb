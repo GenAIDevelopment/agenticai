{
 "cells": [
  {
   "cell_type": "markdown",
   "id": "dde7fed5",
   "metadata": {},
   "source": [
    "# We are experimenting with a tool which can query the database"
   ]
  },
  {
   "cell_type": "code",
   "execution_count": 1,
   "id": "5e07ee47",
   "metadata": {},
   "outputs": [],
   "source": [
    "config = {\n",
    "    'user': 'ltgenai',\n",
    "    'password': 'rootroot',\n",
    "    'host': 'localhost',\n",
    "    'database': 'genaideveloper',\n",
    "}"
   ]
  },
  {
   "cell_type": "code",
   "execution_count": 2,
   "id": "7ccef2d9",
   "metadata": {},
   "outputs": [
    {
     "name": "stdout",
     "output_type": "stream",
     "text": [
      "Collecting mysql-connector-python\n",
      "  Downloading mysql_connector_python-9.3.0-cp311-cp311-win_amd64.whl.metadata (7.5 kB)\n",
      "Downloading mysql_connector_python-9.3.0-cp311-cp311-win_amd64.whl (16.4 MB)\n",
      "   ---------------------------------------- 0.0/16.4 MB ? eta -:--:--\n",
      "   ---------------------------------------- 0.0/16.4 MB ? eta -:--:--\n",
      "   ---------------------------------------- 0.0/16.4 MB 435.7 kB/s eta 0:00:38\n",
      "   ---------------------------------------- 0.1/16.4 MB 435.7 kB/s eta 0:00:38\n",
      "   ---------------------------------------- 0.1/16.4 MB 525.1 kB/s eta 0:00:31\n",
      "    --------------------------------------- 0.2/16.4 MB 958.4 kB/s eta 0:00:17\n",
      "   ----- ---------------------------------- 2.3/16.4 MB 9.2 MB/s eta 0:00:02\n",
      "   --------- ------------------------------ 4.0/16.4 MB 13.3 MB/s eta 0:00:01\n",
      "   ------------- -------------------------- 5.4/16.4 MB 15.5 MB/s eta 0:00:01\n",
      "   ----------------- ---------------------- 7.3/16.4 MB 18.8 MB/s eta 0:00:01\n",
      "   ---------------------- ----------------- 9.3/16.4 MB 21.2 MB/s eta 0:00:01\n",
      "   ------------------------------- -------- 13.0/16.4 MB 46.9 MB/s eta 0:00:01\n",
      "   ---------------------------------------  16.4/16.4 MB 65.2 MB/s eta 0:00:01\n",
      "   ---------------------------------------  16.4/16.4 MB 65.2 MB/s eta 0:00:01\n",
      "   ---------------------------------------- 16.4/16.4 MB 40.9 MB/s eta 0:00:00\n",
      "Installing collected packages: mysql-connector-python\n",
      "Successfully installed mysql-connector-python-9.3.0\n",
      "Note: you may need to restart the kernel to use updated packages.\n"
     ]
    },
    {
     "name": "stderr",
     "output_type": "stream",
     "text": [
      "\n",
      "[notice] A new release of pip is available: 24.0 -> 25.1.1\n",
      "[notice] To update, run: python.exe -m pip install --upgrade pip\n"
     ]
    }
   ],
   "source": [
    "%pip install mysql-connector-python\n"
   ]
  },
  {
   "cell_type": "code",
   "execution_count": 15,
   "id": "86843ba4",
   "metadata": {},
   "outputs": [],
   "source": [
    "from langchain_core.tools import tool\n",
    "import mysql.connector\n",
    "\n",
    "#@tool(\"get_student_emails\", parse_docstring=True)\n",
    "def get_all_student_emails() -> list[str]:\n",
    "    \"\"\"\n",
    "    This function returns all the email ids of students from database\n",
    "    \"\"\"\n",
    "    # Connect to the database\n",
    "    connection = mysql.connector.connect(**config)\n",
    "    cursor = connection.cursor()\n",
    "\n",
    "    # Query the students table\n",
    "    query = \"SELECT email FROM students\"\n",
    "    cursor.execute(query)\n",
    "\n",
    "    # Fetch all rows and print them\n",
    "    rows = cursor.fetchall()\n",
    "    emails = []\n",
    "    for row in rows:\n",
    "        emails.append(row[0])\n",
    "\n",
    "    # Close the connection\n",
    "    cursor.close()\n",
    "    connection.close()\n",
    "    return emails\n",
    "    "
   ]
  },
  {
   "cell_type": "code",
   "execution_count": 16,
   "id": "10f78a13",
   "metadata": {},
   "outputs": [],
   "source": [
    "emails = get_all_student_emails()"
   ]
  },
  {
   "cell_type": "code",
   "execution_count": 17,
   "id": "50a8547f",
   "metadata": {},
   "outputs": [
    {
     "data": {
      "text/plain": [
       "['qtkhajacloud@gmail.com', 'qtgenaikhaja@gmail.com']"
      ]
     },
     "execution_count": 17,
     "metadata": {},
     "output_type": "execute_result"
    }
   ],
   "source": [
    "emails"
   ]
  }
 ],
 "metadata": {
  "kernelspec": {
   "display_name": ".venv",
   "language": "python",
   "name": "python3"
  },
  "language_info": {
   "codemirror_mode": {
    "name": "ipython",
    "version": 3
   },
   "file_extension": ".py",
   "mimetype": "text/x-python",
   "name": "python",
   "nbconvert_exporter": "python",
   "pygments_lexer": "ipython3",
   "version": "3.11.9"
  }
 },
 "nbformat": 4,
 "nbformat_minor": 5
}
