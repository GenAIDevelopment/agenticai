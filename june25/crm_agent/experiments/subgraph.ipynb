{
 "cells": [
  {
   "cell_type": "markdown",
   "id": "cc0121c5",
   "metadata": {},
   "source": [
    "# Sub-graphs"
   ]
  },
  {
   "cell_type": "code",
   "execution_count": 23,
   "id": "d6ffd924",
   "metadata": {},
   "outputs": [],
   "source": [
    "from langgraph.graph import StateGraph, START, END\n",
    "from langchain.chat_models import init_chat_model"
   ]
  },
  {
   "cell_type": "code",
   "execution_count": 24,
   "id": "bc5b7f7e",
   "metadata": {},
   "outputs": [],
   "source": [
    "model_id=\"gemini-2.5-flash-preview-05-20\"\n",
    "llm = init_chat_model(model=model_id,  model_provider=\"google_vertexai\")"
   ]
  },
  {
   "cell_type": "code",
   "execution_count": 25,
   "id": "a1112a48",
   "metadata": {},
   "outputs": [],
   "source": [
    "def add(a:int, b:int) -> int:\n",
    "    \"\"\"Adds a and b\n",
    "\n",
    "    Args:\n",
    "        a (int): a\n",
    "        b (int): b\n",
    "\n",
    "    Returns:\n",
    "        int: a + b\n",
    "    \"\"\"\n",
    "    return a + b\n",
    "\n",
    "def sub(a:int, b:int) -> int:\n",
    "    \"\"\"subtracts a and b\n",
    "\n",
    "    Args:\n",
    "        a (int): a\n",
    "        b (int): b\n",
    "\n",
    "    Returns:\n",
    "        int: a - b\n",
    "    \"\"\"\n",
    "    return a - b"
   ]
  },
  {
   "cell_type": "code",
   "execution_count": 26,
   "id": "e03befe2",
   "metadata": {},
   "outputs": [],
   "source": [
    "from langgraph.prebuilt import create_react_agent\n",
    "arthimetic_agent = create_react_agent(\n",
    "    llm,\n",
    "    tools= [add, sub]\n",
    ")\n"
   ]
  },
  {
   "cell_type": "code",
   "execution_count": 27,
   "id": "d8e77af6",
   "metadata": {},
   "outputs": [],
   "source": [
    "from langgraph.graph import MessagesState\n",
    "def ask_llm(state: MessagesState) -> MessagesState:\n",
    "    state['messages'] = llm.invoke(state['messages'])\n",
    "    return state"
   ]
  },
  {
   "cell_type": "code",
   "execution_count": 28,
   "id": "ca1b6845",
   "metadata": {},
   "outputs": [],
   "source": [
    "def print_llm(state: MessagesState) -> MessagesState:\n",
    "    state['messages'] = llm.invoke(state['messages'])\n",
    "    return state"
   ]
  },
  {
   "cell_type": "code",
   "execution_count": 29,
   "id": "b76d1474",
   "metadata": {},
   "outputs": [],
   "source": [
    "def call_react_agent(state: MessagesState) -> MessagesState:\n",
    "    state['messages'] = arthimetic_agent.invoke({\n",
    "        \"messages\": state['messages']\n",
    "    })\n",
    "    return state"
   ]
  },
  {
   "cell_type": "code",
   "execution_count": 30,
   "id": "3a9a8a3a",
   "metadata": {},
   "outputs": [],
   "source": [
    "other_builder = StateGraph(MessagesState)\n",
    "other_builder.add_node('test', print_llm)\n",
    "other_builder.add_edge(START, 'test')\n",
    "other_builder.add_edge('test', END)\n",
    "other_graph = other_builder.compile()\n",
    "\n",
    "def call_other_graph(state: MessagesState) -> MessagesState:\n",
    "    state['messages'] = other_graph.invoke({\"messages\": state['messages']})\n",
    "    return state\n",
    "    "
   ]
  },
  {
   "cell_type": "code",
   "execution_count": 36,
   "id": "0dfe2340",
   "metadata": {},
   "outputs": [],
   "source": [
    "\n",
    "builder = StateGraph(MessagesState)\n",
    "builder.add_node(\"llm\", ask_llm)\n",
    "builder.add_node(\"react\", arthimetic_agent)\n",
    "builder.add_edge(START, \"llm\",)\n",
    "builder.add_edge(START, \"react\")\n",
    "builder.add_edge(\"llm\", END)\n",
    "builder.add_edge(\"react\", END)\n",
    "graph = builder.compile()\n"
   ]
  },
  {
   "cell_type": "code",
   "execution_count": 37,
   "id": "a673a875",
   "metadata": {},
   "outputs": [
    {
     "data": {
      "image/png": "[encoded data removed]",
      "text/plain": [
       "<IPython.core.display.Image object>"
      ]
     },
     "metadata": {},
     "output_type": "display_data"
    }
   ],
   "source": [
    "from utils import draw_graph\n",
    "draw_graph(graph)"
   ]
  }
 ],
 "metadata": {
  "kernelspec": {
   "display_name": ".venv",
   "language": "python",
   "name": "python3"
  },
  "language_info": {
   "codemirror_mode": {
    "name": "ipython",
    "version": 3
   },
   "file_extension": ".py",
   "mimetype": "text/x-python",
   "name": "python",
   "nbconvert_exporter": "python",
   "pygments_lexer": "ipython3",
   "version": "3.11.9"
  }
 },
 "nbformat": 4,
 "nbformat_minor": 5
}
