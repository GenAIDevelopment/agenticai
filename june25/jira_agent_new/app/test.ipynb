{
 "cells": [
  {
   "cell_type": "code",
   "execution_count": 10,
   "id": "1365c294",
   "metadata": {},
   "outputs": [],
   "source": [
    "\n",
    "from common.llm import get_llm"
   ]
  },
  {
   "cell_type": "code",
   "execution_count": 11,
   "id": "677a8c72",
   "metadata": {},
   "outputs": [],
   "source": [
    "llm = get_llm()"
   ]
  },
  {
   "cell_type": "code",
   "execution_count": 12,
   "id": "b95fdd1f",
   "metadata": {},
   "outputs": [],
   "source": [
    "from agents.fetch import get_agent\n",
    "agent = get_agent(llm=llm)"
   ]
  },
  {
   "cell_type": "code",
   "execution_count": 13,
   "id": "85db0ddd",
   "metadata": {},
   "outputs": [
    {
     "data": {
      "text/plain": [
       "'jira_agent'"
      ]
     },
     "execution_count": 13,
     "metadata": {},
     "output_type": "execute_result"
    }
   ],
   "source": [
    "agent.name"
   ]
  },
  {
   "cell_type": "code",
   "execution_count": 14,
   "id": "2bf804e2",
   "metadata": {},
   "outputs": [],
   "source": [
    "from agents.supervisor import get_supervisor"
   ]
  },
  {
   "cell_type": "code",
   "execution_count": 15,
   "id": "89e8958b",
   "metadata": {},
   "outputs": [
    {
     "ename": "AttributeError",
     "evalue": "'function' object has no attribute 'name'",
     "output_type": "error",
     "traceback": [
      "\u001b[31m---------------------------------------------------------------------------\u001b[39m",
      "\u001b[31mAttributeError\u001b[39m                            Traceback (most recent call last)",
      "\u001b[36mCell\u001b[39m\u001b[36m \u001b[39m\u001b[32mIn[15]\u001b[39m\u001b[32m, line 1\u001b[39m\n\u001b[32m----> \u001b[39m\u001b[32m1\u001b[39m graph = \u001b[43mget_supervisor\u001b[49m\u001b[43m(\u001b[49m\u001b[43mllm\u001b[49m\u001b[43m=\u001b[49m\u001b[43mllm\u001b[49m\u001b[43m)\u001b[49m\n",
      "\u001b[36mFile \u001b[39m\u001b[32mc:\\khajaclassroom\\GenerativeAI\\agenticai\\june25\\jira_agent_new\\app\\agents\\supervisor.py:21\u001b[39m, in \u001b[36mget_supervisor\u001b[39m\u001b[34m(llm)\u001b[39m\n\u001b[32m     12\u001b[39m \u001b[38;5;28;01mdef\u001b[39;00m\u001b[38;5;250m \u001b[39m\u001b[34mget_supervisor\u001b[39m(llm: BaseChatModel) -> CompiledStateGraph:\n\u001b[32m     13\u001b[39m \u001b[38;5;250m    \u001b[39m\u001b[33;03m\"\"\"This function creates a supervisor agent\u001b[39;00m\n\u001b[32m     14\u001b[39m \n\u001b[32m     15\u001b[39m \u001b[33;03m    Args:\u001b[39;00m\n\u001b[32m   (...)\u001b[39m\u001b[32m     19\u001b[39m \u001b[33;03m        CompiledStateGraph: graph\u001b[39;00m\n\u001b[32m     20\u001b[39m \u001b[33;03m    \"\"\"\u001b[39;00m\n\u001b[32m---> \u001b[39m\u001b[32m21\u001b[39m     supervisor_graph_builder = \u001b[43mcreate_supervisor\u001b[49m\u001b[43m(\u001b[49m\n\u001b[32m     22\u001b[39m \n\u001b[32m     23\u001b[39m \u001b[43m        \u001b[49m\u001b[43mmodel\u001b[49m\u001b[43m=\u001b[49m\u001b[43mllm\u001b[49m\u001b[43m,\u001b[49m\n\u001b[32m     24\u001b[39m \u001b[43m        \u001b[49m\u001b[43magents\u001b[49m\u001b[43m=\u001b[49m\u001b[43m[\u001b[49m\u001b[43mjira_agent\u001b[49m\u001b[43m,\u001b[49m\u001b[43m \u001b[49m\u001b[43msummarize_agent\u001b[49m\u001b[43m]\u001b[49m\u001b[43m,\u001b[49m\n\u001b[32m     25\u001b[39m \u001b[43m        \u001b[49m\u001b[43mprompt\u001b[49m\u001b[43m=\u001b[49m\u001b[43m(\u001b[49m\n\u001b[32m     26\u001b[39m \u001b[43m            \u001b[49m\u001b[33;43m\"\u001b[39;49m\u001b[33;43mYou are a supervisor managing two agents \u001b[39;49m\u001b[38;5;130;43;01m\\n\u001b[39;49;00m\u001b[33;43m\"\u001b[39;49m\n\u001b[32m     27\u001b[39m \u001b[43m            \u001b[49m\u001b[33;43m\"\u001b[39;49m\u001b[33;43m - \u001b[39;49m\u001b[33;43m'\u001b[39;49m\u001b[33;43mjira_agent\u001b[39;49m\u001b[33;43m'\u001b[39;49m\u001b[33;43m: Get all defects in Learning Management System Project \u001b[39;49m\u001b[38;5;130;43;01m\\n\u001b[39;49;00m\u001b[33;43m\"\u001b[39;49m\n\u001b[32m     28\u001b[39m \u001b[43m            \u001b[49m\u001b[33;43m\"\u001b[39;49m\u001b[33;43m - \u001b[39;49m\u001b[33;43m'\u001b[39;49m\u001b[33;43msummarize_agent\u001b[39;49m\u001b[33;43m'\u001b[39;49m\u001b[33;43m:  Summarize the defects recieved \u001b[39;49m\u001b[38;5;130;43;01m\\n\u001b[39;49;00m\u001b[33;43m\"\u001b[39;49m\n\u001b[32m     29\u001b[39m \u001b[43m            \u001b[49m\u001b[33;43m\"\u001b[39;49m\u001b[33;43mAssign work to one agent at a time, do not call agents in parallel \u001b[39;49m\u001b[38;5;130;43;01m\\n\u001b[39;49;00m\u001b[33;43m\"\u001b[39;49m\n\u001b[32m     30\u001b[39m \u001b[43m            \u001b[49m\u001b[33;43m\"\u001b[39;49m\u001b[33;43mDo not work yourself\u001b[39;49m\u001b[33;43m\"\u001b[39;49m\n\u001b[32m     31\u001b[39m \u001b[43m        \u001b[49m\u001b[43m)\u001b[49m\u001b[43m,\u001b[49m\n\u001b[32m     32\u001b[39m \u001b[43m        \u001b[49m\u001b[43madd_handoff_back_messages\u001b[49m\u001b[43m=\u001b[49m\u001b[38;5;28;43;01mTrue\u001b[39;49;00m\u001b[43m,\u001b[49m\n\u001b[32m     33\u001b[39m \u001b[43m        \u001b[49m\u001b[43moutput_mode\u001b[49m\u001b[43m=\u001b[49m\u001b[33;43m\"\u001b[39;49m\u001b[33;43mfull_history\u001b[39;49m\u001b[33;43m\"\u001b[39;49m\u001b[43m,\u001b[49m\n\u001b[32m     34\u001b[39m \u001b[43m        \u001b[49m\u001b[38;5;66;43;03m#state_schema=JiraAgentState\u001b[39;49;00m\n\u001b[32m     35\u001b[39m \u001b[43m    \u001b[49m\u001b[43m)\u001b[49m.compile()\n\u001b[32m     36\u001b[39m     \u001b[38;5;66;03m#supervisor_graph = supervisor_graph_builder.compile()\u001b[39;00m\n\u001b[32m     37\u001b[39m     \u001b[38;5;28;01mreturn\u001b[39;00m supervisor_graph_builder\n",
      "\u001b[36mFile \u001b[39m\u001b[32mc:\\khajaclassroom\\GenerativeAI\\agenticai\\june25\\jira_agent_new\\.venv\\Lib\\site-packages\\langgraph_supervisor\\supervisor.py:372\u001b[39m, in \u001b[36mcreate_supervisor\u001b[39m\u001b[34m(agents, model, tools, prompt, response_format, pre_model_hook, post_model_hook, parallel_tool_calls, state_schema, config_schema, output_mode, add_handoff_messages, handoff_tool_prefix, add_handoff_back_messages, supervisor_name, include_agent_name)\u001b[39m\n\u001b[32m    370\u001b[39m agent_names = \u001b[38;5;28mset\u001b[39m()\n\u001b[32m    371\u001b[39m \u001b[38;5;28;01mfor\u001b[39;00m agent \u001b[38;5;129;01min\u001b[39;00m agents:\n\u001b[32m--> \u001b[39m\u001b[32m372\u001b[39m     \u001b[38;5;28;01mif\u001b[39;00m \u001b[43magent\u001b[49m\u001b[43m.\u001b[49m\u001b[43mname\u001b[49m \u001b[38;5;129;01mis\u001b[39;00m \u001b[38;5;28;01mNone\u001b[39;00m \u001b[38;5;129;01mor\u001b[39;00m agent.name == \u001b[33m\"\u001b[39m\u001b[33mLangGraph\u001b[39m\u001b[33m\"\u001b[39m:\n\u001b[32m    373\u001b[39m         \u001b[38;5;28;01mraise\u001b[39;00m \u001b[38;5;167;01mValueError\u001b[39;00m(\n\u001b[32m    374\u001b[39m             \u001b[33m\"\u001b[39m\u001b[33mPlease specify a name when you create your agent, either via `create_react_agent(..., name=agent_name)` \u001b[39m\u001b[33m\"\u001b[39m\n\u001b[32m    375\u001b[39m             \u001b[33m\"\u001b[39m\u001b[33mor via `graph.compile(name=name)`.\u001b[39m\u001b[33m\"\u001b[39m\n\u001b[32m    376\u001b[39m         )\n\u001b[32m    378\u001b[39m     \u001b[38;5;28;01mif\u001b[39;00m agent.name \u001b[38;5;129;01min\u001b[39;00m agent_names:\n",
      "\u001b[31mAttributeError\u001b[39m: 'function' object has no attribute 'name'"
     ]
    }
   ],
   "source": [
    "graph = get_supervisor(llm=llm)"
   ]
  },
  {
   "cell_type": "code",
   "execution_count": null,
   "id": "31f31f31",
   "metadata": {},
   "outputs": [],
   "source": []
  }
 ],
 "metadata": {
  "kernelspec": {
   "display_name": ".venv",
   "language": "python",
   "name": "python3"
  },
  "language_info": {
   "codemirror_mode": {
    "name": "ipython",
    "version": 3
   },
   "file_extension": ".py",
   "mimetype": "text/x-python",
   "name": "python",
   "nbconvert_exporter": "python",
   "pygments_lexer": "ipython3",
   "version": "3.11.9"
  }
 },
 "nbformat": 4,
 "nbformat_minor": 5
}
