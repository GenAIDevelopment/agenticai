{
 "cells": [
  {
   "cell_type": "code",
   "execution_count": 52,
   "id": "1365c294",
   "metadata": {},
   "outputs": [],
   "source": [
    "\n",
    "from common.llm import get_llm"
   ]
  },
  {
   "cell_type": "code",
   "execution_count": 53,
   "id": "677a8c72",
   "metadata": {},
   "outputs": [],
   "source": [
    "llm = get_llm()"
   ]
  },
  {
   "cell_type": "code",
   "execution_count": 54,
   "id": "b95fdd1f",
   "metadata": {},
   "outputs": [],
   "source": [
    "from agents.fetch import get_agent\n",
    "agent = get_agent(llm=llm)"
   ]
  },
  {
   "cell_type": "code",
   "execution_count": 39,
   "id": "85db0ddd",
   "metadata": {},
   "outputs": [
    {
     "data": {
      "text/plain": [
       "'jira_agent'"
      ]
     },
     "execution_count": 39,
     "metadata": {},
     "output_type": "execute_result"
    }
   ],
   "source": [
    "agent.name"
   ]
  },
  {
   "cell_type": "code",
   "execution_count": 55,
   "id": "2bf804e2",
   "metadata": {},
   "outputs": [],
   "source": [
    "from agents.supervisor import get_supervisor"
   ]
  },
  {
   "cell_type": "code",
   "execution_count": 56,
   "id": "89e8958b",
   "metadata": {},
   "outputs": [],
   "source": [
    "graph = get_supervisor(llm=llm)"
   ]
  },
  {
   "cell_type": "code",
   "execution_count": 42,
   "id": "31f31f31",
   "metadata": {},
   "outputs": [
    {
     "data": {
      "image/png": "[encoded data removed]",
      "text/plain": [
       "<langgraph.graph.state.CompiledStateGraph object at 0x0000025E42548050>"
      ]
     },
     "execution_count": 42,
     "metadata": {},
     "output_type": "execute_result"
    }
   ],
   "source": [
    "graph"
   ]
  },
  {
   "cell_type": "code",
   "execution_count": 57,
   "id": "7a9e94e9",
   "metadata": {},
   "outputs": [
    {
     "name": "stderr",
     "output_type": "stream",
     "text": [
      "Task supervisor with path ('__pregel_pull', 'supervisor') wrote to unknown channel is_last_step, ignoring it.\n",
      "Task supervisor with path ('__pregel_pull', 'supervisor') wrote to unknown channel remaining_steps, ignoring it.\n",
      "Task supervisor with path ('__pregel_pull', 'supervisor') wrote to unknown channel is_last_step, ignoring it.\n",
      "Task supervisor with path ('__pregel_pull', 'supervisor') wrote to unknown channel remaining_steps, ignoring it.\n"
     ]
    }
   ],
   "source": [
    "from langchain_core.messages import HumanMessage\n",
    "response = graph.invoke( {\n",
    "    \"messages\": HumanMessage(content='Fetch all defects from project Learning Management System')\n",
    "})\n",
    "    "
   ]
  },
  {
   "cell_type": "code",
   "execution_count": 58,
   "id": "9f3301e0",
   "metadata": {},
   "outputs": [
    {
     "data": {
      "text/plain": [
       "{'messages': [HumanMessage(content='Fetch all defects from project Learning Management System', additional_kwargs={}, response_metadata={}, id='1ca59fc3-ab8e-4792-a6b1-ddd5a822c13f'),\n",
       "  AIMessage(content='', additional_kwargs={'function_call': {'name': 'transfer_to_jira_agent', 'arguments': '{}'}}, response_metadata={'is_blocked': False, 'safety_ratings': [], 'usage_metadata': {'prompt_token_count': 105, 'candidates_token_count': 7, 'total_token_count': 172, 'prompt_tokens_details': [{'modality': 1, 'token_count': 105}], 'candidates_tokens_details': [{'modality': 1, 'token_count': 7}], 'thoughts_token_count': 60, 'cached_content_token_count': 0, 'cache_tokens_details': []}, 'finish_reason': 'STOP', 'avg_logprobs': -1.1963999611990792, 'model_name': 'gemini-2.5-flash'}, name='supervisor', id='run--fede3747-7ca1-44db-bade-354604764e1b-0', tool_calls=[{'name': 'transfer_to_jira_agent', 'args': {}, 'id': '1fbbefa2-46c1-47ab-b77a-59c99d9c9131', 'type': 'tool_call'}], usage_metadata={'input_tokens': 105, 'output_tokens': 7, 'total_tokens': 172, 'input_token_details': {'cache_read': 0}, 'output_token_details': {'reasoning': 60}}),\n",
       "  ToolMessage(content='Successfully transferred to jira_agent', name='transfer_to_jira_agent', id='b54601dc-e4f0-44aa-a66d-3ab59771673d', tool_call_id='1fbbefa2-46c1-47ab-b77a-59c99d9c9131'),\n",
       "  AIMessage(content='', additional_kwargs={'function_call': {'name': 'jql_query', 'arguments': '{\"instructions\": \"project = \\\\\"Learning Management System\\\\\" AND issuetype = Bug\"}'}}, response_metadata={'is_blocked': False, 'safety_ratings': [], 'usage_metadata': {'prompt_token_count': 846, 'candidates_token_count': 17, 'total_token_count': 1034, 'prompt_tokens_details': [{'modality': 1, 'token_count': 846}], 'candidates_tokens_details': [{'modality': 1, 'token_count': 17}], 'thoughts_token_count': 171, 'cached_content_token_count': 0, 'cache_tokens_details': []}, 'finish_reason': 'STOP', 'avg_logprobs': -3.149406208711512, 'model_name': 'gemini-2.5-flash'}, name='jira_agent', id='run--1c7a5b9d-579c-4f5e-aca6-d1e970371a74-0', tool_calls=[{'name': 'jql_query', 'args': {'instructions': 'project = \"Learning Management System\" AND issuetype = Bug'}, 'id': 'd507dfc5-d030-4a7a-ba69-b9c74e689328', 'type': 'tool_call'}], usage_metadata={'input_tokens': 846, 'output_tokens': 17, 'total_tokens': 1034, 'input_token_details': {'cache_read': 0}, 'output_token_details': {'reasoning': 171}}),\n",
       "  ToolMessage(content=\"Found 2 issues:\\n[{'key': 'SCRUM-17', 'summary': 'The home page is taking too much time to load', 'created': '2025-06-28', 'assignee': 'None', 'priority': 'Medium', 'status': 'Done', 'related_issues': {}}, {'key': 'SCRUM-16', 'summary': 'Login screen is not working', 'created': '2025-06-28', 'assignee': 'None', 'priority': 'Medium', 'status': 'To Do', 'related_issues': {}}]\", name='jql_query', id='3e3de18d-f9b3-4aca-99d2-280072f66e3d', tool_call_id='d507dfc5-d030-4a7a-ba69-b9c74e689328'),\n",
       "  AIMessage(content='Found 2 defects in the project Learning Management System:\\nSCRUM-17: The home page is taking too much time to load (Status: Done, Priority: Medium)\\nSCRUM-16: Login screen is not working (Status: To Do, Priority: Medium)', additional_kwargs={}, response_metadata={'is_blocked': False, 'safety_ratings': [], 'usage_metadata': {'prompt_token_count': 1004, 'candidates_token_count': 59, 'total_token_count': 1163, 'prompt_tokens_details': [{'modality': 1, 'token_count': 1004}], 'candidates_tokens_details': [{'modality': 1, 'token_count': 59}], 'thoughts_token_count': 100, 'cached_content_token_count': 0, 'cache_tokens_details': []}, 'finish_reason': 'STOP', 'avg_logprobs': -0.5050641399318889, 'model_name': 'gemini-2.5-flash'}, name='jira_agent', id='run--dfefd116-b608-4e8b-aad1-72b911a1d3bf-0', usage_metadata={'input_tokens': 1004, 'output_tokens': 59, 'total_tokens': 1163, 'input_token_details': {'cache_read': 0}, 'output_token_details': {'reasoning': 100}}),\n",
       "  AIMessage(content='Transferring back to supervisor', additional_kwargs={}, response_metadata={'__is_handoff_back': True}, name='jira_agent', id='f8a49e81-b230-4d8e-8338-1d9d6d97d9fd', tool_calls=[{'name': 'transfer_back_to_supervisor', 'args': {}, 'id': '407fc82b-c2fb-4904-8df1-c63afb4ac4c6', 'type': 'tool_call'}]),\n",
       "  ToolMessage(content='Successfully transferred back to supervisor', name='transfer_back_to_supervisor', id='43fb4e6e-527c-4c21-9b79-50326a460d0b', tool_call_id='407fc82b-c2fb-4904-8df1-c63afb4ac4c6'),\n",
       "  AIMessage(content='', additional_kwargs={'function_call': {'name': 'transfer_to_summarize_agent', 'arguments': '{}'}}, response_metadata={'is_blocked': False, 'safety_ratings': [], 'usage_metadata': {'prompt_token_count': 368, 'candidates_token_count': 8, 'total_token_count': 520, 'prompt_tokens_details': [{'modality': 1, 'token_count': 368}], 'candidates_tokens_details': [{'modality': 1, 'token_count': 8}], 'thoughts_token_count': 144, 'cached_content_token_count': 0, 'cache_tokens_details': []}, 'finish_reason': 'STOP', 'avg_logprobs': -5.74381160736084, 'model_name': 'gemini-2.5-flash'}, name='supervisor', id='run--d19f91aa-1f1b-4eae-8f9e-c181ae515045-0', tool_calls=[{'name': 'transfer_to_summarize_agent', 'args': {}, 'id': '387f2aa1-9f1a-4ac9-b4a2-c41526ccc2d9', 'type': 'tool_call'}], usage_metadata={'input_tokens': 368, 'output_tokens': 8, 'total_tokens': 520, 'input_token_details': {'cache_read': 0}, 'output_token_details': {'reasoning': 144}}),\n",
       "  ToolMessage(content='Successfully transferred to summarize_agent', name='transfer_to_summarize_agent', id='4f620b93-ab60-41d8-a5ee-fca1a956f7b5', tool_call_id='387f2aa1-9f1a-4ac9-b4a2-c41526ccc2d9'),\n",
       "  AIMessage(content='I have identified the following defects in the \"Learning Management System\" project:\\n\\n*   **SCRUM-17**: \"The home page is taking too much time to load.\" This defect has a Medium priority and is currently in \"Done\" status.\\n*   **SCRUM-16**: \"Login screen is not working.\" This defect has a Medium priority and is currently in \"To Do\" status.\\n\\nTo whom should I send this summary via email? Please provide the email address.', additional_kwargs={}, response_metadata={'is_blocked': False, 'safety_ratings': [], 'usage_metadata': {'prompt_token_count': 342, 'candidates_token_count': 102, 'total_token_count': 593, 'prompt_tokens_details': [{'modality': 1, 'token_count': 342}], 'candidates_tokens_details': [{'modality': 1, 'token_count': 102}], 'thoughts_token_count': 149, 'cached_content_token_count': 0, 'cache_tokens_details': []}, 'finish_reason': 'STOP', 'avg_logprobs': -0.38899776982326134, 'model_name': 'gemini-2.5-flash'}, name='summarize_agent', id='run--82da3fb4-6d7d-4d66-aaca-d35bc11b4937-0', usage_metadata={'input_tokens': 342, 'output_tokens': 102, 'total_tokens': 593, 'input_token_details': {'cache_read': 0}, 'output_token_details': {'reasoning': 149}}),\n",
       "  AIMessage(content='Transferring back to supervisor', additional_kwargs={}, response_metadata={'__is_handoff_back': True}, name='summarize_agent', id='acff4a0d-bb4c-478f-b571-cb87d854aa89', tool_calls=[{'name': 'transfer_back_to_supervisor', 'args': {}, 'id': '0e08f3c5-8947-4891-907f-93bc78a8b656', 'type': 'tool_call'}]),\n",
       "  ToolMessage(content='Successfully transferred back to supervisor', name='transfer_back_to_supervisor', id='e2b6f79b-5bc4-4302-92ce-f36e70207291', tool_call_id='0e08f3c5-8947-4891-907f-93bc78a8b656'),\n",
       "  AIMessage(content='I have already fetched the defects and summarized them. To whom should I send this summary via email? Please provide the email address.', additional_kwargs={}, response_metadata={'is_blocked': False, 'safety_ratings': [], 'usage_metadata': {'prompt_token_count': 518, 'candidates_token_count': 26, 'total_token_count': 907, 'prompt_tokens_details': [{'modality': 1, 'token_count': 518}], 'candidates_tokens_details': [{'modality': 1, 'token_count': 26}], 'thoughts_token_count': 363, 'cached_content_token_count': 0, 'cache_tokens_details': []}, 'finish_reason': 'STOP', 'avg_logprobs': -3.503891871525691, 'model_name': 'gemini-2.5-flash'}, name='supervisor', id='run--a6ca7662-8da1-46d2-8157-29aee145e57d-0', usage_metadata={'input_tokens': 518, 'output_tokens': 26, 'total_tokens': 907, 'input_token_details': {'cache_read': 0}, 'output_token_details': {'reasoning': 363}})]}"
      ]
     },
     "execution_count": 58,
     "metadata": {},
     "output_type": "execute_result"
    }
   ],
   "source": [
    "response"
   ]
  },
  {
   "cell_type": "code",
   "execution_count": 59,
   "id": "ff4ac026",
   "metadata": {},
   "outputs": [
    {
     "name": "stdout",
     "output_type": "stream",
     "text": [
      "================================\u001b[1m Human Message \u001b[0m=================================\n",
      "\n",
      "Fetch all defects from project Learning Management System\n",
      "==================================\u001b[1m Ai Message \u001b[0m==================================\n",
      "Name: supervisor\n",
      "Tool Calls:\n",
      "  transfer_to_jira_agent (1fbbefa2-46c1-47ab-b77a-59c99d9c9131)\n",
      " Call ID: 1fbbefa2-46c1-47ab-b77a-59c99d9c9131\n",
      "  Args:\n",
      "=================================\u001b[1m Tool Message \u001b[0m=================================\n",
      "Name: transfer_to_jira_agent\n",
      "\n",
      "Successfully transferred to jira_agent\n",
      "==================================\u001b[1m Ai Message \u001b[0m==================================\n",
      "Name: jira_agent\n",
      "Tool Calls:\n",
      "  jql_query (d507dfc5-d030-4a7a-ba69-b9c74e689328)\n",
      " Call ID: d507dfc5-d030-4a7a-ba69-b9c74e689328\n",
      "  Args:\n",
      "    instructions: project = \"Learning Management System\" AND issuetype = Bug\n",
      "=================================\u001b[1m Tool Message \u001b[0m=================================\n",
      "Name: jql_query\n",
      "\n",
      "Found 2 issues:\n",
      "[{'key': 'SCRUM-17', 'summary': 'The home page is taking too much time to load', 'created': '2025-06-28', 'assignee': 'None', 'priority': 'Medium', 'status': 'Done', 'related_issues': {}}, {'key': 'SCRUM-16', 'summary': 'Login screen is not working', 'created': '2025-06-28', 'assignee': 'None', 'priority': 'Medium', 'status': 'To Do', 'related_issues': {}}]\n",
      "==================================\u001b[1m Ai Message \u001b[0m==================================\n",
      "Name: jira_agent\n",
      "\n",
      "Found 2 defects in the project Learning Management System:\n",
      "SCRUM-17: The home page is taking too much time to load (Status: Done, Priority: Medium)\n",
      "SCRUM-16: Login screen is not working (Status: To Do, Priority: Medium)\n",
      "==================================\u001b[1m Ai Message \u001b[0m==================================\n",
      "Name: jira_agent\n",
      "\n",
      "Transferring back to supervisor\n",
      "Tool Calls:\n",
      "  transfer_back_to_supervisor (407fc82b-c2fb-4904-8df1-c63afb4ac4c6)\n",
      " Call ID: 407fc82b-c2fb-4904-8df1-c63afb4ac4c6\n",
      "  Args:\n",
      "=================================\u001b[1m Tool Message \u001b[0m=================================\n",
      "Name: transfer_back_to_supervisor\n",
      "\n",
      "Successfully transferred back to supervisor\n",
      "==================================\u001b[1m Ai Message \u001b[0m==================================\n",
      "Name: supervisor\n",
      "Tool Calls:\n",
      "  transfer_to_summarize_agent (387f2aa1-9f1a-4ac9-b4a2-c41526ccc2d9)\n",
      " Call ID: 387f2aa1-9f1a-4ac9-b4a2-c41526ccc2d9\n",
      "  Args:\n",
      "=================================\u001b[1m Tool Message \u001b[0m=================================\n",
      "Name: transfer_to_summarize_agent\n",
      "\n",
      "Successfully transferred to summarize_agent\n",
      "==================================\u001b[1m Ai Message \u001b[0m==================================\n",
      "Name: summarize_agent\n",
      "\n",
      "I have identified the following defects in the \"Learning Management System\" project:\n",
      "\n",
      "*   **SCRUM-17**: \"The home page is taking too much time to load.\" This defect has a Medium priority and is currently in \"Done\" status.\n",
      "*   **SCRUM-16**: \"Login screen is not working.\" This defect has a Medium priority and is currently in \"To Do\" status.\n",
      "\n",
      "To whom should I send this summary via email? Please provide the email address.\n",
      "==================================\u001b[1m Ai Message \u001b[0m==================================\n",
      "Name: summarize_agent\n",
      "\n",
      "Transferring back to supervisor\n",
      "Tool Calls:\n",
      "  transfer_back_to_supervisor (0e08f3c5-8947-4891-907f-93bc78a8b656)\n",
      " Call ID: 0e08f3c5-8947-4891-907f-93bc78a8b656\n",
      "  Args:\n",
      "=================================\u001b[1m Tool Message \u001b[0m=================================\n",
      "Name: transfer_back_to_supervisor\n",
      "\n",
      "Successfully transferred back to supervisor\n",
      "==================================\u001b[1m Ai Message \u001b[0m==================================\n",
      "Name: supervisor\n",
      "\n",
      "I have already fetched the defects and summarized them. To whom should I send this summary via email? Please provide the email address.\n"
     ]
    }
   ],
   "source": [
    "for message in response['messages']:\n",
    "    message.pretty_print()"
   ]
  },
  {
   "cell_type": "code",
   "execution_count": 50,
   "id": "33f70b18",
   "metadata": {},
   "outputs": [],
   "source": [
    "from agents.summarize import get_agent\n",
    "summarizer = get_agent(llm=llm)\n",
    "response = summarizer.invoke({\n",
    "    \"messages\": HumanMessage(\n",
    "        content=\"Send email to qt@qt.com with subject test and message is test\"\n",
    "    )\n",
    "})"
   ]
  },
  {
   "cell_type": "code",
   "execution_count": 51,
   "id": "7f5358ac",
   "metadata": {},
   "outputs": [
    {
     "data": {
      "text/plain": [
       "[HumanMessage(content='Send email to qt@qt.com with subject test and message is test', additional_kwargs={}, response_metadata={}, id='74252a07-2aff-444e-ad75-c3fb96354cb8'),\n",
       " AIMessage(content='', additional_kwargs={'function_call': {'name': 'email_sender', 'arguments': '{\"message\": \"test\", \"to\": \"qt@qt.com\", \"subject\": \"test\"}'}}, response_metadata={'is_blocked': False, 'safety_ratings': [], 'usage_metadata': {'prompt_token_count': 63, 'candidates_token_count': 13, 'total_token_count': 142, 'prompt_tokens_details': [{'modality': 1, 'token_count': 63}], 'candidates_tokens_details': [{'modality': 1, 'token_count': 13}], 'thoughts_token_count': 66, 'cached_content_token_count': 0, 'cache_tokens_details': []}, 'finish_reason': 'STOP', 'avg_logprobs': -0.7619088246272161, 'model_name': 'gemini-2.5-flash'}, name='summarize_agent', id='run--bd4e09cf-47b5-404e-a380-3a82bfc599a1-0', tool_calls=[{'name': 'email_sender', 'args': {'message': 'test', 'to': 'qt@qt.com', 'subject': 'test'}, 'id': '224ed590-c49c-40cb-aa6b-594aaed06dca', 'type': 'tool_call'}], usage_metadata={'input_tokens': 63, 'output_tokens': 13, 'total_tokens': 142, 'input_token_details': {'cache_read': 0}, 'output_token_details': {'reasoning': 66}}),\n",
       " ToolMessage(content=\"Error: NotImplementedError('StructuredTool does not support sync invocation.')\\n Please fix your mistakes.\", name='email_sender', id='b6db7ef6-b1d8-4122-8e93-848b019e8b74', tool_call_id='224ed590-c49c-40cb-aa6b-594aaed06dca', status='error')]"
      ]
     },
     "execution_count": 51,
     "metadata": {},
     "output_type": "execute_result"
    }
   ],
   "source": [
    "response['messages']"
   ]
  }
 ],
 "metadata": {
  "kernelspec": {
   "display_name": ".venv",
   "language": "python",
   "name": "python3"
  },
  "language_info": {
   "codemirror_mode": {
    "name": "ipython",
    "version": 3
   },
   "file_extension": ".py",
   "mimetype": "text/x-python",
   "name": "python",
   "nbconvert_exporter": "python",
   "pygments_lexer": "ipython3",
   "version": "3.11.9"
  }
 },
 "nbformat": 4,
 "nbformat_minor": 5
}
