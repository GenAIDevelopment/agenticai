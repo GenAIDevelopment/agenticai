{
 "cells": [
  {
   "cell_type": "code",
   "execution_count": 1,
   "id": "084feedb",
   "metadata": {},
   "outputs": [
    {
     "name": "stdout",
     "output_type": "stream",
     "text": [
      "Requirement already satisfied: langgraph-sdk in c:\\khajaclassroom\\generativeai\\agenticai\\may25\\langgraph\\sdk-examples\\client\\.venv\\lib\\site-packages (0.1.70)\n",
      "Requirement already satisfied: httpx>=0.25.2 in c:\\khajaclassroom\\generativeai\\agenticai\\may25\\langgraph\\sdk-examples\\client\\.venv\\lib\\site-packages (from langgraph-sdk) (0.28.1)\n",
      "Requirement already satisfied: orjson>=3.10.1 in c:\\khajaclassroom\\generativeai\\agenticai\\may25\\langgraph\\sdk-examples\\client\\.venv\\lib\\site-packages (from langgraph-sdk) (3.10.18)\n",
      "Requirement already satisfied: anyio in c:\\khajaclassroom\\generativeai\\agenticai\\may25\\langgraph\\sdk-examples\\client\\.venv\\lib\\site-packages (from httpx>=0.25.2->langgraph-sdk) (4.9.0)\n",
      "Requirement already satisfied: certifi in c:\\khajaclassroom\\generativeai\\agenticai\\may25\\langgraph\\sdk-examples\\client\\.venv\\lib\\site-packages (from httpx>=0.25.2->langgraph-sdk) (2025.4.26)\n",
      "Requirement already satisfied: httpcore==1.* in c:\\khajaclassroom\\generativeai\\agenticai\\may25\\langgraph\\sdk-examples\\client\\.venv\\lib\\site-packages (from httpx>=0.25.2->langgraph-sdk) (1.0.9)\n",
      "Requirement already satisfied: idna in c:\\khajaclassroom\\generativeai\\agenticai\\may25\\langgraph\\sdk-examples\\client\\.venv\\lib\\site-packages (from httpx>=0.25.2->langgraph-sdk) (3.10)\n",
      "Requirement already satisfied: h11>=0.16 in c:\\khajaclassroom\\generativeai\\agenticai\\may25\\langgraph\\sdk-examples\\client\\.venv\\lib\\site-packages (from httpcore==1.*->httpx>=0.25.2->langgraph-sdk) (0.16.0)\n",
      "Requirement already satisfied: sniffio>=1.1 in c:\\khajaclassroom\\generativeai\\agenticai\\may25\\langgraph\\sdk-examples\\client\\.venv\\lib\\site-packages (from anyio->httpx>=0.25.2->langgraph-sdk) (1.3.1)\n",
      "Requirement already satisfied: typing_extensions>=4.5 in c:\\khajaclassroom\\generativeai\\agenticai\\may25\\langgraph\\sdk-examples\\client\\.venv\\lib\\site-packages (from anyio->httpx>=0.25.2->langgraph-sdk) (4.14.0)\n",
      "Note: you may need to restart the kernel to use updated packages.\n"
     ]
    },
    {
     "name": "stderr",
     "output_type": "stream",
     "text": [
      "\n",
      "[notice] A new release of pip is available: 24.0 -> 25.1.1\n",
      "[notice] To update, run: python.exe -m pip install --upgrade pip\n"
     ]
    }
   ],
   "source": [
    "%pip install langgraph-sdk"
   ]
  },
  {
   "cell_type": "code",
   "execution_count": 11,
   "id": "f41b781f",
   "metadata": {},
   "outputs": [],
   "source": [
    "from langgraph_sdk import get_sync_client, get_client"
   ]
  },
  {
   "cell_type": "code",
   "execution_count": 3,
   "id": "dd5aa25f",
   "metadata": {},
   "outputs": [],
   "source": [
    "local_graph_url=\"http://127.0.0.1:2024\"\n"
   ]
  },
  {
   "cell_type": "code",
   "execution_count": null,
   "id": "dd7df0f0",
   "metadata": {},
   "outputs": [],
   "source": [
    "# Synchronous client\n",
    "from langgraph_sdk.client import SyncLangGraphClient\n",
    "sync_client: SyncLangGraphClient = get_sync_client(url=local_graph_url)"
   ]
  },
  {
   "cell_type": "code",
   "execution_count": 5,
   "id": "9a766afe",
   "metadata": {},
   "outputs": [
    {
     "data": {
      "text/plain": [
       "langgraph_sdk.client.SyncLangGraphClient"
      ]
     },
     "execution_count": 5,
     "metadata": {},
     "output_type": "execute_result"
    }
   ],
   "source": [
    "type(sync_client)"
   ]
  },
  {
   "cell_type": "code",
   "execution_count": 16,
   "id": "9ff22214",
   "metadata": {},
   "outputs": [
    {
     "data": {
      "text/plain": [
       "<langgraph_sdk.client.SyncLangGraphClient at 0x2599d8c8fd0>"
      ]
     },
     "execution_count": 16,
     "metadata": {},
     "output_type": "execute_result"
    }
   ],
   "source": [
    "sync_client"
   ]
  },
  {
   "cell_type": "code",
   "execution_count": 19,
   "id": "51634d6b",
   "metadata": {},
   "outputs": [
    {
     "data": {
      "text/plain": [
       "[{'assistant_id': 'e50987df-a1cf-5045-882a-ec38b4f2c149',\n",
       "  'graph_id': 'basic',\n",
       "  'config': {},\n",
       "  'metadata': {'created_by': 'system'},\n",
       "  'name': 'basic',\n",
       "  'created_at': '2025-06-14T05:45:17.613162+00:00',\n",
       "  'updated_at': '2025-06-14T05:45:17.613162+00:00',\n",
       "  'version': 1,\n",
       "  'description': None}]"
      ]
     },
     "execution_count": 19,
     "metadata": {},
     "output_type": "execute_result"
    }
   ],
   "source": [
    "assistants = sync_client.assistants.search()\n",
    "assistants"
   ]
  },
  {
   "cell_type": "code",
   "execution_count": 22,
   "id": "6586d1e5",
   "metadata": {},
   "outputs": [
    {
     "data": {
      "text/plain": [
       "dict"
      ]
     },
     "execution_count": 22,
     "metadata": {},
     "output_type": "execute_result"
    }
   ],
   "source": [
    "# lets get basic assistatnt\n",
    "assistant = sync_client.assistants.get(assistant_id='e50987df-a1cf-5045-882a-ec38b4f2c149')\n",
    "type(assistant)"
   ]
  },
  {
   "cell_type": "code",
   "execution_count": 23,
   "id": "cbb1ffa0",
   "metadata": {},
   "outputs": [
    {
     "data": {
      "text/plain": [
       "{'assistant_id': 'e50987df-a1cf-5045-882a-ec38b4f2c149',\n",
       " 'graph_id': 'basic',\n",
       " 'config': {},\n",
       " 'metadata': {'created_by': 'system'},\n",
       " 'name': 'basic',\n",
       " 'created_at': '2025-06-14T05:45:17.613162+00:00',\n",
       " 'updated_at': '2025-06-14T05:45:17.613162+00:00',\n",
       " 'version': 1,\n",
       " 'description': None}"
      ]
     },
     "execution_count": 23,
     "metadata": {},
     "output_type": "execute_result"
    }
   ],
   "source": [
    "assistant"
   ]
  },
  {
   "cell_type": "code",
   "execution_count": 25,
   "id": "ef7cecac",
   "metadata": {},
   "outputs": [
    {
     "data": {
      "text/plain": [
       "dict"
      ]
     },
     "execution_count": 25,
     "metadata": {},
     "output_type": "execute_result"
    }
   ],
   "source": [
    "graph = sync_client.assistants.get_graph('e50987df-a1cf-5045-882a-ec38b4f2c149')\n",
    "type(graph)"
   ]
  },
  {
   "cell_type": "code",
   "execution_count": 26,
   "id": "85fd06b9",
   "metadata": {},
   "outputs": [
    {
     "data": {
      "text/plain": [
       "{'nodes': [{'id': '__start__',\n",
       "   'type': 'runnable',\n",
       "   'data': {'id': ['langchain', 'schema', 'runnable', 'RunnablePassthrough'],\n",
       "    'name': '__start__'}},\n",
       "  {'id': 'node1',\n",
       "   'type': 'runnable',\n",
       "   'data': {'id': ['langgraph', 'utils', 'runnable', 'RunnableCallable'],\n",
       "    'name': 'node1'}},\n",
       "  {'id': 'node2',\n",
       "   'type': 'runnable',\n",
       "   'data': {'id': ['langgraph', 'utils', 'runnable', 'RunnableCallable'],\n",
       "    'name': 'node2'}},\n",
       "  {'id': 'node3',\n",
       "   'type': 'runnable',\n",
       "   'data': {'id': ['langgraph', 'utils', 'runnable', 'RunnableCallable'],\n",
       "    'name': 'node3'}},\n",
       "  {'id': 'node4',\n",
       "   'type': 'runnable',\n",
       "   'data': {'id': ['langgraph', 'utils', 'runnable', 'RunnableCallable'],\n",
       "    'name': 'node4'}},\n",
       "  {'id': 'node5',\n",
       "   'type': 'runnable',\n",
       "   'data': {'id': ['langgraph', 'utils', 'runnable', 'RunnableCallable'],\n",
       "    'name': 'node5'}},\n",
       "  {'id': '__end__'}],\n",
       " 'edges': [{'source': '__start__', 'target': 'node1'},\n",
       "  {'source': 'node1', 'target': 'node2'},\n",
       "  {'source': 'node2', 'target': 'node3'},\n",
       "  {'source': 'node3', 'target': 'node4'},\n",
       "  {'source': 'node4', 'target': 'node5'},\n",
       "  {'source': 'node5', 'target': '__end__'}]}"
      ]
     },
     "execution_count": 26,
     "metadata": {},
     "output_type": "execute_result"
    }
   ],
   "source": [
    "graph"
   ]
  },
  {
   "cell_type": "code",
   "execution_count": 15,
   "id": "74fb0dd5",
   "metadata": {},
   "outputs": [],
   "source": [
    "# async client\n",
    "from langgraph_sdk.client import LangGraphClient\n",
    "async_client:LangGraphClient = get_client(url=local_graph_url)"
   ]
  },
  {
   "cell_type": "code",
   "execution_count": 14,
   "id": "a1ee1c74",
   "metadata": {},
   "outputs": [
    {
     "data": {
      "text/plain": [
       "langgraph_sdk.client.LangGraphClient"
      ]
     },
     "execution_count": 14,
     "metadata": {},
     "output_type": "execute_result"
    }
   ],
   "source": [
    "type(async_client)"
   ]
  },
  {
   "cell_type": "code",
   "execution_count": 17,
   "id": "50732735",
   "metadata": {},
   "outputs": [
    {
     "data": {
      "text/plain": [
       "<langgraph_sdk.client.LangGraphClient at 0x2599d908cd0>"
      ]
     },
     "execution_count": 17,
     "metadata": {},
     "output_type": "execute_result"
    }
   ],
   "source": [
    "async_client"
   ]
  },
  {
   "cell_type": "code",
   "execution_count": 29,
   "id": "889e642c",
   "metadata": {},
   "outputs": [
    {
     "name": "stderr",
     "output_type": "stream",
     "text": [
      "C:\\Users\\DELL\\AppData\\Local\\Temp\\ipykernel_7568\\3185672965.py:1: RuntimeWarning: coroutine 'AssistantsClient.search' was never awaited\n",
      "  assistants = await async_client.assistants.search()\n",
      "RuntimeWarning: Enable tracemalloc to get the object allocation traceback\n"
     ]
    },
    {
     "data": {
      "text/plain": [
       "list"
      ]
     },
     "execution_count": 29,
     "metadata": {},
     "output_type": "execute_result"
    }
   ],
   "source": [
    "assistants = await async_client.assistants.search()\n",
    "type(assistants)"
   ]
  },
  {
   "cell_type": "code",
   "execution_count": 30,
   "id": "b38b68b3",
   "metadata": {},
   "outputs": [
    {
     "data": {
      "text/plain": [
       "[{'assistant_id': 'e50987df-a1cf-5045-882a-ec38b4f2c149',\n",
       "  'graph_id': 'basic',\n",
       "  'config': {},\n",
       "  'metadata': {'created_by': 'system'},\n",
       "  'name': 'basic',\n",
       "  'created_at': '2025-06-14T05:45:17.613162+00:00',\n",
       "  'updated_at': '2025-06-14T05:45:17.613162+00:00',\n",
       "  'version': 1,\n",
       "  'description': None}]"
      ]
     },
     "execution_count": 30,
     "metadata": {},
     "output_type": "execute_result"
    }
   ],
   "source": [
    "assistants"
   ]
  }
 ],
 "metadata": {
  "kernelspec": {
   "display_name": ".venv",
   "language": "python",
   "name": "python3"
  },
  "language_info": {
   "codemirror_mode": {
    "name": "ipython",
    "version": 3
   },
   "file_extension": ".py",
   "mimetype": "text/x-python",
   "name": "python",
   "nbconvert_exporter": "python",
   "pygments_lexer": "ipython3",
   "version": "3.11.9"
  }
 },
 "nbformat": 4,
 "nbformat_minor": 5
}
