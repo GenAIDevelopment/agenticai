{
 "cells": [
  {
   "cell_type": "code",
   "execution_count": 1,
   "id": "0e014b4b",
   "metadata": {},
   "outputs": [],
   "source": [
    "from langchain.chat_models import init_chat_model"
   ]
  },
  {
   "cell_type": "code",
   "execution_count": 3,
   "id": "f438fe6e",
   "metadata": {},
   "outputs": [],
   "source": [
    "def multiply(a: int, b: int) -> int:\n",
    "    \"\"\"Multiply a and b\n",
    "    Args:\n",
    "      a: first int\n",
    "      b: Second int\n",
    "    \"\"\"\n",
    "    return a * b\n",
    "\n",
    "def add(a: int, b: int) -> int:\n",
    "    \"\"\"Adds a and b\n",
    "    Args:\n",
    "      a: first int\n",
    "      b: Second int\n",
    "    \"\"\"\n",
    "    return a + b\n",
    "\n",
    "def divide(a: int, b: int) -> float:\n",
    "    \"\"\"Divide a by b\n",
    "    Args:\n",
    "      a: first int\n",
    "      b: Second int\n",
    "    \"\"\"\n",
    "    return a / b"
   ]
  },
  {
   "cell_type": "code",
   "execution_count": 4,
   "id": "446cf8d1",
   "metadata": {},
   "outputs": [],
   "source": [
    "tools = [add, multiply, divide]\n",
    "llm =  init_chat_model(\"gemini-2.0-flash-001\", model_provider=\"google_vertexai\")\n",
    "llm_with_tools = llm.bind_tools(tools)"
   ]
  },
  {
   "cell_type": "code",
   "execution_count": 7,
   "id": "55204f96",
   "metadata": {},
   "outputs": [],
   "source": [
    "from utils import draw_graph\n",
    "from langgraph.checkpoint.memory import MemorySaver\n",
    "from langgraph.graph import MessagesState, StateGraph, START, END\n",
    "from langgraph.prebuilt import tools_condition, ToolNode\n",
    "from langchain_core.messages import AIMessage, SystemMessage, HumanMessage\n"
   ]
  },
  {
   "cell_type": "code",
   "execution_count": null,
   "id": "aa996e9f",
   "metadata": {},
   "outputs": [
    {
     "data": {
      "text/plain": [
       "<langgraph.graph.state.StateGraph at 0x2089bfd2e90>"
      ]
     },
     "execution_count": 8,
     "metadata": {},
     "output_type": "execute_result"
    }
   ],
   "source": [
    "# System Message\n",
    "system_message = SystemMessage(content=\"You are an helpful assistant who can perform arthimetic operations\")\n",
    "\n",
    "# Node\n",
    "def assistant(state: MessagesState) -> MessagesState:\n",
    "    return {\"messages\": [llm_with_tools.invoke([system_message] + state[\"messages\"])]}\n",
    "\n",
    "# Graph\n",
    "builder = StateGraph(MessagesState)\n",
    "\n",
    "# Define nodes\n",
    "builder.add_node(\"assistant\", assistant)\n",
    "builder.add_node(\"tools\", ToolNode(tools))\n",
    "\n",
    "# Define edges\n",
    "builder.add_edge(START, \"assistant\")\n",
    "builder.add_conditional_edges(\n",
    "    \"assistant\",\n",
    "    tools_condition\n",
    ")\n",
    "\n",
    "builder.add_edge(\"tools\", \"assistant\")\n"
   ]
  },
  {
   "cell_type": "code",
   "execution_count": 9,
   "id": "a75e0b72",
   "metadata": {},
   "outputs": [
    {
     "data": {
      "image/png": "[encoded data removed]",
      "text/plain": [
       "<IPython.core.display.Image object>"
      ]
     },
     "metadata": {},
     "output_type": "display_data"
    }
   ],
   "source": [
    "memory = MemorySaver()\n",
    "graph = builder.compile(checkpointer=memory)\n",
    "draw_graph(graph)"
   ]
  },
  {
   "cell_type": "code",
   "execution_count": 10,
   "id": "89abc3a6",
   "metadata": {},
   "outputs": [
    {
     "name": "stdout",
     "output_type": "stream",
     "text": [
      "================================\u001b[1m Human Message \u001b[0m=================================\n",
      "\n",
      "multiply 3 and 5\n",
      "==================================\u001b[1m Ai Message \u001b[0m==================================\n",
      "Tool Calls:\n",
      "  multiply (82e5bd6c-6688-4787-b84f-6fc747601f46)\n",
      " Call ID: 82e5bd6c-6688-4787-b84f-6fc747601f46\n",
      "  Args:\n",
      "    a: 3.0\n",
      "    b: 5.0\n",
      "=================================\u001b[1m Tool Message \u001b[0m=================================\n",
      "Name: multiply\n",
      "\n",
      "15\n",
      "==================================\u001b[1m Ai Message \u001b[0m==================================\n",
      "\n",
      "The result of multiplying 3 and 5 is 15.\n"
     ]
    }
   ],
   "source": [
    "# input\n",
    "initial_input = {\"messages\": HumanMessage(content=\"multiply 3 and 5\")}\n",
    "\n",
    "# Thread\n",
    "thread = {\"configurable\": {\"thread_id\": \"1\"}}\n",
    "\n",
    "# Run the graph\n",
    "for event in graph.stream(\n",
    "    input=initial_input,\n",
    "    config=thread,\n",
    "    stream_mode=\"values\"):\n",
    "    event['messages'][-1].pretty_print()"
   ]
  },
  {
   "cell_type": "markdown",
   "id": "fbb603bf",
   "metadata": {},
   "source": [
    "# Browsing History"
   ]
  },
  {
   "cell_type": "code",
   "execution_count": 11,
   "id": "049547d2",
   "metadata": {},
   "outputs": [
    {
     "data": {
      "text/plain": [
       "StateSnapshot(values={'messages': [HumanMessage(content='multiply 3 and 5', additional_kwargs={}, response_metadata={}, id='33d55020-dc46-48c8-b5ed-bfc272a37bac'), AIMessage(content='', additional_kwargs={'function_call': {'name': 'multiply', 'arguments': '{\"a\": 3.0, \"b\": 5.0}'}}, response_metadata={'is_blocked': False, 'safety_ratings': [], 'usage_metadata': {'prompt_token_count': 99, 'candidates_token_count': 5, 'total_token_count': 104, 'prompt_tokens_details': [{'modality': 1, 'token_count': 99}], 'candidates_tokens_details': [{'modality': 1, 'token_count': 5}], 'thoughts_token_count': 0, 'cached_content_token_count': 0, 'cache_tokens_details': []}, 'finish_reason': 'STOP', 'model_name': 'gemini-2.0-flash-001'}, id='run--4adad785-b79e-4a9a-bbb4-46b32eff1a43-0', tool_calls=[{'name': 'multiply', 'args': {'a': 3.0, 'b': 5.0}, 'id': '82e5bd6c-6688-4787-b84f-6fc747601f46', 'type': 'tool_call'}], usage_metadata={'input_tokens': 99, 'output_tokens': 5, 'total_tokens': 104}), ToolMessage(content='15', name='multiply', id='5c10245c-fda0-4a8b-845b-bdb04356468c', tool_call_id='82e5bd6c-6688-4787-b84f-6fc747601f46'), AIMessage(content='The result of multiplying 3 and 5 is 15.\\n', additional_kwargs={}, response_metadata={'is_blocked': False, 'safety_ratings': [], 'usage_metadata': {'prompt_token_count': 108, 'candidates_token_count': 15, 'total_token_count': 123, 'prompt_tokens_details': [{'modality': 1, 'token_count': 108}], 'candidates_tokens_details': [{'modality': 1, 'token_count': 15}], 'thoughts_token_count': 0, 'cached_content_token_count': 0, 'cache_tokens_details': []}, 'finish_reason': 'STOP', 'avg_logprobs': -0.002890969812870026, 'model_name': 'gemini-2.0-flash-001'}, id='run--eb41fc79-bc34-4f6b-b43e-76229aea386a-0', usage_metadata={'input_tokens': 108, 'output_tokens': 15, 'total_tokens': 123})]}, next=(), config={'configurable': {'thread_id': '1', 'checkpoint_ns': '', 'checkpoint_id': '1f049ab6-f89a-635d-8003-74a7ba065637'}}, metadata={'source': 'loop', 'writes': {'assistant': {'messages': [AIMessage(content='The result of multiplying 3 and 5 is 15.\\n', additional_kwargs={}, response_metadata={'is_blocked': False, 'safety_ratings': [], 'usage_metadata': {'prompt_token_count': 108, 'candidates_token_count': 15, 'total_token_count': 123, 'prompt_tokens_details': [{'modality': 1, 'token_count': 108}], 'candidates_tokens_details': [{'modality': 1, 'token_count': 15}], 'thoughts_token_count': 0, 'cached_content_token_count': 0, 'cache_tokens_details': []}, 'finish_reason': 'STOP', 'avg_logprobs': -0.002890969812870026, 'model_name': 'gemini-2.0-flash-001'}, id='run--eb41fc79-bc34-4f6b-b43e-76229aea386a-0', usage_metadata={'input_tokens': 108, 'output_tokens': 15, 'total_tokens': 123})]}}, 'step': 3, 'parents': {}, 'thread_id': '1'}, created_at='2025-06-15T05:41:50.801186+00:00', parent_config={'configurable': {'thread_id': '1', 'checkpoint_ns': '', 'checkpoint_id': '1f049ab6-f24f-61b0-8002-e5930a392db2'}}, tasks=(), interrupts=())"
      ]
     },
     "execution_count": 11,
     "metadata": {},
     "output_type": "execute_result"
    }
   ],
   "source": [
    "graph.get_state(config=thread)"
   ]
  },
  {
   "cell_type": "code",
   "execution_count": 12,
   "id": "0091c572",
   "metadata": {},
   "outputs": [],
   "source": [
    "all_states = [ state for state in graph.get_state_history(thread)]"
   ]
  },
  {
   "cell_type": "code",
   "execution_count": 13,
   "id": "14f93924",
   "metadata": {},
   "outputs": [
    {
     "data": {
      "text/plain": [
       "5"
      ]
     },
     "execution_count": 13,
     "metadata": {},
     "output_type": "execute_result"
    }
   ],
   "source": [
    "len(all_states)"
   ]
  },
  {
   "cell_type": "code",
   "execution_count": 14,
   "id": "ef406535",
   "metadata": {},
   "outputs": [
    {
     "data": {
      "text/plain": [
       "StateSnapshot(values={'messages': [HumanMessage(content='multiply 3 and 5', additional_kwargs={}, response_metadata={}, id='33d55020-dc46-48c8-b5ed-bfc272a37bac')]}, next=('assistant',), config={'configurable': {'thread_id': '1', 'checkpoint_ns': '', 'checkpoint_id': '1f049ab6-cd5b-6c2f-8000-71a90aae95eb'}}, metadata={'source': 'loop', 'writes': None, 'step': 0, 'parents': {}, 'thread_id': '1'}, created_at='2025-06-15T05:41:46.266731+00:00', parent_config={'configurable': {'thread_id': '1', 'checkpoint_ns': '', 'checkpoint_id': '1f049ab6-cd51-6f56-bfff-9772197cd613'}}, tasks=(PregelTask(id='6fb3056b-08c0-4d4d-104b-7c900ed2ad57', name='assistant', path=('__pregel_pull', 'assistant'), error=None, interrupts=(), state=None, result={'messages': [AIMessage(content='', additional_kwargs={'function_call': {'name': 'multiply', 'arguments': '{\"a\": 3.0, \"b\": 5.0}'}}, response_metadata={'is_blocked': False, 'safety_ratings': [], 'usage_metadata': {'prompt_token_count': 99, 'candidates_token_count': 5, 'total_token_count': 104, 'prompt_tokens_details': [{'modality': 1, 'token_count': 99}], 'candidates_tokens_details': [{'modality': 1, 'token_count': 5}], 'thoughts_token_count': 0, 'cached_content_token_count': 0, 'cache_tokens_details': []}, 'finish_reason': 'STOP', 'model_name': 'gemini-2.0-flash-001'}, id='run--4adad785-b79e-4a9a-bbb4-46b32eff1a43-0', tool_calls=[{'name': 'multiply', 'args': {'a': 3.0, 'b': 5.0}, 'id': '82e5bd6c-6688-4787-b84f-6fc747601f46', 'type': 'tool_call'}], usage_metadata={'input_tokens': 99, 'output_tokens': 5, 'total_tokens': 104})]}),), interrupts=())"
      ]
     },
     "execution_count": 14,
     "metadata": {},
     "output_type": "execute_result"
    }
   ],
   "source": [
    "all_states[-2]\n"
   ]
  },
  {
   "cell_type": "code",
   "execution_count": 15,
   "id": "7117125c",
   "metadata": {},
   "outputs": [],
   "source": [
    "to_replay = all_states[-2]"
   ]
  },
  {
   "cell_type": "code",
   "execution_count": 16,
   "id": "4ad336ee",
   "metadata": {},
   "outputs": [
    {
     "data": {
      "text/plain": [
       "StateSnapshot(values={'messages': [HumanMessage(content='multiply 3 and 5', additional_kwargs={}, response_metadata={}, id='33d55020-dc46-48c8-b5ed-bfc272a37bac')]}, next=('assistant',), config={'configurable': {'thread_id': '1', 'checkpoint_ns': '', 'checkpoint_id': '1f049ab6-cd5b-6c2f-8000-71a90aae95eb'}}, metadata={'source': 'loop', 'writes': None, 'step': 0, 'parents': {}, 'thread_id': '1'}, created_at='2025-06-15T05:41:46.266731+00:00', parent_config={'configurable': {'thread_id': '1', 'checkpoint_ns': '', 'checkpoint_id': '1f049ab6-cd51-6f56-bfff-9772197cd613'}}, tasks=(PregelTask(id='6fb3056b-08c0-4d4d-104b-7c900ed2ad57', name='assistant', path=('__pregel_pull', 'assistant'), error=None, interrupts=(), state=None, result={'messages': [AIMessage(content='', additional_kwargs={'function_call': {'name': 'multiply', 'arguments': '{\"a\": 3.0, \"b\": 5.0}'}}, response_metadata={'is_blocked': False, 'safety_ratings': [], 'usage_metadata': {'prompt_token_count': 99, 'candidates_token_count': 5, 'total_token_count': 104, 'prompt_tokens_details': [{'modality': 1, 'token_count': 99}], 'candidates_tokens_details': [{'modality': 1, 'token_count': 5}], 'thoughts_token_count': 0, 'cached_content_token_count': 0, 'cache_tokens_details': []}, 'finish_reason': 'STOP', 'model_name': 'gemini-2.0-flash-001'}, id='run--4adad785-b79e-4a9a-bbb4-46b32eff1a43-0', tool_calls=[{'name': 'multiply', 'args': {'a': 3.0, 'b': 5.0}, 'id': '82e5bd6c-6688-4787-b84f-6fc747601f46', 'type': 'tool_call'}], usage_metadata={'input_tokens': 99, 'output_tokens': 5, 'total_tokens': 104})]}),), interrupts=())"
      ]
     },
     "execution_count": 16,
     "metadata": {},
     "output_type": "execute_result"
    }
   ],
   "source": [
    "to_replay"
   ]
  },
  {
   "cell_type": "code",
   "execution_count": 17,
   "id": "987c32b3",
   "metadata": {},
   "outputs": [
    {
     "data": {
      "text/plain": [
       "{'messages': [HumanMessage(content='multiply 3 and 5', additional_kwargs={}, response_metadata={}, id='33d55020-dc46-48c8-b5ed-bfc272a37bac')]}"
      ]
     },
     "execution_count": 17,
     "metadata": {},
     "output_type": "execute_result"
    }
   ],
   "source": [
    "to_replay.values"
   ]
  },
  {
   "cell_type": "code",
   "execution_count": 18,
   "id": "f6f1c396",
   "metadata": {},
   "outputs": [
    {
     "data": {
      "text/plain": [
       "('assistant',)"
      ]
     },
     "execution_count": 18,
     "metadata": {},
     "output_type": "execute_result"
    }
   ],
   "source": [
    "to_replay.next"
   ]
  },
  {
   "cell_type": "code",
   "execution_count": 19,
   "id": "81186b2e",
   "metadata": {},
   "outputs": [
    {
     "data": {
      "text/plain": [
       "{'configurable': {'thread_id': '1',\n",
       "  'checkpoint_ns': '',\n",
       "  'checkpoint_id': '1f049ab6-cd5b-6c2f-8000-71a90aae95eb'}}"
      ]
     },
     "execution_count": 19,
     "metadata": {},
     "output_type": "execute_result"
    }
   ],
   "source": [
    "to_replay.config"
   ]
  },
  {
   "cell_type": "code",
   "execution_count": 20,
   "id": "0c5d3634",
   "metadata": {},
   "outputs": [
    {
     "name": "stdout",
     "output_type": "stream",
     "text": [
      "================================\u001b[1m Human Message \u001b[0m=================================\n",
      "\n",
      "multiply 3 and 5\n",
      "==================================\u001b[1m Ai Message \u001b[0m==================================\n",
      "Tool Calls:\n",
      "  multiply (2a1aa59c-b3e9-42ca-bfe7-344d1902ed8c)\n",
      " Call ID: 2a1aa59c-b3e9-42ca-bfe7-344d1902ed8c\n",
      "  Args:\n",
      "    a: 3.0\n",
      "    b: 5.0\n",
      "=================================\u001b[1m Tool Message \u001b[0m=================================\n",
      "Name: multiply\n",
      "\n",
      "15\n",
      "==================================\u001b[1m Ai Message \u001b[0m==================================\n",
      "\n",
      "The result of multiplying 3 and 5 is 15.\n"
     ]
    }
   ],
   "source": [
    "for event in graph.stream(input=None, config=to_replay.config, stream_mode=\"values\"):\n",
    "    event['messages'][-1].pretty_print()"
   ]
  },
  {
   "cell_type": "markdown",
   "id": "e9b7db1c",
   "metadata": {},
   "source": [
    "## Forking"
   ]
  },
  {
   "cell_type": "code",
   "execution_count": 21,
   "id": "d73081ae",
   "metadata": {},
   "outputs": [
    {
     "data": {
      "text/plain": [
       "[HumanMessage(content='multiply 3 and 5', additional_kwargs={}, response_metadata={}, id='33d55020-dc46-48c8-b5ed-bfc272a37bac')]"
      ]
     },
     "execution_count": 21,
     "metadata": {},
     "output_type": "execute_result"
    }
   ],
   "source": [
    "to_fork = all_states[-2]\n",
    "to_fork.values[\"messages\"]"
   ]
  },
  {
   "cell_type": "code",
   "execution_count": 22,
   "id": "4e7d3453",
   "metadata": {},
   "outputs": [
    {
     "data": {
      "text/plain": [
       "{'configurable': {'thread_id': '1',\n",
       "  'checkpoint_ns': '',\n",
       "  'checkpoint_id': '1f049ab6-cd5b-6c2f-8000-71a90aae95eb'}}"
      ]
     },
     "execution_count": 22,
     "metadata": {},
     "output_type": "execute_result"
    }
   ],
   "source": [
    "to_fork.config"
   ]
  },
  {
   "cell_type": "code",
   "execution_count": 23,
   "id": "cd2fcc5a",
   "metadata": {},
   "outputs": [],
   "source": [
    "# to modify state\n",
    "fork_config = graph.update_state(\n",
    "    to_fork.config, # old config\n",
    "    {\"messages\": [HumanMessage(content='Add 5 and 3', id = to_fork.values[\"messages\"][0].id)]},\n",
    "\n",
    "    )"
   ]
  },
  {
   "cell_type": "code",
   "execution_count": 24,
   "id": "9e378dc1",
   "metadata": {},
   "outputs": [
    {
     "data": {
      "text/plain": [
       "{'configurable': {'thread_id': '1',\n",
       "  'checkpoint_ns': '',\n",
       "  'checkpoint_id': '1f049ad9-51f5-69aa-8001-bb50cc9de84f'}}"
      ]
     },
     "execution_count": 24,
     "metadata": {},
     "output_type": "execute_result"
    }
   ],
   "source": [
    "fork_config"
   ]
  },
  {
   "cell_type": "code",
   "execution_count": 26,
   "id": "e115abde",
   "metadata": {},
   "outputs": [
    {
     "data": {
      "text/plain": [
       "[HumanMessage(content='Add 5 and 3', additional_kwargs={}, response_metadata={}, id='33d55020-dc46-48c8-b5ed-bfc272a37bac')]"
      ]
     },
     "execution_count": 26,
     "metadata": {},
     "output_type": "execute_result"
    }
   ],
   "source": [
    "all_states = [ state for state in graph.get_state_history(thread)]\n",
    "all_states[0].values[\"messages\"]"
   ]
  },
  {
   "cell_type": "code",
   "execution_count": 27,
   "id": "5b222c98",
   "metadata": {},
   "outputs": [
    {
     "data": {
      "text/plain": [
       "StateSnapshot(values={'messages': [HumanMessage(content='Add 5 and 3', additional_kwargs={}, response_metadata={}, id='33d55020-dc46-48c8-b5ed-bfc272a37bac')]}, next=('assistant',), config={'configurable': {'thread_id': '1', 'checkpoint_ns': '', 'checkpoint_id': '1f049ad9-51f5-69aa-8001-bb50cc9de84f'}}, metadata={'source': 'update', 'writes': {'__start__': {'messages': [HumanMessage(content='Add 5 and 3', additional_kwargs={}, response_metadata={}, id='33d55020-dc46-48c8-b5ed-bfc272a37bac')]}}, 'step': 1, 'parents': {}, 'thread_id': '1', 'checkpoint_ns': '', 'checkpoint_id': '1f049ab6-cd5b-6c2f-8000-71a90aae95eb'}, created_at='2025-06-15T05:57:12.851498+00:00', parent_config={'configurable': {'thread_id': '1', 'checkpoint_ns': '', 'checkpoint_id': '1f049ab6-cd5b-6c2f-8000-71a90aae95eb'}}, tasks=(PregelTask(id='ea0d3f7e-da3c-a856-9ea7-876e618b2955', name='assistant', path=('__pregel_pull', 'assistant'), error=None, interrupts=(), state=None, result=None),), interrupts=())"
      ]
     },
     "execution_count": 27,
     "metadata": {},
     "output_type": "execute_result"
    }
   ],
   "source": [
    "graph.get_state(thread)"
   ]
  },
  {
   "cell_type": "code",
   "execution_count": 29,
   "id": "832c7f81",
   "metadata": {},
   "outputs": [
    {
     "name": "stdout",
     "output_type": "stream",
     "text": [
      "================================\u001b[1m Human Message \u001b[0m=================================\n",
      "\n",
      "Add 5 and 3\n",
      "==================================\u001b[1m Ai Message \u001b[0m==================================\n",
      "Tool Calls:\n",
      "  add (d247e244-10b8-429c-9cee-d59d69838e9a)\n",
      " Call ID: d247e244-10b8-429c-9cee-d59d69838e9a\n",
      "  Args:\n",
      "    a: 5.0\n",
      "    b: 3.0\n",
      "=================================\u001b[1m Tool Message \u001b[0m=================================\n",
      "Name: add\n",
      "\n",
      "8\n",
      "==================================\u001b[1m Ai Message \u001b[0m==================================\n",
      "\n",
      "The sum of 5 and 3 is 8.\n"
     ]
    }
   ],
   "source": [
    "for event in graph.stream(None, fork_config, stream_mode=\"values\"):\n",
    "    event[\"messages\"][-1].pretty_print()"
   ]
  }
 ],
 "metadata": {
  "kernelspec": {
   "display_name": ".venv",
   "language": "python",
   "name": "python3"
  },
  "language_info": {
   "codemirror_mode": {
    "name": "ipython",
    "version": 3
   },
   "file_extension": ".py",
   "mimetype": "text/x-python",
   "name": "python",
   "nbconvert_exporter": "python",
   "pygments_lexer": "ipython3",
   "version": "3.11.9"
  }
 },
 "nbformat": 4,
 "nbformat_minor": 5
}
