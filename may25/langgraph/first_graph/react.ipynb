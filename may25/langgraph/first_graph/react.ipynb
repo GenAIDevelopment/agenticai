{
 "cells": [
  {
   "cell_type": "code",
   "execution_count": 1,
   "id": "0c6de8f2",
   "metadata": {},
   "outputs": [
    {
     "data": {
      "text/plain": [
       "True"
      ]
     },
     "execution_count": 1,
     "metadata": {},
     "output_type": "execute_result"
    }
   ],
   "source": [
    "from dotenv import load_dotenv\n",
    "load_dotenv()"
   ]
  },
  {
   "cell_type": "code",
   "execution_count": 2,
   "id": "6d07e58c",
   "metadata": {},
   "outputs": [],
   "source": [
    "from langgraph.graph import StateGraph, MessagesState, START, END\n",
    "from langgraph.prebuilt import ToolNode"
   ]
  },
  {
   "cell_type": "code",
   "execution_count": 3,
   "id": "3fea8598",
   "metadata": {},
   "outputs": [],
   "source": [
    "from langchain.chat_models import init_chat_model"
   ]
  },
  {
   "cell_type": "code",
   "execution_count": 4,
   "id": "5709d959",
   "metadata": {},
   "outputs": [],
   "source": [
    "gemini_llm = init_chat_model(model=\"gemini-2.0-flash-lite-001\", model_provider=\"google_vertexai\")"
   ]
  },
  {
   "cell_type": "code",
   "execution_count": 5,
   "id": "c86c84ea",
   "metadata": {},
   "outputs": [],
   "source": [
    "# Tools are where we have our functionality and we want llm to call our tool\n",
    "from langchain.tools import tool\n",
    "\n",
    "@tool(\"addition\", parse_docstring=True, return_direct=True)\n",
    "def add(a: int, b: int) -> int:\n",
    "    \"\"\"Addition of two numbers\n",
    "\n",
    "    Args:\n",
    "      a : number\n",
    "      b : number\n",
    "\n",
    "    Returns: sum of a, b\n",
    "    \"\"\"\n",
    "    return a + b"
   ]
  },
  {
   "cell_type": "code",
   "execution_count": 6,
   "id": "97a5c492",
   "metadata": {},
   "outputs": [],
   "source": [
    "@tool(\"subtraction\", parse_docstring=True, return_direct=True)\n",
    "def sub(a: int, b: int) -> int:\n",
    "    \"\"\"Subtract two numbers\n",
    "\n",
    "    Args:\n",
    "      a : number\n",
    "      b : number\n",
    "\n",
    "    \"\"\"\n",
    "    return a - b"
   ]
  },
  {
   "cell_type": "code",
   "execution_count": 7,
   "id": "c51223b6",
   "metadata": {},
   "outputs": [],
   "source": [
    "@tool(\"multipy\", parse_docstring=True, return_direct=True)\n",
    "def mul(a: int, b: int) -> int:\n",
    "    \"\"\"Multiplication of two numbers\n",
    "\n",
    "    Args:\n",
    "      a : number\n",
    "      b : number\n",
    "\n",
    "    \"\"\"\n",
    "    return a * b"
   ]
  },
  {
   "cell_type": "code",
   "execution_count": 8,
   "id": "4987546b",
   "metadata": {},
   "outputs": [],
   "source": [
    "@tool(\"divide\", parse_docstring=True, return_direct=True)\n",
    "def div(a: int, b: int) -> int:\n",
    "    \"\"\"division of two numbers\n",
    "\n",
    "    Args:\n",
    "      a : number\n",
    "      b : number\n",
    "\n",
    "    \"\"\"\n",
    "    return a // b"
   ]
  },
  {
   "cell_type": "code",
   "execution_count": 10,
   "id": "524ba023",
   "metadata": {},
   "outputs": [],
   "source": [
    "from langgraph.prebuilt import create_react_agent\n",
    "from langchain_core.messages import SystemMessage"
   ]
  },
  {
   "cell_type": "code",
   "execution_count": 11,
   "id": "6452e4c3",
   "metadata": {},
   "outputs": [],
   "source": [
    "from IPython.display import Image, display\n",
    "def display_graph(graph):\n",
    "    display(Image(graph.get_graph().draw_mermaid_png()))"
   ]
  },
  {
   "cell_type": "code",
   "execution_count": 12,
   "id": "07f27f28",
   "metadata": {},
   "outputs": [],
   "source": [
    "tool_node = ToolNode([add, sub, mul,div])\n",
    "prompt = SystemMessage(\"You are an helpful assistantf\")\n",
    "agent = create_react_agent(\n",
    "    model=gemini_llm,\n",
    "    tools=tool_node,\n",
    "    prompt=prompt)"
   ]
  },
  {
   "cell_type": "code",
   "execution_count": 13,
   "id": "12fe73f5",
   "metadata": {},
   "outputs": [
    {
     "data": {
      "image/png": "[encoded data removed]",
      "text/plain": [
       "<IPython.core.display.Image object>"
      ]
     },
     "metadata": {},
     "output_type": "display_data"
    }
   ],
   "source": [
    "display_graph(agent)"
   ]
  },
  {
   "cell_type": "code",
   "execution_count": 14,
   "id": "12962439",
   "metadata": {},
   "outputs": [],
   "source": [
    "response = agent.invoke({\"messages\": \"What is 4 * 5 ?\"})"
   ]
  },
  {
   "cell_type": "code",
   "execution_count": 17,
   "id": "5f15b6af",
   "metadata": {},
   "outputs": [
    {
     "name": "stdout",
     "output_type": "stream",
     "text": [
      "================================\u001b[1m Human Message \u001b[0m=================================\n",
      "\n",
      "i have 2 pens bought 2 more, how many pens will i have now ?\n",
      "==================================\u001b[1m Ai Message \u001b[0m==================================\n",
      "Tool Calls:\n",
      "  addition (0bf48dff-f1f4-4ac7-84b5-325d0f63d23b)\n",
      " Call ID: 0bf48dff-f1f4-4ac7-84b5-325d0f63d23b\n",
      "  Args:\n",
      "    a: 2.0\n",
      "    b: 2.0\n",
      "=================================\u001b[1m Tool Message \u001b[0m=================================\n",
      "Name: addition\n",
      "\n",
      "4\n"
     ]
    }
   ],
   "source": [
    "user_input = input(\"Enter your question ?\")\n",
    "for step in agent.stream(\n",
    "    {\"messages\": user_input},\n",
    "    stream_mode=\"values\",\n",
    "):\n",
    "    step[\"messages\"][-1].pretty_print()"
   ]
  }
 ],
 "metadata": {
  "kernelspec": {
   "display_name": ".venv",
   "language": "python",
   "name": "python3"
  },
  "language_info": {
   "codemirror_mode": {
    "name": "ipython",
    "version": 3
   },
   "file_extension": ".py",
   "mimetype": "text/x-python",
   "name": "python",
   "nbconvert_exporter": "python",
   "pygments_lexer": "ipython3",
   "version": "3.11.9"
  }
 },
 "nbformat": 4,
 "nbformat_minor": 5
}
