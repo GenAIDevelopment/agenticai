{
 "cells": [
  {
   "cell_type": "code",
   "execution_count": 5,
   "id": "7d98fc1b",
   "metadata": {},
   "outputs": [
    {
     "name": "stdout",
     "output_type": "stream",
     "text": [
      "Requirement already satisfied: python-dotenv in c:\\khajaclassroom\\generativeai\\agenticai\\may25\\langgraph\\first_graph\\.venv\\lib\\site-packages (1.1.0)\n",
      "Note: you may need to restart the kernel to use updated packages.\n"
     ]
    },
    {
     "name": "stderr",
     "output_type": "stream",
     "text": [
      "\n",
      "[notice] A new release of pip is available: 24.0 -> 25.1.1\n",
      "[notice] To update, run: python.exe -m pip install --upgrade pip\n"
     ]
    }
   ],
   "source": [
    "%pip install python-dotenv"
   ]
  },
  {
   "cell_type": "code",
   "execution_count": 6,
   "id": "4151fd2a",
   "metadata": {},
   "outputs": [
    {
     "data": {
      "text/plain": [
       "True"
      ]
     },
     "execution_count": 6,
     "metadata": {},
     "output_type": "execute_result"
    }
   ],
   "source": [
    "from dotenv import load_dotenv\n",
    "load_dotenv()"
   ]
  },
  {
   "cell_type": "code",
   "execution_count": 7,
   "id": "f2dc076c",
   "metadata": {},
   "outputs": [],
   "source": [
    "from langgraph.graph import StateGraph, MessagesState, START, END\n",
    "from langgraph.prebuilt import ToolNode"
   ]
  },
  {
   "cell_type": "code",
   "execution_count": 8,
   "id": "5859f3a1",
   "metadata": {},
   "outputs": [],
   "source": [
    "from langchain.chat_models import init_chat_model\n",
    "# https://python.langchain.com/docs/integrations/tools/tavily_search/\n"
   ]
  },
  {
   "cell_type": "code",
   "execution_count": 9,
   "id": "33a0cac9",
   "metadata": {},
   "outputs": [
    {
     "name": "stdout",
     "output_type": "stream",
     "text": [
      "Note: you may need to restart the kernel to use updated packages.\n"
     ]
    },
    {
     "name": "stderr",
     "output_type": "stream",
     "text": [
      "\n",
      "[notice] A new release of pip is available: 24.0 -> 25.1.1\n",
      "[notice] To update, run: python.exe -m pip install --upgrade pip\n"
     ]
    }
   ],
   "source": [
    "%pip install -qU langchain-tavily"
   ]
  },
  {
   "cell_type": "code",
   "execution_count": 10,
   "id": "243f33ed",
   "metadata": {},
   "outputs": [],
   "source": [
    "from langchain_tavily import TavilySearch"
   ]
  },
  {
   "cell_type": "code",
   "execution_count": 11,
   "id": "ce79c84f",
   "metadata": {},
   "outputs": [],
   "source": [
    "tavily_tool = TavilySearch(\n",
    "    max_results=3,\n",
    "    topic=\"general\",\n",
    "    # include_answer=False,\n",
    "    # include_raw_content=False,\n",
    "    # include_images=False,\n",
    "    # include_image_descriptions=False,\n",
    "    # search_depth=\"basic\",\n",
    "    # time_range=\"day\",\n",
    "    # include_domains=None,\n",
    "    # exclude_domains=None\n",
    ")"
   ]
  },
  {
   "cell_type": "code",
   "execution_count": 12,
   "id": "87221004",
   "metadata": {},
   "outputs": [],
   "source": [
    "gemini_llm = init_chat_model(model=\"gemini-2.0-flash-lite-001\", model_provider=\"google_vertexai\")"
   ]
  },
  {
   "cell_type": "code",
   "execution_count": 13,
   "id": "4c007161",
   "metadata": {},
   "outputs": [],
   "source": [
    "tool_node = ToolNode([tavily_tool])\n",
    "gemini_llm_with_tools = gemini_llm.bind_tools([tavily_tool])"
   ]
  },
  {
   "cell_type": "code",
   "execution_count": 14,
   "id": "a313181d",
   "metadata": {},
   "outputs": [],
   "source": [
    "def call_model(state: MessagesState) -> MessagesState:\n",
    "    state['messages'] = gemini_llm_with_tools.invoke(state['messages'])\n",
    "    return state"
   ]
  },
  {
   "cell_type": "code",
   "execution_count": 15,
   "id": "d5ca97ef",
   "metadata": {},
   "outputs": [],
   "source": [
    "tools_graph_builder = StateGraph(MessagesState)\n",
    "tools_graph_builder.add_node(\"llm\", call_model)\n",
    "tools_graph_builder.add_node(\"tools\", tool_node)\n",
    "tools_graph_builder.add_edge(\"llm\", \"tools\")\n",
    "tools_graph_builder.set_entry_point(\"llm\")\n",
    "tools_graph_builder.set_finish_point(\"tools\")\n",
    "tools_graph = tools_graph_builder.compile()"
   ]
  },
  {
   "cell_type": "code",
   "execution_count": 16,
   "id": "92c8c44e",
   "metadata": {},
   "outputs": [
    {
     "data": {
      "image/png": "[encoded data removed]",
      "text/plain": [
       "<IPython.core.display.Image object>"
      ]
     },
     "metadata": {},
     "output_type": "display_data"
    }
   ],
   "source": [
    "from IPython.display import Image, display\n",
    "display(Image(tools_graph.get_graph().draw_mermaid_png()))"
   ]
  },
  {
   "cell_type": "code",
   "execution_count": 17,
   "id": "82b09a76",
   "metadata": {},
   "outputs": [],
   "source": [
    "results = tools_graph.invoke({\"messages\": \"What are latest updates from Google Gemini?\"})"
   ]
  },
  {
   "cell_type": "code",
   "execution_count": 18,
   "id": "32401355",
   "metadata": {},
   "outputs": [
    {
     "data": {
      "text/plain": [
       "{'messages': [HumanMessage(content='What are latest updates from Google Gemini?', additional_kwargs={}, response_metadata={}, id='0530d1e6-a646-4bef-ac63-f3d664fdfdff'),\n",
       "  AIMessage(content='', additional_kwargs={'function_call': {'name': 'tavily_search', 'arguments': '{\"query\": \"latest updates from Google Gemini\", \"topic\": \"general\"}'}}, response_metadata={'is_blocked': False, 'safety_ratings': [], 'usage_metadata': {'prompt_token_count': 770, 'candidates_token_count': 12, 'total_token_count': 782, 'prompt_tokens_details': [{'modality': 1, 'token_count': 770}], 'candidates_tokens_details': [{'modality': 1, 'token_count': 12}], 'thoughts_token_count': 0, 'cached_content_token_count': 0, 'cache_tokens_details': []}, 'finish_reason': 'STOP', 'avg_logprobs': -0.07308511435985565, 'model_name': 'gemini-2.0-flash-lite-001'}, id='run--484ca330-ee1d-4646-beb9-b3c65f99a421-0', tool_calls=[{'name': 'tavily_search', 'args': {'query': 'latest updates from Google Gemini', 'topic': 'general'}, 'id': '99ea71f9-8b47-424d-a6d2-5221b6e4b1bb', 'type': 'tool_call'}], usage_metadata={'input_tokens': 770, 'output_tokens': 12, 'total_tokens': 782}),\n",
       "  ToolMessage(content='{\"query\": \"latest updates from Google Gemini\", \"follow_up_questions\": null, \"answer\": null, \"images\": [], \"results\": [{\"title\": \"\\u200eGemini Apps\\' release updates & improvements\", \"url\": \"https://gemini.google.com/updates\", \"content\": \"Explore the latest updates from Gemini Apps - including improvements in generative AI capabilities, expanded access, and more. ... Gemini Advanced gives you access to our most capable AI model, 1.0 Ultra. If you want to be one of the first to access Google\\'s latest AI advancements as they become available, this is for you. With our 1.0 Ultra\", \"score\": 0.8409005, \"raw_content\": null}, {\"title\": \"Gemini just saw a huge upgrade to its AI model - Tom\\'s Guide\", \"url\": \"https://www.tomsguide.com/ai/gemini-just-saw-a-huge-upgrade-to-its-ai-model-heres-everything-new-you-can-do\", \"content\": \"(Image credit: Google) The main update for 2.5 Pro from Google came early.Announced in the first week of May, this update improved Gemini 2.5 Pro\\'s ability to build interactive web apps.\", \"score\": 0.76972175, \"raw_content\": null}, {\"title\": \"Gemini App: 7 updates from Google I/O 2025 - The Keyword\", \"url\": \"https://blog.google/products/gemini/gemini-app-updates-io-2025/\", \"content\": \"Produce stunning visuals and videos with Imagen 4 and Veo 3. The Gemini app makes it easy to go from an idea to breathtaking images and videos. Whether you\\'re designing a sleek professional presentation, whipping up social media graphics or crafting event invitations, Imagen 4 delivers visuals that pop with lifelike detail and better text and typography outputs.\", \"score\": 0.68697983, \"raw_content\": null}], \"response_time\": 2.29}', name='tavily_search', id='8dbb6818-1c6f-4eb2-b8d7-0c1856c00de5', tool_call_id='99ea71f9-8b47-424d-a6d2-5221b6e4b1bb')]}"
      ]
     },
     "execution_count": 18,
     "metadata": {},
     "output_type": "execute_result"
    }
   ],
   "source": [
    "results"
   ]
  },
  {
   "cell_type": "code",
   "execution_count": 19,
   "id": "4a58de9c",
   "metadata": {},
   "outputs": [
    {
     "data": {
      "text/plain": [
       "{'query': 'latest updates from Google Gemini',\n",
       " 'follow_up_questions': None,\n",
       " 'answer': None,\n",
       " 'images': [],\n",
       " 'results': [{'title': \"\\u200eGemini Apps' release updates & improvements\",\n",
       "   'url': 'https://gemini.google.com/updates',\n",
       "   'content': \"Explore the latest updates from Gemini Apps - including improvements in generative AI capabilities, expanded access, and more. ... Gemini Advanced gives you access to our most capable AI model, 1.0 Ultra. If you want to be one of the first to access Google's latest AI advancements as they become available, this is for you. With our 1.0 Ultra\",\n",
       "   'score': 0.8409005,\n",
       "   'raw_content': None},\n",
       "  {'title': \"Gemini just saw a huge upgrade to its AI model - Tom's Guide\",\n",
       "   'url': 'https://www.tomsguide.com/ai/gemini-just-saw-a-huge-upgrade-to-its-ai-model-heres-everything-new-you-can-do',\n",
       "   'content': \"(Image credit: Google) The main update for 2.5 Pro from Google came early.Announced in the first week of May, this update improved Gemini 2.5 Pro's ability to build interactive web apps.\",\n",
       "   'score': 0.76972175,\n",
       "   'raw_content': None},\n",
       "  {'title': 'Gemini App: 7 updates from Google I/O 2025 - The Keyword',\n",
       "   'url': 'https://blog.google/products/gemini/gemini-app-updates-io-2025/',\n",
       "   'content': \"Produce stunning visuals and videos with Imagen 4 and Veo 3. The Gemini app makes it easy to go from an idea to breathtaking images and videos. Whether you're designing a sleek professional presentation, whipping up social media graphics or crafting event invitations, Imagen 4 delivers visuals that pop with lifelike detail and better text and typography outputs.\",\n",
       "   'score': 0.68697983,\n",
       "   'raw_content': None}],\n",
       " 'response_time': 2.29}"
      ]
     },
     "execution_count": 19,
     "metadata": {},
     "output_type": "execute_result"
    }
   ],
   "source": [
    "import json\n",
    "parsed_result = json.loads(results['messages'][-1].content)\n",
    "parsed_result"
   ]
  },
  {
   "cell_type": "code",
   "execution_count": 20,
   "id": "3a9d8ef1",
   "metadata": {},
   "outputs": [
    {
     "name": "stdout",
     "output_type": "stream",
     "text": [
      "Explore the latest updates from Gemini Apps - including improvements in generative AI capabilities, expanded access, and more. ... Gemini Advanced gives you access to our most capable AI model, 1.0 Ultra. If you want to be one of the first to access Google's latest AI advancements as they become available, this is for you. With our 1.0 Ultra\n",
      "(Image credit: Google) The main update for 2.5 Pro from Google came early.Announced in the first week of May, this update improved Gemini 2.5 Pro's ability to build interactive web apps.\n",
      "Produce stunning visuals and videos with Imagen 4 and Veo 3. The Gemini app makes it easy to go from an idea to breathtaking images and videos. Whether you're designing a sleek professional presentation, whipping up social media graphics or crafting event invitations, Imagen 4 delivers visuals that pop with lifelike detail and better text and typography outputs.\n"
     ]
    }
   ],
   "source": [
    "for result in parsed_result['results']:\n",
    "    print(result['content'])"
   ]
  },
  {
   "cell_type": "code",
   "execution_count": 21,
   "id": "a2fb0eca",
   "metadata": {},
   "outputs": [
    {
     "name": "stdout",
     "output_type": "stream",
     "text": [
      "Note: you may need to restart the kernel to use updated packages.\n"
     ]
    },
    {
     "name": "stderr",
     "output_type": "stream",
     "text": [
      "\n",
      "[notice] A new release of pip is available: 24.0 -> 25.1.1\n",
      "[notice] To update, run: python.exe -m pip install --upgrade pip\n"
     ]
    },
    {
     "name": "stdout",
     "output_type": "stream",
     "text": [
      "Requirement already satisfied: langchain-community in c:\\khajaclassroom\\generativeai\\agenticai\\may25\\langgraph\\first_graph\\.venv\\lib\\site-packages (0.3.24)\n",
      "Requirement already satisfied: langchain-core<1.0.0,>=0.3.59 in c:\\khajaclassroom\\generativeai\\agenticai\\may25\\langgraph\\first_graph\\.venv\\lib\\site-packages (from langchain-community) (0.3.63)\n",
      "Requirement already satisfied: langchain<1.0.0,>=0.3.25 in c:\\khajaclassroom\\generativeai\\agenticai\\may25\\langgraph\\first_graph\\.venv\\lib\\site-packages (from langchain-community) (0.3.25)\n",
      "Requirement already satisfied: SQLAlchemy<3,>=1.4 in c:\\khajaclassroom\\generativeai\\agenticai\\may25\\langgraph\\first_graph\\.venv\\lib\\site-packages (from langchain-community) (2.0.41)\n",
      "Requirement already satisfied: requests<3,>=2 in c:\\khajaclassroom\\generativeai\\agenticai\\may25\\langgraph\\first_graph\\.venv\\lib\\site-packages (from langchain-community) (2.32.3)\n",
      "Requirement already satisfied: PyYAML>=5.3 in c:\\khajaclassroom\\generativeai\\agenticai\\may25\\langgraph\\first_graph\\.venv\\lib\\site-packages (from langchain-community) (6.0.2)\n",
      "Requirement already satisfied: aiohttp<4.0.0,>=3.8.3 in c:\\khajaclassroom\\generativeai\\agenticai\\may25\\langgraph\\first_graph\\.venv\\lib\\site-packages (from langchain-community) (3.12.6)\n",
      "Requirement already satisfied: tenacity!=8.4.0,<10,>=8.1.0 in c:\\khajaclassroom\\generativeai\\agenticai\\may25\\langgraph\\first_graph\\.venv\\lib\\site-packages (from langchain-community) (9.1.2)\n",
      "Requirement already satisfied: dataclasses-json<0.7,>=0.5.7 in c:\\khajaclassroom\\generativeai\\agenticai\\may25\\langgraph\\first_graph\\.venv\\lib\\site-packages (from langchain-community) (0.6.7)\n",
      "Requirement already satisfied: pydantic-settings<3.0.0,>=2.4.0 in c:\\khajaclassroom\\generativeai\\agenticai\\may25\\langgraph\\first_graph\\.venv\\lib\\site-packages (from langchain-community) (2.9.1)\n",
      "Requirement already satisfied: langsmith<0.4,>=0.1.125 in c:\\khajaclassroom\\generativeai\\agenticai\\may25\\langgraph\\first_graph\\.venv\\lib\\site-packages (from langchain-community) (0.3.42)\n",
      "Requirement already satisfied: httpx-sse<1.0.0,>=0.4.0 in c:\\khajaclassroom\\generativeai\\agenticai\\may25\\langgraph\\first_graph\\.venv\\lib\\site-packages (from langchain-community) (0.4.0)\n",
      "Requirement already satisfied: numpy>=1.26.2 in c:\\khajaclassroom\\generativeai\\agenticai\\may25\\langgraph\\first_graph\\.venv\\lib\\site-packages (from langchain-community) (2.2.6)\n",
      "Requirement already satisfied: aiohappyeyeballs>=2.5.0 in c:\\khajaclassroom\\generativeai\\agenticai\\may25\\langgraph\\first_graph\\.venv\\lib\\site-packages (from aiohttp<4.0.0,>=3.8.3->langchain-community) (2.6.1)\n",
      "Requirement already satisfied: aiosignal>=1.1.2 in c:\\khajaclassroom\\generativeai\\agenticai\\may25\\langgraph\\first_graph\\.venv\\lib\\site-packages (from aiohttp<4.0.0,>=3.8.3->langchain-community) (1.3.2)\n",
      "Requirement already satisfied: attrs>=17.3.0 in c:\\khajaclassroom\\generativeai\\agenticai\\may25\\langgraph\\first_graph\\.venv\\lib\\site-packages (from aiohttp<4.0.0,>=3.8.3->langchain-community) (25.3.0)\n",
      "Requirement already satisfied: frozenlist>=1.1.1 in c:\\khajaclassroom\\generativeai\\agenticai\\may25\\langgraph\\first_graph\\.venv\\lib\\site-packages (from aiohttp<4.0.0,>=3.8.3->langchain-community) (1.6.0)\n",
      "Requirement already satisfied: multidict<7.0,>=4.5 in c:\\khajaclassroom\\generativeai\\agenticai\\may25\\langgraph\\first_graph\\.venv\\lib\\site-packages (from aiohttp<4.0.0,>=3.8.3->langchain-community) (6.4.4)\n",
      "Requirement already satisfied: propcache>=0.2.0 in c:\\khajaclassroom\\generativeai\\agenticai\\may25\\langgraph\\first_graph\\.venv\\lib\\site-packages (from aiohttp<4.0.0,>=3.8.3->langchain-community) (0.3.1)\n",
      "Requirement already satisfied: yarl<2.0,>=1.17.0 in c:\\khajaclassroom\\generativeai\\agenticai\\may25\\langgraph\\first_graph\\.venv\\lib\\site-packages (from aiohttp<4.0.0,>=3.8.3->langchain-community) (1.20.0)\n",
      "Requirement already satisfied: marshmallow<4.0.0,>=3.18.0 in c:\\khajaclassroom\\generativeai\\agenticai\\may25\\langgraph\\first_graph\\.venv\\lib\\site-packages (from dataclasses-json<0.7,>=0.5.7->langchain-community) (3.26.1)\n",
      "Requirement already satisfied: typing-inspect<1,>=0.4.0 in c:\\khajaclassroom\\generativeai\\agenticai\\may25\\langgraph\\first_graph\\.venv\\lib\\site-packages (from dataclasses-json<0.7,>=0.5.7->langchain-community) (0.9.0)\n",
      "Requirement already satisfied: langchain-text-splitters<1.0.0,>=0.3.8 in c:\\khajaclassroom\\generativeai\\agenticai\\may25\\langgraph\\first_graph\\.venv\\lib\\site-packages (from langchain<1.0.0,>=0.3.25->langchain-community) (0.3.8)\n",
      "Requirement already satisfied: pydantic<3.0.0,>=2.7.4 in c:\\khajaclassroom\\generativeai\\agenticai\\may25\\langgraph\\first_graph\\.venv\\lib\\site-packages (from langchain<1.0.0,>=0.3.25->langchain-community) (2.11.4)\n",
      "Requirement already satisfied: jsonpatch<2.0,>=1.33 in c:\\khajaclassroom\\generativeai\\agenticai\\may25\\langgraph\\first_graph\\.venv\\lib\\site-packages (from langchain-core<1.0.0,>=0.3.59->langchain-community) (1.33)\n",
      "Requirement already satisfied: packaging<25,>=23.2 in c:\\khajaclassroom\\generativeai\\agenticai\\may25\\langgraph\\first_graph\\.venv\\lib\\site-packages (from langchain-core<1.0.0,>=0.3.59->langchain-community) (24.2)\n",
      "Requirement already satisfied: typing-extensions>=4.7 in c:\\khajaclassroom\\generativeai\\agenticai\\may25\\langgraph\\first_graph\\.venv\\lib\\site-packages (from langchain-core<1.0.0,>=0.3.59->langchain-community) (4.13.2)\n",
      "Requirement already satisfied: httpx<1,>=0.23.0 in c:\\khajaclassroom\\generativeai\\agenticai\\may25\\langgraph\\first_graph\\.venv\\lib\\site-packages (from langsmith<0.4,>=0.1.125->langchain-community) (0.28.1)\n",
      "Requirement already satisfied: orjson<4.0.0,>=3.9.14 in c:\\khajaclassroom\\generativeai\\agenticai\\may25\\langgraph\\first_graph\\.venv\\lib\\site-packages (from langsmith<0.4,>=0.1.125->langchain-community) (3.10.18)\n",
      "Requirement already satisfied: requests-toolbelt<2.0.0,>=1.0.0 in c:\\khajaclassroom\\generativeai\\agenticai\\may25\\langgraph\\first_graph\\.venv\\lib\\site-packages (from langsmith<0.4,>=0.1.125->langchain-community) (1.0.0)\n",
      "Requirement already satisfied: zstandard<0.24.0,>=0.23.0 in c:\\khajaclassroom\\generativeai\\agenticai\\may25\\langgraph\\first_graph\\.venv\\lib\\site-packages (from langsmith<0.4,>=0.1.125->langchain-community) (0.23.0)\n",
      "Requirement already satisfied: python-dotenv>=0.21.0 in c:\\khajaclassroom\\generativeai\\agenticai\\may25\\langgraph\\first_graph\\.venv\\lib\\site-packages (from pydantic-settings<3.0.0,>=2.4.0->langchain-community) (1.1.0)\n",
      "Requirement already satisfied: typing-inspection>=0.4.0 in c:\\khajaclassroom\\generativeai\\agenticai\\may25\\langgraph\\first_graph\\.venv\\lib\\site-packages (from pydantic-settings<3.0.0,>=2.4.0->langchain-community) (0.4.1)\n",
      "Requirement already satisfied: charset-normalizer<4,>=2 in c:\\khajaclassroom\\generativeai\\agenticai\\may25\\langgraph\\first_graph\\.venv\\lib\\site-packages (from requests<3,>=2->langchain-community) (3.4.2)\n",
      "Requirement already satisfied: idna<4,>=2.5 in c:\\khajaclassroom\\generativeai\\agenticai\\may25\\langgraph\\first_graph\\.venv\\lib\\site-packages (from requests<3,>=2->langchain-community) (3.10)\n",
      "Requirement already satisfied: urllib3<3,>=1.21.1 in c:\\khajaclassroom\\generativeai\\agenticai\\may25\\langgraph\\first_graph\\.venv\\lib\\site-packages (from requests<3,>=2->langchain-community) (2.4.0)\n",
      "Requirement already satisfied: certifi>=2017.4.17 in c:\\khajaclassroom\\generativeai\\agenticai\\may25\\langgraph\\first_graph\\.venv\\lib\\site-packages (from requests<3,>=2->langchain-community) (2025.4.26)\n",
      "Requirement already satisfied: greenlet>=1 in c:\\khajaclassroom\\generativeai\\agenticai\\may25\\langgraph\\first_graph\\.venv\\lib\\site-packages (from SQLAlchemy<3,>=1.4->langchain-community) (3.2.2)\n",
      "Requirement already satisfied: anyio in c:\\khajaclassroom\\generativeai\\agenticai\\may25\\langgraph\\first_graph\\.venv\\lib\\site-packages (from httpx<1,>=0.23.0->langsmith<0.4,>=0.1.125->langchain-community) (4.9.0)\n",
      "Requirement already satisfied: httpcore==1.* in c:\\khajaclassroom\\generativeai\\agenticai\\may25\\langgraph\\first_graph\\.venv\\lib\\site-packages (from httpx<1,>=0.23.0->langsmith<0.4,>=0.1.125->langchain-community) (1.0.9)\n",
      "Requirement already satisfied: h11>=0.16 in c:\\khajaclassroom\\generativeai\\agenticai\\may25\\langgraph\\first_graph\\.venv\\lib\\site-packages (from httpcore==1.*->httpx<1,>=0.23.0->langsmith<0.4,>=0.1.125->langchain-community) (0.16.0)\n",
      "Requirement already satisfied: jsonpointer>=1.9 in c:\\khajaclassroom\\generativeai\\agenticai\\may25\\langgraph\\first_graph\\.venv\\lib\\site-packages (from jsonpatch<2.0,>=1.33->langchain-core<1.0.0,>=0.3.59->langchain-community) (3.0.0)\n",
      "Requirement already satisfied: annotated-types>=0.6.0 in c:\\khajaclassroom\\generativeai\\agenticai\\may25\\langgraph\\first_graph\\.venv\\lib\\site-packages (from pydantic<3.0.0,>=2.7.4->langchain<1.0.0,>=0.3.25->langchain-community) (0.7.0)\n",
      "Requirement already satisfied: pydantic-core==2.33.2 in c:\\khajaclassroom\\generativeai\\agenticai\\may25\\langgraph\\first_graph\\.venv\\lib\\site-packages (from pydantic<3.0.0,>=2.7.4->langchain<1.0.0,>=0.3.25->langchain-community) (2.33.2)\n",
      "Requirement already satisfied: mypy-extensions>=0.3.0 in c:\\khajaclassroom\\generativeai\\agenticai\\may25\\langgraph\\first_graph\\.venv\\lib\\site-packages (from typing-inspect<1,>=0.4.0->dataclasses-json<0.7,>=0.5.7->langchain-community) (1.1.0)\n",
      "Requirement already satisfied: sniffio>=1.1 in c:\\khajaclassroom\\generativeai\\agenticai\\may25\\langgraph\\first_graph\\.venv\\lib\\site-packages (from anyio->httpx<1,>=0.23.0->langsmith<0.4,>=0.1.125->langchain-community) (1.3.1)\n",
      "Note: you may need to restart the kernel to use updated packages.\n"
     ]
    },
    {
     "name": "stderr",
     "output_type": "stream",
     "text": [
      "\n",
      "[notice] A new release of pip is available: 24.0 -> 25.1.1\n",
      "[notice] To update, run: python.exe -m pip install --upgrade pip\n"
     ]
    }
   ],
   "source": [
    "#https://python.langchain.com/docs/integrations/tools/openweathermap/\n",
    "%pip install --upgrade --quiet pyowm\n",
    "%pip install langchain-community"
   ]
  },
  {
   "cell_type": "code",
   "execution_count": 33,
   "id": "e57aa13f",
   "metadata": {},
   "outputs": [
    {
     "data": {
      "text/plain": [
       "True"
      ]
     },
     "execution_count": 33,
     "metadata": {},
     "output_type": "execute_result"
    }
   ],
   "source": [
    "load_dotenv()"
   ]
  },
  {
   "cell_type": "code",
   "execution_count": 34,
   "id": "162f6948",
   "metadata": {},
   "outputs": [],
   "source": [
    "from langchain_community.utilities import OpenWeatherMapAPIWrapper\n"
   ]
  },
  {
   "cell_type": "code",
   "execution_count": 35,
   "id": "0772a71a",
   "metadata": {},
   "outputs": [],
   "source": [
    "weather = OpenWeatherMapAPIWrapper()\n",
    "tools = [weather.run]"
   ]
  },
  {
   "cell_type": "code",
   "execution_count": 36,
   "id": "fd622aa6",
   "metadata": {},
   "outputs": [],
   "source": [
    "gemini_llm = init_chat_model(model=\"gemini-2.0-flash-lite-001\", model_provider=\"google_vertexai\")"
   ]
  },
  {
   "cell_type": "code",
   "execution_count": 37,
   "id": "019b5b68",
   "metadata": {},
   "outputs": [],
   "source": [
    "gemini_llm_with_tools = gemini_llm.bind_tools(tools)"
   ]
  },
  {
   "cell_type": "code",
   "execution_count": 38,
   "id": "17976ffb",
   "metadata": {},
   "outputs": [],
   "source": [
    "tool_node = ToolNode(tools)"
   ]
  },
  {
   "cell_type": "code",
   "execution_count": 39,
   "id": "f1a655f6",
   "metadata": {},
   "outputs": [],
   "source": [
    "def call_model(state: MessagesState) -> MessagesState:\n",
    "    state['messages'] = gemini_llm_with_tools.invoke(state['messages'])\n",
    "    return state"
   ]
  },
  {
   "cell_type": "code",
   "execution_count": 40,
   "id": "faf2aef7",
   "metadata": {},
   "outputs": [],
   "source": [
    "tools_graph_builder = StateGraph(MessagesState)\n",
    "tools_graph_builder.add_node(\"llm\", call_model)\n",
    "tools_graph_builder.add_node(\"tools\", tool_node)\n",
    "tools_graph_builder.add_edge(\"llm\", \"tools\")\n",
    "tools_graph_builder.set_entry_point(\"llm\")\n",
    "tools_graph_builder.set_finish_point(\"tools\")\n",
    "tools_graph = tools_graph_builder.compile()"
   ]
  },
  {
   "cell_type": "code",
   "execution_count": 41,
   "id": "f34f946f",
   "metadata": {},
   "outputs": [
    {
     "data": {
      "image/png": "[encoded data removed]",
      "text/plain": [
       "<IPython.core.display.Image object>"
      ]
     },
     "metadata": {},
     "output_type": "display_data"
    }
   ],
   "source": [
    "from IPython.display import Image, display\n",
    "display(Image(tools_graph.get_graph().draw_mermaid_png()))"
   ]
  },
  {
   "cell_type": "code",
   "execution_count": 51,
   "id": "6f33fa32",
   "metadata": {},
   "outputs": [],
   "source": [
    "results = tools_graph.invoke({\"messages\": \"What is Weather like in Hyderabad\"})\n"
   ]
  },
  {
   "cell_type": "code",
   "execution_count": 52,
   "id": "5c63e7ad",
   "metadata": {},
   "outputs": [
    {
     "name": "stdout",
     "output_type": "stream",
     "text": [
      "In Hyderabad, the current weather is as follows:\n",
      "Detailed status: overcast clouds\n",
      "Wind speed: 7.96 m/s, direction: 271°\n",
      "Humidity: 48%\n",
      "Temperature: \n",
      "  - Current: 30.75°C\n",
      "  - High: 30.75°C\n",
      "  - Low: 30.75°C\n",
      "  - Feels like: 31.85°C\n",
      "Rain: {}\n",
      "Heat index: None\n",
      "Cloud cover: 95%\n"
     ]
    }
   ],
   "source": [
    "print(results['messages'][-1].content)"
   ]
  }
 ],
 "metadata": {
  "kernelspec": {
   "display_name": ".venv",
   "language": "python",
   "name": "python3"
  },
  "language_info": {
   "codemirror_mode": {
    "name": "ipython",
    "version": 3
   },
   "file_extension": ".py",
   "mimetype": "text/x-python",
   "name": "python",
   "nbconvert_exporter": "python",
   "pygments_lexer": "ipython3",
   "version": "3.11.9"
  }
 },
 "nbformat": 4,
 "nbformat_minor": 5
}
