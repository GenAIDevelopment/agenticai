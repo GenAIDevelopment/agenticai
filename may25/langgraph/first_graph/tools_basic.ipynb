{
 "cells": [
  {
   "cell_type": "code",
   "execution_count": 1,
   "id": "f7664b23",
   "metadata": {},
   "outputs": [],
   "source": [
    "from typing_extensions import TypedDict\n",
    "from typing import Optional\n",
    "from langchain.chat_models import init_chat_model\n",
    "from langchain_core.messages import HumanMessage,AIMessage\n",
    "from langgraph.graph import StateGraph, START, END"
   ]
  },
  {
   "cell_type": "code",
   "execution_count": 2,
   "id": "33e01991",
   "metadata": {},
   "outputs": [],
   "source": [
    "model_id = \"gemini-2.0-flash-lite-001\"\n",
    "gemini_llm = init_chat_model(model=model_id, model_provider=\"google_vertexai\")"
   ]
  },
  {
   "cell_type": "code",
   "execution_count": 4,
   "id": "34148516",
   "metadata": {},
   "outputs": [],
   "source": [
    "def add(a: int, b: int) -> int:\n",
    "    \"\"\"Add a and b\n",
    "\n",
    "    Args:\n",
    "        a (int): first int\n",
    "        b (int): second int\n",
    "\n",
    "    Returns:\n",
    "        int: result\n",
    "    \"\"\"\n",
    "    return a + b"
   ]
  },
  {
   "cell_type": "code",
   "execution_count": 5,
   "id": "414e0151",
   "metadata": {},
   "outputs": [
    {
     "data": {
      "text/plain": [
       "AIMessage(content='2 + 2 = 4\\n', additional_kwargs={}, response_metadata={'is_blocked': False, 'safety_ratings': [], 'usage_metadata': {'prompt_token_count': 7, 'candidates_token_count': 8, 'total_token_count': 15, 'prompt_tokens_details': [{'modality': 1, 'token_count': 7}], 'candidates_tokens_details': [{'modality': 1, 'token_count': 8}], 'thoughts_token_count': 0, 'cached_content_token_count': 0, 'cache_tokens_details': []}, 'finish_reason': 'STOP', 'avg_logprobs': -0.0030223913490772247, 'model_name': 'gemini-2.0-flash-lite-001'}, id='run--370fde31-1898-44b9-af3b-c696a9c22989-0', usage_metadata={'input_tokens': 7, 'output_tokens': 8, 'total_tokens': 15})"
      ]
     },
     "execution_count": 5,
     "metadata": {},
     "output_type": "execute_result"
    }
   ],
   "source": [
    "gemini_llm.invoke([HumanMessage(\"What is 2 plus 2\")])"
   ]
  },
  {
   "cell_type": "code",
   "execution_count": 7,
   "id": "97cf3a91",
   "metadata": {},
   "outputs": [],
   "source": [
    "# we are binding tools to llm\n",
    "llm_with_tools = gemini_llm.bind_tools([add])"
   ]
  },
  {
   "cell_type": "code",
   "execution_count": 11,
   "id": "d07f838e",
   "metadata": {},
   "outputs": [],
   "source": [
    "tool_call = llm_with_tools.invoke([HumanMessage(\"What is 2 plus 2\")])"
   ]
  },
  {
   "cell_type": "code",
   "execution_count": 12,
   "id": "c93282ac",
   "metadata": {},
   "outputs": [
    {
     "data": {
      "text/plain": [
       "[{'name': 'add',\n",
       "  'args': {'a': 2.0, 'b': 2.0},\n",
       "  'id': '1409795f-f65f-43f5-83ac-4fc8953fa4ac',\n",
       "  'type': 'tool_call'}]"
      ]
     },
     "execution_count": 12,
     "metadata": {},
     "output_type": "execute_result"
    }
   ],
   "source": [
    "tool_call.tool_calls"
   ]
  }
 ],
 "metadata": {
  "kernelspec": {
   "display_name": ".venv",
   "language": "python",
   "name": "python3"
  },
  "language_info": {
   "codemirror_mode": {
    "name": "ipython",
    "version": 3
   },
   "file_extension": ".py",
   "mimetype": "text/x-python",
   "name": "python",
   "nbconvert_exporter": "python",
   "pygments_lexer": "ipython3",
   "version": "3.11.9"
  }
 },
 "nbformat": 4,
 "nbformat_minor": 5
}
