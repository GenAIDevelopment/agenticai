{
 "cells": [
  {
   "cell_type": "code",
   "execution_count": 1,
   "id": "04d1ed3f",
   "metadata": {},
   "outputs": [
    {
     "name": "stdout",
     "output_type": "stream",
     "text": [
      "Requirement already satisfied: langchain-core in c:\\khajaclassroom\\generativeai\\agenticai\\may25\\langgraph\\first_graph\\.venv\\lib\\site-packages (0.3.63)\n",
      "Requirement already satisfied: langchain in c:\\khajaclassroom\\generativeai\\agenticai\\may25\\langgraph\\first_graph\\.venv\\lib\\site-packages (0.3.25)\n",
      "Requirement already satisfied: langsmith<0.4,>=0.1.126 in c:\\khajaclassroom\\generativeai\\agenticai\\may25\\langgraph\\first_graph\\.venv\\lib\\site-packages (from langchain-core) (0.3.42)\n",
      "Requirement already satisfied: tenacity!=8.4.0,<10.0.0,>=8.1.0 in c:\\khajaclassroom\\generativeai\\agenticai\\may25\\langgraph\\first_graph\\.venv\\lib\\site-packages (from langchain-core) (9.1.2)\n",
      "Requirement already satisfied: jsonpatch<2.0,>=1.33 in c:\\khajaclassroom\\generativeai\\agenticai\\may25\\langgraph\\first_graph\\.venv\\lib\\site-packages (from langchain-core) (1.33)\n",
      "Requirement already satisfied: PyYAML>=5.3 in c:\\khajaclassroom\\generativeai\\agenticai\\may25\\langgraph\\first_graph\\.venv\\lib\\site-packages (from langchain-core) (6.0.2)\n",
      "Requirement already satisfied: packaging<25,>=23.2 in c:\\khajaclassroom\\generativeai\\agenticai\\may25\\langgraph\\first_graph\\.venv\\lib\\site-packages (from langchain-core) (24.2)\n",
      "Requirement already satisfied: typing-extensions>=4.7 in c:\\khajaclassroom\\generativeai\\agenticai\\may25\\langgraph\\first_graph\\.venv\\lib\\site-packages (from langchain-core) (4.13.2)\n",
      "Requirement already satisfied: pydantic>=2.7.4 in c:\\khajaclassroom\\generativeai\\agenticai\\may25\\langgraph\\first_graph\\.venv\\lib\\site-packages (from langchain-core) (2.11.4)\n",
      "Requirement already satisfied: langchain-text-splitters<1.0.0,>=0.3.8 in c:\\khajaclassroom\\generativeai\\agenticai\\may25\\langgraph\\first_graph\\.venv\\lib\\site-packages (from langchain) (0.3.8)\n",
      "Requirement already satisfied: SQLAlchemy<3,>=1.4 in c:\\khajaclassroom\\generativeai\\agenticai\\may25\\langgraph\\first_graph\\.venv\\lib\\site-packages (from langchain) (2.0.41)\n",
      "Requirement already satisfied: requests<3,>=2 in c:\\khajaclassroom\\generativeai\\agenticai\\may25\\langgraph\\first_graph\\.venv\\lib\\site-packages (from langchain) (2.32.3)\n",
      "Requirement already satisfied: jsonpointer>=1.9 in c:\\khajaclassroom\\generativeai\\agenticai\\may25\\langgraph\\first_graph\\.venv\\lib\\site-packages (from jsonpatch<2.0,>=1.33->langchain-core) (3.0.0)\n",
      "Requirement already satisfied: httpx<1,>=0.23.0 in c:\\khajaclassroom\\generativeai\\agenticai\\may25\\langgraph\\first_graph\\.venv\\lib\\site-packages (from langsmith<0.4,>=0.1.126->langchain-core) (0.28.1)\n",
      "Requirement already satisfied: orjson<4.0.0,>=3.9.14 in c:\\khajaclassroom\\generativeai\\agenticai\\may25\\langgraph\\first_graph\\.venv\\lib\\site-packages (from langsmith<0.4,>=0.1.126->langchain-core) (3.10.18)\n",
      "Requirement already satisfied: requests-toolbelt<2.0.0,>=1.0.0 in c:\\khajaclassroom\\generativeai\\agenticai\\may25\\langgraph\\first_graph\\.venv\\lib\\site-packages (from langsmith<0.4,>=0.1.126->langchain-core) (1.0.0)\n",
      "Requirement already satisfied: zstandard<0.24.0,>=0.23.0 in c:\\khajaclassroom\\generativeai\\agenticai\\may25\\langgraph\\first_graph\\.venv\\lib\\site-packages (from langsmith<0.4,>=0.1.126->langchain-core) (0.23.0)\n",
      "Requirement already satisfied: annotated-types>=0.6.0 in c:\\khajaclassroom\\generativeai\\agenticai\\may25\\langgraph\\first_graph\\.venv\\lib\\site-packages (from pydantic>=2.7.4->langchain-core) (0.7.0)\n",
      "Requirement already satisfied: pydantic-core==2.33.2 in c:\\khajaclassroom\\generativeai\\agenticai\\may25\\langgraph\\first_graph\\.venv\\lib\\site-packages (from pydantic>=2.7.4->langchain-core) (2.33.2)\n",
      "Requirement already satisfied: typing-inspection>=0.4.0 in c:\\khajaclassroom\\generativeai\\agenticai\\may25\\langgraph\\first_graph\\.venv\\lib\\site-packages (from pydantic>=2.7.4->langchain-core) (0.4.1)\n",
      "Requirement already satisfied: charset-normalizer<4,>=2 in c:\\khajaclassroom\\generativeai\\agenticai\\may25\\langgraph\\first_graph\\.venv\\lib\\site-packages (from requests<3,>=2->langchain) (3.4.2)\n",
      "Requirement already satisfied: idna<4,>=2.5 in c:\\khajaclassroom\\generativeai\\agenticai\\may25\\langgraph\\first_graph\\.venv\\lib\\site-packages (from requests<3,>=2->langchain) (3.10)\n",
      "Requirement already satisfied: urllib3<3,>=1.21.1 in c:\\khajaclassroom\\generativeai\\agenticai\\may25\\langgraph\\first_graph\\.venv\\lib\\site-packages (from requests<3,>=2->langchain) (2.4.0)\n",
      "Requirement already satisfied: certifi>=2017.4.17 in c:\\khajaclassroom\\generativeai\\agenticai\\may25\\langgraph\\first_graph\\.venv\\lib\\site-packages (from requests<3,>=2->langchain) (2025.4.26)\n",
      "Requirement already satisfied: greenlet>=1 in c:\\khajaclassroom\\generativeai\\agenticai\\may25\\langgraph\\first_graph\\.venv\\lib\\site-packages (from SQLAlchemy<3,>=1.4->langchain) (3.2.2)\n",
      "Requirement already satisfied: anyio in c:\\khajaclassroom\\generativeai\\agenticai\\may25\\langgraph\\first_graph\\.venv\\lib\\site-packages (from httpx<1,>=0.23.0->langsmith<0.4,>=0.1.126->langchain-core) (4.9.0)\n",
      "Requirement already satisfied: httpcore==1.* in c:\\khajaclassroom\\generativeai\\agenticai\\may25\\langgraph\\first_graph\\.venv\\lib\\site-packages (from httpx<1,>=0.23.0->langsmith<0.4,>=0.1.126->langchain-core) (1.0.9)\n",
      "Requirement already satisfied: h11>=0.16 in c:\\khajaclassroom\\generativeai\\agenticai\\may25\\langgraph\\first_graph\\.venv\\lib\\site-packages (from httpcore==1.*->httpx<1,>=0.23.0->langsmith<0.4,>=0.1.126->langchain-core) (0.16.0)\n",
      "Requirement already satisfied: sniffio>=1.1 in c:\\khajaclassroom\\generativeai\\agenticai\\may25\\langgraph\\first_graph\\.venv\\lib\\site-packages (from anyio->httpx<1,>=0.23.0->langsmith<0.4,>=0.1.126->langchain-core) (1.3.1)\n",
      "Note: you may need to restart the kernel to use updated packages.\n"
     ]
    },
    {
     "name": "stderr",
     "output_type": "stream",
     "text": [
      "\n",
      "[notice] A new release of pip is available: 24.0 -> 25.1.1\n",
      "[notice] To update, run: python.exe -m pip install --upgrade pip\n"
     ]
    }
   ],
   "source": [
    "%pip install langchain-core langchain"
   ]
  },
  {
   "cell_type": "code",
   "execution_count": 2,
   "id": "be7471e7",
   "metadata": {},
   "outputs": [
    {
     "name": "stdout",
     "output_type": "stream",
     "text": [
      "Note: you may need to restart the kernel to use updated packages.\n"
     ]
    },
    {
     "name": "stderr",
     "output_type": "stream",
     "text": [
      "\n",
      "[notice] A new release of pip is available: 24.0 -> 25.1.1\n",
      "[notice] To update, run: python.exe -m pip install --upgrade pip\n"
     ]
    }
   ],
   "source": [
    "%pip install -qU \"langchain[google-vertexai]\""
   ]
  },
  {
   "cell_type": "code",
   "execution_count": 3,
   "id": "93e092eb",
   "metadata": {},
   "outputs": [],
   "source": [
    "model_id = \"gemini-2.0-flash-lite-001\""
   ]
  },
  {
   "cell_type": "code",
   "execution_count": 4,
   "id": "8e9f249e",
   "metadata": {},
   "outputs": [],
   "source": [
    "from langchain_core.messages import HumanMessage"
   ]
  },
  {
   "cell_type": "code",
   "execution_count": 5,
   "id": "c87806c7",
   "metadata": {},
   "outputs": [],
   "source": [
    "messages = [HumanMessage(\"What is meaning of interia?\")]"
   ]
  },
  {
   "cell_type": "code",
   "execution_count": 6,
   "id": "8251582c",
   "metadata": {},
   "outputs": [],
   "source": [
    "from langchain.chat_models import init_chat_model"
   ]
  },
  {
   "cell_type": "code",
   "execution_count": 7,
   "id": "55193d4c",
   "metadata": {},
   "outputs": [],
   "source": [
    "llm = init_chat_model(model=model_id, model_provider=\"google_vertexai\")"
   ]
  },
  {
   "cell_type": "code",
   "execution_count": 8,
   "id": "afa49ad4",
   "metadata": {},
   "outputs": [],
   "source": [
    "response = llm.invoke(messages)"
   ]
  },
  {
   "cell_type": "code",
   "execution_count": 14,
   "id": "707eae3f",
   "metadata": {},
   "outputs": [
    {
     "name": "stdout",
     "output_type": "stream",
     "text": [
      "Inertia is a fundamental concept in physics.  It essentially describes the tendency of an object to **resist changes in its state of motion**.  Here's a breakdown:\n",
      "\n",
      "*   **Definition:** Inertia is the resistance of any physical object to a change in its velocity. This includes changes in its speed or direction of motion.\n",
      "\n",
      "*   **Key Ideas:**\n",
      "\n",
      "    *   **Objects at Rest Stay at Rest:** An object that is stationary will remain stationary unless acted upon by an external force. Think of a book sitting on a table – it won't move on its own.\n",
      "    *   **Objects in Motion Stay in Motion:** An object moving at a constant velocity (speed and direction) will continue moving at that velocity unless acted upon by an external force.  Imagine a hockey puck gliding across frictionless ice.\n",
      "    *   **Mass is a Measure of Inertia:**  The more massive an object is, the greater its inertia. This means it takes more force to get a massive object moving, and it takes more force to stop it.  A large truck has more inertia than a bicycle.\n",
      "\n",
      "*   **Consequences of Inertia:**\n",
      "\n",
      "    *   **Newton's First Law of Motion:** Inertia is essentially a restatement of Newton's first law of motion, which is often called the law of inertia.\n",
      "    *   **Importance in Engineering:** Inertia is a critical consideration in engineering, from designing cars and airplanes to building skyscrapers.\n",
      "    *   **Everyday Experiences:** We experience inertia all the time. Think about:\n",
      "        *   Feeling a jolt when a car suddenly accelerates or brakes.\n",
      "        *   The difficulty in pushing a heavy object.\n",
      "        *   A ball continuing to roll until friction or another force stops it.\n",
      "\n",
      "*   **Inertia vs. Momentum:**\n",
      "    *   Inertia is the *tendency* to resist changes in motion.\n",
      "    *   Momentum is a *measure* of an object's motion (mass in motion).  Momentum is mass times velocity.  Objects with a lot of inertia (mass) are hard to change the momentum.\n",
      "\n",
      "**In simple terms:**  Inertia is the \"laziness\" of an object to change its motion. The more \"lazy\" an object is to change its motion, the more inertia it has, which is directly related to its mass.\n"
     ]
    }
   ],
   "source": [
    "print(response.content)"
   ]
  }
 ],
 "metadata": {
  "kernelspec": {
   "display_name": ".venv",
   "language": "python",
   "name": "python3"
  },
  "language_info": {
   "codemirror_mode": {
    "name": "ipython",
    "version": 3
   },
   "file_extension": ".py",
   "mimetype": "text/x-python",
   "name": "python",
   "nbconvert_exporter": "python",
   "pygments_lexer": "ipython3",
   "version": "3.11.9"
  }
 },
 "nbformat": 4,
 "nbformat_minor": 5
}
