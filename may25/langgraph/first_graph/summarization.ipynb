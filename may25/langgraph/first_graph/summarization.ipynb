{
 "cells": [
  {
   "cell_type": "code",
   "execution_count": 2,
   "id": "bc23ef4d",
   "metadata": {},
   "outputs": [],
   "source": [
    "from langgraph.graph import StateGraph, MessagesState, START,END"
   ]
  },
  {
   "cell_type": "code",
   "execution_count": 3,
   "id": "4caf7b73",
   "metadata": {},
   "outputs": [],
   "source": [
    "from langchain.chat_models import init_chat_model"
   ]
  },
  {
   "cell_type": "code",
   "execution_count": 4,
   "id": "2945f0e1",
   "metadata": {},
   "outputs": [
    {
     "data": {
      "text/plain": [
       "True"
      ]
     },
     "execution_count": 4,
     "metadata": {},
     "output_type": "execute_result"
    }
   ],
   "source": [
    "from dotenv import load_dotenv\n",
    "load_dotenv()"
   ]
  },
  {
   "cell_type": "code",
   "execution_count": 5,
   "id": "366f5701",
   "metadata": {},
   "outputs": [],
   "source": [
    "#gemini_llm = init_chat_model(model=\"gpt-4o\")\n",
    "model_id = \"gemini-2.0-flash-lite-001\"\n",
    "gemini_llm = init_chat_model(model=model_id, model_provider=\"google_vertexai\")"
   ]
  },
  {
   "cell_type": "code",
   "execution_count": 6,
   "id": "f94cc6e4",
   "metadata": {},
   "outputs": [],
   "source": [
    "class SummaryState(MessagesState):\n",
    "    summary: str"
   ]
  },
  {
   "cell_type": "code",
   "execution_count": 7,
   "id": "01a5934b",
   "metadata": {},
   "outputs": [],
   "source": [
    "def answer(state: SummaryState) -> SummaryState:\n",
    "    state['messages']= gemini_llm.invoke(state['messages'])\n",
    "    return state"
   ]
  },
  {
   "cell_type": "code",
   "execution_count": 8,
   "id": "cbbfaad5",
   "metadata": {},
   "outputs": [],
   "source": [
    "from langgraph.checkpoint.memory import InMemorySaver"
   ]
  },
  {
   "cell_type": "code",
   "execution_count": 9,
   "id": "d63e47be",
   "metadata": {},
   "outputs": [],
   "source": [
    "graph_builder = StateGraph(SummaryState)\n",
    "graph_builder.add_node(\"response\", answer)\n",
    "graph_builder.add_edge(START, \"response\")\n",
    "graph_builder.add_edge(\"response\", END)\n",
    "graph = graph_builder.compile(checkpointer=InMemorySaver())"
   ]
  },
  {
   "cell_type": "code",
   "execution_count": 10,
   "id": "b51b6481",
   "metadata": {},
   "outputs": [],
   "source": [
    "from langgraph.graph.state import CompiledStateGraph\n",
    "from IPython.display import Image, display\n",
    "\n",
    "def draw_graph(graph: CompiledStateGraph):\n",
    "    display(Image(graph.get_graph().draw_mermaid_png()))"
   ]
  },
  {
   "cell_type": "code",
   "execution_count": 11,
   "id": "2e6fa3d0",
   "metadata": {},
   "outputs": [
    {
     "data": {
      "image/png": "[encoded data removed]",
      "text/plain": [
       "<IPython.core.display.Image object>"
      ]
     },
     "metadata": {},
     "output_type": "display_data"
    }
   ],
   "source": [
    "draw_graph(graph)"
   ]
  },
  {
   "cell_type": "code",
   "execution_count": 12,
   "id": "2e80007b",
   "metadata": {},
   "outputs": [],
   "source": [
    "from langchain_core.messages import SystemMessage, HumanMessage, AIMessage"
   ]
  },
  {
   "cell_type": "code",
   "execution_count": 19,
   "id": "6ef379e5",
   "metadata": {},
   "outputs": [],
   "source": [
    "message = [SystemMessage(content=\"You are an Helpful Assistant\")]"
   ]
  },
  {
   "cell_type": "code",
   "execution_count": 23,
   "id": "5072427d",
   "metadata": {},
   "outputs": [
    {
     "data": {
      "text/plain": [
       "{'messages': [SystemMessage(content='You are an Helpful Assistant', additional_kwargs={}, response_metadata={}, id='4ea06785-95e1-4864-b4b1-0b9d2041f8ec'),\n",
       "  SystemMessage(content='You are an Helpful Assistant', additional_kwargs={}, response_metadata={}, id='331d5a2c-2500-4158-b00d-368624568e4b'),\n",
       "  SystemMessage(content='You are an Helpful Assistant', additional_kwargs={}, response_metadata={}, id='1ff47ac3-36bc-41cd-9627-97c3c4c19187'),\n",
       "  SystemMessage(content='You are an Helpful Assistant', additional_kwargs={}, response_metadata={}, id='7327b03e-2be3-4fb3-b634-fed7e1ddd215'),\n",
       "  HumanMessage(content='Hello, how are you?', additional_kwargs={}, response_metadata={}, id='2b3e905f-c20c-473c-a53e-d37ac8a011c8'),\n",
       "  AIMessage(content='I am doing well, thank you for asking! How can I help you today?\\n', additional_kwargs={}, response_metadata={'is_blocked': False, 'safety_ratings': [], 'usage_metadata': {'prompt_token_count': 26, 'candidates_token_count': 18, 'total_token_count': 44, 'prompt_tokens_details': [{'modality': 1, 'token_count': 26}], 'candidates_tokens_details': [{'modality': 1, 'token_count': 18}], 'thoughts_token_count': 0, 'cached_content_token_count': 0, 'cache_tokens_details': []}, 'finish_reason': 'STOP', 'avg_logprobs': -0.011030245158407424, 'model_name': 'gemini-2.0-flash-lite-001'}, id='run--88d90eb3-97c3-477f-aa49-00a96baa500b-0', usage_metadata={'input_tokens': 26, 'output_tokens': 18, 'total_tokens': 44}),\n",
       "  HumanMessage(content='Hello, how are you?', additional_kwargs={}, response_metadata={}, id='7ec65102-a0ee-4a56-bbd6-c737c0157bbd'),\n",
       "  AIMessage(content='I am doing great! Thanks for asking. How can I assist you today?\\n', additional_kwargs={}, response_metadata={'is_blocked': False, 'safety_ratings': [], 'usage_metadata': {'prompt_token_count': 50, 'candidates_token_count': 17, 'total_token_count': 67, 'prompt_tokens_details': [{'modality': 1, 'token_count': 50}], 'candidates_tokens_details': [{'modality': 1, 'token_count': 17}], 'thoughts_token_count': 0, 'cached_content_token_count': 0, 'cache_tokens_details': []}, 'finish_reason': 'STOP', 'avg_logprobs': -0.2070346299339743, 'model_name': 'gemini-2.0-flash-lite-001'}, id='run--74a0c2c7-0a45-4671-be09-176895ef229a-0', usage_metadata={'input_tokens': 50, 'output_tokens': 17, 'total_tokens': 67})]}"
      ]
     },
     "execution_count": 23,
     "metadata": {},
     "output_type": "execute_result"
    }
   ],
   "source": [
    "message = [\n",
    "    HumanMessage(content=\"Hello, how are you?\")\n",
    "]\n",
    "result = graph.invoke({\n",
    "    \"messages\": message\n",
    "}, config={\"configurable\": {\"thread_id\": \"11\"}})\n",
    "result"
   ]
  },
  {
   "cell_type": "code",
   "execution_count": 24,
   "id": "bff39ac6",
   "metadata": {},
   "outputs": [],
   "source": [
    "\n",
    "message = [\n",
    "    HumanMessage(content=\"Hello, how are you?\")\n",
    "]\n",
    "result = graph.invoke({\n",
    "    \"messages\": message\n",
    "    \n",
    "},config={\"configurable\": {\"thread_id\": \"11\"}})"
   ]
  },
  {
   "cell_type": "code",
   "execution_count": 25,
   "id": "d1346611",
   "metadata": {},
   "outputs": [
    {
     "data": {
      "text/plain": [
       "[SystemMessage(content='You are an Helpful Assistant', additional_kwargs={}, response_metadata={}, id='4ea06785-95e1-4864-b4b1-0b9d2041f8ec'),\n",
       " SystemMessage(content='You are an Helpful Assistant', additional_kwargs={}, response_metadata={}, id='331d5a2c-2500-4158-b00d-368624568e4b'),\n",
       " SystemMessage(content='You are an Helpful Assistant', additional_kwargs={}, response_metadata={}, id='1ff47ac3-36bc-41cd-9627-97c3c4c19187'),\n",
       " SystemMessage(content='You are an Helpful Assistant', additional_kwargs={}, response_metadata={}, id='7327b03e-2be3-4fb3-b634-fed7e1ddd215'),\n",
       " HumanMessage(content='Hello, how are you?', additional_kwargs={}, response_metadata={}, id='2b3e905f-c20c-473c-a53e-d37ac8a011c8'),\n",
       " AIMessage(content='I am doing well, thank you for asking! How can I help you today?\\n', additional_kwargs={}, response_metadata={'is_blocked': False, 'safety_ratings': [], 'usage_metadata': {'prompt_token_count': 26, 'candidates_token_count': 18, 'total_token_count': 44, 'prompt_tokens_details': [{'modality': 1, 'token_count': 26}], 'candidates_tokens_details': [{'modality': 1, 'token_count': 18}], 'thoughts_token_count': 0, 'cached_content_token_count': 0, 'cache_tokens_details': []}, 'finish_reason': 'STOP', 'avg_logprobs': -0.011030245158407424, 'model_name': 'gemini-2.0-flash-lite-001'}, id='run--88d90eb3-97c3-477f-aa49-00a96baa500b-0', usage_metadata={'input_tokens': 26, 'output_tokens': 18, 'total_tokens': 44}),\n",
       " HumanMessage(content='Hello, how are you?', additional_kwargs={}, response_metadata={}, id='7ec65102-a0ee-4a56-bbd6-c737c0157bbd'),\n",
       " AIMessage(content='I am doing great! Thanks for asking. How can I assist you today?\\n', additional_kwargs={}, response_metadata={'is_blocked': False, 'safety_ratings': [], 'usage_metadata': {'prompt_token_count': 50, 'candidates_token_count': 17, 'total_token_count': 67, 'prompt_tokens_details': [{'modality': 1, 'token_count': 50}], 'candidates_tokens_details': [{'modality': 1, 'token_count': 17}], 'thoughts_token_count': 0, 'cached_content_token_count': 0, 'cache_tokens_details': []}, 'finish_reason': 'STOP', 'avg_logprobs': -0.2070346299339743, 'model_name': 'gemini-2.0-flash-lite-001'}, id='run--74a0c2c7-0a45-4671-be09-176895ef229a-0', usage_metadata={'input_tokens': 50, 'output_tokens': 17, 'total_tokens': 67}),\n",
       " HumanMessage(content='Hello, how are you?', additional_kwargs={}, response_metadata={}, id='a60a731a-59f9-4921-841c-b8e5d14f044a'),\n",
       " AIMessage(content='I am doing well, thank you for asking! How can I help you today?\\n', additional_kwargs={}, response_metadata={'is_blocked': False, 'safety_ratings': [], 'usage_metadata': {'prompt_token_count': 73, 'candidates_token_count': 18, 'total_token_count': 91, 'prompt_tokens_details': [{'modality': 1, 'token_count': 73}], 'candidates_tokens_details': [{'modality': 1, 'token_count': 18}], 'thoughts_token_count': 0, 'cached_content_token_count': 0, 'cache_tokens_details': []}, 'finish_reason': 'STOP', 'avg_logprobs': -0.08340791861216228, 'model_name': 'gemini-2.0-flash-lite-001'}, id='run--deb1b26b-cf0d-46e9-b675-0a66aa9329f1-0', usage_metadata={'input_tokens': 73, 'output_tokens': 18, 'total_tokens': 91})]"
      ]
     },
     "execution_count": 25,
     "metadata": {},
     "output_type": "execute_result"
    }
   ],
   "source": [
    "result['messages']"
   ]
  },
  {
   "cell_type": "code",
   "execution_count": 82,
   "id": "646f0b78",
   "metadata": {},
   "outputs": [],
   "source": [
    "result = graph.invoke({\n",
    "    \"messages\": HumanMessage(\"When was IPL launched in India ?\")\n",
    "},config={\"configurable\": {\"thread_id\": \"11\"}})"
   ]
  },
  {
   "cell_type": "code",
   "execution_count": 83,
   "id": "2e4d57b7",
   "metadata": {},
   "outputs": [
    {
     "data": {
      "text/plain": [
       "[SystemMessage(content='You are an Helpful Assistant', additional_kwargs={}, response_metadata={}, id='f967af25-d8e2-49ce-abc9-ef18a5432b54'),\n",
       " AIMessage(content='Hello! How can I assist you today?', additional_kwargs={'refusal': None}, response_metadata={'token_usage': {'completion_tokens': 9, 'prompt_tokens': 12, 'total_tokens': 21, 'completion_tokens_details': {'accepted_prediction_tokens': 0, 'audio_tokens': 0, 'reasoning_tokens': 0, 'rejected_prediction_tokens': 0}, 'prompt_tokens_details': {'audio_tokens': 0, 'cached_tokens': 0}}, 'model_name': 'gpt-4o-2024-08-06', 'system_fingerprint': 'fp_a288987b44', 'id': 'chatcmpl-BglUcNozOnkeWtcVdMsSQ6lqXK2G3', 'service_tier': 'default', 'finish_reason': 'stop', 'logprobs': None}, id='run--be476adc-ab8c-4ce9-85b8-b667d727207c-0', usage_metadata={'input_tokens': 12, 'output_tokens': 9, 'total_tokens': 21, 'input_token_details': {'audio': 0, 'cache_read': 0}, 'output_token_details': {'audio': 0, 'reasoning': 0}}),\n",
       " HumanMessage(content='When was IPL launched in India ?', additional_kwargs={}, response_metadata={}, id='5647e0e5-e033-4dc2-b18e-62bba39bfeb1'),\n",
       " AIMessage(content='The Indian Premier League (IPL) was launched on September 13, 2007, and the first season took place in 2008, starting on April 18, 2008. The IPL is a professional Twenty20 cricket league in India and has become one of the most popular and lucrative cricket tournaments in the world.', additional_kwargs={'refusal': None}, response_metadata={'token_usage': {'completion_tokens': 66, 'prompt_tokens': 36, 'total_tokens': 102, 'completion_tokens_details': {'accepted_prediction_tokens': 0, 'audio_tokens': 0, 'reasoning_tokens': 0, 'rejected_prediction_tokens': 0}, 'prompt_tokens_details': {'audio_tokens': 0, 'cached_tokens': 0}}, 'model_name': 'gpt-4o-2024-08-06', 'system_fingerprint': 'fp_07871e2ad8', 'id': 'chatcmpl-BglUdOUv0uUB1ONyH0tukkb6JAupw', 'service_tier': 'default', 'finish_reason': 'stop', 'logprobs': None}, id='run--4aee1343-a71d-4998-8f88-accad0002cf1-0', usage_metadata={'input_tokens': 36, 'output_tokens': 66, 'total_tokens': 102, 'input_token_details': {'audio': 0, 'cache_read': 0}, 'output_token_details': {'audio': 0, 'reasoning': 0}})]"
      ]
     },
     "execution_count": 83,
     "metadata": {},
     "output_type": "execute_result"
    }
   ],
   "source": [
    "result['messages']"
   ]
  },
  {
   "cell_type": "code",
   "execution_count": 84,
   "id": "c570c968",
   "metadata": {},
   "outputs": [],
   "source": [
    "result = graph.invoke({\n",
    "    \"messages\": HumanMessage(\"Which cricketer got the highest bid price during launch ?\")\n",
    "},config={\"configurable\": {\"thread_id\": \"11\"}})"
   ]
  },
  {
   "cell_type": "code",
   "execution_count": 85,
   "id": "7a95f653",
   "metadata": {},
   "outputs": [
    {
     "data": {
      "text/plain": [
       "[SystemMessage(content='You are an Helpful Assistant', additional_kwargs={}, response_metadata={}, id='f967af25-d8e2-49ce-abc9-ef18a5432b54'),\n",
       " AIMessage(content='Hello! How can I assist you today?', additional_kwargs={'refusal': None}, response_metadata={'token_usage': {'completion_tokens': 9, 'prompt_tokens': 12, 'total_tokens': 21, 'completion_tokens_details': {'accepted_prediction_tokens': 0, 'audio_tokens': 0, 'reasoning_tokens': 0, 'rejected_prediction_tokens': 0}, 'prompt_tokens_details': {'audio_tokens': 0, 'cached_tokens': 0}}, 'model_name': 'gpt-4o-2024-08-06', 'system_fingerprint': 'fp_a288987b44', 'id': 'chatcmpl-BglUcNozOnkeWtcVdMsSQ6lqXK2G3', 'service_tier': 'default', 'finish_reason': 'stop', 'logprobs': None}, id='run--be476adc-ab8c-4ce9-85b8-b667d727207c-0', usage_metadata={'input_tokens': 12, 'output_tokens': 9, 'total_tokens': 21, 'input_token_details': {'audio': 0, 'cache_read': 0}, 'output_token_details': {'audio': 0, 'reasoning': 0}}),\n",
       " HumanMessage(content='When was IPL launched in India ?', additional_kwargs={}, response_metadata={}, id='5647e0e5-e033-4dc2-b18e-62bba39bfeb1'),\n",
       " AIMessage(content='The Indian Premier League (IPL) was launched on September 13, 2007, and the first season took place in 2008, starting on April 18, 2008. The IPL is a professional Twenty20 cricket league in India and has become one of the most popular and lucrative cricket tournaments in the world.', additional_kwargs={'refusal': None}, response_metadata={'token_usage': {'completion_tokens': 66, 'prompt_tokens': 36, 'total_tokens': 102, 'completion_tokens_details': {'accepted_prediction_tokens': 0, 'audio_tokens': 0, 'reasoning_tokens': 0, 'rejected_prediction_tokens': 0}, 'prompt_tokens_details': {'audio_tokens': 0, 'cached_tokens': 0}}, 'model_name': 'gpt-4o-2024-08-06', 'system_fingerprint': 'fp_07871e2ad8', 'id': 'chatcmpl-BglUdOUv0uUB1ONyH0tukkb6JAupw', 'service_tier': 'default', 'finish_reason': 'stop', 'logprobs': None}, id='run--4aee1343-a71d-4998-8f88-accad0002cf1-0', usage_metadata={'input_tokens': 36, 'output_tokens': 66, 'total_tokens': 102, 'input_token_details': {'audio': 0, 'cache_read': 0}, 'output_token_details': {'audio': 0, 'reasoning': 0}}),\n",
       " HumanMessage(content='Which cricketer got the highest bid price during launch ?', additional_kwargs={}, response_metadata={}, id='14a4b381-64db-4e0d-b5b6-83e9d3049dfa'),\n",
       " AIMessage(content=\"During the inaugural Indian Premier League (IPL) auction in 2008, Mahendra Singh Dhoni received the highest bid. He was purchased by the Chennai Super Kings for $1.5 million, which made him the most expensive player in that first season's auction. Dhoni's leadership and exceptional cricketing skills were highly sought after, contributing to his high bid price.\", additional_kwargs={'refusal': None}, response_metadata={'token_usage': {'completion_tokens': 75, 'prompt_tokens': 122, 'total_tokens': 197, 'completion_tokens_details': {'accepted_prediction_tokens': 0, 'audio_tokens': 0, 'reasoning_tokens': 0, 'rejected_prediction_tokens': 0}, 'prompt_tokens_details': {'audio_tokens': 0, 'cached_tokens': 0}}, 'model_name': 'gpt-4o-2024-08-06', 'system_fingerprint': 'fp_a288987b44', 'id': 'chatcmpl-BglUfol3HxXOOsJwE9Fzcdt8YpoeT', 'service_tier': 'default', 'finish_reason': 'stop', 'logprobs': None}, id='run--7405ba47-332a-45a1-899c-87839c0b0bff-0', usage_metadata={'input_tokens': 122, 'output_tokens': 75, 'total_tokens': 197, 'input_token_details': {'audio': 0, 'cache_read': 0}, 'output_token_details': {'audio': 0, 'reasoning': 0}})]"
      ]
     },
     "execution_count": 85,
     "metadata": {},
     "output_type": "execute_result"
    }
   ],
   "source": [
    "result['messages']"
   ]
  },
  {
   "cell_type": "code",
   "execution_count": 86,
   "id": "9269fc3f",
   "metadata": {},
   "outputs": [],
   "source": [
    "result = graph.invoke({\n",
    "    \"messages\": HumanMessage(\"I like Rohit Sharma, Which Team was he during first ipl\")\n",
    "},config={\"configurable\": {\"thread_id\": \"11\"}})"
   ]
  },
  {
   "cell_type": "code",
   "execution_count": 87,
   "id": "0a704361",
   "metadata": {},
   "outputs": [
    {
     "data": {
      "text/plain": [
       "[SystemMessage(content='You are an Helpful Assistant', additional_kwargs={}, response_metadata={}, id='f967af25-d8e2-49ce-abc9-ef18a5432b54'),\n",
       " AIMessage(content='Hello! How can I assist you today?', additional_kwargs={'refusal': None}, response_metadata={'token_usage': {'completion_tokens': 9, 'prompt_tokens': 12, 'total_tokens': 21, 'completion_tokens_details': {'accepted_prediction_tokens': 0, 'audio_tokens': 0, 'reasoning_tokens': 0, 'rejected_prediction_tokens': 0}, 'prompt_tokens_details': {'audio_tokens': 0, 'cached_tokens': 0}}, 'model_name': 'gpt-4o-2024-08-06', 'system_fingerprint': 'fp_a288987b44', 'id': 'chatcmpl-BglUcNozOnkeWtcVdMsSQ6lqXK2G3', 'service_tier': 'default', 'finish_reason': 'stop', 'logprobs': None}, id='run--be476adc-ab8c-4ce9-85b8-b667d727207c-0', usage_metadata={'input_tokens': 12, 'output_tokens': 9, 'total_tokens': 21, 'input_token_details': {'audio': 0, 'cache_read': 0}, 'output_token_details': {'audio': 0, 'reasoning': 0}}),\n",
       " HumanMessage(content='When was IPL launched in India ?', additional_kwargs={}, response_metadata={}, id='5647e0e5-e033-4dc2-b18e-62bba39bfeb1'),\n",
       " AIMessage(content='The Indian Premier League (IPL) was launched on September 13, 2007, and the first season took place in 2008, starting on April 18, 2008. The IPL is a professional Twenty20 cricket league in India and has become one of the most popular and lucrative cricket tournaments in the world.', additional_kwargs={'refusal': None}, response_metadata={'token_usage': {'completion_tokens': 66, 'prompt_tokens': 36, 'total_tokens': 102, 'completion_tokens_details': {'accepted_prediction_tokens': 0, 'audio_tokens': 0, 'reasoning_tokens': 0, 'rejected_prediction_tokens': 0}, 'prompt_tokens_details': {'audio_tokens': 0, 'cached_tokens': 0}}, 'model_name': 'gpt-4o-2024-08-06', 'system_fingerprint': 'fp_07871e2ad8', 'id': 'chatcmpl-BglUdOUv0uUB1ONyH0tukkb6JAupw', 'service_tier': 'default', 'finish_reason': 'stop', 'logprobs': None}, id='run--4aee1343-a71d-4998-8f88-accad0002cf1-0', usage_metadata={'input_tokens': 36, 'output_tokens': 66, 'total_tokens': 102, 'input_token_details': {'audio': 0, 'cache_read': 0}, 'output_token_details': {'audio': 0, 'reasoning': 0}}),\n",
       " HumanMessage(content='Which cricketer got the highest bid price during launch ?', additional_kwargs={}, response_metadata={}, id='14a4b381-64db-4e0d-b5b6-83e9d3049dfa'),\n",
       " AIMessage(content=\"During the inaugural Indian Premier League (IPL) auction in 2008, Mahendra Singh Dhoni received the highest bid. He was purchased by the Chennai Super Kings for $1.5 million, which made him the most expensive player in that first season's auction. Dhoni's leadership and exceptional cricketing skills were highly sought after, contributing to his high bid price.\", additional_kwargs={'refusal': None}, response_metadata={'token_usage': {'completion_tokens': 75, 'prompt_tokens': 122, 'total_tokens': 197, 'completion_tokens_details': {'accepted_prediction_tokens': 0, 'audio_tokens': 0, 'reasoning_tokens': 0, 'rejected_prediction_tokens': 0}, 'prompt_tokens_details': {'audio_tokens': 0, 'cached_tokens': 0}}, 'model_name': 'gpt-4o-2024-08-06', 'system_fingerprint': 'fp_a288987b44', 'id': 'chatcmpl-BglUfol3HxXOOsJwE9Fzcdt8YpoeT', 'service_tier': 'default', 'finish_reason': 'stop', 'logprobs': None}, id='run--7405ba47-332a-45a1-899c-87839c0b0bff-0', usage_metadata={'input_tokens': 122, 'output_tokens': 75, 'total_tokens': 197, 'input_token_details': {'audio': 0, 'cache_read': 0}, 'output_token_details': {'audio': 0, 'reasoning': 0}}),\n",
       " HumanMessage(content='I like Rohit Sharma, Which Team was he during first ipl', additional_kwargs={}, response_metadata={}, id='985aa97d-2339-4952-8813-36c65d17430e'),\n",
       " AIMessage(content='During the first season of the Indian Premier League (IPL) in 2008, Rohit Sharma played for the Deccan Chargers. The team was based in Hyderabad. He was with the Deccan Chargers for the first three seasons before moving to the Mumbai Indians in 2011, where he has since become a key player and captain.', additional_kwargs={'refusal': None}, response_metadata={'token_usage': {'completion_tokens': 68, 'prompt_tokens': 219, 'total_tokens': 287, 'completion_tokens_details': {'accepted_prediction_tokens': 0, 'audio_tokens': 0, 'reasoning_tokens': 0, 'rejected_prediction_tokens': 0}, 'prompt_tokens_details': {'audio_tokens': 0, 'cached_tokens': 0}}, 'model_name': 'gpt-4o-2024-08-06', 'system_fingerprint': 'fp_a288987b44', 'id': 'chatcmpl-BglUhL6paLjN0hLecqVUhgI22Srqc', 'service_tier': 'default', 'finish_reason': 'stop', 'logprobs': None}, id='run--25033ced-316b-4f43-9613-ba8f56e965ad-0', usage_metadata={'input_tokens': 219, 'output_tokens': 68, 'total_tokens': 287, 'input_token_details': {'audio': 0, 'cache_read': 0}, 'output_token_details': {'audio': 0, 'reasoning': 0}})]"
      ]
     },
     "execution_count": 87,
     "metadata": {},
     "output_type": "execute_result"
    }
   ],
   "source": [
    "result['messages']"
   ]
  },
  {
   "cell_type": "code",
   "execution_count": 88,
   "id": "c3d4de73",
   "metadata": {},
   "outputs": [],
   "source": [
    "\n",
    "response = gemini_llm.invoke(f\"Can you summarize {result['messages']}\")"
   ]
  },
  {
   "cell_type": "code",
   "execution_count": 89,
   "id": "64049c9d",
   "metadata": {},
   "outputs": [
    {
     "data": {
      "text/plain": [
       "AIMessage(content=\"The conversation consists of a series of questions and answers about the Indian Premier League (IPL):\\n\\n1. **IPL Launch**: The IPL was launched on September 13, 2007, with the first season beginning on April 18, 2008. It is a professional Twenty20 cricket league in India and is very popular and lucrative.\\n\\n2. **Highest Bid in the First IPL Auction**: During the first IPL auction in 2008, Mahendra Singh Dhoni received the highest bid price. He was bought by the Chennai Super Kings for $1.5 million due to his leadership and cricketing skills.\\n\\n3. **Rohit Sharma's First IPL Team**: Rohit Sharma played for the Deccan Chargers during the first IPL season in 2008. He remained with them for three seasons before moving to the Mumbai Indians in 2011, where he later became a key player and captain.\", additional_kwargs={'refusal': None}, response_metadata={'token_usage': {'completion_tokens': 185, 'prompt_tokens': 1472, 'total_tokens': 1657, 'completion_tokens_details': {'accepted_prediction_tokens': 0, 'audio_tokens': 0, 'reasoning_tokens': 0, 'rejected_prediction_tokens': 0}, 'prompt_tokens_details': {'audio_tokens': 0, 'cached_tokens': 0}}, 'model_name': 'gpt-4o-2024-08-06', 'system_fingerprint': 'fp_55d88aaf2f', 'id': 'chatcmpl-BglUj7ODTlcipX3x0UPdCMTjME2aw', 'service_tier': 'default', 'finish_reason': 'stop', 'logprobs': None}, id='run--24cc1394-fa13-4fb7-a447-55085346007a-0', usage_metadata={'input_tokens': 1472, 'output_tokens': 185, 'total_tokens': 1657, 'input_token_details': {'audio': 0, 'cache_read': 0}, 'output_token_details': {'audio': 0, 'reasoning': 0}})"
      ]
     },
     "execution_count": 89,
     "metadata": {},
     "output_type": "execute_result"
    }
   ],
   "source": [
    "response"
   ]
  },
  {
   "cell_type": "code",
   "execution_count": 90,
   "id": "e4dd7eb4",
   "metadata": {},
   "outputs": [],
   "source": [
    "gemini_llm = init_chat_model(model=\"gpt-4o\")"
   ]
  },
  {
   "cell_type": "code",
   "execution_count": 91,
   "id": "853de169",
   "metadata": {},
   "outputs": [],
   "source": [
    "class SummaryState(MessagesState):\n",
    "    summary: str"
   ]
  },
  {
   "cell_type": "code",
   "execution_count": 92,
   "id": "51676ad4",
   "metadata": {},
   "outputs": [],
   "source": [
    "def answer(state: SummaryState) -> SummaryState:\n",
    "    summary = state['summary']\n",
    "    \n",
    "    if summary.strip() == \"\":\n",
    "        messages = state['messages']\n",
    "    else:\n",
    "        system_message = f\"This is conversation of existing summary {summary}\"\n",
    "        messages = [SystemMessage(system_message)] + state['messages']\n",
    "    state['messages'] = gemini_llm.invoke(messages)\n",
    "    return state\n",
    "    "
   ]
  },
  {
   "cell_type": "code",
   "execution_count": 93,
   "id": "46440363",
   "metadata": {},
   "outputs": [],
   "source": [
    "from langchain_core.messages import RemoveMessage\n",
    "def summarize(state: SummaryState) -> SummaryState:\n",
    "    summary = state['summary']\n",
    "\n",
    "    if summary.strip() == \"\":\n",
    "        pass\n",
    "    else:\n",
    "        if len(state['messages']) >= 6:\n",
    "            system_message = SystemMessage(f\"Summarize the following messsages {state['messages']}\")\n",
    "            result_message = gemini_llm.invoke(system_message)\n",
    "            state['summary'] = result_message.content\n",
    "            deleted_messages = [RemoveMessage(id = m.id) for m in state['messages'][-2:]]\n",
    "            state['messages'] = deleted_messages + result_message\n",
    "    return state"
   ]
  },
  {
   "cell_type": "code",
   "execution_count": 94,
   "id": "c8e5236f",
   "metadata": {},
   "outputs": [],
   "source": [
    "from typing import Literal\n",
    "def should_summarise(state: SummaryState) -> Literal[\"yes\", \"no\"]:\n",
    "    if len(state['messages']) >= 6:\n",
    "        return \"yes\"\n",
    "    else:\n",
    "        return \"no\""
   ]
  },
  {
   "cell_type": "code",
   "execution_count": 95,
   "id": "6d4239f1",
   "metadata": {},
   "outputs": [],
   "source": [
    "summarize_graph_builder = StateGraph(SummaryState)\n",
    "summarize_graph_builder.add_node(\"conversation\", answer)\n",
    "summarize_graph_builder.add_node(\"summarize_conversation\", summarize)\n",
    "summarize_graph_builder.set_entry_point(\"conversation\")\n",
    "summarize_graph_builder.add_conditional_edges(\n",
    "   \"conversation\",\n",
    "   should_summarise,\n",
    "   {\n",
    "       \"yes\": \"summarize_conversation\",\n",
    "       \"no\": END\n",
    "   }\n",
    ")\n",
    "summary_graph = summarize_graph_builder.compile(checkpointer=InMemorySaver())"
   ]
  },
  {
   "cell_type": "code",
   "execution_count": 96,
   "id": "213b64c3",
   "metadata": {},
   "outputs": [
    {
     "data": {
      "image/png": "[encoded data removed]",
      "text/plain": [
       "<IPython.core.display.Image object>"
      ]
     },
     "metadata": {},
     "output_type": "display_data"
    }
   ],
   "source": [
    "draw_graph(summary_graph)"
   ]
  },
  {
   "cell_type": "code",
   "execution_count": 97,
   "id": "d1d96cf6",
   "metadata": {},
   "outputs": [],
   "source": [
    "result = summary_graph.invoke(\n",
    "    { \"messages\": [\n",
    "        SystemMessage(\"You are an expert Sports Author\"),\n",
    "        HumanMessage('What is most viewed Sport and what is the viewership?')],\n",
    "        \"summary\": \"\"\n",
    "    },\n",
    "    config={\"configurable\": {\"thread_id\": \"13\"}}\n",
    ")"
   ]
  },
  {
   "cell_type": "code",
   "execution_count": 98,
   "id": "a920387f",
   "metadata": {},
   "outputs": [
    {
     "data": {
      "text/plain": [
       "{'messages': [SystemMessage(content='You are an expert Sports Author', additional_kwargs={}, response_metadata={}, id='afce3346-6da4-4b95-aec1-1833971e1f74'),\n",
       "  HumanMessage(content='What is most viewed Sport and what is the viewership?', additional_kwargs={}, response_metadata={}, id='4a553f3f-6c90-47cc-8c3a-8be0d73b5f40'),\n",
       "  AIMessage(content=\"The most viewed sport in the world is soccer, also known as football in most countries. The global nature of soccer, along with its rich history and accessibility, contributes to its immense popularity.\\n\\nFor example, the FIFA World Cup, which is the pinnacle of international soccer, attracts enormous viewership. The 2018 FIFA World Cup, held in Russia, reportedly reached a combined audience of over 3.5 billion viewers worldwide, with more than 1 billion people tuning in just for the final match between France and Croatia.\\n\\nSoccer's enduring appeal is evidenced by its massive fan base across continents, from Europe and the Americas to Africa and Asia, supported by infrastructure like professional leagues and tournaments at both club and international levels.\", additional_kwargs={'refusal': None}, response_metadata={'token_usage': {'completion_tokens': 145, 'prompt_tokens': 29, 'total_tokens': 174, 'completion_tokens_details': {'accepted_prediction_tokens': 0, 'audio_tokens': 0, 'reasoning_tokens': 0, 'rejected_prediction_tokens': 0}, 'prompt_tokens_details': {'audio_tokens': 0, 'cached_tokens': 0}}, 'model_name': 'gpt-4o-2024-08-06', 'system_fingerprint': 'fp_90122d973c', 'id': 'chatcmpl-BglUndZ4OQiUIgQJkfLk8wpKnJn4y', 'service_tier': 'default', 'finish_reason': 'stop', 'logprobs': None}, id='run--67c54fa6-d708-4332-b5a4-52466706439c-0', usage_metadata={'input_tokens': 29, 'output_tokens': 145, 'total_tokens': 174, 'input_token_details': {'audio': 0, 'cache_read': 0}, 'output_token_details': {'audio': 0, 'reasoning': 0}})],\n",
       " 'summary': ''}"
      ]
     },
     "execution_count": 98,
     "metadata": {},
     "output_type": "execute_result"
    }
   ],
   "source": [
    "result\n"
   ]
  },
  {
   "cell_type": "code",
   "execution_count": 99,
   "id": "26d5581d",
   "metadata": {},
   "outputs": [
    {
     "name": "stdout",
     "output_type": "stream",
     "text": [
      "================================\u001b[1m System Message \u001b[0m================================\n",
      "\n",
      "You are an expert Sports Author\n",
      "================================\u001b[1m Human Message \u001b[0m=================================\n",
      "\n",
      "What is most viewed Sport and what is the viewership?\n",
      "==================================\u001b[1m Ai Message \u001b[0m==================================\n",
      "\n",
      "The most viewed sport in the world is soccer, also known as football in most countries. The global nature of soccer, along with its rich history and accessibility, contributes to its immense popularity.\n",
      "\n",
      "For example, the FIFA World Cup, which is the pinnacle of international soccer, attracts enormous viewership. The 2018 FIFA World Cup, held in Russia, reportedly reached a combined audience of over 3.5 billion viewers worldwide, with more than 1 billion people tuning in just for the final match between France and Croatia.\n",
      "\n",
      "Soccer's enduring appeal is evidenced by its massive fan base across continents, from Europe and the Americas to Africa and Asia, supported by infrastructure like professional leagues and tournaments at both club and international levels.\n"
     ]
    }
   ],
   "source": [
    "for message in result['messages']:\n",
    "    message.pretty_print()"
   ]
  },
  {
   "cell_type": "code",
   "execution_count": 100,
   "id": "e9da3468",
   "metadata": {},
   "outputs": [
    {
     "name": "stdout",
     "output_type": "stream",
     "text": [
      "================================\u001b[1m System Message \u001b[0m================================\n",
      "\n",
      "You are an expert Sports Author\n",
      "================================\u001b[1m Human Message \u001b[0m=================================\n",
      "\n",
      "What is most viewed Sport and what is the viewership?\n",
      "==================================\u001b[1m Ai Message \u001b[0m==================================\n",
      "\n",
      "The most viewed sport in the world is soccer, also known as football in most countries. The global nature of soccer, along with its rich history and accessibility, contributes to its immense popularity.\n",
      "\n",
      "For example, the FIFA World Cup, which is the pinnacle of international soccer, attracts enormous viewership. The 2018 FIFA World Cup, held in Russia, reportedly reached a combined audience of over 3.5 billion viewers worldwide, with more than 1 billion people tuning in just for the final match between France and Croatia.\n",
      "\n",
      "Soccer's enduring appeal is evidenced by its massive fan base across continents, from Europe and the Americas to Africa and Asia, supported by infrastructure like professional leagues and tournaments at both club and international levels.\n",
      "================================\u001b[1m Human Message \u001b[0m=================================\n",
      "\n",
      "Who is higest paid soccer personality in history ?\n",
      "==================================\u001b[1m Ai Message \u001b[0m==================================\n",
      "\n",
      "As of my last update in 2023, Lionel Messi is widely regarded as one of the highest-paid soccer players in history. In August 2021, Messi signed with Paris Saint-Germain (PSG) after leaving Barcelona, where he had been the highest-paid player. According to reports, his contract with PSG, which included bonuses and endorsements, significantly contributed to his high earnings.\n",
      "\n",
      "Another prominent figure in terms of earnings is Cristiano Ronaldo, who has consistently been among the top earners due to his contracts with clubs like Manchester United, Real Madrid, Juventus, and endorsements.\n",
      "\n",
      "In addition to club contracts, soccer personalities often earn substantial income through endorsements and commercial deals, which further bolster their total earnings. Messi, Ronaldo, and Neymar have frequently topped lists of the world's highest-paid athletes.\n",
      "\n",
      "However, for the most accurate and updated figures, consulting recent reports from reputable financial publications or sports journals would provide the latest information.\n"
     ]
    }
   ],
   "source": [
    "result = summary_graph.invoke(\n",
    "    { \"messages\": [\n",
    "        HumanMessage('Who is higest paid soccer personality in history ?')],\n",
    "        \"summary\": \"\"\n",
    "    },\n",
    "    config={\"configurable\": {\"thread_id\": \"13\"}}\n",
    ")\n",
    "for message in result['messages']:\n",
    "    message.pretty_print()"
   ]
  },
  {
   "cell_type": "code",
   "execution_count": 101,
   "id": "6f40b31c",
   "metadata": {},
   "outputs": [
    {
     "name": "stdout",
     "output_type": "stream",
     "text": [
      "================================\u001b[1m System Message \u001b[0m================================\n",
      "\n",
      "You are an expert Sports Author\n",
      "================================\u001b[1m Human Message \u001b[0m=================================\n",
      "\n",
      "What is most viewed Sport and what is the viewership?\n",
      "==================================\u001b[1m Ai Message \u001b[0m==================================\n",
      "\n",
      "The most viewed sport in the world is soccer, also known as football in most countries. The global nature of soccer, along with its rich history and accessibility, contributes to its immense popularity.\n",
      "\n",
      "For example, the FIFA World Cup, which is the pinnacle of international soccer, attracts enormous viewership. The 2018 FIFA World Cup, held in Russia, reportedly reached a combined audience of over 3.5 billion viewers worldwide, with more than 1 billion people tuning in just for the final match between France and Croatia.\n",
      "\n",
      "Soccer's enduring appeal is evidenced by its massive fan base across continents, from Europe and the Americas to Africa and Asia, supported by infrastructure like professional leagues and tournaments at both club and international levels.\n",
      "================================\u001b[1m Human Message \u001b[0m=================================\n",
      "\n",
      "Who is higest paid soccer personality in history ?\n",
      "==================================\u001b[1m Ai Message \u001b[0m==================================\n",
      "\n",
      "As of my last update in 2023, Lionel Messi is widely regarded as one of the highest-paid soccer players in history. In August 2021, Messi signed with Paris Saint-Germain (PSG) after leaving Barcelona, where he had been the highest-paid player. According to reports, his contract with PSG, which included bonuses and endorsements, significantly contributed to his high earnings.\n",
      "\n",
      "Another prominent figure in terms of earnings is Cristiano Ronaldo, who has consistently been among the top earners due to his contracts with clubs like Manchester United, Real Madrid, Juventus, and endorsements.\n",
      "\n",
      "In addition to club contracts, soccer personalities often earn substantial income through endorsements and commercial deals, which further bolster their total earnings. Messi, Ronaldo, and Neymar have frequently topped lists of the world's highest-paid athletes.\n",
      "\n",
      "However, for the most accurate and updated figures, consulting recent reports from reputable financial publications or sports journals would provide the latest information.\n",
      "================================\u001b[1m Human Message \u001b[0m=================================\n",
      "\n",
      "Which team does messi represent in franchise leagues ?\n",
      "==================================\u001b[1m Ai Message \u001b[0m==================================\n",
      "\n",
      "As of 2023, Lionel Messi plays for Inter Miami CF in Major League Soccer (MLS). He joined the team in 2023 after leaving Paris Saint-Germain (PSG). Messi's move to the MLS was a significant event, as it marked the latest chapter in his illustrious career and brought considerable attention to the league. His presence in MLS has been influential in promoting soccer in the United States and bringing more global attention to the league.\n"
     ]
    }
   ],
   "source": [
    "result = summary_graph.invoke(\n",
    "    { \"messages\": [\n",
    "        HumanMessage('Which team does messi represent in franchise leagues ?')],\n",
    "        \"summary\": \"\"\n",
    "    },\n",
    "    config={\"configurable\": {\"thread_id\": \"13\"}}\n",
    ")\n",
    "for message in result['messages']:\n",
    "    message.pretty_print()"
   ]
  },
  {
   "cell_type": "code",
   "execution_count": 102,
   "id": "682711eb",
   "metadata": {},
   "outputs": [
    {
     "name": "stdout",
     "output_type": "stream",
     "text": [
      "================================\u001b[1m System Message \u001b[0m================================\n",
      "\n",
      "You are an expert Sports Author\n",
      "================================\u001b[1m Human Message \u001b[0m=================================\n",
      "\n",
      "What is most viewed Sport and what is the viewership?\n",
      "==================================\u001b[1m Ai Message \u001b[0m==================================\n",
      "\n",
      "The most viewed sport in the world is soccer, also known as football in most countries. The global nature of soccer, along with its rich history and accessibility, contributes to its immense popularity.\n",
      "\n",
      "For example, the FIFA World Cup, which is the pinnacle of international soccer, attracts enormous viewership. The 2018 FIFA World Cup, held in Russia, reportedly reached a combined audience of over 3.5 billion viewers worldwide, with more than 1 billion people tuning in just for the final match between France and Croatia.\n",
      "\n",
      "Soccer's enduring appeal is evidenced by its massive fan base across continents, from Europe and the Americas to Africa and Asia, supported by infrastructure like professional leagues and tournaments at both club and international levels.\n",
      "================================\u001b[1m Human Message \u001b[0m=================================\n",
      "\n",
      "Who is higest paid soccer personality in history ?\n",
      "==================================\u001b[1m Ai Message \u001b[0m==================================\n",
      "\n",
      "As of my last update in 2023, Lionel Messi is widely regarded as one of the highest-paid soccer players in history. In August 2021, Messi signed with Paris Saint-Germain (PSG) after leaving Barcelona, where he had been the highest-paid player. According to reports, his contract with PSG, which included bonuses and endorsements, significantly contributed to his high earnings.\n",
      "\n",
      "Another prominent figure in terms of earnings is Cristiano Ronaldo, who has consistently been among the top earners due to his contracts with clubs like Manchester United, Real Madrid, Juventus, and endorsements.\n",
      "\n",
      "In addition to club contracts, soccer personalities often earn substantial income through endorsements and commercial deals, which further bolster their total earnings. Messi, Ronaldo, and Neymar have frequently topped lists of the world's highest-paid athletes.\n",
      "\n",
      "However, for the most accurate and updated figures, consulting recent reports from reputable financial publications or sports journals would provide the latest information.\n",
      "================================\u001b[1m Human Message \u001b[0m=================================\n",
      "\n",
      "Which team does messi represent in franchise leagues ?\n",
      "==================================\u001b[1m Ai Message \u001b[0m==================================\n",
      "\n",
      "As of 2023, Lionel Messi plays for Inter Miami CF in Major League Soccer (MLS). He joined the team in 2023 after leaving Paris Saint-Germain (PSG). Messi's move to the MLS was a significant event, as it marked the latest chapter in his illustrious career and brought considerable attention to the league. His presence in MLS has been influential in promoting soccer in the United States and bringing more global attention to the league.\n",
      "================================\u001b[1m Human Message \u001b[0m=================================\n",
      "\n",
      "Which team does ronaldo represent in franchise leagues ?\n",
      "==================================\u001b[1m Ai Message \u001b[0m==================================\n",
      "\n",
      "As of 2023, Cristiano Ronaldo plays for Al Nassr in the Saudi Pro League. He joined the club in January 2023 after leaving Manchester United. Ronaldo's transfer to Al Nassr was part of a broader trend of prominent players moving to the Saudi Pro League, which has been investing heavily to raise the profile of soccer in the region. His presence in the league has brought increased attention and viewership, contributing to the growth of soccer in Saudi Arabia and the broader Middle East.\n"
     ]
    }
   ],
   "source": [
    "result = summary_graph.invoke(\n",
    "    { \"messages\": [\n",
    "        HumanMessage('Which team does ronaldo represent in franchise leagues ?')],\n",
    "        \"summary\": \"\"\n",
    "    },\n",
    "    config={\"configurable\": {\"thread_id\": \"13\"}}\n",
    ")\n",
    "for message in result['messages']:\n",
    "    message.pretty_print()"
   ]
  },
  {
   "cell_type": "code",
   "execution_count": 103,
   "id": "5d6b5b3d",
   "metadata": {},
   "outputs": [
    {
     "data": {
      "text/plain": [
       "9"
      ]
     },
     "execution_count": 103,
     "metadata": {},
     "output_type": "execute_result"
    }
   ],
   "source": [
    "len(result['messages'])"
   ]
  },
  {
   "cell_type": "code",
   "execution_count": 104,
   "id": "b0096f9f",
   "metadata": {},
   "outputs": [],
   "source": [
    "from langgraph.graph import StateGraph, MessagesState\n",
    "class State(MessagesState):\n",
    "    summary: str"
   ]
  },
  {
   "cell_type": "code",
   "execution_count": 105,
   "id": "42f645c7",
   "metadata": {},
   "outputs": [],
   "source": [
    "from langchain_core.messages import SystemMessage\n",
    "\n",
    "def call_model(state: State) -> State:\n",
    "    summary = state['summary']\n",
    "\n",
    "    if summary:\n",
    "        system_message = f\"Summary of conversation earlier: {summary}\"\n",
    "        messages = [SystemMessage(content=system_message)] + state['messages']\n",
    "    else:\n",
    "        messages = state['messages']\n",
    "    response = gemini_llm.invoke(messages)\n",
    "    return { \"messages\": response }"
   ]
  },
  {
   "cell_type": "code",
   "execution_count": 106,
   "id": "82e96ea7",
   "metadata": {},
   "outputs": [],
   "source": [
    "from langchain_core.messages import HumanMessage, RemoveMessage\n",
    "def summarize_conversation(state: State) -> State:\n",
    "    summary = state['summary']\n",
    "\n",
    "    # Create our summarization prompt\n",
    "    if summary:\n",
    "        sumary_message = (\n",
    "            f\"This is summary of the conversation to date: {summary}\",\n",
    "            \"Extend this summary by taking into account the new messages above:\"\n",
    "        )\n",
    "    else:\n",
    "        sumary_message = \"Create a summary of the conversation above:\"\n",
    "    messages = state['messages'] + [HumanMessage(content=sumary_message)]\n",
    "    response = gemini_llm.invoke(messages)\n",
    "\n",
    "    delete_messages = [RemoveMessage(id=m.id) for m  in state['messages'][:-2]]\n",
    "    return {\"summary\": response.content, \"messages\": delete_messages }"
   ]
  },
  {
   "cell_type": "code",
   "execution_count": 107,
   "id": "1e0dfa58",
   "metadata": {},
   "outputs": [],
   "source": [
    "from langgraph.graph import END, START\n",
    "\n",
    "def should_continue(state: State) -> Literal[\"summarize_conversation\", END]:\n",
    "    messages = state['messages']\n",
    "    if len(messages) > 6:\n",
    "        return \"summarize_conversation\"\n",
    "    return END"
   ]
  },
  {
   "cell_type": "code",
   "execution_count": 126,
   "id": "e5e95312",
   "metadata": {},
   "outputs": [],
   "source": [
    "from langgraph.checkpoint.memory import MemorySaver\n",
    "workflow_builder = StateGraph(State)\n",
    "workflow_builder.add_node(\"conversation\", call_model)\n",
    "workflow_builder.add_node(\"summarize_conversation\",summarize_conversation)\n",
    "workflow_builder.add_edge(START, \"conversation\")\n",
    "workflow_builder.add_conditional_edges(\"conversation\", should_continue)\n",
    "workflow_builder.add_edge(\"summarize_conversation\", END)\n",
    "\n",
    "memory = MemorySaver()\n",
    "graph = workflow_builder.compile(checkpointer=memory)\n"
   ]
  },
  {
   "cell_type": "code",
   "execution_count": 109,
   "id": "ca4de06d",
   "metadata": {},
   "outputs": [
    {
     "data": {
      "image/png": "[encoded data removed]",
      "text/plain": [
       "<IPython.core.display.Image object>"
      ]
     },
     "metadata": {},
     "output_type": "display_data"
    }
   ],
   "source": [
    "draw_graph(graph)"
   ]
  },
  {
   "cell_type": "code",
   "execution_count": 127,
   "id": "1133cf0b",
   "metadata": {},
   "outputs": [
    {
     "name": "stdout",
     "output_type": "stream",
     "text": [
      "==================================\u001b[1m Ai Message \u001b[0m==================================\n",
      "\n",
      "Hello Khaja! How can I assist you today?\n"
     ]
    }
   ],
   "source": [
    "config = {\"configurable\": {\"thread_id\": \"2\"}}\n",
    "\n",
    "# start the conversation\n",
    "\n",
    "input_message = HumanMessage(content=\"Hi this is khaja\")\n",
    "output = graph.invoke({\"messages\": [input_message], \"summary\": None }, config=config)\n",
    "for m in output['messages'][-1:]:\n",
    "    m.pretty_print()"
   ]
  },
  {
   "cell_type": "code",
   "execution_count": 128,
   "id": "f55cb866",
   "metadata": {},
   "outputs": [
    {
     "name": "stdout",
     "output_type": "stream",
     "text": [
      "==================================\u001b[1m Ai Message \u001b[0m==================================\n",
      "\n",
      "You mentioned that your name is Khaja. How can I assist you further?\n"
     ]
    }
   ],
   "source": [
    "input_message = HumanMessage(content=\"Whats my name\")\n",
    "output = graph.invoke({\"messages\": [input_message] }, config=config)\n",
    "for m in output['messages'][-1:]:\n",
    "    m.pretty_print()"
   ]
  },
  {
   "cell_type": "code",
   "execution_count": 129,
   "id": "8771f2ba",
   "metadata": {},
   "outputs": [
    {
     "name": "stdout",
     "output_type": "stream",
     "text": [
      "==================================\u001b[1m Ai Message \u001b[0m==================================\n",
      "\n",
      "That's great! \"Game of Thrones\" is a popular TV series based on the \"A Song of Ice and Fire\" books by George R.R. Martin. Do you have a favorite character or storyline from the series?\n"
     ]
    }
   ],
   "source": [
    "input_message = HumanMessage(content=\"I like Game of Thrones\")\n",
    "output = graph.invoke({\"messages\": [input_message] }, config=config)\n",
    "for m in output['messages'][-1:]:\n",
    "    m.pretty_print()"
   ]
  },
  {
   "cell_type": "code",
   "execution_count": 130,
   "id": "062052d6",
   "metadata": {},
   "outputs": [],
   "source": [
    "graph.get_state(config).values.get('summary')"
   ]
  },
  {
   "cell_type": "code",
   "execution_count": 131,
   "id": "01e735e6",
   "metadata": {},
   "outputs": [
    {
     "data": {
      "text/plain": [
       "[HumanMessage(content='Hi this is khaja', additional_kwargs={}, response_metadata={}, id='4b666faa-f7a1-49e0-8382-3d7dd140c019'),\n",
       " AIMessage(content='Hello Khaja! How can I assist you today?', additional_kwargs={'refusal': None}, response_metadata={'token_usage': {'completion_tokens': 11, 'prompt_tokens': 12, 'total_tokens': 23, 'completion_tokens_details': {'accepted_prediction_tokens': 0, 'audio_tokens': 0, 'reasoning_tokens': 0, 'rejected_prediction_tokens': 0}, 'prompt_tokens_details': {'audio_tokens': 0, 'cached_tokens': 0}}, 'model_name': 'gpt-4o-2024-08-06', 'system_fingerprint': 'fp_a288987b44', 'id': 'chatcmpl-BglXCgIJ0f7ZCm61smYdp3c2JNXFv', 'service_tier': 'default', 'finish_reason': 'stop', 'logprobs': None}, id='run--61060a2d-3696-4a64-8b35-2eaaa7eaec29-0', usage_metadata={'input_tokens': 12, 'output_tokens': 11, 'total_tokens': 23, 'input_token_details': {'audio': 0, 'cache_read': 0}, 'output_token_details': {'audio': 0, 'reasoning': 0}}),\n",
       " HumanMessage(content='Whats my name', additional_kwargs={}, response_metadata={}, id='1271117c-aa23-4597-b919-b45482df1c28'),\n",
       " AIMessage(content='You mentioned that your name is Khaja. How can I assist you further?', additional_kwargs={'refusal': None}, response_metadata={'token_usage': {'completion_tokens': 16, 'prompt_tokens': 34, 'total_tokens': 50, 'completion_tokens_details': {'accepted_prediction_tokens': 0, 'audio_tokens': 0, 'reasoning_tokens': 0, 'rejected_prediction_tokens': 0}, 'prompt_tokens_details': {'audio_tokens': 0, 'cached_tokens': 0}}, 'model_name': 'gpt-4o-2024-08-06', 'system_fingerprint': 'fp_07871e2ad8', 'id': 'chatcmpl-BglXPyRQmozX6svg3I9OmoMtLgZ5J', 'service_tier': 'default', 'finish_reason': 'stop', 'logprobs': None}, id='run--0c30ccc3-658a-41e1-8a9e-066f60428314-0', usage_metadata={'input_tokens': 34, 'output_tokens': 16, 'total_tokens': 50, 'input_token_details': {'audio': 0, 'cache_read': 0}, 'output_token_details': {'audio': 0, 'reasoning': 0}}),\n",
       " HumanMessage(content='I like Game of Thrones', additional_kwargs={}, response_metadata={}, id='e9eb28ac-4a12-4ac2-a3c9-96de4c5a0dd1'),\n",
       " AIMessage(content='That\\'s great! \"Game of Thrones\" is a popular TV series based on the \"A Song of Ice and Fire\" books by George R.R. Martin. Do you have a favorite character or storyline from the series?', additional_kwargs={'refusal': None}, response_metadata={'token_usage': {'completion_tokens': 44, 'prompt_tokens': 63, 'total_tokens': 107, 'completion_tokens_details': {'accepted_prediction_tokens': 0, 'audio_tokens': 0, 'reasoning_tokens': 0, 'rejected_prediction_tokens': 0}, 'prompt_tokens_details': {'audio_tokens': 0, 'cached_tokens': 0}}, 'model_name': 'gpt-4o-2024-08-06', 'system_fingerprint': 'fp_a288987b44', 'id': 'chatcmpl-BglXUcGIGClnOE4qhK33HZpVzIPSD', 'service_tier': 'default', 'finish_reason': 'stop', 'logprobs': None}, id='run--914a5faa-81e0-411f-9f75-5cc04ed0908b-0', usage_metadata={'input_tokens': 63, 'output_tokens': 44, 'total_tokens': 107, 'input_token_details': {'audio': 0, 'cache_read': 0}, 'output_token_details': {'audio': 0, 'reasoning': 0}})]"
      ]
     },
     "execution_count": 131,
     "metadata": {},
     "output_type": "execute_result"
    }
   ],
   "source": [
    "graph.get_state(config).values.get('messages')"
   ]
  },
  {
   "cell_type": "code",
   "execution_count": 132,
   "id": "58120a5d",
   "metadata": {},
   "outputs": [
    {
     "name": "stdout",
     "output_type": "stream",
     "text": [
      "==================================\u001b[1m Ai Message \u001b[0m==================================\n",
      "\n",
      "Daenerys Targaryen was indeed a compelling and complex character, and her journey was central to \"Game of Thrones.\" Her death in the series finale was a controversial moment for many fans, as it signified a dramatic and tragic end to her story. Some viewers found it to be a poignant and powerful moment, while others felt it was abrupt or out of character. It's a testament to the show's ability to evoke strong emotions and opinions. What do you think about the decision to end her story that way?\n"
     ]
    }
   ],
   "source": [
    "input_message = HumanMessage(content=\"I like Daenerys Targaryen. But didnt like her death. Isn't that brutal\")\n",
    "output = graph.invoke({\"messages\": [input_message]}, config=config)\n",
    "for m in output['messages'][-1:]:\n",
    "    m.pretty_print()"
   ]
  },
  {
   "cell_type": "code",
   "execution_count": 133,
   "id": "5ffc1aeb",
   "metadata": {},
   "outputs": [
    {
     "name": "stdout",
     "output_type": "stream",
     "text": [
      "The conversation began with Khaja introducing themselves and expressing their interest in the TV series \"Game of Thrones.\" They specifically mentioned liking the character Daenerys Targaryen but were unhappy with her death, describing it as brutal. The response acknowledged the complexity and controversy surrounding Daenerys's storyline and asked for Khaja's opinion on the decision to end her story that way.\n"
     ]
    }
   ],
   "source": [
    "print(graph.get_state(config).values.get('summary'))\n"
   ]
  },
  {
   "cell_type": "code",
   "execution_count": 134,
   "id": "f036468d",
   "metadata": {},
   "outputs": [
    {
     "data": {
      "text/plain": [
       "[HumanMessage(content=\"I like Daenerys Targaryen. But didnt like her death. Isn't that brutal\", additional_kwargs={}, response_metadata={}, id='da8b6e9a-1951-432e-96e7-0cf4c96b3af6'),\n",
       " AIMessage(content='Daenerys Targaryen was indeed a compelling and complex character, and her journey was central to \"Game of Thrones.\" Her death in the series finale was a controversial moment for many fans, as it signified a dramatic and tragic end to her story. Some viewers found it to be a poignant and powerful moment, while others felt it was abrupt or out of character. It\\'s a testament to the show\\'s ability to evoke strong emotions and opinions. What do you think about the decision to end her story that way?', additional_kwargs={'refusal': None}, response_metadata={'token_usage': {'completion_tokens': 104, 'prompt_tokens': 134, 'total_tokens': 238, 'completion_tokens_details': {'accepted_prediction_tokens': 0, 'audio_tokens': 0, 'reasoning_tokens': 0, 'rejected_prediction_tokens': 0}, 'prompt_tokens_details': {'audio_tokens': 0, 'cached_tokens': 0}}, 'model_name': 'gpt-4o-2024-08-06', 'system_fingerprint': 'fp_07871e2ad8', 'id': 'chatcmpl-BglXg9IavzQXbN5c48j0r4bYgn5Ux', 'service_tier': 'default', 'finish_reason': 'stop', 'logprobs': None}, id='run--d75f6e69-e292-460b-9fcd-498b6411fe22-0', usage_metadata={'input_tokens': 134, 'output_tokens': 104, 'total_tokens': 238, 'input_token_details': {'audio': 0, 'cache_read': 0}, 'output_token_details': {'audio': 0, 'reasoning': 0}})]"
      ]
     },
     "execution_count": 134,
     "metadata": {},
     "output_type": "execute_result"
    }
   ],
   "source": [
    "graph.get_state(config).values.get('messages')"
   ]
  },
  {
   "cell_type": "code",
   "execution_count": 135,
   "id": "bc0c146e",
   "metadata": {},
   "outputs": [
    {
     "name": "stdout",
     "output_type": "stream",
     "text": [
      "==================================\u001b[1m Ai Message \u001b[0m==================================\n",
      "\n",
      "It's understandable to feel that way, especially if you were invested in Daenerys's journey throughout the series. Her character went through significant growth and faced numerous challenges. Seeing her story end so tragically, and at the hands of someone she trusted, can feel like a betrayal of her character's potential. This reaction was shared by many fans who had hoped for a different resolution to her arc. How did you feel about the rest of the series finale?\n"
     ]
    }
   ],
   "source": [
    "input_message = HumanMessage(content=\"I felt betrayed\")\n",
    "output = graph.invoke({\"messages\": [input_message] }, config=config)\n",
    "for m in output['messages'][-1:]:\n",
    "    m.pretty_print()"
   ]
  },
  {
   "cell_type": "code",
   "execution_count": 136,
   "id": "99752902",
   "metadata": {},
   "outputs": [
    {
     "name": "stdout",
     "output_type": "stream",
     "text": [
      "The conversation began with Khaja introducing themselves and expressing their interest in the TV series \"Game of Thrones.\" They specifically mentioned liking the character Daenerys Targaryen but were unhappy with her death, describing it as brutal. The response acknowledged the complexity and controversy surrounding Daenerys's storyline and asked for Khaja's opinion on the decision to end her story that way.\n"
     ]
    }
   ],
   "source": [
    "print(graph.get_state(config).values.get('summary'))"
   ]
  },
  {
   "cell_type": "code",
   "execution_count": 137,
   "id": "faec17d8",
   "metadata": {},
   "outputs": [
    {
     "data": {
      "text/plain": [
       "[HumanMessage(content=\"I like Daenerys Targaryen. But didnt like her death. Isn't that brutal\", additional_kwargs={}, response_metadata={}, id='da8b6e9a-1951-432e-96e7-0cf4c96b3af6'),\n",
       " AIMessage(content='Daenerys Targaryen was indeed a compelling and complex character, and her journey was central to \"Game of Thrones.\" Her death in the series finale was a controversial moment for many fans, as it signified a dramatic and tragic end to her story. Some viewers found it to be a poignant and powerful moment, while others felt it was abrupt or out of character. It\\'s a testament to the show\\'s ability to evoke strong emotions and opinions. What do you think about the decision to end her story that way?', additional_kwargs={'refusal': None}, response_metadata={'token_usage': {'completion_tokens': 104, 'prompt_tokens': 134, 'total_tokens': 238, 'completion_tokens_details': {'accepted_prediction_tokens': 0, 'audio_tokens': 0, 'reasoning_tokens': 0, 'rejected_prediction_tokens': 0}, 'prompt_tokens_details': {'audio_tokens': 0, 'cached_tokens': 0}}, 'model_name': 'gpt-4o-2024-08-06', 'system_fingerprint': 'fp_07871e2ad8', 'id': 'chatcmpl-BglXg9IavzQXbN5c48j0r4bYgn5Ux', 'service_tier': 'default', 'finish_reason': 'stop', 'logprobs': None}, id='run--d75f6e69-e292-460b-9fcd-498b6411fe22-0', usage_metadata={'input_tokens': 134, 'output_tokens': 104, 'total_tokens': 238, 'input_token_details': {'audio': 0, 'cache_read': 0}, 'output_token_details': {'audio': 0, 'reasoning': 0}}),\n",
       " HumanMessage(content='I felt betrayed', additional_kwargs={}, response_metadata={}, id='5e6883fd-fad5-4ee3-b287-26446cbe7e27'),\n",
       " AIMessage(content=\"It's understandable to feel that way, especially if you were invested in Daenerys's journey throughout the series. Her character went through significant growth and faced numerous challenges. Seeing her story end so tragically, and at the hands of someone she trusted, can feel like a betrayal of her character's potential. This reaction was shared by many fans who had hoped for a different resolution to her arc. How did you feel about the rest of the series finale?\", additional_kwargs={'refusal': None}, response_metadata={'token_usage': {'completion_tokens': 91, 'prompt_tokens': 226, 'total_tokens': 317, 'completion_tokens_details': {'accepted_prediction_tokens': 0, 'audio_tokens': 0, 'reasoning_tokens': 0, 'rejected_prediction_tokens': 0}, 'prompt_tokens_details': {'audio_tokens': 0, 'cached_tokens': 0}}, 'model_name': 'gpt-4o-2024-08-06', 'system_fingerprint': 'fp_a288987b44', 'id': 'chatcmpl-BglY0KMfO4b1ICmyUccoV6PZRtgoB', 'service_tier': 'default', 'finish_reason': 'stop', 'logprobs': None}, id='run--27250f29-c642-44d0-8c47-5e68bede7a34-0', usage_metadata={'input_tokens': 226, 'output_tokens': 91, 'total_tokens': 317, 'input_token_details': {'audio': 0, 'cache_read': 0}, 'output_token_details': {'audio': 0, 'reasoning': 0}})]"
      ]
     },
     "execution_count": 137,
     "metadata": {},
     "output_type": "execute_result"
    }
   ],
   "source": [
    "graph.get_state(config).values.get('messages')"
   ]
  }
 ],
 "metadata": {
  "kernelspec": {
   "display_name": ".venv",
   "language": "python",
   "name": "python3"
  },
  "language_info": {
   "codemirror_mode": {
    "name": "ipython",
    "version": 3
   },
   "file_extension": ".py",
   "mimetype": "text/x-python",
   "name": "python",
   "nbconvert_exporter": "python",
   "pygments_lexer": "ipython3",
   "version": "3.11.9"
  }
 },
 "nbformat": 4,
 "nbformat_minor": 5
}
