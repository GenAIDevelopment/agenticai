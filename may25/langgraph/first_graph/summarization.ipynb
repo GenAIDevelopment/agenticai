{
 "cells": [
  {
   "cell_type": "code",
   "execution_count": 8,
   "id": "bc23ef4d",
   "metadata": {},
   "outputs": [],
   "source": [
    "from langgraph.graph import StateGraph, MessagesState, START,END"
   ]
  },
  {
   "cell_type": "code",
   "execution_count": 2,
   "id": "4caf7b73",
   "metadata": {},
   "outputs": [],
   "source": [
    "from langchain.chat_models import init_chat_model"
   ]
  },
  {
   "cell_type": "code",
   "execution_count": 3,
   "id": "2945f0e1",
   "metadata": {},
   "outputs": [
    {
     "data": {
      "text/plain": [
       "True"
      ]
     },
     "execution_count": 3,
     "metadata": {},
     "output_type": "execute_result"
    }
   ],
   "source": [
    "from dotenv import load_dotenv\n",
    "load_dotenv()"
   ]
  },
  {
   "cell_type": "code",
   "execution_count": 16,
   "id": "366f5701",
   "metadata": {},
   "outputs": [],
   "source": [
    "gemini_llm = init_chat_model(model=\"gpt-4o\")"
   ]
  },
  {
   "cell_type": "code",
   "execution_count": 5,
   "id": "f94cc6e4",
   "metadata": {},
   "outputs": [],
   "source": [
    "class SummaryState(MessagesState):\n",
    "    summary: str"
   ]
  },
  {
   "cell_type": "code",
   "execution_count": 17,
   "id": "01a5934b",
   "metadata": {},
   "outputs": [],
   "source": [
    "def answer(state: SummaryState) -> SummaryState:\n",
    "    state['messages']= gemini_llm.invoke(state['messages'])\n",
    "    return state"
   ]
  },
  {
   "cell_type": "code",
   "execution_count": 7,
   "id": "cbbfaad5",
   "metadata": {},
   "outputs": [],
   "source": [
    "from langgraph.checkpoint.memory import InMemorySaver"
   ]
  },
  {
   "cell_type": "code",
   "execution_count": 18,
   "id": "d63e47be",
   "metadata": {},
   "outputs": [],
   "source": [
    "graph_builder = StateGraph(SummaryState)\n",
    "graph_builder.add_node(\"response\", answer)\n",
    "graph_builder.add_edge(START, \"response\")\n",
    "graph_builder.add_edge(\"response\", END)\n",
    "graph = graph_builder.compile(checkpointer=InMemorySaver())"
   ]
  },
  {
   "cell_type": "code",
   "execution_count": 19,
   "id": "b51b6481",
   "metadata": {},
   "outputs": [],
   "source": [
    "from langgraph.graph.state import CompiledStateGraph\n",
    "from IPython.display import Image, display\n",
    "\n",
    "def draw_graph(graph: CompiledStateGraph):\n",
    "    display(Image(graph.get_graph().draw_mermaid_png()))"
   ]
  },
  {
   "cell_type": "code",
   "execution_count": 20,
   "id": "2e6fa3d0",
   "metadata": {},
   "outputs": [
    {
     "data": {
      "image/png": "[encoded data removed]",
      "text/plain": [
       "<IPython.core.display.Image object>"
      ]
     },
     "metadata": {},
     "output_type": "display_data"
    }
   ],
   "source": [
    "draw_graph(graph)"
   ]
  },
  {
   "cell_type": "code",
   "execution_count": 12,
   "id": "2e80007b",
   "metadata": {},
   "outputs": [],
   "source": [
    "from langchain_core.messages import SystemMessage, HumanMessage, AIMessage"
   ]
  },
  {
   "cell_type": "code",
   "execution_count": 13,
   "id": "6ef379e5",
   "metadata": {},
   "outputs": [],
   "source": [
    "message = SystemMessage(\"You are an Helpful Assistant\")"
   ]
  },
  {
   "cell_type": "code",
   "execution_count": 21,
   "id": "bff39ac6",
   "metadata": {},
   "outputs": [],
   "source": [
    "result = graph.invoke({\n",
    "    \"messages\": message\n",
    "},config={\"configurable\": {\"thread_id\": \"11\"}})"
   ]
  },
  {
   "cell_type": "code",
   "execution_count": 23,
   "id": "d1346611",
   "metadata": {},
   "outputs": [
    {
     "data": {
      "text/plain": [
       "[SystemMessage(content='You are an Helpful Assistant', additional_kwargs={}, response_metadata={}, id='bf20eb1f-0bae-4e73-afaa-14c36d642d71'),\n",
       " AIMessage(content='Hello! How can I assist you today?', additional_kwargs={'refusal': None}, response_metadata={'token_usage': {'completion_tokens': 9, 'prompt_tokens': 12, 'total_tokens': 21, 'completion_tokens_details': {'accepted_prediction_tokens': 0, 'audio_tokens': 0, 'reasoning_tokens': 0, 'rejected_prediction_tokens': 0}, 'prompt_tokens_details': {'audio_tokens': 0, 'cached_tokens': 0}}, 'model_name': 'gpt-4o-2024-08-06', 'system_fingerprint': 'fp_07871e2ad8', 'id': 'chatcmpl-BgOqdxIMHGvExqc9YhMnyXxqgxlxU', 'service_tier': 'default', 'finish_reason': 'stop', 'logprobs': None}, id='run--92546f7d-840a-4515-b5c7-681c03b46173-0', usage_metadata={'input_tokens': 12, 'output_tokens': 9, 'total_tokens': 21, 'input_token_details': {'audio': 0, 'cache_read': 0}, 'output_token_details': {'audio': 0, 'reasoning': 0}})]"
      ]
     },
     "execution_count": 23,
     "metadata": {},
     "output_type": "execute_result"
    }
   ],
   "source": [
    "result['messages']"
   ]
  },
  {
   "cell_type": "code",
   "execution_count": 24,
   "id": "646f0b78",
   "metadata": {},
   "outputs": [],
   "source": [
    "result = graph.invoke({\n",
    "    \"messages\": HumanMessage(\"When was IPL launched in India ?\")\n",
    "},config={\"configurable\": {\"thread_id\": \"11\"}})"
   ]
  },
  {
   "cell_type": "code",
   "execution_count": 25,
   "id": "2e4d57b7",
   "metadata": {},
   "outputs": [
    {
     "data": {
      "text/plain": [
       "[SystemMessage(content='You are an Helpful Assistant', additional_kwargs={}, response_metadata={}, id='bf20eb1f-0bae-4e73-afaa-14c36d642d71'),\n",
       " AIMessage(content='Hello! How can I assist you today?', additional_kwargs={'refusal': None}, response_metadata={'token_usage': {'completion_tokens': 9, 'prompt_tokens': 12, 'total_tokens': 21, 'completion_tokens_details': {'accepted_prediction_tokens': 0, 'audio_tokens': 0, 'reasoning_tokens': 0, 'rejected_prediction_tokens': 0}, 'prompt_tokens_details': {'audio_tokens': 0, 'cached_tokens': 0}}, 'model_name': 'gpt-4o-2024-08-06', 'system_fingerprint': 'fp_07871e2ad8', 'id': 'chatcmpl-BgOqdxIMHGvExqc9YhMnyXxqgxlxU', 'service_tier': 'default', 'finish_reason': 'stop', 'logprobs': None}, id='run--92546f7d-840a-4515-b5c7-681c03b46173-0', usage_metadata={'input_tokens': 12, 'output_tokens': 9, 'total_tokens': 21, 'input_token_details': {'audio': 0, 'cache_read': 0}, 'output_token_details': {'audio': 0, 'reasoning': 0}}),\n",
       " HumanMessage(content='When was IPL launched in India ?', additional_kwargs={}, response_metadata={}, id='3a80560c-48ad-4e10-86ff-43ca65797873'),\n",
       " AIMessage(content='The Indian Premier League (IPL) was launched in India in 2008. The first season of the IPL started on April 18, 2008.', additional_kwargs={'refusal': None}, response_metadata={'token_usage': {'completion_tokens': 32, 'prompt_tokens': 36, 'total_tokens': 68, 'completion_tokens_details': {'accepted_prediction_tokens': 0, 'audio_tokens': 0, 'reasoning_tokens': 0, 'rejected_prediction_tokens': 0}, 'prompt_tokens_details': {'audio_tokens': 0, 'cached_tokens': 0}}, 'model_name': 'gpt-4o-2024-08-06', 'system_fingerprint': 'fp_07871e2ad8', 'id': 'chatcmpl-BgOrYuFcyLiFs8rAsBS3QoSYD9kS7', 'service_tier': 'default', 'finish_reason': 'stop', 'logprobs': None}, id='run--f3e05fe6-3002-4393-8f54-b0008932c654-0', usage_metadata={'input_tokens': 36, 'output_tokens': 32, 'total_tokens': 68, 'input_token_details': {'audio': 0, 'cache_read': 0}, 'output_token_details': {'audio': 0, 'reasoning': 0}})]"
      ]
     },
     "execution_count": 25,
     "metadata": {},
     "output_type": "execute_result"
    }
   ],
   "source": [
    "result['messages']"
   ]
  },
  {
   "cell_type": "code",
   "execution_count": 26,
   "id": "c570c968",
   "metadata": {},
   "outputs": [],
   "source": [
    "result = graph.invoke({\n",
    "    \"messages\": HumanMessage(\"Which cricketer got the highest bid price during launch ?\")\n",
    "},config={\"configurable\": {\"thread_id\": \"11\"}})"
   ]
  },
  {
   "cell_type": "code",
   "execution_count": 27,
   "id": "7a95f653",
   "metadata": {},
   "outputs": [
    {
     "data": {
      "text/plain": [
       "[SystemMessage(content='You are an Helpful Assistant', additional_kwargs={}, response_metadata={}, id='bf20eb1f-0bae-4e73-afaa-14c36d642d71'),\n",
       " AIMessage(content='Hello! How can I assist you today?', additional_kwargs={'refusal': None}, response_metadata={'token_usage': {'completion_tokens': 9, 'prompt_tokens': 12, 'total_tokens': 21, 'completion_tokens_details': {'accepted_prediction_tokens': 0, 'audio_tokens': 0, 'reasoning_tokens': 0, 'rejected_prediction_tokens': 0}, 'prompt_tokens_details': {'audio_tokens': 0, 'cached_tokens': 0}}, 'model_name': 'gpt-4o-2024-08-06', 'system_fingerprint': 'fp_07871e2ad8', 'id': 'chatcmpl-BgOqdxIMHGvExqc9YhMnyXxqgxlxU', 'service_tier': 'default', 'finish_reason': 'stop', 'logprobs': None}, id='run--92546f7d-840a-4515-b5c7-681c03b46173-0', usage_metadata={'input_tokens': 12, 'output_tokens': 9, 'total_tokens': 21, 'input_token_details': {'audio': 0, 'cache_read': 0}, 'output_token_details': {'audio': 0, 'reasoning': 0}}),\n",
       " HumanMessage(content='When was IPL launched in India ?', additional_kwargs={}, response_metadata={}, id='3a80560c-48ad-4e10-86ff-43ca65797873'),\n",
       " AIMessage(content='The Indian Premier League (IPL) was launched in India in 2008. The first season of the IPL started on April 18, 2008.', additional_kwargs={'refusal': None}, response_metadata={'token_usage': {'completion_tokens': 32, 'prompt_tokens': 36, 'total_tokens': 68, 'completion_tokens_details': {'accepted_prediction_tokens': 0, 'audio_tokens': 0, 'reasoning_tokens': 0, 'rejected_prediction_tokens': 0}, 'prompt_tokens_details': {'audio_tokens': 0, 'cached_tokens': 0}}, 'model_name': 'gpt-4o-2024-08-06', 'system_fingerprint': 'fp_07871e2ad8', 'id': 'chatcmpl-BgOrYuFcyLiFs8rAsBS3QoSYD9kS7', 'service_tier': 'default', 'finish_reason': 'stop', 'logprobs': None}, id='run--f3e05fe6-3002-4393-8f54-b0008932c654-0', usage_metadata={'input_tokens': 36, 'output_tokens': 32, 'total_tokens': 68, 'input_token_details': {'audio': 0, 'cache_read': 0}, 'output_token_details': {'audio': 0, 'reasoning': 0}}),\n",
       " HumanMessage(content='Which cricketer got the highest bid price during launch ?', additional_kwargs={}, response_metadata={}, id='3bd48207-3567-4579-851a-fedcabb29b75'),\n",
       " AIMessage(content='During the inaugural Indian Premier League (IPL) auction in 2008, the highest bid was for Indian cricketer Mahendra Singh Dhoni. He was signed by the Chennai Super Kings for a price of $1.5 million.', additional_kwargs={'refusal': None}, response_metadata={'token_usage': {'completion_tokens': 48, 'prompt_tokens': 88, 'total_tokens': 136, 'completion_tokens_details': {'accepted_prediction_tokens': 0, 'audio_tokens': 0, 'reasoning_tokens': 0, 'rejected_prediction_tokens': 0}, 'prompt_tokens_details': {'audio_tokens': 0, 'cached_tokens': 0}}, 'model_name': 'gpt-4o-2024-08-06', 'system_fingerprint': 'fp_a288987b44', 'id': 'chatcmpl-BgOsYHN596dVUQfZWtMmgTZnQCQHr', 'service_tier': 'default', 'finish_reason': 'stop', 'logprobs': None}, id='run--cd531993-6225-4eed-9713-e7401202772b-0', usage_metadata={'input_tokens': 88, 'output_tokens': 48, 'total_tokens': 136, 'input_token_details': {'audio': 0, 'cache_read': 0}, 'output_token_details': {'audio': 0, 'reasoning': 0}})]"
      ]
     },
     "execution_count": 27,
     "metadata": {},
     "output_type": "execute_result"
    }
   ],
   "source": [
    "result['messages']"
   ]
  },
  {
   "cell_type": "code",
   "execution_count": 28,
   "id": "9269fc3f",
   "metadata": {},
   "outputs": [],
   "source": [
    "result = graph.invoke({\n",
    "    \"messages\": HumanMessage(\"I like Rohit Sharma, Which Team was he during first ipl\")\n",
    "},config={\"configurable\": {\"thread_id\": \"11\"}})"
   ]
  },
  {
   "cell_type": "code",
   "execution_count": 29,
   "id": "0a704361",
   "metadata": {},
   "outputs": [
    {
     "data": {
      "text/plain": [
       "[SystemMessage(content='You are an Helpful Assistant', additional_kwargs={}, response_metadata={}, id='bf20eb1f-0bae-4e73-afaa-14c36d642d71'),\n",
       " AIMessage(content='Hello! How can I assist you today?', additional_kwargs={'refusal': None}, response_metadata={'token_usage': {'completion_tokens': 9, 'prompt_tokens': 12, 'total_tokens': 21, 'completion_tokens_details': {'accepted_prediction_tokens': 0, 'audio_tokens': 0, 'reasoning_tokens': 0, 'rejected_prediction_tokens': 0}, 'prompt_tokens_details': {'audio_tokens': 0, 'cached_tokens': 0}}, 'model_name': 'gpt-4o-2024-08-06', 'system_fingerprint': 'fp_07871e2ad8', 'id': 'chatcmpl-BgOqdxIMHGvExqc9YhMnyXxqgxlxU', 'service_tier': 'default', 'finish_reason': 'stop', 'logprobs': None}, id='run--92546f7d-840a-4515-b5c7-681c03b46173-0', usage_metadata={'input_tokens': 12, 'output_tokens': 9, 'total_tokens': 21, 'input_token_details': {'audio': 0, 'cache_read': 0}, 'output_token_details': {'audio': 0, 'reasoning': 0}}),\n",
       " HumanMessage(content='When was IPL launched in India ?', additional_kwargs={}, response_metadata={}, id='3a80560c-48ad-4e10-86ff-43ca65797873'),\n",
       " AIMessage(content='The Indian Premier League (IPL) was launched in India in 2008. The first season of the IPL started on April 18, 2008.', additional_kwargs={'refusal': None}, response_metadata={'token_usage': {'completion_tokens': 32, 'prompt_tokens': 36, 'total_tokens': 68, 'completion_tokens_details': {'accepted_prediction_tokens': 0, 'audio_tokens': 0, 'reasoning_tokens': 0, 'rejected_prediction_tokens': 0}, 'prompt_tokens_details': {'audio_tokens': 0, 'cached_tokens': 0}}, 'model_name': 'gpt-4o-2024-08-06', 'system_fingerprint': 'fp_07871e2ad8', 'id': 'chatcmpl-BgOrYuFcyLiFs8rAsBS3QoSYD9kS7', 'service_tier': 'default', 'finish_reason': 'stop', 'logprobs': None}, id='run--f3e05fe6-3002-4393-8f54-b0008932c654-0', usage_metadata={'input_tokens': 36, 'output_tokens': 32, 'total_tokens': 68, 'input_token_details': {'audio': 0, 'cache_read': 0}, 'output_token_details': {'audio': 0, 'reasoning': 0}}),\n",
       " HumanMessage(content='Which cricketer got the highest bid price during launch ?', additional_kwargs={}, response_metadata={}, id='3bd48207-3567-4579-851a-fedcabb29b75'),\n",
       " AIMessage(content='During the inaugural Indian Premier League (IPL) auction in 2008, the highest bid was for Indian cricketer Mahendra Singh Dhoni. He was signed by the Chennai Super Kings for a price of $1.5 million.', additional_kwargs={'refusal': None}, response_metadata={'token_usage': {'completion_tokens': 48, 'prompt_tokens': 88, 'total_tokens': 136, 'completion_tokens_details': {'accepted_prediction_tokens': 0, 'audio_tokens': 0, 'reasoning_tokens': 0, 'rejected_prediction_tokens': 0}, 'prompt_tokens_details': {'audio_tokens': 0, 'cached_tokens': 0}}, 'model_name': 'gpt-4o-2024-08-06', 'system_fingerprint': 'fp_a288987b44', 'id': 'chatcmpl-BgOsYHN596dVUQfZWtMmgTZnQCQHr', 'service_tier': 'default', 'finish_reason': 'stop', 'logprobs': None}, id='run--cd531993-6225-4eed-9713-e7401202772b-0', usage_metadata={'input_tokens': 88, 'output_tokens': 48, 'total_tokens': 136, 'input_token_details': {'audio': 0, 'cache_read': 0}, 'output_token_details': {'audio': 0, 'reasoning': 0}}),\n",
       " HumanMessage(content='I like Rohit Sharma, Which Team was he during first ipl', additional_kwargs={}, response_metadata={}, id='d1c51427-0d99-4ce5-9f93-6689afbb58e5'),\n",
       " AIMessage(content='In the first IPL season in 2008, Rohit Sharma was a part of the Deccan Chargers team. He played for the Deccan Chargers from 2008 to 2010 before moving to the Mumbai Indians in 2011.', additional_kwargs={'refusal': None}, response_metadata={'token_usage': {'completion_tokens': 49, 'prompt_tokens': 158, 'total_tokens': 207, 'completion_tokens_details': {'accepted_prediction_tokens': 0, 'audio_tokens': 0, 'reasoning_tokens': 0, 'rejected_prediction_tokens': 0}, 'prompt_tokens_details': {'audio_tokens': 0, 'cached_tokens': 0}}, 'model_name': 'gpt-4o-2024-08-06', 'system_fingerprint': 'fp_a288987b44', 'id': 'chatcmpl-BgOtc847vuRd7FYxrtnFq05YsGzZZ', 'service_tier': 'default', 'finish_reason': 'stop', 'logprobs': None}, id='run--617c3ec6-7f39-45e3-89d9-ffdef31f983c-0', usage_metadata={'input_tokens': 158, 'output_tokens': 49, 'total_tokens': 207, 'input_token_details': {'audio': 0, 'cache_read': 0}, 'output_token_details': {'audio': 0, 'reasoning': 0}})]"
      ]
     },
     "execution_count": 29,
     "metadata": {},
     "output_type": "execute_result"
    }
   ],
   "source": [
    "result['messages']"
   ]
  },
  {
   "cell_type": "code",
   "execution_count": 30,
   "id": "c3d4de73",
   "metadata": {},
   "outputs": [],
   "source": [
    "\n",
    "response = gemini_llm.invoke(f\"Can you summarize {result['messages']}\")"
   ]
  },
  {
   "cell_type": "code",
   "execution_count": 31,
   "id": "64049c9d",
   "metadata": {},
   "outputs": [
    {
     "data": {
      "text/plain": [
       "AIMessage(content='The conversation involves a series of questions and answers about the Indian Premier League (IPL). It begins with a friendly greeting from the AI, indicating its readiness to assist. The human user asks about the launch of the IPL, and the AI responds that it was launched in 2008 with the first season starting on April 18, 2008. The user then inquires about the cricketer who received the highest bid during the inaugural IPL auction, to which the AI answers that Mahendra Singh Dhoni received the highest bid, being signed by Chennai Super Kings for $1.5 million. Finally, when asked about the team Rohit Sharma played for in the first IPL, the AI states that he was part of the Deccan Chargers from 2008 to 2010 before joining the Mumbai Indians in 2011.', additional_kwargs={'refusal': None}, response_metadata={'token_usage': {'completion_tokens': 167, 'prompt_tokens': 1389, 'total_tokens': 1556, 'completion_tokens_details': {'accepted_prediction_tokens': 0, 'audio_tokens': 0, 'reasoning_tokens': 0, 'rejected_prediction_tokens': 0}, 'prompt_tokens_details': {'audio_tokens': 0, 'cached_tokens': 0}}, 'model_name': 'gpt-4o-2024-08-06', 'system_fingerprint': 'fp_a288987b44', 'id': 'chatcmpl-BgOvCEhYL63v6LcU04NXeQEdMqYPE', 'service_tier': 'default', 'finish_reason': 'stop', 'logprobs': None}, id='run--7e45694c-4ed0-4090-bcf8-0f68380369a8-0', usage_metadata={'input_tokens': 1389, 'output_tokens': 167, 'total_tokens': 1556, 'input_token_details': {'audio': 0, 'cache_read': 0}, 'output_token_details': {'audio': 0, 'reasoning': 0}})"
      ]
     },
     "execution_count": 31,
     "metadata": {},
     "output_type": "execute_result"
    }
   ],
   "source": [
    "response"
   ]
  },
  {
   "cell_type": "code",
   "execution_count": 33,
   "id": "e4dd7eb4",
   "metadata": {},
   "outputs": [],
   "source": [
    "gemini_llm = init_chat_model(model=\"gpt-4o\")"
   ]
  },
  {
   "cell_type": "code",
   "execution_count": 32,
   "id": "853de169",
   "metadata": {},
   "outputs": [],
   "source": [
    "class SummaryState(MessagesState):\n",
    "    summary: str"
   ]
  },
  {
   "cell_type": "code",
   "execution_count": 49,
   "id": "51676ad4",
   "metadata": {},
   "outputs": [],
   "source": [
    "def answer(state: SummaryState) -> SummaryState:\n",
    "    summary = state['summary']\n",
    "    \n",
    "    if summary.strip() == \"\":\n",
    "        messages = state['messages']\n",
    "    else:\n",
    "        system_message = f\"This is conversation of existing summary {summary}\"\n",
    "        messages = [SystemMessage(system_message)] + state['messages']\n",
    "    state['messages'] = gemini_llm.invoke(messages)\n",
    "    return state\n",
    "    "
   ]
  },
  {
   "cell_type": "code",
   "execution_count": 50,
   "id": "46440363",
   "metadata": {},
   "outputs": [],
   "source": [
    "from langchain_core.messages import RemoveMessage\n",
    "def summarize(state: SummaryState) -> SummaryState:\n",
    "    summary = state['summary']\n",
    "\n",
    "    if summary.strip() == \"\":\n",
    "        pass\n",
    "    else:\n",
    "        if len(state['messages']) >= 6:\n",
    "            system_message = SystemMessage(f\"Summarize the following messsages {state['messages']}\")\n",
    "            result_message = gemini_llm.invoke(system_message)\n",
    "            state['summary'] = result_message.content\n",
    "            deleted_messages = [RemoveMessage(id = m.id) for m in state['messages'][-2:]]\n",
    "            state['messages'] = deleted_messages + result_message\n",
    "    return state"
   ]
  },
  {
   "cell_type": "code",
   "execution_count": 51,
   "id": "c8e5236f",
   "metadata": {},
   "outputs": [],
   "source": [
    "from typing import Literal\n",
    "def should_summarise(state: SummaryState) -> Literal[\"yes\", \"no\"]:\n",
    "    if len(state['messages']) >= 6:\n",
    "        return \"yes\"\n",
    "    else:\n",
    "        return \"no\""
   ]
  },
  {
   "cell_type": "code",
   "execution_count": 52,
   "id": "6d4239f1",
   "metadata": {},
   "outputs": [],
   "source": [
    "summarize_graph_builder = StateGraph(SummaryState)\n",
    "summarize_graph_builder.add_node(\"conversation\", answer)\n",
    "summarize_graph_builder.add_node(\"summarize_conversation\", summarize)\n",
    "summarize_graph_builder.set_entry_point(\"conversation\")\n",
    "summarize_graph_builder.add_conditional_edges(\n",
    "   \"conversation\",\n",
    "   should_summarise,\n",
    "   {\n",
    "       \"yes\": \"summarize_conversation\",\n",
    "       \"no\": END\n",
    "   }\n",
    ")\n",
    "summary_graph = summarize_graph_builder.compile(checkpointer=InMemorySaver())"
   ]
  },
  {
   "cell_type": "code",
   "execution_count": 53,
   "id": "213b64c3",
   "metadata": {},
   "outputs": [
    {
     "data": {
      "image/png": "[encoded data removed]",
      "text/plain": [
       "<IPython.core.display.Image object>"
      ]
     },
     "metadata": {},
     "output_type": "display_data"
    }
   ],
   "source": [
    "draw_graph(summary_graph)"
   ]
  },
  {
   "cell_type": "code",
   "execution_count": 54,
   "id": "d1d96cf6",
   "metadata": {},
   "outputs": [],
   "source": [
    "result = summary_graph.invoke(\n",
    "    { \"messages\": [\n",
    "        SystemMessage(\"You are an expert Sports Author\"),\n",
    "        HumanMessage('What is most viewed Sport and what is the viewership?')],\n",
    "        \"summary\": \"\"\n",
    "    },\n",
    "    config={\"configurable\": {\"thread_id\": \"13\"}}\n",
    ")"
   ]
  },
  {
   "cell_type": "code",
   "execution_count": 55,
   "id": "a920387f",
   "metadata": {},
   "outputs": [
    {
     "data": {
      "text/plain": [
       "{'messages': [SystemMessage(content='You are an expert Sports Author', additional_kwargs={}, response_metadata={}, id='08350320-c6b1-4de4-9113-780035e9b899'),\n",
       "  HumanMessage(content='What is most viewed Sport and what is the viewership?', additional_kwargs={}, response_metadata={}, id='8e27b4eb-0f54-4063-8d3c-289089b988b1'),\n",
       "  AIMessage(content=\"As of my last update, soccer (also known as football in most parts of the world) is generally considered the most viewed sport globally. The FIFA World Cup, held every four years, attracts enormous viewership numbers. For instance, the 2018 FIFA World Cup in Russia reportedly reached a global audience of over 3.5 billion viewers over the course of the tournament, with the final alone drawing more than 1 billion viewers.\\n\\nClub soccer also garners significant attention, particularly tournaments like the UEFA Champions League, which consistently ranks among the most watched annual sporting events. Individual matches from domestic leagues such as the English Premier League, La Liga, and Serie A also draw substantial viewership numbers around the world.\\n\\nThese numbers illustrate soccer's immense global appeal and its position as the most viewed sport on the planet, driven by both landmark international tournaments and popular domestic leagues.\", additional_kwargs={'refusal': None}, response_metadata={'token_usage': {'completion_tokens': 174, 'prompt_tokens': 29, 'total_tokens': 203, 'completion_tokens_details': {'accepted_prediction_tokens': 0, 'audio_tokens': 0, 'reasoning_tokens': 0, 'rejected_prediction_tokens': 0}, 'prompt_tokens_details': {'audio_tokens': 0, 'cached_tokens': 0}}, 'model_name': 'gpt-4o-2024-08-06', 'system_fingerprint': 'fp_a288987b44', 'id': 'chatcmpl-BgPVcduLT1SuqVgBA9B8yRnabi91W', 'service_tier': 'default', 'finish_reason': 'stop', 'logprobs': None}, id='run--1adaf8b3-6639-4b4e-8958-9f8136a3f933-0', usage_metadata={'input_tokens': 29, 'output_tokens': 174, 'total_tokens': 203, 'input_token_details': {'audio': 0, 'cache_read': 0}, 'output_token_details': {'audio': 0, 'reasoning': 0}})],\n",
       " 'summary': ''}"
      ]
     },
     "execution_count": 55,
     "metadata": {},
     "output_type": "execute_result"
    }
   ],
   "source": [
    "result\n"
   ]
  },
  {
   "cell_type": "code",
   "execution_count": 56,
   "id": "26d5581d",
   "metadata": {},
   "outputs": [
    {
     "name": "stdout",
     "output_type": "stream",
     "text": [
      "================================\u001b[1m System Message \u001b[0m================================\n",
      "\n",
      "You are an expert Sports Author\n",
      "================================\u001b[1m Human Message \u001b[0m=================================\n",
      "\n",
      "What is most viewed Sport and what is the viewership?\n",
      "==================================\u001b[1m Ai Message \u001b[0m==================================\n",
      "\n",
      "As of my last update, soccer (also known as football in most parts of the world) is generally considered the most viewed sport globally. The FIFA World Cup, held every four years, attracts enormous viewership numbers. For instance, the 2018 FIFA World Cup in Russia reportedly reached a global audience of over 3.5 billion viewers over the course of the tournament, with the final alone drawing more than 1 billion viewers.\n",
      "\n",
      "Club soccer also garners significant attention, particularly tournaments like the UEFA Champions League, which consistently ranks among the most watched annual sporting events. Individual matches from domestic leagues such as the English Premier League, La Liga, and Serie A also draw substantial viewership numbers around the world.\n",
      "\n",
      "These numbers illustrate soccer's immense global appeal and its position as the most viewed sport on the planet, driven by both landmark international tournaments and popular domestic leagues.\n"
     ]
    }
   ],
   "source": [
    "for message in result['messages']:\n",
    "    message.pretty_print()"
   ]
  },
  {
   "cell_type": "code",
   "execution_count": 57,
   "id": "e9da3468",
   "metadata": {},
   "outputs": [
    {
     "name": "stdout",
     "output_type": "stream",
     "text": [
      "================================\u001b[1m System Message \u001b[0m================================\n",
      "\n",
      "You are an expert Sports Author\n",
      "================================\u001b[1m Human Message \u001b[0m=================================\n",
      "\n",
      "What is most viewed Sport and what is the viewership?\n",
      "==================================\u001b[1m Ai Message \u001b[0m==================================\n",
      "\n",
      "As of my last update, soccer (also known as football in most parts of the world) is generally considered the most viewed sport globally. The FIFA World Cup, held every four years, attracts enormous viewership numbers. For instance, the 2018 FIFA World Cup in Russia reportedly reached a global audience of over 3.5 billion viewers over the course of the tournament, with the final alone drawing more than 1 billion viewers.\n",
      "\n",
      "Club soccer also garners significant attention, particularly tournaments like the UEFA Champions League, which consistently ranks among the most watched annual sporting events. Individual matches from domestic leagues such as the English Premier League, La Liga, and Serie A also draw substantial viewership numbers around the world.\n",
      "\n",
      "These numbers illustrate soccer's immense global appeal and its position as the most viewed sport on the planet, driven by both landmark international tournaments and popular domestic leagues.\n",
      "================================\u001b[1m Human Message \u001b[0m=================================\n",
      "\n",
      "Who is higest paid soccer personality in history ?\n",
      "==================================\u001b[1m Ai Message \u001b[0m==================================\n",
      "\n",
      "As of my last update in October 2023, the highest-paid soccer personality in history is likely to be Lionel Messi or Cristiano Ronaldo, both of whom have consistently been among the top earners in the sport for many years. \n",
      "\n",
      "Lionel Messi's lucrative contracts with Barcelona, and later Paris Saint-Germain (PSG), have included substantial salaries, bonuses, and endorsement deals. In 2021, Messi reportedly signed a contract with PSG that offered him a substantial salary and various bonuses. Additionally, his endorsement deals with companies like Adidas and PepsiCo have contributed significantly to his earnings.\n",
      "\n",
      "Cristiano Ronaldo has also secured massive earnings through his contracts with clubs like Real Madrid, Juventus, and Manchester United, coupled with lucrative endorsements from Nike and other brands. His influence extends beyond soccer, with investments in various business ventures, including hotels and a fitness brand.\n",
      "\n",
      "While it's challenging to declare with absolute certainty which of the two holds the top spot at any given moment since both have amassed substantial wealth, Lionel Messi is often cited as holding a slight edge in earnings, especially after recent contract negotiations. Both players have been regulars on Forbes' list of highest-paid athletes, frequently trading places at the top.\n"
     ]
    }
   ],
   "source": [
    "result = summary_graph.invoke(\n",
    "    { \"messages\": [\n",
    "        HumanMessage('Who is higest paid soccer personality in history ?')],\n",
    "        \"summary\": \"\"\n",
    "    },\n",
    "    config={\"configurable\": {\"thread_id\": \"13\"}}\n",
    ")\n",
    "for message in result['messages']:\n",
    "    message.pretty_print()"
   ]
  },
  {
   "cell_type": "code",
   "execution_count": 58,
   "id": "6f40b31c",
   "metadata": {},
   "outputs": [
    {
     "name": "stdout",
     "output_type": "stream",
     "text": [
      "================================\u001b[1m System Message \u001b[0m================================\n",
      "\n",
      "You are an expert Sports Author\n",
      "================================\u001b[1m Human Message \u001b[0m=================================\n",
      "\n",
      "What is most viewed Sport and what is the viewership?\n",
      "==================================\u001b[1m Ai Message \u001b[0m==================================\n",
      "\n",
      "As of my last update, soccer (also known as football in most parts of the world) is generally considered the most viewed sport globally. The FIFA World Cup, held every four years, attracts enormous viewership numbers. For instance, the 2018 FIFA World Cup in Russia reportedly reached a global audience of over 3.5 billion viewers over the course of the tournament, with the final alone drawing more than 1 billion viewers.\n",
      "\n",
      "Club soccer also garners significant attention, particularly tournaments like the UEFA Champions League, which consistently ranks among the most watched annual sporting events. Individual matches from domestic leagues such as the English Premier League, La Liga, and Serie A also draw substantial viewership numbers around the world.\n",
      "\n",
      "These numbers illustrate soccer's immense global appeal and its position as the most viewed sport on the planet, driven by both landmark international tournaments and popular domestic leagues.\n",
      "================================\u001b[1m Human Message \u001b[0m=================================\n",
      "\n",
      "Who is higest paid soccer personality in history ?\n",
      "==================================\u001b[1m Ai Message \u001b[0m==================================\n",
      "\n",
      "As of my last update in October 2023, the highest-paid soccer personality in history is likely to be Lionel Messi or Cristiano Ronaldo, both of whom have consistently been among the top earners in the sport for many years. \n",
      "\n",
      "Lionel Messi's lucrative contracts with Barcelona, and later Paris Saint-Germain (PSG), have included substantial salaries, bonuses, and endorsement deals. In 2021, Messi reportedly signed a contract with PSG that offered him a substantial salary and various bonuses. Additionally, his endorsement deals with companies like Adidas and PepsiCo have contributed significantly to his earnings.\n",
      "\n",
      "Cristiano Ronaldo has also secured massive earnings through his contracts with clubs like Real Madrid, Juventus, and Manchester United, coupled with lucrative endorsements from Nike and other brands. His influence extends beyond soccer, with investments in various business ventures, including hotels and a fitness brand.\n",
      "\n",
      "While it's challenging to declare with absolute certainty which of the two holds the top spot at any given moment since both have amassed substantial wealth, Lionel Messi is often cited as holding a slight edge in earnings, especially after recent contract negotiations. Both players have been regulars on Forbes' list of highest-paid athletes, frequently trading places at the top.\n",
      "================================\u001b[1m Human Message \u001b[0m=================================\n",
      "\n",
      "Which team does messi represent in franchise leagues ?\n",
      "==================================\u001b[1m Ai Message \u001b[0m==================================\n",
      "\n",
      "As of my last update in October 2023, Lionel Messi represents Inter Miami CF in Major League Soccer (MLS). He joined the club in 2023 after leaving Paris Saint-Germain (PSG). Messi's move to Inter Miami was a significant milestone for MLS, as he is one of the most high-profile players to join the league. His presence has drawn considerable attention to the league, both in terms of viewership and attendance at games. Moreover, Messi's involvement has also contributed to raising the profile of soccer in the United States.\n"
     ]
    }
   ],
   "source": [
    "result = summary_graph.invoke(\n",
    "    { \"messages\": [\n",
    "        HumanMessage('Which team does messi represent in franchise leagues ?')],\n",
    "        \"summary\": \"\"\n",
    "    },\n",
    "    config={\"configurable\": {\"thread_id\": \"13\"}}\n",
    ")\n",
    "for message in result['messages']:\n",
    "    message.pretty_print()"
   ]
  },
  {
   "cell_type": "code",
   "execution_count": 59,
   "id": "682711eb",
   "metadata": {},
   "outputs": [
    {
     "name": "stdout",
     "output_type": "stream",
     "text": [
      "================================\u001b[1m System Message \u001b[0m================================\n",
      "\n",
      "You are an expert Sports Author\n",
      "================================\u001b[1m Human Message \u001b[0m=================================\n",
      "\n",
      "What is most viewed Sport and what is the viewership?\n",
      "==================================\u001b[1m Ai Message \u001b[0m==================================\n",
      "\n",
      "As of my last update, soccer (also known as football in most parts of the world) is generally considered the most viewed sport globally. The FIFA World Cup, held every four years, attracts enormous viewership numbers. For instance, the 2018 FIFA World Cup in Russia reportedly reached a global audience of over 3.5 billion viewers over the course of the tournament, with the final alone drawing more than 1 billion viewers.\n",
      "\n",
      "Club soccer also garners significant attention, particularly tournaments like the UEFA Champions League, which consistently ranks among the most watched annual sporting events. Individual matches from domestic leagues such as the English Premier League, La Liga, and Serie A also draw substantial viewership numbers around the world.\n",
      "\n",
      "These numbers illustrate soccer's immense global appeal and its position as the most viewed sport on the planet, driven by both landmark international tournaments and popular domestic leagues.\n",
      "================================\u001b[1m Human Message \u001b[0m=================================\n",
      "\n",
      "Who is higest paid soccer personality in history ?\n",
      "==================================\u001b[1m Ai Message \u001b[0m==================================\n",
      "\n",
      "As of my last update in October 2023, the highest-paid soccer personality in history is likely to be Lionel Messi or Cristiano Ronaldo, both of whom have consistently been among the top earners in the sport for many years. \n",
      "\n",
      "Lionel Messi's lucrative contracts with Barcelona, and later Paris Saint-Germain (PSG), have included substantial salaries, bonuses, and endorsement deals. In 2021, Messi reportedly signed a contract with PSG that offered him a substantial salary and various bonuses. Additionally, his endorsement deals with companies like Adidas and PepsiCo have contributed significantly to his earnings.\n",
      "\n",
      "Cristiano Ronaldo has also secured massive earnings through his contracts with clubs like Real Madrid, Juventus, and Manchester United, coupled with lucrative endorsements from Nike and other brands. His influence extends beyond soccer, with investments in various business ventures, including hotels and a fitness brand.\n",
      "\n",
      "While it's challenging to declare with absolute certainty which of the two holds the top spot at any given moment since both have amassed substantial wealth, Lionel Messi is often cited as holding a slight edge in earnings, especially after recent contract negotiations. Both players have been regulars on Forbes' list of highest-paid athletes, frequently trading places at the top.\n",
      "================================\u001b[1m Human Message \u001b[0m=================================\n",
      "\n",
      "Which team does messi represent in franchise leagues ?\n",
      "==================================\u001b[1m Ai Message \u001b[0m==================================\n",
      "\n",
      "As of my last update in October 2023, Lionel Messi represents Inter Miami CF in Major League Soccer (MLS). He joined the club in 2023 after leaving Paris Saint-Germain (PSG). Messi's move to Inter Miami was a significant milestone for MLS, as he is one of the most high-profile players to join the league. His presence has drawn considerable attention to the league, both in terms of viewership and attendance at games. Moreover, Messi's involvement has also contributed to raising the profile of soccer in the United States.\n",
      "================================\u001b[1m Human Message \u001b[0m=================================\n",
      "\n",
      "Which team does ronaldo represent in franchise leagues ?\n",
      "==================================\u001b[1m Ai Message \u001b[0m==================================\n",
      "\n",
      "As of my last update in October 2023, Cristiano Ronaldo represents Al Nassr, a club in the Saudi Pro League. He joined Al Nassr in January 2023 after terminating his contract with Manchester United. Ronaldo's move to the Saudi Pro League was a significant development in the world of soccer, attracting substantial global attention to the league. His transfer was part of a broader trend of high-profile players moving to leagues outside of Europe in the later stages of their careers.\n"
     ]
    }
   ],
   "source": [
    "result = summary_graph.invoke(\n",
    "    { \"messages\": [\n",
    "        HumanMessage('Which team does ronaldo represent in franchise leagues ?')],\n",
    "        \"summary\": \"\"\n",
    "    },\n",
    "    config={\"configurable\": {\"thread_id\": \"13\"}}\n",
    ")\n",
    "for message in result['messages']:\n",
    "    message.pretty_print()"
   ]
  },
  {
   "cell_type": "code",
   "execution_count": 60,
   "id": "5d6b5b3d",
   "metadata": {},
   "outputs": [
    {
     "data": {
      "text/plain": [
       "9"
      ]
     },
     "execution_count": 60,
     "metadata": {},
     "output_type": "execute_result"
    }
   ],
   "source": [
    "len(result['messages'])"
   ]
  }
 ],
 "metadata": {
  "kernelspec": {
   "display_name": ".venv",
   "language": "python",
   "name": "python3"
  },
  "language_info": {
   "codemirror_mode": {
    "name": "ipython",
    "version": 3
   },
   "file_extension": ".py",
   "mimetype": "text/x-python",
   "name": "python",
   "nbconvert_exporter": "python",
   "pygments_lexer": "ipython3",
   "version": "3.11.9"
  }
 },
 "nbformat": 4,
 "nbformat_minor": 5
}
