{
 "cells": [
  {
   "cell_type": "code",
   "execution_count": 1,
   "id": "029c5681",
   "metadata": {},
   "outputs": [],
   "source": [
    "from langgraph.graph import StateGraph, START, END, MessagesState"
   ]
  },
  {
   "cell_type": "code",
   "execution_count": 2,
   "id": "74febfc9",
   "metadata": {},
   "outputs": [],
   "source": [
    "from langchain.chat_models import init_chat_model"
   ]
  },
  {
   "cell_type": "code",
   "execution_count": 3,
   "id": "5cbbadd2",
   "metadata": {},
   "outputs": [],
   "source": [
    "model_id=\"gemini-2.5-flash-preview-05-20\"\n",
    "llm = init_chat_model(model=model_id,  model_provider=\"google_vertexai\")"
   ]
  },
  {
   "cell_type": "code",
   "execution_count": 7,
   "id": "e8b3fdc2",
   "metadata": {},
   "outputs": [
    {
     "name": "stdout",
     "output_type": "stream",
     "text": [
      "Hi Khaja,\n",
      "\n",
      "Google Vertex AI is constantly evolving, with new updates, features, and model integrations being rolled out regularly. The **absolute biggest focus and latest updates center around Generative AI**, specifically the integration and expansion of **Google\n",
      "'s Gemini family of models** and tools to build sophisticated AI applications.\n",
      "\n",
      "Here's a breakdown of the key areas of recent updates:\n",
      "\n",
      "1.  **Generative AI & Gemini Integration (The #1 Focus):**\n",
      "    *   **Gemini 1.5 Pro & Gemini 1.5 Flash:**\n",
      " This is the most recent and significant update. These models offer a massive context window (up to 1 million tokens, with 2 million in private preview) and are highly optimized for performance and cost. They are now generally available or in public preview on Vertex AI.\n",
      "    *   **Multimodality:** Gemini models\n",
      " excel at handling and understanding various data types simultaneously (text, images, audio, video). Vertex AI provides the tools to leverage this.\n",
      "    *   **Function Calling & Tool Use:** Enhanced capabilities for models to interact with external tools and APIs, making it easier to build AI agents that can perform actions (e.g.,\n",
      " fetch real-time data, send emails, interact with databases).\n",
      "    *   **Retrieval Augmented Generation (RAG) Support:** Robust features to ground models in your enterprise data, ensuring more accurate and relevant responses by retrieving information from your private data sources (e.g., via Vertex AI Search, or custom\n",
      " vector databases).\n",
      "    *   **Model Customization (Fine-tuning & Prompt Tuning):** Continuous improvements in methods to adapt large language models (LLMs) to your specific use cases and data, making them more accurate and performant for your tasks.\n",
      "    *   **Imagen 2:** The latest version\n",
      " of Google's text-to-image diffusion model is available, offering higher quality image generation, editing, and style control.\n",
      "\n",
      "2.  **Agentic AI & Vertex AI Agent Builder:**\n",
      "    *   A major new direction is the emphasis on building AI agents. Vertex AI Agent Builder consolidates tools and\n",
      " orchestrators to help you create various types of AI agents (e.g., conversational agents, search agents, data agents) that can reason, plan, and execute multi-step tasks by leveraging LLMs and integrating with enterprise data and systems.\n",
      "\n",
      "3.  **MLOps & Platform Enhancements:**\n",
      "    *\n",
      "   **Vertex AI Pipelines:** Continuous improvements in orchestration for ML workflows, including more flexible component definitions and better integration with other GCP services.\n",
      "    *   **Model Monitoring:** Enhanced capabilities for detecting data drift, model drift, and concept drift in production, ensuring your models remain accurate and performant over time.\n",
      "    *\n",
      "   **Vertex AI Feature Store:** Updates to manage, serve, and share ML features more efficiently across teams.\n",
      "    *   **Notebooks & Workbench:** Better integration, performance, and features for interactive development environments.\n",
      "    *   **Cost Optimization:** New pricing tiers and options for various GenAI models and services, aiming\n",
      " to make it more cost-effective for enterprise adoption.\n",
      "\n",
      "4.  **Responsible AI & Safety:**\n",
      "    *   **Safety Filters & Controls:** Robust, customizable safety filters are built into the Generative AI studio to prevent the generation of harmful content.\n",
      "    *   **SynthID for Digital Watermarking:** Tools for\n",
      " embedding invisible digital watermarks into generated images (and soon other modalities) to help identify AI-generated content.\n",
      "    *   **Explainability & Fairness:** Tools to understand model predictions and assess for potential biases, especially relevant for traditional ML models.\n",
      "\n",
      "**How to Stay Most Up-to-Date:**\n",
      "\n",
      "*   **Google Cloud Blog\n",
      ":** Regularly publishes announcements on new features and general availability.\n",
      "*   **Vertex AI Documentation:** The official source for all features, API references, and guides.\n",
      "*   **Google Cloud Next:** Google's annual conference is where most major announcements are made (next one is in April 2024).\n",
      "\n",
      "*   **Vertex AI Release Notes:** Provides detailed lists of every new feature, bug fix, and improvement.\n",
      "\n",
      "In summary, the trend is clear: **Google Vertex AI is rapidly becoming the enterprise-grade platform for building, deploying, and managing powerful generative AI applications, with a strong focus on Gemini, agent\n",
      "ic AI capabilities, and robust MLOps practices.**\n",
      "\n",
      "Let me know if you have a more specific area of interest within Vertex AI!\n"
     ]
    }
   ],
   "source": [
    "# llm\n",
    "\n",
    "async for event in llm.astream_events(\"Hi this is khaja. What is latest update by google vertex\"):\n",
    "    if event[\"event\"] == \"on_chat_model_stream\":\n",
    "        print(event[\"data\"][\"chunk\"].content)"
   ]
  },
  {
   "cell_type": "code",
   "execution_count": 8,
   "id": "d8a519d1",
   "metadata": {},
   "outputs": [
    {
     "data": {
      "image/png": "[encoded data removed]",
      "text/plain": [
       "<IPython.core.display.Image object>"
      ]
     },
     "metadata": {},
     "output_type": "display_data"
    }
   ],
   "source": [
    "from typing import TypedDict\n",
    "class MyState(TypedDict):\n",
    "    message: str\n",
    "\n",
    "from time import sleep\n",
    "def node_1(state: MyState) -> MyState:\n",
    "    state['message'] = \"Im in node 1\"\n",
    "    sleep(2)\n",
    "    return state\n",
    "\n",
    "def node_2(state: MyState) -> MyState:\n",
    "    state['message'] = \"Im in node 2\"\n",
    "    sleep(2)\n",
    "    return state\n",
    "\n",
    "def node_3(state: MyState) -> MyState:\n",
    "    state['message'] = \"Im in node 3\"\n",
    "    sleep(2)\n",
    "    return state\n",
    "\n",
    "def node_4(state: MyState) -> MyState:\n",
    "    state['message'] = \"Im in node 4\"\n",
    "    sleep(2)\n",
    "    return state\n",
    "\n",
    "def node_5(state: MyState) -> MyState:\n",
    "    state['message'] = \"Im in node 5\"\n",
    "    sleep(2)\n",
    "    return state\n",
    "\n",
    "my_graph_builder = StateGraph(MyState)\n",
    "my_graph_builder.add_node(\"node1\", node_1)\n",
    "my_graph_builder.add_node(\"node2\", node_2)\n",
    "my_graph_builder.add_node(\"node3\", node_3)\n",
    "my_graph_builder.add_node(\"node4\", node_4)\n",
    "my_graph_builder.add_node(\"node5\", node_5)\n",
    "my_graph_builder.set_entry_point(\"node1\")\n",
    "my_graph_builder.set_finish_point(\"node5\")\n",
    "my_graph_builder.add_edge(\"node1\", \"node2\")\n",
    "my_graph_builder.add_edge(\"node2\", \"node3\")\n",
    "my_graph_builder.add_edge(\"node3\", \"node4\")\n",
    "my_graph_builder.add_edge(\"node4\", \"node5\")\n",
    "my_graph = my_graph_builder.compile()\n",
    "\n",
    "from utils import draw_graph\n",
    "draw_graph(my_graph)"
   ]
  },
  {
   "cell_type": "code",
   "execution_count": 20,
   "id": "0ada75c2",
   "metadata": {},
   "outputs": [
    {
     "name": "stdout",
     "output_type": "stream",
     "text": [
      "Im in node 1\n",
      "Im in node 2\n",
      "Im in node 3\n",
      "Im in node 4\n",
      "Im in node 5\n",
      "Im in node 5\n"
     ]
    }
   ],
   "source": [
    "async for event in my_graph.astream_events({\"message\": \"\"}):\n",
    "    # if event[\"event\"] == \"on_chain_stream\" and event['data']['chunk']:\n",
    "    #     print(f\"{event['name']} response = {event['data']['chunk']}\")\n",
    "    if event[\"event\"] == 'on_chain_end':\n",
    "        print(event['data']['output']['message'])"
   ]
  }
 ],
 "metadata": {
  "kernelspec": {
   "display_name": ".venv",
   "language": "python",
   "name": "python3"
  },
  "language_info": {
   "codemirror_mode": {
    "name": "ipython",
    "version": 3
   },
   "file_extension": ".py",
   "mimetype": "text/x-python",
   "name": "python",
   "nbconvert_exporter": "python",
   "pygments_lexer": "ipython3",
   "version": "3.11.9"
  }
 },
 "nbformat": 4,
 "nbformat_minor": 5
}
