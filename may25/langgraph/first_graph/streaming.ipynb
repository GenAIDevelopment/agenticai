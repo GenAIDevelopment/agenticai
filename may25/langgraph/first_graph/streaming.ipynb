{
 "cells": [
  {
   "cell_type": "code",
   "execution_count": 6,
   "id": "fdaecd9d",
   "metadata": {},
   "outputs": [],
   "source": [
    "from langgraph.graph import StateGraph, START, END, MessagesState"
   ]
  },
  {
   "cell_type": "code",
   "execution_count": 2,
   "id": "e98bdfed",
   "metadata": {},
   "outputs": [],
   "source": [
    "from langchain.chat_models import init_chat_model"
   ]
  },
  {
   "cell_type": "code",
   "execution_count": 4,
   "id": "aa407c5a",
   "metadata": {},
   "outputs": [],
   "source": [
    "model_id=\"gemini-2.5-flash-preview-05-20\"\n",
    "llm = init_chat_model(model=model_id,  model_provider=\"google_vertexai\")"
   ]
  },
  {
   "cell_type": "code",
   "execution_count": 8,
   "id": "48079b69",
   "metadata": {},
   "outputs": [],
   "source": [
    "def call_model(state: MessagesState) -> MessagesState:\n",
    "    state['messages'] = llm.invoke(state['messages'])\n",
    "    return state"
   ]
  },
  {
   "cell_type": "code",
   "execution_count": 9,
   "id": "51d9825d",
   "metadata": {},
   "outputs": [],
   "source": [
    "graph_builder = StateGraph(MessagesState)\n",
    "graph_builder.add_node(\"llm\", call_model)\n",
    "graph_builder.add_edge(START, \"llm\")\n",
    "graph_builder.add_edge(\"llm\", END)\n",
    "graph = graph_builder.compile()"
   ]
  },
  {
   "cell_type": "code",
   "execution_count": 11,
   "id": "4c5e7624",
   "metadata": {},
   "outputs": [],
   "source": [
    "from langgraph.graph.state import CompiledStateGraph\n",
    "from IPython.display import Image, display\n",
    "\n",
    "def draw_graph(graph: CompiledStateGraph):\n",
    "    display(Image(graph.get_graph().draw_mermaid_png()))"
   ]
  },
  {
   "cell_type": "code",
   "execution_count": 12,
   "id": "cc33ecfb",
   "metadata": {},
   "outputs": [
    {
     "data": {
      "image/png": "[encoded data removed]",
      "text/plain": [
       "<IPython.core.display.Image object>"
      ]
     },
     "metadata": {},
     "output_type": "display_data"
    }
   ],
   "source": [
    "draw_graph(graph)"
   ]
  },
  {
   "cell_type": "code",
   "execution_count": 13,
   "id": "b113ab95",
   "metadata": {},
   "outputs": [],
   "source": [
    "from langchain_core.messages import SystemMessage, HumanMessage\n",
    "messages = [\n",
    "    SystemMessage(\"You are an helpful assistant\"),\n",
    "    HumanMessage(\"I would like to know about democracy\")\n",
    "\n",
    "]\n",
    "result = graph.invoke({\"messages\": messages})"
   ]
  },
  {
   "cell_type": "code",
   "execution_count": 15,
   "id": "693331f0",
   "metadata": {},
   "outputs": [
    {
     "data": {
      "text/plain": [
       "[SystemMessage(content='You are an helpful assistant', additional_kwargs={}, response_metadata={}, id='2de46728-754c-4943-b1af-174e67e7fae9'),\n",
       " HumanMessage(content='I would like to know about democracy', additional_kwargs={}, response_metadata={}, id='9674ef01-fa68-4a3a-8c18-e17abc834232'),\n",
       " AIMessage(content='Democracy is a fascinating and complex concept, often hailed as one of the most effective and just forms of governance. Let\\'s break it down:\\n\\n---\\n\\n### What is Democracy?\\n\\nAt its most fundamental level, democracy is a system of government where **power is vested in the people**, who rule either directly or through elected representatives. The word itself comes from ancient Greek:\\n*   **\"Demos\"** meaning \"people\"\\n*   **\"Kratos\"** meaning \"power\" or \"rule\"\\n\\nSo, literally, it means \"rule by the people.\"\\n\\n---\\n\\n### Core Principles and Characteristics\\n\\nWhile there\\'s no single perfect model, most democratic systems share several key principles:\\n\\n1.  **Popular Sovereignty:** The ultimate authority rests with the people. Government derives its legitimacy from the consent of the governed.\\n2.  **Equality:** All citizens are equal before the law, with equal rights and opportunities. This includes the principle of \"one person, one vote.\"\\n3.  **Liberty/Freedom:** Guarantees of fundamental human rights and freedoms, such as freedom of speech, assembly, religion, and the press.\\n4.  **Rule of Law:** Everyone, including government officials, is subject to the law, which is applied equally and fairly.\\n5.  **Free and Fair Elections:** Citizens choose their representatives in regular, competitive elections where votes are counted accurately and all eligible citizens have the right to participate.\\n6.  **Accountability and Transparency:** Government officials are accountable to the people and their actions are largely open to public scrutiny.\\n7.  **Protection of Minority Rights:** While the majority rules, the rights and interests of minority groups are protected from oppression.\\n8.  **Pluralism:** Recognition and acceptance of a wide range of diverse viewpoints, beliefs, and interests within society.\\n9.  **Separation of Powers:** Governmental authority is divided among different branches (e.g., executive, legislative, judicial) to prevent the concentration of power and provide checks and balances.\\n\\n---\\n\\n### Types of Democracy\\n\\nThere are two primary forms of democracy:\\n\\n1.  **Direct Democracy:**\\n    *   **How it works:** Citizens directly participate in decision-making and law-making. They vote on every major issue or law.\\n    *   **Example:** Ancient Athens, or modern-day referendums/initiatives in some places (like Switzerland for certain issues).\\n    *   **Pros:** High level of citizen engagement and direct expression of popular will.\\n    *   **Cons:** Impractical for large, complex societies; can lead to \"tyranny of the majority\" if minority rights aren\\'t protected.\\n\\n2.  **Representative Democracy (Republic):**\\n    *   **How it works:** Citizens elect representatives to make decisions and govern on their behalf. These representatives are then accountable to the electorate.\\n    *   **Example:** Most modern democracies, including the United States, United Kingdom, Canada, India, Germany.\\n    *   **Pros:** More practical for large populations; allows for informed decision-making by dedicated legislators; protects against snap decisions by an uninformed public.\\n    *   **Cons:** Potential for representatives to become disconnected from their constituents; risk of special interest influence.\\n    *   **Sub-types of Representative Democracy:**\\n        *   **Parliamentary Systems:** The executive branch (Prime Minister and Cabinet) is drawn from and accountable to the legislative branch (Parliament). (e.g., UK, Canada, India).\\n        *   **Presidential Systems:** The executive branch (President) is elected independently of the legislative branch and has a fixed term. (e.g., USA, Brazil).\\n\\n---\\n\\n### Why is Democracy Valued?\\n\\n*   **Promotes Freedom and Human Rights:** It\\'s often seen as the best system for protecting individual liberties.\\n*   **Ensures Accountability:** Leaders are held responsible for their actions by the people.\\n*   **Facilitates Peaceful Transitions of Power:** Elections provide a structured, non-violent way to change leadership.\\n*   **Encourages Stability:** By giving citizens a say, it can reduce the likelihood of unrest and revolution.\\n*   **Enhances Decision-Making:** Diverse perspectives and public debate can lead to more robust and equitable policies.\\n*   **Fosters Self-Correction:** Democracies have mechanisms (like elections and free press) to identify and correct mistakes.\\n\\n---\\n\\n### Challenges and Criticisms of Democracy\\n\\nDespite its strengths, democracy faces significant challenges:\\n\\n*   **Voter Apathy and Ignorance:** Low participation rates or uninformed voters can weaken democratic legitimacy.\\n*   **Tyranny of the Majority:** The majority can, in theory, oppress minority groups if protections are not robust.\\n*   **Slow Decision-Making:** Debates, checks and balances, and the need for consensus can make the legislative process slow and inefficient.\\n*   **Influence of Money and Special Interests:** Wealthy individuals or powerful lobbying groups can disproportionately influence policies.\\n*   **Polarization and Gridlock:** Deep divisions within society can lead to political stalemate.\\n*   **Populism:** The rise of leaders who appeal directly to the \"will of the people\" often bypassing traditional democratic institutions and norms, sometimes eroding democratic checks.\\n*   **Disinformation:** The spread of false or misleading information can undermine informed public discourse and trust in institutions.\\n\\n---\\n\\n### Historical Context\\n\\n*   **Ancient Roots:** Traces of democratic ideas can be found in ancient Greece (Athens) and the Roman Republic, though their definitions of \"citizen\" were much narrower.\\n*   **Enlightenment Era:** Philosophers like John Locke, Jean-Jacques Rousseau, and Montesquieu laid much of the intellectual groundwork for modern democracy with ideas of natural rights, popular sovereignty, and separation of powers.\\n*   **Modern Revolutions:** The American Revolution (1776) and the French Revolution (1789) were pivotal in establishing democratic republics based on these principles.\\n*   **20th Century Expansion:** Democracy spread significantly after World War I and especially after World War II and the end of the Cold War, though it continues to face global challenges.\\n\\n---\\n\\nIn conclusion, democracy is not just a form of government; it\\'s a dynamic system of values, processes, and institutions designed to empower citizens and uphold fundamental rights. It\\'s an ongoing experiment that requires constant vigilance, participation, and adaptation to thrive.', additional_kwargs={}, response_metadata={'is_blocked': False, 'safety_ratings': [], 'citation_metadata': {'citations': [{'start_index': 4118, 'end_index': 4253, 'uri': 'https://brainly.com/question/50447307', 'title': '', 'license_': ''}, {'start_index': 4568, 'end_index': 4700, 'uri': '', 'title': '', 'license_': ''}, {'start_index': 7221, 'end_index': 7347, 'uri': 'https://linnk.ai/it/insight/usgovernment/the-structure-and-role-of-the-u-s-government-a-detailed-explanation-O8MBu-dZ/', 'title': '', 'license_': ''}]}, 'usage_metadata': {'prompt_token_count': 12, 'candidates_token_count': 1344, 'total_token_count': 2300, 'prompt_tokens_details': [{'modality': 1, 'token_count': 12}], 'candidates_tokens_details': [{'modality': 1, 'token_count': 1344}], 'thoughts_token_count': 944, 'cached_content_token_count': 0, 'cache_tokens_details': []}, 'finish_reason': 'STOP', 'avg_logprobs': -0.4703330993652344, 'model_name': 'gemini-2.5-flash-preview-05-20'}, id='run--37702f31-cca2-493e-bf9f-e1e2a10f5979-0', usage_metadata={'input_tokens': 12, 'output_tokens': 1344, 'total_tokens': 2300, 'output_token_details': {'reasoning': 944}})]"
      ]
     },
     "execution_count": 15,
     "metadata": {},
     "output_type": "execute_result"
    }
   ],
   "source": [
    "result['messages']"
   ]
  },
  {
   "cell_type": "code",
   "execution_count": 16,
   "id": "46c3e3db",
   "metadata": {},
   "outputs": [
    {
     "name": "stdout",
     "output_type": "stream",
     "text": [
      "================================\u001b[1m System Message \u001b[0m================================\n",
      "\n",
      "You are an helpful assistant\n",
      "================================\u001b[1m Human Message \u001b[0m=================================\n",
      "\n",
      "I would like to know about democracy\n",
      "==================================\u001b[1m Ai Message \u001b[0m==================================\n",
      "\n",
      "Democracy is a fascinating and complex concept, often hailed as one of the most effective and just forms of governance. Let's break it down:\n",
      "\n",
      "---\n",
      "\n",
      "### What is Democracy?\n",
      "\n",
      "At its most fundamental level, democracy is a system of government where **power is vested in the people**, who rule either directly or through elected representatives. The word itself comes from ancient Greek:\n",
      "*   **\"Demos\"** meaning \"people\"\n",
      "*   **\"Kratos\"** meaning \"power\" or \"rule\"\n",
      "\n",
      "So, literally, it means \"rule by the people.\"\n",
      "\n",
      "---\n",
      "\n",
      "### Core Principles and Characteristics\n",
      "\n",
      "While there's no single perfect model, most democratic systems share several key principles:\n",
      "\n",
      "1.  **Popular Sovereignty:** The ultimate authority rests with the people. Government derives its legitimacy from the consent of the governed.\n",
      "2.  **Equality:** All citizens are equal before the law, with equal rights and opportunities. This includes the principle of \"one person, one vote.\"\n",
      "3.  **Liberty/Freedom:** Guarantees of fundamental human rights and freedoms, such as freedom of speech, assembly, religion, and the press.\n",
      "4.  **Rule of Law:** Everyone, including government officials, is subject to the law, which is applied equally and fairly.\n",
      "5.  **Free and Fair Elections:** Citizens choose their representatives in regular, competitive elections where votes are counted accurately and all eligible citizens have the right to participate.\n",
      "6.  **Accountability and Transparency:** Government officials are accountable to the people and their actions are largely open to public scrutiny.\n",
      "7.  **Protection of Minority Rights:** While the majority rules, the rights and interests of minority groups are protected from oppression.\n",
      "8.  **Pluralism:** Recognition and acceptance of a wide range of diverse viewpoints, beliefs, and interests within society.\n",
      "9.  **Separation of Powers:** Governmental authority is divided among different branches (e.g., executive, legislative, judicial) to prevent the concentration of power and provide checks and balances.\n",
      "\n",
      "---\n",
      "\n",
      "### Types of Democracy\n",
      "\n",
      "There are two primary forms of democracy:\n",
      "\n",
      "1.  **Direct Democracy:**\n",
      "    *   **How it works:** Citizens directly participate in decision-making and law-making. They vote on every major issue or law.\n",
      "    *   **Example:** Ancient Athens, or modern-day referendums/initiatives in some places (like Switzerland for certain issues).\n",
      "    *   **Pros:** High level of citizen engagement and direct expression of popular will.\n",
      "    *   **Cons:** Impractical for large, complex societies; can lead to \"tyranny of the majority\" if minority rights aren't protected.\n",
      "\n",
      "2.  **Representative Democracy (Republic):**\n",
      "    *   **How it works:** Citizens elect representatives to make decisions and govern on their behalf. These representatives are then accountable to the electorate.\n",
      "    *   **Example:** Most modern democracies, including the United States, United Kingdom, Canada, India, Germany.\n",
      "    *   **Pros:** More practical for large populations; allows for informed decision-making by dedicated legislators; protects against snap decisions by an uninformed public.\n",
      "    *   **Cons:** Potential for representatives to become disconnected from their constituents; risk of special interest influence.\n",
      "    *   **Sub-types of Representative Democracy:**\n",
      "        *   **Parliamentary Systems:** The executive branch (Prime Minister and Cabinet) is drawn from and accountable to the legislative branch (Parliament). (e.g., UK, Canada, India).\n",
      "        *   **Presidential Systems:** The executive branch (President) is elected independently of the legislative branch and has a fixed term. (e.g., USA, Brazil).\n",
      "\n",
      "---\n",
      "\n",
      "### Why is Democracy Valued?\n",
      "\n",
      "*   **Promotes Freedom and Human Rights:** It's often seen as the best system for protecting individual liberties.\n",
      "*   **Ensures Accountability:** Leaders are held responsible for their actions by the people.\n",
      "*   **Facilitates Peaceful Transitions of Power:** Elections provide a structured, non-violent way to change leadership.\n",
      "*   **Encourages Stability:** By giving citizens a say, it can reduce the likelihood of unrest and revolution.\n",
      "*   **Enhances Decision-Making:** Diverse perspectives and public debate can lead to more robust and equitable policies.\n",
      "*   **Fosters Self-Correction:** Democracies have mechanisms (like elections and free press) to identify and correct mistakes.\n",
      "\n",
      "---\n",
      "\n",
      "### Challenges and Criticisms of Democracy\n",
      "\n",
      "Despite its strengths, democracy faces significant challenges:\n",
      "\n",
      "*   **Voter Apathy and Ignorance:** Low participation rates or uninformed voters can weaken democratic legitimacy.\n",
      "*   **Tyranny of the Majority:** The majority can, in theory, oppress minority groups if protections are not robust.\n",
      "*   **Slow Decision-Making:** Debates, checks and balances, and the need for consensus can make the legislative process slow and inefficient.\n",
      "*   **Influence of Money and Special Interests:** Wealthy individuals or powerful lobbying groups can disproportionately influence policies.\n",
      "*   **Polarization and Gridlock:** Deep divisions within society can lead to political stalemate.\n",
      "*   **Populism:** The rise of leaders who appeal directly to the \"will of the people\" often bypassing traditional democratic institutions and norms, sometimes eroding democratic checks.\n",
      "*   **Disinformation:** The spread of false or misleading information can undermine informed public discourse and trust in institutions.\n",
      "\n",
      "---\n",
      "\n",
      "### Historical Context\n",
      "\n",
      "*   **Ancient Roots:** Traces of democratic ideas can be found in ancient Greece (Athens) and the Roman Republic, though their definitions of \"citizen\" were much narrower.\n",
      "*   **Enlightenment Era:** Philosophers like John Locke, Jean-Jacques Rousseau, and Montesquieu laid much of the intellectual groundwork for modern democracy with ideas of natural rights, popular sovereignty, and separation of powers.\n",
      "*   **Modern Revolutions:** The American Revolution (1776) and the French Revolution (1789) were pivotal in establishing democratic republics based on these principles.\n",
      "*   **20th Century Expansion:** Democracy spread significantly after World War I and especially after World War II and the end of the Cold War, though it continues to face global challenges.\n",
      "\n",
      "---\n",
      "\n",
      "In conclusion, democracy is not just a form of government; it's a dynamic system of values, processes, and institutions designed to empower citizens and uphold fundamental rights. It's an ongoing experiment that requires constant vigilance, participation, and adaptation to thrive.\n"
     ]
    }
   ],
   "source": [
    "for message in result['messages']:\n",
    "    message.pretty_print()"
   ]
  }
 ],
 "metadata": {
  "kernelspec": {
   "display_name": ".venv",
   "language": "python",
   "name": "python3"
  },
  "language_info": {
   "codemirror_mode": {
    "name": "ipython",
    "version": 3
   },
   "file_extension": ".py",
   "mimetype": "text/x-python",
   "name": "python",
   "nbconvert_exporter": "python",
   "pygments_lexer": "ipython3",
   "version": "3.11.9"
  }
 },
 "nbformat": 4,
 "nbformat_minor": 5
}
