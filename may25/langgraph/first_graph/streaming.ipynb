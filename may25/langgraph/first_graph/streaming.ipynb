{
 "cells": [
  {
   "cell_type": "code",
   "execution_count": 1,
   "id": "fdaecd9d",
   "metadata": {},
   "outputs": [],
   "source": [
    "from langgraph.graph import StateGraph, START, END, MessagesState"
   ]
  },
  {
   "cell_type": "code",
   "execution_count": 2,
   "id": "e98bdfed",
   "metadata": {},
   "outputs": [],
   "source": [
    "from langchain.chat_models import init_chat_model"
   ]
  },
  {
   "cell_type": "code",
   "execution_count": 3,
   "id": "aa407c5a",
   "metadata": {},
   "outputs": [],
   "source": [
    "model_id=\"gemini-2.5-flash-preview-05-20\"\n",
    "llm = init_chat_model(model=model_id,  model_provider=\"google_vertexai\")"
   ]
  },
  {
   "cell_type": "code",
   "execution_count": 4,
   "id": "48079b69",
   "metadata": {},
   "outputs": [],
   "source": [
    "from langchain_core.runnables import RunnableConfig\n",
    "config = RunnableConfig()\n",
    "def call_model(state: MessagesState) -> MessagesState:\n",
    "    state['messages'] = llm.invoke(input = state['messages'],config=config)\n",
    "    return state"
   ]
  },
  {
   "cell_type": "code",
   "execution_count": 34,
   "id": "51d9825d",
   "metadata": {},
   "outputs": [],
   "source": [
    "graph_builder = StateGraph(MessagesState)\n",
    "graph_builder.add_node(\"llm\", call_model)\n",
    "graph_builder.add_edge(START, \"llm\")\n",
    "graph_builder.add_edge(\"llm\", END)\n",
    "graph = graph_builder.compile()"
   ]
  },
  {
   "cell_type": "code",
   "execution_count": 6,
   "id": "cc33ecfb",
   "metadata": {},
   "outputs": [
    {
     "data": {
      "image/png": "[encoded data removed]",
      "text/plain": [
       "<IPython.core.display.Image object>"
      ]
     },
     "metadata": {},
     "output_type": "display_data"
    }
   ],
   "source": [
    "from utils import draw_graph\n",
    "draw_graph(graph)"
   ]
  },
  {
   "cell_type": "code",
   "execution_count": 7,
   "id": "b113ab95",
   "metadata": {},
   "outputs": [],
   "source": [
    "from langchain_core.messages import SystemMessage, HumanMessage\n",
    "\n",
    "messages = [\n",
    "    SystemMessage(\"You are an helpful assistant\"),\n",
    "    HumanMessage(\"I would like to know about democracy\")\n",
    "\n",
    "]\n",
    "result = graph.invoke({\"messages\": messages})"
   ]
  },
  {
   "cell_type": "code",
   "execution_count": 8,
   "id": "693331f0",
   "metadata": {},
   "outputs": [
    {
     "data": {
      "text/plain": [
       "[SystemMessage(content='You are an helpful assistant', additional_kwargs={}, response_metadata={}, id='3e9b43fd-e711-4331-916c-7ddab1ad364d'),\n",
       " HumanMessage(content='I would like to know about democracy', additional_kwargs={}, response_metadata={}, id='f7c8ec03-51e5-4056-af93-4bbe81a72463'),\n",
       " AIMessage(content='Democracy is a system of government where the **supreme power is vested in the people** and exercised by them directly or indirectly through a system of representation, usually involving periodically held free and fair elections.\\n\\nThe word \"democracy\" comes from the Greek words *demos* (people) and *kratos* (power or rule), meaning \"rule by the people.\"\\n\\nHere\\'s a breakdown of its key aspects:\\n\\n---\\n\\n### Core Principles and Characteristics:\\n\\n1.  **Sovereignty of the People:** The ultimate power resides with the citizens, not with a monarch, dictator, or elite group.\\n2.  **Free and Fair Elections:** Citizens have the right to choose their representatives through regular, competitive elections where votes are counted accurately and all eligible citizens have the right to vote and run for office.\\n3.  **Protection of Human Rights and Civil Liberties:** Democracies uphold fundamental rights such as freedom of speech, assembly, religion, press, and the right to a fair trial. These rights ensure citizens can participate meaningfully and hold their government accountable.\\n4.  **Rule of Law:** Everyone, including government officials, is subject to the law, which is applied equally and justly. Laws are transparent, publicly promulgated, and enforced independently.\\n5.  **Separation of Powers:** To prevent the concentration of power, governmental authority is typically divided among different branches (e.g., legislative, executive, judicial), each with distinct responsibilities and checks and balances on the others.\\n6.  **Pluralism and Tolerance:** Democracies embrace the existence of diverse political parties, opinions, and social groups. Open debate and the acceptance of differing viewpoints are crucial.\\n7.  **Citizen Participation:** Beyond just voting, citizens are encouraged to participate in public life, express their views, and engage in civic activities.\\n\\n---\\n\\n### Types of Democracy:\\n\\n1.  **Direct Democracy:** Citizens directly participate in decision-making by voting on laws and policies themselves.\\n    *   **Examples:** Ancient Athens (limited by its time), modern referendums and initiatives in some countries (e.g., Switzerland).\\n    *   **Pros:** High citizen involvement, direct expression of will.\\n    *   **Cons:** Impractical for large populations, can lead to \"tyranny of the majority.\"\\n\\n2.  **Representative Democracy (Republic):** Citizens elect representatives to make decisions on their behalf. This is the most common form of democracy today.\\n    *   **Examples:** Most modern nations.\\n    *   **Pros:** Practical for large populations, allows for informed decision-making by elected experts, protects minority rights through constitutionalism.\\n    *   **Cons:** Can lead to voter apathy, representatives may not always perfectly reflect constituent views.\\n\\n    Within representative democracies, there are further distinctions:\\n    *   **Parliamentary Democracy:** The executive branch (Prime Minister and cabinet) is drawn from and accountable to the legislative branch (parliament). (e.g., United Kingdom, Canada, India).\\n    *   **Presidential Democracy:** The executive branch (President) is separate from and independent of the legislative branch. (e.g., United States, Brazil).\\n    *   **Semi-Presidential System:** A mix of both, with an elected president and a prime minister responsible to the legislature. (e.g., France, Russia).\\n\\n3.  **Constitutional Democracy:** While not a separate type of government, it\\'s a crucial characteristic of modern democracies. It emphasizes that the government\\'s power is limited by a constitution, which outlines the rights of citizens and the boundaries of state authority. This prevents the \"tyranny of the majority\" by protecting fundamental liberties even if a majority wishes to infringe upon them.\\n\\n---\\n\\n### Advantages of Democracy:\\n\\n*   **Legitimacy and Stability:** Governments derive their authority from the consent of the governed, leading to greater public acceptance and less likelihood of violent overthrow.\\n*   **Accountability:** Leaders are accountable to the people and can be removed through elections.\\n*   **Protection of Rights:** Designed to safeguard individual liberties and minority rights.\\n*   **Adaptability:** Allows for peaceful changes in leadership and policies in response to public will.\\n*   **Promotes Participation:** Encourages citizens to engage in public life and express their views.\\n*   **Better Decision-Making (ideally):** Diverse viewpoints and open debate can lead to more comprehensive and effective policies.\\n*   **Reduced Conflict:** Provides peaceful mechanisms for resolving political disagreements.\\n\\n---\\n\\n### Challenges and Criticisms of Democracy:\\n\\n*   **Inefficiency and Slow Decision-Making:** Debates, checks and balances, and the need for consensus can make the democratic process slow and cumbersome.\\n*   **Voter Apathy:** Low voter turnout and disengagement can undermine the legitimacy of elected officials.\\n*   **Tyranny of the Majority:** The concern that the majority\\'s will could suppress the rights or interests of minority groups.\\n*   **Populism and Demagoguery:** The risk that leaders can exploit public emotions and prejudices for political gain, bypassing rational deliberation.\\n*   **Influence of Money:** Wealthy individuals and corporations can exert undue influence over elections and policy-making.\\n*   **Polarization:** Deep divisions within society can lead to gridlock and an inability to compromise.\\n*   **Misinformation and Disinformation:** The spread of false or misleading information, especially through social media, can distort public discourse and undermine informed decision-making.\\n\\n---\\n\\n### Conclusion:\\n\\nDemocracy is a dynamic and evolving system. While it has inherent challenges and is not without its flaws, it remains widely regarded as the most just and legitimate form of governance because it places power in the hands of the people and seeks to protect individual freedoms and human dignity. The health of a democracy depends on active, informed citizens, robust institutions, and a commitment to its core principles.', additional_kwargs={}, response_metadata={'is_blocked': False, 'safety_ratings': [], 'citation_metadata': {'citations': [{'start_index': 5194, 'end_index': 5333, 'uri': 'https://slideplayer.com/slide/10469537/', 'title': '', 'license_': ''}, {'start_index': 5286, 'end_index': 5427, 'uri': 'http://www.electionaccess.org/resources/definitions/', 'title': '', 'license_': ''}, {'start_index': 8079, 'end_index': 8219, 'uri': '', 'title': '', 'license_': ''}]}, 'usage_metadata': {'prompt_token_count': 12, 'candidates_token_count': 1221, 'total_token_count': 2475, 'prompt_tokens_details': [{'modality': 1, 'token_count': 12}], 'candidates_tokens_details': [{'modality': 1, 'token_count': 1221}], 'thoughts_token_count': 1242, 'cached_content_token_count': 0, 'cache_tokens_details': []}, 'finish_reason': 'STOP', 'avg_logprobs': -0.5615124401745496, 'model_name': 'gemini-2.5-flash-preview-05-20'}, id='run--44f82409-a7c8-4a66-a646-54c622734dc5-0', usage_metadata={'input_tokens': 12, 'output_tokens': 1221, 'total_tokens': 2475, 'output_token_details': {'reasoning': 1242}})]"
      ]
     },
     "execution_count": 8,
     "metadata": {},
     "output_type": "execute_result"
    }
   ],
   "source": [
    "result['messages']"
   ]
  },
  {
   "cell_type": "code",
   "execution_count": 9,
   "id": "46c3e3db",
   "metadata": {},
   "outputs": [
    {
     "name": "stdout",
     "output_type": "stream",
     "text": [
      "================================\u001b[1m System Message \u001b[0m================================\n",
      "\n",
      "You are an helpful assistant\n",
      "================================\u001b[1m Human Message \u001b[0m=================================\n",
      "\n",
      "I would like to know about democracy\n",
      "==================================\u001b[1m Ai Message \u001b[0m==================================\n",
      "\n",
      "Democracy is a system of government where the **supreme power is vested in the people** and exercised by them directly or indirectly through a system of representation, usually involving periodically held free and fair elections.\n",
      "\n",
      "The word \"democracy\" comes from the Greek words *demos* (people) and *kratos* (power or rule), meaning \"rule by the people.\"\n",
      "\n",
      "Here's a breakdown of its key aspects:\n",
      "\n",
      "---\n",
      "\n",
      "### Core Principles and Characteristics:\n",
      "\n",
      "1.  **Sovereignty of the People:** The ultimate power resides with the citizens, not with a monarch, dictator, or elite group.\n",
      "2.  **Free and Fair Elections:** Citizens have the right to choose their representatives through regular, competitive elections where votes are counted accurately and all eligible citizens have the right to vote and run for office.\n",
      "3.  **Protection of Human Rights and Civil Liberties:** Democracies uphold fundamental rights such as freedom of speech, assembly, religion, press, and the right to a fair trial. These rights ensure citizens can participate meaningfully and hold their government accountable.\n",
      "4.  **Rule of Law:** Everyone, including government officials, is subject to the law, which is applied equally and justly. Laws are transparent, publicly promulgated, and enforced independently.\n",
      "5.  **Separation of Powers:** To prevent the concentration of power, governmental authority is typically divided among different branches (e.g., legislative, executive, judicial), each with distinct responsibilities and checks and balances on the others.\n",
      "6.  **Pluralism and Tolerance:** Democracies embrace the existence of diverse political parties, opinions, and social groups. Open debate and the acceptance of differing viewpoints are crucial.\n",
      "7.  **Citizen Participation:** Beyond just voting, citizens are encouraged to participate in public life, express their views, and engage in civic activities.\n",
      "\n",
      "---\n",
      "\n",
      "### Types of Democracy:\n",
      "\n",
      "1.  **Direct Democracy:** Citizens directly participate in decision-making by voting on laws and policies themselves.\n",
      "    *   **Examples:** Ancient Athens (limited by its time), modern referendums and initiatives in some countries (e.g., Switzerland).\n",
      "    *   **Pros:** High citizen involvement, direct expression of will.\n",
      "    *   **Cons:** Impractical for large populations, can lead to \"tyranny of the majority.\"\n",
      "\n",
      "2.  **Representative Democracy (Republic):** Citizens elect representatives to make decisions on their behalf. This is the most common form of democracy today.\n",
      "    *   **Examples:** Most modern nations.\n",
      "    *   **Pros:** Practical for large populations, allows for informed decision-making by elected experts, protects minority rights through constitutionalism.\n",
      "    *   **Cons:** Can lead to voter apathy, representatives may not always perfectly reflect constituent views.\n",
      "\n",
      "    Within representative democracies, there are further distinctions:\n",
      "    *   **Parliamentary Democracy:** The executive branch (Prime Minister and cabinet) is drawn from and accountable to the legislative branch (parliament). (e.g., United Kingdom, Canada, India).\n",
      "    *   **Presidential Democracy:** The executive branch (President) is separate from and independent of the legislative branch. (e.g., United States, Brazil).\n",
      "    *   **Semi-Presidential System:** A mix of both, with an elected president and a prime minister responsible to the legislature. (e.g., France, Russia).\n",
      "\n",
      "3.  **Constitutional Democracy:** While not a separate type of government, it's a crucial characteristic of modern democracies. It emphasizes that the government's power is limited by a constitution, which outlines the rights of citizens and the boundaries of state authority. This prevents the \"tyranny of the majority\" by protecting fundamental liberties even if a majority wishes to infringe upon them.\n",
      "\n",
      "---\n",
      "\n",
      "### Advantages of Democracy:\n",
      "\n",
      "*   **Legitimacy and Stability:** Governments derive their authority from the consent of the governed, leading to greater public acceptance and less likelihood of violent overthrow.\n",
      "*   **Accountability:** Leaders are accountable to the people and can be removed through elections.\n",
      "*   **Protection of Rights:** Designed to safeguard individual liberties and minority rights.\n",
      "*   **Adaptability:** Allows for peaceful changes in leadership and policies in response to public will.\n",
      "*   **Promotes Participation:** Encourages citizens to engage in public life and express their views.\n",
      "*   **Better Decision-Making (ideally):** Diverse viewpoints and open debate can lead to more comprehensive and effective policies.\n",
      "*   **Reduced Conflict:** Provides peaceful mechanisms for resolving political disagreements.\n",
      "\n",
      "---\n",
      "\n",
      "### Challenges and Criticisms of Democracy:\n",
      "\n",
      "*   **Inefficiency and Slow Decision-Making:** Debates, checks and balances, and the need for consensus can make the democratic process slow and cumbersome.\n",
      "*   **Voter Apathy:** Low voter turnout and disengagement can undermine the legitimacy of elected officials.\n",
      "*   **Tyranny of the Majority:** The concern that the majority's will could suppress the rights or interests of minority groups.\n",
      "*   **Populism and Demagoguery:** The risk that leaders can exploit public emotions and prejudices for political gain, bypassing rational deliberation.\n",
      "*   **Influence of Money:** Wealthy individuals and corporations can exert undue influence over elections and policy-making.\n",
      "*   **Polarization:** Deep divisions within society can lead to gridlock and an inability to compromise.\n",
      "*   **Misinformation and Disinformation:** The spread of false or misleading information, especially through social media, can distort public discourse and undermine informed decision-making.\n",
      "\n",
      "---\n",
      "\n",
      "### Conclusion:\n",
      "\n",
      "Democracy is a dynamic and evolving system. While it has inherent challenges and is not without its flaws, it remains widely regarded as the most just and legitimate form of governance because it places power in the hands of the people and seeks to protect individual freedoms and human dignity. The health of a democracy depends on active, informed citizens, robust institutions, and a commitment to its core principles.\n"
     ]
    }
   ],
   "source": [
    "for message in result['messages']:\n",
    "    message.pretty_print()"
   ]
  },
  {
   "cell_type": "code",
   "execution_count": 10,
   "id": "d6f305f7",
   "metadata": {},
   "outputs": [
    {
     "data": {
      "text/markdown": [
       "Democracy is a system of government where the **supreme power is vested in the people** and exercised by them directly or indirectly through a system of representation, usually involving periodically held free and fair elections.\n",
       "\n",
       "The word \"democracy\" comes from the Greek words *demos* (people) and *kratos* (power or rule), meaning \"rule by the people.\"\n",
       "\n",
       "Here's a breakdown of its key aspects:\n",
       "\n",
       "---\n",
       "\n",
       "### Core Principles and Characteristics:\n",
       "\n",
       "1.  **Sovereignty of the People:** The ultimate power resides with the citizens, not with a monarch, dictator, or elite group.\n",
       "2.  **Free and Fair Elections:** Citizens have the right to choose their representatives through regular, competitive elections where votes are counted accurately and all eligible citizens have the right to vote and run for office.\n",
       "3.  **Protection of Human Rights and Civil Liberties:** Democracies uphold fundamental rights such as freedom of speech, assembly, religion, press, and the right to a fair trial. These rights ensure citizens can participate meaningfully and hold their government accountable.\n",
       "4.  **Rule of Law:** Everyone, including government officials, is subject to the law, which is applied equally and justly. Laws are transparent, publicly promulgated, and enforced independently.\n",
       "5.  **Separation of Powers:** To prevent the concentration of power, governmental authority is typically divided among different branches (e.g., legislative, executive, judicial), each with distinct responsibilities and checks and balances on the others.\n",
       "6.  **Pluralism and Tolerance:** Democracies embrace the existence of diverse political parties, opinions, and social groups. Open debate and the acceptance of differing viewpoints are crucial.\n",
       "7.  **Citizen Participation:** Beyond just voting, citizens are encouraged to participate in public life, express their views, and engage in civic activities.\n",
       "\n",
       "---\n",
       "\n",
       "### Types of Democracy:\n",
       "\n",
       "1.  **Direct Democracy:** Citizens directly participate in decision-making by voting on laws and policies themselves.\n",
       "    *   **Examples:** Ancient Athens (limited by its time), modern referendums and initiatives in some countries (e.g., Switzerland).\n",
       "    *   **Pros:** High citizen involvement, direct expression of will.\n",
       "    *   **Cons:** Impractical for large populations, can lead to \"tyranny of the majority.\"\n",
       "\n",
       "2.  **Representative Democracy (Republic):** Citizens elect representatives to make decisions on their behalf. This is the most common form of democracy today.\n",
       "    *   **Examples:** Most modern nations.\n",
       "    *   **Pros:** Practical for large populations, allows for informed decision-making by elected experts, protects minority rights through constitutionalism.\n",
       "    *   **Cons:** Can lead to voter apathy, representatives may not always perfectly reflect constituent views.\n",
       "\n",
       "    Within representative democracies, there are further distinctions:\n",
       "    *   **Parliamentary Democracy:** The executive branch (Prime Minister and cabinet) is drawn from and accountable to the legislative branch (parliament). (e.g., United Kingdom, Canada, India).\n",
       "    *   **Presidential Democracy:** The executive branch (President) is separate from and independent of the legislative branch. (e.g., United States, Brazil).\n",
       "    *   **Semi-Presidential System:** A mix of both, with an elected president and a prime minister responsible to the legislature. (e.g., France, Russia).\n",
       "\n",
       "3.  **Constitutional Democracy:** While not a separate type of government, it's a crucial characteristic of modern democracies. It emphasizes that the government's power is limited by a constitution, which outlines the rights of citizens and the boundaries of state authority. This prevents the \"tyranny of the majority\" by protecting fundamental liberties even if a majority wishes to infringe upon them.\n",
       "\n",
       "---\n",
       "\n",
       "### Advantages of Democracy:\n",
       "\n",
       "*   **Legitimacy and Stability:** Governments derive their authority from the consent of the governed, leading to greater public acceptance and less likelihood of violent overthrow.\n",
       "*   **Accountability:** Leaders are accountable to the people and can be removed through elections.\n",
       "*   **Protection of Rights:** Designed to safeguard individual liberties and minority rights.\n",
       "*   **Adaptability:** Allows for peaceful changes in leadership and policies in response to public will.\n",
       "*   **Promotes Participation:** Encourages citizens to engage in public life and express their views.\n",
       "*   **Better Decision-Making (ideally):** Diverse viewpoints and open debate can lead to more comprehensive and effective policies.\n",
       "*   **Reduced Conflict:** Provides peaceful mechanisms for resolving political disagreements.\n",
       "\n",
       "---\n",
       "\n",
       "### Challenges and Criticisms of Democracy:\n",
       "\n",
       "*   **Inefficiency and Slow Decision-Making:** Debates, checks and balances, and the need for consensus can make the democratic process slow and cumbersome.\n",
       "*   **Voter Apathy:** Low voter turnout and disengagement can undermine the legitimacy of elected officials.\n",
       "*   **Tyranny of the Majority:** The concern that the majority's will could suppress the rights or interests of minority groups.\n",
       "*   **Populism and Demagoguery:** The risk that leaders can exploit public emotions and prejudices for political gain, bypassing rational deliberation.\n",
       "*   **Influence of Money:** Wealthy individuals and corporations can exert undue influence over elections and policy-making.\n",
       "*   **Polarization:** Deep divisions within society can lead to gridlock and an inability to compromise.\n",
       "*   **Misinformation and Disinformation:** The spread of false or misleading information, especially through social media, can distort public discourse and undermine informed decision-making.\n",
       "\n",
       "---\n",
       "\n",
       "### Conclusion:\n",
       "\n",
       "Democracy is a dynamic and evolving system. While it has inherent challenges and is not without its flaws, it remains widely regarded as the most just and legitimate form of governance because it places power in the hands of the people and seeks to protect individual freedoms and human dignity. The health of a democracy depends on active, informed citizens, robust institutions, and a commitment to its core principles."
      ],
      "text/plain": [
       "<IPython.core.display.Markdown object>"
      ]
     },
     "execution_count": 10,
     "metadata": {},
     "output_type": "execute_result"
    }
   ],
   "source": [
    "from IPython.display import Markdown\n",
    "Markdown(result['messages'][-1].content)"
   ]
  },
  {
   "cell_type": "code",
   "execution_count": 11,
   "id": "6f53e368",
   "metadata": {},
   "outputs": [],
   "source": [
    "from langchain_core.messages import SystemMessage, HumanMessage\n",
    "messages = [\n",
    "    SystemMessage(\"You are an helpful assistant\"),\n",
    "    HumanMessage(\"I would like to know about democracy\")\n",
    "\n",
    "]\n",
    "\n"
   ]
  },
  {
   "cell_type": "code",
   "execution_count": 12,
   "id": "6eb60056",
   "metadata": {},
   "outputs": [
    {
     "name": "stdout",
     "output_type": "stream",
     "text": [
      "{'llm': {'messages': AIMessage(content='Democracy, at its heart, means \"rule by the people.\" The word itself comes from the Greek *demos* (people) and *kratos* (power or rule).\\n\\nIt\\'s a system of government where the citizens exercise power either directly or by electing representatives from among themselves to form a governing body, such as a parliament or congress.\\n\\nHere\\'s a breakdown of its key aspects:\\n\\n### Core Principles of Democracy\\n\\n1.  **Popular Sovereignty:** The ultimate authority rests with the people. Government derives its legitimacy from the consent of the governed.\\n2.  **Equality:** All citizens are equal before the law and have equal political rights, regardless of race, gender, religion, or socio-economic status.\\n3.  **Liberty/Freedom:** Guarantees fundamental individual freedoms such as freedom of speech, assembly, press, religion, and the right to privacy.\\n4.  **Rule of Law:** Everyone, including those in power, is subject to and accountable under the law. Laws are transparent, publicly promulgated, equally enforced, and independently adjudicated.\\n5.  **Free and Fair Elections:** Citizens choose their representatives through regular, free, and competitive elections with universal suffrage (the right to vote).\\n6.  **Majority Rule with Minority Rights:** Decisions are made based on the will of the majority, but the rights of individuals and minority groups are protected and cannot be overridden by the majority.\\n7.  **Accountability and Transparency:** Government officials are accountable to the public, and government processes are generally open and accessible.\\n8.  **Separation of Powers:** Power is typically divided among different branches of government (e.g., executive, legislative, judicial) to prevent any one branch from becoming too powerful (checks and balances).\\n9.  **Active Citizen Participation:** A healthy democracy relies on informed and engaged citizens who participate in public life beyond just voting.\\n\\n### Types of Democracy\\n\\n1.  **Direct Democracy:** Citizens directly participate in decision-making processes, voting on laws and policies themselves. (e.g., ancient Athens, some local referendums/initiatives in modern states).\\n    *   **Pros:** High level of public engagement, direct expression of popular will.\\n    *   **Cons:** Impractical for large populations, can lead to \"tyranny of the majority\" if minority rights aren\\'t protected.\\n\\n2.  **Representative Democracy (Republic):** Citizens elect representatives to make decisions on their behalf. This is the most common form in modern states.\\n    *   **Pros:** Practical for large populations, allows for specialized knowledge in governance, provides checks and balances.\\n    *   **Cons:** Potential for disconnect between representatives and constituents, risk of special interest influence.\\n\\n    Representative democracies can take various forms:\\n    *   **Parliamentary Democracy:** The executive branch (Prime Minister and cabinet) is drawn from and accountable to the legislative branch (parliament). (e.g., UK, Canada, India).\\n    *   **Presidential Democracy:** The executive branch (President) is elected independently of the legislative branch and has a fixed term. (e.g., USA, Brazil).\\n    *   **Semi-Presidential Democracy:** Features both a president (elected by the people) and a prime minister (responsible to the legislature). (e.g., France, Russia).\\n\\n### Advantages of Democracy\\n\\n*   **Protects Human Rights:** Designed to safeguard individual liberties and fundamental human rights.\\n*   **Peaceful Transfer of Power:** Provides established mechanisms for leadership change, reducing the likelihood of violence.\\n*   **Stability and Legitimacy:** Governments derive their authority from the consent of the governed, leading to greater stability.\\n*   **Encourages Participation:** Fosters civic engagement and allows diverse voices to be heard.\\n*   **Adaptability:** Can adapt to changing societal needs and challenges through peaceful reform.\\n*   **Accountability:** Leaders are accountable to the people and can be removed if they fail to meet expectations.\\n\\n### Challenges and Criticisms of Democracy\\n\\n*   **Inefficiency/Slow Decision-Making:** The need for compromise, debate, and consensus can make decision-making slow.\\n*   **Voter Apathy:** Low voter turnout or lack of engagement can undermine its legitimacy.\\n*   **Tyranny of the Majority:** The potential for the majority to impose its will on minority groups, suppressing their rights or interests.\\n*   **Risk of Demagoguery/Populism:** Susceptible to leaders who appeal to emotions and prejudices rather than rational arguments.\\n*   **Influence of Money:** Campaign finance and lobbying can give disproportionate influence to wealthy individuals or corporations.\\n*   **Short-termism:** Leaders may focus on short-term gains to secure re-election rather than long-term strategic planning.\\n*   **Misinformation and Polarization:** The spread of false information and increasing societal division can threaten democratic discourse.\\n\\n### Democracy in Practice\\n\\nDemocracy is not a static concept; it\\'s a dynamic and evolving process. No country is a perfect democracy, and all face ongoing challenges in upholding their democratic ideals. It requires constant vigilance, active participation from citizens, strong institutions, and a commitment to the rule of law and human rights.\\n\\nAs Winston Churchill famously said, \"Many forms of Government have been tried and will be tried in this world of sin and woe. No one pretends that democracy is perfect or all-wise. Indeed, it has been said that democracy is the worst form of Government except for all those other forms that have been tried from time to time.\"', additional_kwargs={}, response_metadata={'is_blocked': False, 'safety_ratings': [], 'citation_metadata': {'citations': [{'start_index': 5295, 'end_index': 5427, 'uri': '', 'title': '', 'license_': ''}, {'start_index': 6507, 'end_index': 6633, 'uri': '', 'title': '', 'license_': ''}, {'start_index': 7729, 'end_index': 7869, 'uri': '', 'title': '', 'license_': ''}, {'start_index': 7913, 'end_index': 8038, 'uri': '', 'title': '', 'license_': ''}, {'start_index': 10227, 'end_index': 10368, 'uri': 'https://www.thecollegefix.com/bulletin-board/scholar-explains-why-we-must-teach-western-civilization/', 'title': '', 'license_': ''}, {'start_index': 10302, 'end_index': 10464, 'title': 'Air University Review', 'publication_date': {'year': 1971, 'month': 0, 'day': 0}, 'uri': '', 'license_': ''}, {'start_index': 10416, 'end_index': 10540, 'title': 'Congressional Record', 'publication_date': {'year': 1966, 'month': 0, 'day': 0}, 'uri': '', 'license_': ''}]}, 'usage_metadata': {'prompt_token_count': 12, 'candidates_token_count': 1151, 'total_token_count': 2331, 'prompt_tokens_details': [{'modality': 1, 'token_count': 12}], 'candidates_tokens_details': [{'modality': 1, 'token_count': 1151}], 'thoughts_token_count': 1168, 'cached_content_token_count': 0, 'cache_tokens_details': []}, 'finish_reason': 'STOP', 'avg_logprobs': -0.4958659950077378, 'model_name': 'gemini-2.5-flash-preview-05-20'}, id='run--e4ebf8ba-9634-461c-8877-0fe3ffb49c88-0', usage_metadata={'input_tokens': 12, 'output_tokens': 1151, 'total_tokens': 2331, 'output_token_details': {'reasoning': 1168}})}}\n"
     ]
    }
   ],
   "source": [
    "# synchronous\n",
    "for chunk in graph.stream({\"messages\": messages}, stream_mode=\"updates\"):\n",
    "    print(chunk)"
   ]
  },
  {
   "cell_type": "code",
   "execution_count": 13,
   "id": "55038eb8",
   "metadata": {},
   "outputs": [
    {
     "name": "stdout",
     "output_type": "stream",
     "text": [
      "{'llm': {'messages': AIMessage(content='Democracy is a system of government where the **power is vested in the people**, who then exercise it either directly or through elected representatives. The word \"democracy\" comes from the Greek words \"demos\" (people) and \"kratos\" (power or rule), meaning \"rule by the people.\"\\n\\nHere\\'s a breakdown of its key aspects:\\n\\n### 1. Core Principles (The Pillars of Democracy)\\n\\n*   **Rule by the People (Popular Sovereignty):** The ultimate authority and legitimacy of the government come from the consent of its citizens.\\n*   **Free and Fair Elections:** Citizens have the right to choose their representatives through regular, competitive elections where votes are counted accurately and all eligible voters can participate without undue influence or intimidation.\\n*   **Protection of Human Rights:** Fundamental rights and freedoms (like freedom of speech, assembly, religion, press, and the right to due process) are legally enshrined and protected for all individuals, even those who are critical of the government.\\n*   **Rule of Law:** Everyone, including those in power, is subject to and accountable under the law. Laws are transparent, applied equally, and fairly enforced.\\n*   **Separation of Powers:** Government responsibilities are typically divided among different branches (e.g., executive, legislative, judicial) to prevent the concentration of power in one entity and provide checks and balances.\\n*   **Active Citizen Participation:** Beyond voting, citizens are encouraged to engage in public life through various means, such as protesting, advocating, forming civil society organizations, and running for office.\\n*   **Transparency and Accountability:** Government actions and decisions are open to public scrutiny, and elected officials are answerable to the people they represent.\\n*   **Pluralism and Diversity:** Democracy embraces and protects a diversity of opinions, interests, and lifestyles. Political parties and interest groups can organize and compete freely.\\n\\n### 2. Types of Democracy\\n\\n*   **Direct Democracy:** Citizens directly participate in decision-making and law-making (e.g., through referendums, initiatives, and direct votes on policies). This was practiced in ancient Athens and is still seen in some local governments or specific issues today.\\n*   **Representative Democracy (Republic):** Citizens elect representatives to make decisions and govern on their behalf. This is the most common form of democracy in modern large states (e.g., the United States, Canada, Germany, India).\\n\\n### 3. Advantages of Democracy\\n\\n*   **Greater Legitimacy and Stability:** Governments derive their authority from the consent of the governed, which can lead to more stable governance.\\n*   **Protection of Rights:** Democracies are designed to safeguard individual liberties and prevent tyranny.\\n*   **Accountability:** Leaders are ultimately accountable to the people and can be removed through elections.\\n*   **Self-Correction:** Democracies have mechanisms for peaceful change and reform, allowing them to adapt and address problems without violent overthrow.\\n*   **Promotes Dialogue and Compromise:** The need to win popular support often encourages negotiation and consensus-building.\\n*   **Encourages Citizen Engagement:** It provides avenues for citizens to influence their governance.\\n\\n### 4. Challenges and Criticisms of Democracy\\n\\n*   **Voter Apathy and Disengagement:** Low voter turnout or lack of interest in political processes can weaken the system.\\n*   **Misinformation and Polarization:** The spread of false information and increasing political division can undermine rational discourse and compromise.\\n*   **Inequality and Lobbying:** Wealthy individuals or special interest groups can exert disproportionate influence on policy-making.\\n*   **Slow Decision-Making:** The deliberative nature of democracy, with its checks and balances, can sometimes lead to slow or inefficient decision-making.\\n*   **Tyranny of the Majority:** In some cases, the majority\\'s will could potentially infringe upon the rights or interests of minority groups, though robust democracies aim to prevent this.\\n*   **Populism:** The rise of populist leaders who appeal directly to \"the people\" against \"the elite\" can sometimes challenge democratic institutions and norms.\\n\\nDespite its challenges, democracy remains an ideal and a goal for many nations around the world due to its emphasis on individual rights, popular sovereignty, and accountability. It\\'s often seen not just as a system of government, but as a continuous process of striving for greater freedom, equality, and justice.', additional_kwargs={}, response_metadata={'is_blocked': False, 'safety_ratings': [], 'citation_metadata': {'citations': [{'start_index': 7491, 'end_index': 7612, 'uri': 'https://esikhya.in/democracy-meaning-features-and-types/', 'title': '', 'license_': ''}]}, 'usage_metadata': {'prompt_token_count': 12, 'candidates_token_count': 905, 'total_token_count': 2076, 'prompt_tokens_details': [{'modality': 1, 'token_count': 12}], 'candidates_tokens_details': [{'modality': 1, 'token_count': 905}], 'thoughts_token_count': 1159, 'cached_content_token_count': 0, 'cache_tokens_details': []}, 'finish_reason': 'STOP', 'avg_logprobs': -0.6031718723023135, 'model_name': 'gemini-2.5-flash-preview-05-20'}, id='run--eefcf169-d4c5-47c6-aa54-8460ea82b85b-0', usage_metadata={'input_tokens': 12, 'output_tokens': 905, 'total_tokens': 2076, 'output_token_details': {'reasoning': 1159}})}}\n"
     ]
    }
   ],
   "source": [
    "# async\n",
    "async for chunk in graph.astream({\"messages\": messages}, stream_mode=\"updates\"):\n",
    "    print(chunk)"
   ]
  },
  {
   "cell_type": "code",
   "execution_count": 14,
   "id": "aa13da78",
   "metadata": {},
   "outputs": [
    {
     "data": {
      "text/plain": [
       "AIMessage(content='Democracy is a system of government where **power is vested in the people**, who then exercise it either directly or through elected representatives. The word itself comes from the Greek *demos* (people) and *kratos* (rule), meaning \"rule by the people.\"\\n\\nHere\\'s a breakdown of its key aspects:\\n\\n---\\n\\n### **Core Principles & Pillars of Democracy**\\n\\n1.  **Popular Sovereignty:** The ultimate source of authority is the will of the people. Government legitimacy derives from the consent of the governed.\\n2.  **Equality:** All citizens are equal before the law and have equal political rights (e.g., one person, one vote).\\n3.  **Liberty/Rights:** Protection of fundamental human rights and civil liberties, such as freedom of speech, assembly, press, religion, and the right to due process. These are crucial for citizens to participate effectively.\\n4.  **Rule of Law:** Everyone, including those in power, is subject to the law, which is applied equally and fairly. No one is above the law.\\n5.  **Accountability:** Elected representatives and government officials are accountable to the people they serve. This is often enforced through regular elections and mechanisms like transparency and oversight.\\n6.  **Transparency:** Government processes, decisions, and information should be accessible and clear to the public, fostering trust and enabling informed participation.\\n7.  **Free and Fair Elections:** Citizens have the right to choose their representatives in competitive, regular, secret-ballot elections, free from intimidation or manipulation.\\n8.  **Majority Rule with Minority Rights:** Decisions are made by the majority, but the rights and interests of minority groups must be protected and respected. This prevents the \"tyranny of the majority.\"\\n9.  **Political Pluralism:** A healthy democracy allows for diverse political parties, opinions, and civil society organizations to exist and compete for power, reflecting the variety of views within society.\\n10. **Independent Judiciary:** A system of courts that can interpret laws, protect rights, and ensure that government actions comply with the constitution, free from political interference.\\n\\n---\\n\\n### **Types of Democracy**\\n\\n1.  **Direct Democracy:**\\n    *   **Definition:** Citizens directly participate in decision-making, voting on laws and policies themselves (e.g., in ancient Athens or through referendums/initiatives in modern Switzerland).\\n    *   **Pros:** Purest form of popular rule, high legitimacy.\\n    *   **Cons:** Impractical for large populations, can lead to impulsive decisions, may not protect minority rights.\\n\\n2.  **Representative Democracy (Republic):**\\n    *   **Definition:** Citizens elect representatives to make decisions on their behalf in a legislative body (e.g., Parliament, Congress). This is the most common form today.\\n    *   **Pros:** Practical for large populations, allows for expertise and deliberation, can better protect minority rights through checks and balances.\\n    *   **Cons:** Potential for disconnect between representatives and constituents, risk of special interest influence, voter apathy.\\n\\n---\\n\\n### **Advantages of Democracy**\\n\\n*   **Legitimacy:** Government derives its authority from the people, leading to greater acceptance of decisions.\\n*   **Protection of Rights:** Designed to safeguard individual liberties and human rights.\\n*   **Accountability:** Leaders are more likely to be responsive to public needs when they face regular elections.\\n*   **Peaceful Transfer of Power:** Elections provide a structured and generally peaceful mechanism for leadership change.\\n*   **Stability and Resilience:** Democracies can adapt to changing societal needs through debate and compromise, reducing the likelihood of violent overthrow.\\n*   **Economic Development:** Often correlated with greater economic freedom and innovation, though not a direct cause.\\n*   **Innovation:** Freedom of thought and expression often fosters creativity and progress.\\n\\n---\\n\\n### **Challenges and Criticisms of Democracy**\\n\\n*   **Tyranny of the Majority:** The potential for the majority to impose its will on minority groups without regard for their rights or interests.\\n*   **Slow Decision-Making:** The need for deliberation, debate, and consensus can make decision-making slow and cumbersome.\\n*   **Voter Apathy and Disillusionment:** Citizens may feel their vote doesn\\'t matter, leading to low turnout and disengagement.\\n*   **Influence of Money and Special Interests:** Wealthy individuals, corporations, or powerful lobbying groups can exert undue influence on political processes.\\n*   **Polarization and Populism:** Societies can become deeply divided, and charismatic leaders might exploit public grievances, potentially undermining democratic institutions.\\n*   **Misinformation and Disinformation:** The spread of false or misleading information can make it difficult for citizens to make informed decisions.\\n*   **Complexity:** Requires an informed and engaged citizenry, which can be challenging to maintain.\\n\\n---\\n\\nIn essence, democracy is an ideal and a constant work in progress. It\\'s not just about elections, but about a culture of participation, respect for rights, and a commitment to justice and fairness for all.', additional_kwargs={}, response_metadata={'is_blocked': False, 'safety_ratings': [], 'citation_metadata': {'citations': [{'start_index': 7957, 'end_index': 8089, 'uri': '', 'title': '', 'license_': ''}]}, 'usage_metadata': {'prompt_token_count': 12, 'candidates_token_count': 1050, 'total_token_count': 2315, 'prompt_tokens_details': [{'modality': 1, 'token_count': 12}], 'candidates_tokens_details': [{'modality': 1, 'token_count': 1050}], 'thoughts_token_count': 1253, 'cached_content_token_count': 0, 'cache_tokens_details': []}, 'finish_reason': 'STOP', 'avg_logprobs': -0.544418712797619, 'model_name': 'gemini-2.5-flash-preview-05-20'}, id='run--f87d6c9b-f407-43bb-b21b-d5a2f9632222-0', usage_metadata={'input_tokens': 12, 'output_tokens': 1050, 'total_tokens': 2315, 'output_token_details': {'reasoning': 1253}})"
      ]
     },
     "execution_count": 14,
     "metadata": {},
     "output_type": "execute_result"
    }
   ],
   "source": [
    "# synchronous\n",
    "llm.invoke(messages)"
   ]
  },
  {
   "cell_type": "code",
   "execution_count": 15,
   "id": "b633bbd3",
   "metadata": {},
   "outputs": [
    {
     "name": "stdout",
     "output_type": "stream",
     "text": [
      "Democracy, at its core, is a system of government where the ultimate power is vested in the people, who then exercise it either directly or through elected representatives. The word itself comes from the Greek \"demos\" (people) and \"kratos\" (power or rule).\n",
      "\n",
      "Here's a breakdown\n",
      " of its key aspects:\n",
      "\n",
      "---\n",
      "\n",
      "### **Core Principles of Democracy**\n",
      "\n",
      "1.  **Sovereignty of the People:** The belief that the authority of the state is created and sustained by the consent of its people, through their elected representatives, who are the source of all political power.\n",
      "2.  **Rule of Law:**\n",
      " Everyone, including those in power, is subject to the law. Laws are transparent, applied equally, and fairly enforced. No one is above the law.\n",
      "3.  **Equality:** All citizens are equal before the law and have equal political rights, such as the right to vote.\n",
      "4.  **Individual\n",
      " Rights and Freedoms:** Protection of fundamental human rights, such as freedom of speech, assembly, religion, and the press. These are essential for citizens to participate meaningfully in the political process.\n",
      "5.  **Free and Fair Elections:** Regular elections where citizens can choose their representatives from a range of political parties and candidates. Elections\n",
      " must be conducted transparently, without intimidation or fraud.\n",
      "6.  **Majority Rule with Minority Rights:** While decisions are typically made by the majority vote, the rights and interests of minority groups must be protected and respected. The majority cannot oppress the minority.\n",
      "7.  **Separation of Powers:** Government power\n",
      " is divided among different branches (typically executive, legislative, and judicial) to prevent the concentration of power in any single entity and to provide checks and balances.\n",
      "8.  **Accountability and Transparency:** Government officials are accountable to the people and their actions should be open to public scrutiny.\n",
      "9.  **Citizen Participation:** Active\n",
      " engagement of citizens in the political process, beyond just voting, through civil society organizations, protests, advocacy, and public discourse.\n",
      "\n",
      "---\n",
      "\n",
      "### **Types of Democracy**\n",
      "\n",
      "While the core principles remain, democracies can manifest in different forms:\n",
      "\n",
      "1.  **Direct Democracy:** Citizens directly participate in decision-making by\n",
      " voting on laws and policies themselves.\n",
      "    *   **Example:** Ancient Athens. In modern times, elements exist through referendums, initiatives, and recalls (e.g., Switzerland, some U.S. states).\n",
      "    *   **Pros:** Purest form of popular rule, high legitimacy.\n",
      "    *   **\n",
      "Cons:** Impractical for large populations, can be slow, risks \"tyranny of the majority.\"\n",
      "\n",
      "2.  **Representative Democracy (Republic):** Citizens elect representatives to make decisions on their behalf. This is the most common form today.\n",
      "    *   **Examples:** Most modern nations (USA, UK, India\n",
      ", Germany, etc.).\n",
      "    *   **Pros:** Practical for large populations, allows for informed decision-making by elected experts, can protect minority rights.\n",
      "    *   **Cons:** Can lead to a disconnect between representatives and constituents, risk of special interests influencing policy.\n",
      "\n",
      "    Within representative democracies, there are further distinctions:\n",
      "\n",
      "    *   **Parliamentary Democracy:** The executive branch (Prime Minister and cabinet) derives its legitimacy from, and is accountable to, the legislative branch (Parliament). (e.g., UK, Canada, India, Germany).\n",
      "    *   **Presidential Democracy:** The executive (President) is elected independently of\n",
      " the legislative branch, and both branches have separate powers. (e.g., USA, Brazil, Mexico).\n",
      "    *   **Semi-Presidential Democracy:** A hybrid system with both a President (head of state) and a Prime Minister (head of government) who share executive power. (e.g.,\n",
      " France, Russia).\n",
      "\n",
      "---\n",
      "\n",
      "### **Historical Evolution**\n",
      "\n",
      "*   **Ancient Roots:** Concepts of popular rule can be traced back to Ancient Athens (direct democracy for male citizens) and the Roman Republic (representative elements).\n",
      "*   **Enlightenment Influence:** Key philosophers like John Locke, Jean-Jacques Rousseau, and Montes\n",
      "quieu laid theoretical groundwork for modern democratic principles (natural rights, social contract, separation of powers).\n",
      "*   **Revolutions:** The American Revolution (1776) and the French Revolution (1789) were pivotal in establishing the first modern democratic states, albeit with limited suffrage initially.\n",
      "*   **\n",
      "Waves of Democratization:** The 19th and 20th centuries saw gradual expansion of suffrage, and after WWII and the end of the Cold War, significant \"waves\" of democratization occurred across the globe.\n",
      "\n",
      "---\n",
      "\n",
      "### **Advantages of Democracy**\n",
      "\n",
      "*   **Legitimacy:** Government is based\n",
      " on the consent of the governed.\n",
      "*   **Stability:** Provides peaceful mechanisms for power transfer and conflict resolution.\n",
      "*   **Protection of Rights:** Designed to safeguard individual liberties.\n",
      "*   **Accountability:** Leaders are accountable to the people and can be removed through elections.\n",
      "*   **Flexibility:** Can\n",
      " adapt to changing societal needs through peaceful reforms.\n",
      "*   **Promotes Human Dignity:** Values the individual and their participation.\n",
      "\n",
      "---\n",
      "\n",
      "### **Challenges and Criticisms of Democracy**\n",
      "\n",
      "*   **Inefficiency/Slow Decision-Making:** Deliberation and consensus-building can be time-consuming.\n",
      "*   \n",
      "**Voter Apathy:** Low participation rates can undermine legitimacy.\n",
      "*   **Tyranny of the Majority:** The risk that the majority can impose its will on a minority without considering their rights or interests.\n",
      "*   **Influence of Money:** Campaign financing and lobbying can disproportionately influence policies.\n",
      "*   **Polar\n",
      "ization:** Political systems can become highly divided, hindering compromise.\n",
      "*   **Misinformation and Populism:** The spread of false information and the rise of leaders who appeal to popular prejudices can threaten democratic institutions.\n",
      "*   **Short-Termism:** Elected officials may prioritize short-term gains (electoral cycles) over long-term planning\n",
      ".\n",
      "\n",
      "---\n",
      "\n",
      "Democracy is not a perfect system, and it requires constant vigilance, active citizen participation, and strong institutions to thrive. It remains, however, the most widely adopted and aspired-to form of government, largely due to its foundational commitment to human rights, freedom, and the idea that legitimate power ultimately\n",
      " resides with the people.\n"
     ]
    }
   ],
   "source": [
    "# async\n",
    "async for chunk in llm.astream(messages):\n",
    "    if chunk.content:\n",
    "        print(chunk.content)"
   ]
  },
  {
   "cell_type": "code",
   "execution_count": 18,
   "id": "879813d0",
   "metadata": {},
   "outputs": [],
   "source": [
    "from typing import TypedDict\n",
    "class MyState(TypedDict):\n",
    "    message: str"
   ]
  },
  {
   "cell_type": "code",
   "execution_count": 20,
   "id": "962ae28b",
   "metadata": {},
   "outputs": [],
   "source": [
    "from time import sleep\n",
    "def node_1(state: MyState) -> MyState:\n",
    "    state['message'] = \"Im in node 1\"\n",
    "    sleep(2)\n",
    "    return state\n",
    "\n",
    "def node_2(state: MyState) -> MyState:\n",
    "    state['message'] = \"Im in node 2\"\n",
    "    sleep(2)\n",
    "    return state\n",
    "\n",
    "def node_3(state: MyState) -> MyState:\n",
    "    state['message'] = \"Im in node 3\"\n",
    "    sleep(2)\n",
    "    return state\n",
    "\n",
    "def node_4(state: MyState) -> MyState:\n",
    "    state['message'] = \"Im in node 4\"\n",
    "    sleep(2)\n",
    "    return state\n",
    "\n",
    "def node_5(state: MyState) -> MyState:\n",
    "    state['message'] = \"Im in node 5\"\n",
    "    sleep(2)\n",
    "    return state"
   ]
  },
  {
   "cell_type": "code",
   "execution_count": 23,
   "id": "6bb2bfe5",
   "metadata": {},
   "outputs": [],
   "source": [
    "my_graph_builder = StateGraph(MyState)\n",
    "my_graph_builder.add_node(\"node1\", node_1)\n",
    "my_graph_builder.add_node(\"node2\", node_2)\n",
    "my_graph_builder.add_node(\"node3\", node_3)\n",
    "my_graph_builder.add_node(\"node4\", node_4)\n",
    "my_graph_builder.add_node(\"node5\", node_5)\n",
    "my_graph_builder.set_entry_point(\"node1\")\n",
    "my_graph_builder.set_finish_point(\"node5\")\n",
    "my_graph_builder.add_edge(\"node1\", \"node2\")\n",
    "my_graph_builder.add_edge(\"node2\", \"node3\")\n",
    "my_graph_builder.add_edge(\"node3\", \"node4\")\n",
    "my_graph_builder.add_edge(\"node4\", \"node5\")\n",
    "my_graph = my_graph_builder.compile()"
   ]
  },
  {
   "cell_type": "code",
   "execution_count": 24,
   "id": "e5b731a5",
   "metadata": {},
   "outputs": [
    {
     "data": {
      "image/png": "[encoded data removed]",
      "text/plain": [
       "<IPython.core.display.Image object>"
      ]
     },
     "metadata": {},
     "output_type": "display_data"
    }
   ],
   "source": [
    "from utils import draw_graph\n",
    "draw_graph(my_graph)"
   ]
  },
  {
   "cell_type": "code",
   "execution_count": 29,
   "id": "fc075135",
   "metadata": {},
   "outputs": [
    {
     "name": "stdout",
     "output_type": "stream",
     "text": [
      "{'node1': {'message': 'Im in node 1'}}\n",
      "{'node2': {'message': 'Im in node 2'}}\n",
      "{'node3': {'message': 'Im in node 3'}}\n",
      "{'node4': {'message': 'Im in node 4'}}\n",
      "{'node5': {'message': 'Im in node 5'}}\n"
     ]
    }
   ],
   "source": [
    "for chunk in my_graph.stream({\"message\": \"\"}, stream_mode=\"updates\"):\n",
    "    print(chunk)"
   ]
  },
  {
   "cell_type": "code",
   "execution_count": 28,
   "id": "31fc49f6",
   "metadata": {},
   "outputs": [
    {
     "name": "stdout",
     "output_type": "stream",
     "text": [
      "{'type': 'task', 'timestamp': '2025-06-13T04:51:40.806682+00:00', 'step': 1, 'payload': {'id': '8e251852-6168-729d-c06a-5befb14c4fc5', 'name': 'node1', 'input': {'message': ''}, 'triggers': ('branch:to:node1',)}}\n",
      "{'type': 'task_result', 'timestamp': '2025-06-13T04:51:42.810797+00:00', 'step': 1, 'payload': {'id': '8e251852-6168-729d-c06a-5befb14c4fc5', 'name': 'node1', 'error': None, 'result': [('message', 'Im in node 1')], 'interrupts': []}}\n",
      "{'type': 'task', 'timestamp': '2025-06-13T04:51:42.810797+00:00', 'step': 2, 'payload': {'id': 'a2e26406-ead0-080b-9dac-fe7063b0e8f7', 'name': 'node2', 'input': {'message': 'Im in node 1'}, 'triggers': ('branch:to:node2',)}}\n",
      "{'type': 'task_result', 'timestamp': '2025-06-13T04:51:44.814856+00:00', 'step': 2, 'payload': {'id': 'a2e26406-ead0-080b-9dac-fe7063b0e8f7', 'name': 'node2', 'error': None, 'result': [('message', 'Im in node 2')], 'interrupts': []}}\n",
      "{'type': 'task', 'timestamp': '2025-06-13T04:51:44.814856+00:00', 'step': 3, 'payload': {'id': '8b99479d-2e0b-a92c-3417-02fcafa179d9', 'name': 'node3', 'input': {'message': 'Im in node 2'}, 'triggers': ('branch:to:node3',)}}\n",
      "{'type': 'task_result', 'timestamp': '2025-06-13T04:51:46.819670+00:00', 'step': 3, 'payload': {'id': '8b99479d-2e0b-a92c-3417-02fcafa179d9', 'name': 'node3', 'error': None, 'result': [('message', 'Im in node 3')], 'interrupts': []}}\n",
      "{'type': 'task', 'timestamp': '2025-06-13T04:51:46.820686+00:00', 'step': 4, 'payload': {'id': 'dc7576a3-ffdf-52a4-c24c-1a60bd4cdad1', 'name': 'node4', 'input': {'message': 'Im in node 3'}, 'triggers': ('branch:to:node4',)}}\n",
      "{'type': 'task_result', 'timestamp': '2025-06-13T04:51:48.823566+00:00', 'step': 4, 'payload': {'id': 'dc7576a3-ffdf-52a4-c24c-1a60bd4cdad1', 'name': 'node4', 'error': None, 'result': [('message', 'Im in node 4')], 'interrupts': []}}\n",
      "{'type': 'task', 'timestamp': '2025-06-13T04:51:48.823566+00:00', 'step': 5, 'payload': {'id': 'e6ba152c-63f2-dfd0-a05f-e9054f901112', 'name': 'node5', 'input': {'message': 'Im in node 4'}, 'triggers': ('branch:to:node5',)}}\n",
      "{'type': 'task_result', 'timestamp': '2025-06-13T04:51:50.826226+00:00', 'step': 5, 'payload': {'id': 'e6ba152c-63f2-dfd0-a05f-e9054f901112', 'name': 'node5', 'error': None, 'result': [('message', 'Im in node 5')], 'interrupts': []}}\n"
     ]
    }
   ],
   "source": [
    "for chunk in my_graph.stream({\"message\": \"\"}, stream_mode=\"debug\"):\n",
    "    print(chunk)"
   ]
  }
 ],
 "metadata": {
  "kernelspec": {
   "display_name": ".venv",
   "language": "python",
   "name": "python3"
  },
  "language_info": {
   "codemirror_mode": {
    "name": "ipython",
    "version": 3
   },
   "file_extension": ".py",
   "mimetype": "text/x-python",
   "name": "python",
   "nbconvert_exporter": "python",
   "pygments_lexer": "ipython3",
   "version": "3.11.9"
  }
 },
 "nbformat": 4,
 "nbformat_minor": 5
}
