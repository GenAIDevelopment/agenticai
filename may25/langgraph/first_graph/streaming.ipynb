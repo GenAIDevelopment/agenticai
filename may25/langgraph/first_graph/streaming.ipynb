{
 "cells": [
  {
   "cell_type": "code",
   "execution_count": 6,
   "id": "fdaecd9d",
   "metadata": {},
   "outputs": [],
   "source": [
    "from langgraph.graph import StateGraph, START, END, MessagesState"
   ]
  },
  {
   "cell_type": "code",
   "execution_count": 7,
   "id": "e98bdfed",
   "metadata": {},
   "outputs": [],
   "source": [
    "from langchain.chat_models import init_chat_model"
   ]
  },
  {
   "cell_type": "code",
   "execution_count": 8,
   "id": "aa407c5a",
   "metadata": {},
   "outputs": [],
   "source": [
    "model_id=\"gemini-2.5-flash-preview-05-20\"\n",
    "llm = init_chat_model(model=model_id,  model_provider=\"google_vertexai\")"
   ]
  },
  {
   "cell_type": "code",
   "execution_count": 22,
   "id": "48079b69",
   "metadata": {},
   "outputs": [],
   "source": [
    "from langchain_core.runnables import RunnableConfig\n",
    "config = RunnableConfig()\n",
    "def call_model(state: MessagesState) -> MessagesState:\n",
    "    state['messages'] = llm.invoke(input = state['messages'],config=config)\n",
    "    return state"
   ]
  },
  {
   "cell_type": "code",
   "execution_count": 23,
   "id": "51d9825d",
   "metadata": {},
   "outputs": [],
   "source": [
    "graph_builder = StateGraph(MessagesState)\n",
    "graph_builder.add_node(\"llm\", call_model)\n",
    "graph_builder.add_edge(START, \"llm\")\n",
    "graph_builder.add_edge(\"llm\", END)\n",
    "graph = graph_builder.compile()"
   ]
  },
  {
   "cell_type": "code",
   "execution_count": 24,
   "id": "cc33ecfb",
   "metadata": {},
   "outputs": [
    {
     "data": {
      "image/png": "[encoded data removed]",
      "text/plain": [
       "<IPython.core.display.Image object>"
      ]
     },
     "metadata": {},
     "output_type": "display_data"
    }
   ],
   "source": [
    "from utils import draw_graph\n",
    "draw_graph(graph)"
   ]
  },
  {
   "cell_type": "code",
   "execution_count": 25,
   "id": "b113ab95",
   "metadata": {},
   "outputs": [],
   "source": [
    "from langchain_core.messages import SystemMessage, HumanMessage\n",
    "\n",
    "messages = [\n",
    "    SystemMessage(\"You are an helpful assistant\"),\n",
    "    HumanMessage(\"I would like to know about democracy\")\n",
    "\n",
    "]\n",
    "result = graph.invoke({\"messages\": messages})"
   ]
  },
  {
   "cell_type": "code",
   "execution_count": 26,
   "id": "693331f0",
   "metadata": {},
   "outputs": [
    {
     "data": {
      "text/plain": [
       "[SystemMessage(content='You are an helpful assistant', additional_kwargs={}, response_metadata={}, id='47564907-c12c-4c6c-a0a1-8e01bee178de'),\n",
       " HumanMessage(content='I would like to know about democracy', additional_kwargs={}, response_metadata={}, id='e94a7b53-c806-4fed-99c5-93062b7212e7'),\n",
       " AIMessage(content='Democracy is a fascinating and complex concept, often described as a system of government where the **people hold the power**. It\\'s derived from the Greek words \"demos\" (people) and \"kratos\" (rule), literally meaning \"rule by the people.\"\\n\\nHere\\'s a breakdown of its key aspects:\\n\\n## Core Principles of Democracy:\\n\\n1.  **Popular Sovereignty:** The ultimate source of authority is the will of the people. Government legitimacy comes from the consent of the governed.\\n2.  **Equality:** All citizens are equal before the law, regardless of race, religion, gender, or social status. It also implies equal opportunity (though often an ideal rather than a reality).\\n3.  **Liberty/Freedom:** Citizens enjoy fundamental freedoms such as freedom of speech, assembly, press, religion, and the right to privacy. These rights are often protected by a constitution.\\n4.  **Participation:** Citizens have the right and opportunity to participate in the political process, primarily through voting, but also through civil society engagement, protests, and public debate.\\n5.  **Rule of Law:** Everyone, including those in power, is subject to the law, which is applied equally and justly. Laws are transparent, publicly promulgated, and enforced.\\n6.  **Accountability and Transparency:** Government officials are accountable to the people, and government processes should be transparent and open to public scrutiny.\\n7.  **Protection of Human Rights:** Democracies typically uphold and protect a wide range of human rights, ensuring the dignity and well-being of individuals.\\n\\n## Historical Roots:\\n\\n*   **Ancient Greece (Athens):** Often cited as the birthplace of democracy, particularly direct democracy where citizens directly participated in decision-making assemblies (though citizenship was limited).\\n*   **Roman Republic:** Introduced concepts of elected representatives and a system of checks and balances.\\n*   **Magna Carta (1215):** Limited the power of the English monarch, laying groundwork for constitutionalism.\\n*   **The Enlightenment (17th-18th Centuries):** Philosophers like John Locke, Jean-Jacques Rousseau, and Montesquieu developed ideas of natural rights, social contracts, and the separation of powers, which heavily influenced modern democratic thought.\\n*   **American and French Revolutions:** Led to the establishment of modern democratic republics based on popular sovereignty and individual rights.\\n\\n## Types of Democracy:\\n\\nWhile the core principles remain, democracies can operate in different ways:\\n\\n1.  **Direct Democracy:** Citizens vote directly on laws and policies. This is rare in modern nation-states due to practical limitations, but aspects exist in some local governments or through referendums/initiatives.\\n2.  **Representative Democracy (Republic):** Citizens elect representatives to make decisions on their behalf. This is the most common form of democracy today.\\n    *   **Parliamentary System:** The executive (Prime Minister and cabinet) is chosen from the legislature (parliament) and is accountable to it (e.g., UK, Canada, Germany).\\n    *   **Presidential System:** The executive (President) is elected independently of the legislature and serves a fixed term (e.g., USA, Brazil, Mexico).\\n    *   **Constitutional Monarchy:** A monarch serves as head of state, but political power rests with elected representatives (e.g., Japan, Sweden).\\n\\n## How Democracy Works (Key Mechanisms):\\n\\n*   **Free and Fair Elections:** Regular elections where citizens can choose their representatives from multiple political parties, without intimidation or fraud. Universal suffrage (the right to vote for all adult citizens) is a cornerstone.\\n*   **Political Parties:** Organizations that represent different ideologies and compete for political power. They help organize public opinion and provide choices for voters.\\n*   **Constitutions:** Written documents that define the structure of government, enumerate rights, and limit governmental power.\\n*   **Separation of Powers:** Dividing governmental authority into distinct branches (legislative, executive, judicial) to prevent the concentration of power and ensure checks and balances.\\n*   **Independent Judiciary:** A court system that is impartial and can interpret laws, protect rights, and ensure the government acts within its constitutional limits.\\n*   **Free Press/Media:** An independent media acts as a watchdog, informing the public and holding power accountable.\\n*   **Civil Society:** Non-governmental organizations, advocacy groups, and active citizens who participate in public life, express opinions, and influence policy.\\n\\n## Benefits of Democracy:\\n\\n*   **Legitimacy:** Government gains its authority from the consent of the people, making it more stable and accepted.\\n*   **Protection of Rights:** Designed to safeguard individual liberties and minority rights.\\n*   **Peaceful Transfer of Power:** Elections provide a regular and non-violent mechanism for changing leadership.\\n*   **Adaptability:** Can evolve and respond to changing societal needs through public debate and legislative processes.\\n*   **Innovation:** Fosters open discussion and diverse ideas, potentially leading to better policy solutions.\\n*   **Accountability:** Leaders are more likely to act responsibly if they know they will be held accountable by voters.\\n\\n## Challenges and Criticisms of Democracy:\\n\\n*   **Slow Decision-Making:** Deliberation, debate, and consensus-building can be time-consuming.\\n*   **Tyranny of the Majority:** The concern that the majority\\'s will might oppress the rights or interests of minority groups.\\n*   **Voter Apathy:** Low voter turnout or lack of engagement can undermine the legitimacy of the system.\\n*   **Polarization:** Political divisions can become entrenched, making compromise difficult.\\n*   **Misinformation/Disinformation:** The spread of false information can manipulate public opinion and undermine rational debate.\\n*   **Influence of Money/Lobbying:** Wealthy individuals or groups can exert undue influence on political processes.\\n*   **Economic Inequality:** Significant wealth disparities can undermine political equality, as economic power can translate into political power.\\n\\nIn essence, democracy is not a perfect system, but it is widely regarded as the most effective form of government for upholding human dignity, protecting rights, and providing a framework for peaceful societal evolution. It requires constant vigilance, active participation, and a commitment to its core principles to function effectively.', additional_kwargs={}, response_metadata={'is_blocked': False, 'safety_ratings': [], 'citation_metadata': {'citations': [{'start_index': 9547, 'end_index': 9688, 'uri': '', 'title': '', 'license_': ''}, {'start_index': 9603, 'end_index': 9727, 'uri': '', 'title': '', 'license_': ''}]}, 'usage_metadata': {'prompt_token_count': 12, 'candidates_token_count': 1296, 'total_token_count': 2637, 'prompt_tokens_details': [{'modality': 1, 'token_count': 12}], 'candidates_tokens_details': [{'modality': 1, 'token_count': 1296}], 'thoughts_token_count': 1329, 'cached_content_token_count': 0, 'cache_tokens_details': []}, 'finish_reason': 'STOP', 'avg_logprobs': -0.5711901629412616, 'model_name': 'gemini-2.5-flash-preview-05-20'}, id='run--8fa87cb5-e7fc-45ff-b89d-ae467e604065-0', usage_metadata={'input_tokens': 12, 'output_tokens': 1296, 'total_tokens': 2637, 'output_token_details': {'reasoning': 1329}})]"
      ]
     },
     "execution_count": 26,
     "metadata": {},
     "output_type": "execute_result"
    }
   ],
   "source": [
    "result['messages']"
   ]
  },
  {
   "cell_type": "code",
   "execution_count": 27,
   "id": "46c3e3db",
   "metadata": {},
   "outputs": [
    {
     "name": "stdout",
     "output_type": "stream",
     "text": [
      "================================\u001b[1m System Message \u001b[0m================================\n",
      "\n",
      "You are an helpful assistant\n",
      "================================\u001b[1m Human Message \u001b[0m=================================\n",
      "\n",
      "I would like to know about democracy\n",
      "==================================\u001b[1m Ai Message \u001b[0m==================================\n",
      "\n",
      "Democracy is a fascinating and complex concept, often described as a system of government where the **people hold the power**. It's derived from the Greek words \"demos\" (people) and \"kratos\" (rule), literally meaning \"rule by the people.\"\n",
      "\n",
      "Here's a breakdown of its key aspects:\n",
      "\n",
      "## Core Principles of Democracy:\n",
      "\n",
      "1.  **Popular Sovereignty:** The ultimate source of authority is the will of the people. Government legitimacy comes from the consent of the governed.\n",
      "2.  **Equality:** All citizens are equal before the law, regardless of race, religion, gender, or social status. It also implies equal opportunity (though often an ideal rather than a reality).\n",
      "3.  **Liberty/Freedom:** Citizens enjoy fundamental freedoms such as freedom of speech, assembly, press, religion, and the right to privacy. These rights are often protected by a constitution.\n",
      "4.  **Participation:** Citizens have the right and opportunity to participate in the political process, primarily through voting, but also through civil society engagement, protests, and public debate.\n",
      "5.  **Rule of Law:** Everyone, including those in power, is subject to the law, which is applied equally and justly. Laws are transparent, publicly promulgated, and enforced.\n",
      "6.  **Accountability and Transparency:** Government officials are accountable to the people, and government processes should be transparent and open to public scrutiny.\n",
      "7.  **Protection of Human Rights:** Democracies typically uphold and protect a wide range of human rights, ensuring the dignity and well-being of individuals.\n",
      "\n",
      "## Historical Roots:\n",
      "\n",
      "*   **Ancient Greece (Athens):** Often cited as the birthplace of democracy, particularly direct democracy where citizens directly participated in decision-making assemblies (though citizenship was limited).\n",
      "*   **Roman Republic:** Introduced concepts of elected representatives and a system of checks and balances.\n",
      "*   **Magna Carta (1215):** Limited the power of the English monarch, laying groundwork for constitutionalism.\n",
      "*   **The Enlightenment (17th-18th Centuries):** Philosophers like John Locke, Jean-Jacques Rousseau, and Montesquieu developed ideas of natural rights, social contracts, and the separation of powers, which heavily influenced modern democratic thought.\n",
      "*   **American and French Revolutions:** Led to the establishment of modern democratic republics based on popular sovereignty and individual rights.\n",
      "\n",
      "## Types of Democracy:\n",
      "\n",
      "While the core principles remain, democracies can operate in different ways:\n",
      "\n",
      "1.  **Direct Democracy:** Citizens vote directly on laws and policies. This is rare in modern nation-states due to practical limitations, but aspects exist in some local governments or through referendums/initiatives.\n",
      "2.  **Representative Democracy (Republic):** Citizens elect representatives to make decisions on their behalf. This is the most common form of democracy today.\n",
      "    *   **Parliamentary System:** The executive (Prime Minister and cabinet) is chosen from the legislature (parliament) and is accountable to it (e.g., UK, Canada, Germany).\n",
      "    *   **Presidential System:** The executive (President) is elected independently of the legislature and serves a fixed term (e.g., USA, Brazil, Mexico).\n",
      "    *   **Constitutional Monarchy:** A monarch serves as head of state, but political power rests with elected representatives (e.g., Japan, Sweden).\n",
      "\n",
      "## How Democracy Works (Key Mechanisms):\n",
      "\n",
      "*   **Free and Fair Elections:** Regular elections where citizens can choose their representatives from multiple political parties, without intimidation or fraud. Universal suffrage (the right to vote for all adult citizens) is a cornerstone.\n",
      "*   **Political Parties:** Organizations that represent different ideologies and compete for political power. They help organize public opinion and provide choices for voters.\n",
      "*   **Constitutions:** Written documents that define the structure of government, enumerate rights, and limit governmental power.\n",
      "*   **Separation of Powers:** Dividing governmental authority into distinct branches (legislative, executive, judicial) to prevent the concentration of power and ensure checks and balances.\n",
      "*   **Independent Judiciary:** A court system that is impartial and can interpret laws, protect rights, and ensure the government acts within its constitutional limits.\n",
      "*   **Free Press/Media:** An independent media acts as a watchdog, informing the public and holding power accountable.\n",
      "*   **Civil Society:** Non-governmental organizations, advocacy groups, and active citizens who participate in public life, express opinions, and influence policy.\n",
      "\n",
      "## Benefits of Democracy:\n",
      "\n",
      "*   **Legitimacy:** Government gains its authority from the consent of the people, making it more stable and accepted.\n",
      "*   **Protection of Rights:** Designed to safeguard individual liberties and minority rights.\n",
      "*   **Peaceful Transfer of Power:** Elections provide a regular and non-violent mechanism for changing leadership.\n",
      "*   **Adaptability:** Can evolve and respond to changing societal needs through public debate and legislative processes.\n",
      "*   **Innovation:** Fosters open discussion and diverse ideas, potentially leading to better policy solutions.\n",
      "*   **Accountability:** Leaders are more likely to act responsibly if they know they will be held accountable by voters.\n",
      "\n",
      "## Challenges and Criticisms of Democracy:\n",
      "\n",
      "*   **Slow Decision-Making:** Deliberation, debate, and consensus-building can be time-consuming.\n",
      "*   **Tyranny of the Majority:** The concern that the majority's will might oppress the rights or interests of minority groups.\n",
      "*   **Voter Apathy:** Low voter turnout or lack of engagement can undermine the legitimacy of the system.\n",
      "*   **Polarization:** Political divisions can become entrenched, making compromise difficult.\n",
      "*   **Misinformation/Disinformation:** The spread of false information can manipulate public opinion and undermine rational debate.\n",
      "*   **Influence of Money/Lobbying:** Wealthy individuals or groups can exert undue influence on political processes.\n",
      "*   **Economic Inequality:** Significant wealth disparities can undermine political equality, as economic power can translate into political power.\n",
      "\n",
      "In essence, democracy is not a perfect system, but it is widely regarded as the most effective form of government for upholding human dignity, protecting rights, and providing a framework for peaceful societal evolution. It requires constant vigilance, active participation, and a commitment to its core principles to function effectively.\n"
     ]
    }
   ],
   "source": [
    "for message in result['messages']:\n",
    "    message.pretty_print()"
   ]
  },
  {
   "cell_type": "code",
   "execution_count": 28,
   "id": "d6f305f7",
   "metadata": {},
   "outputs": [
    {
     "data": {
      "text/markdown": [
       "Democracy is a fascinating and complex concept, often described as a system of government where the **people hold the power**. It's derived from the Greek words \"demos\" (people) and \"kratos\" (rule), literally meaning \"rule by the people.\"\n",
       "\n",
       "Here's a breakdown of its key aspects:\n",
       "\n",
       "## Core Principles of Democracy:\n",
       "\n",
       "1.  **Popular Sovereignty:** The ultimate source of authority is the will of the people. Government legitimacy comes from the consent of the governed.\n",
       "2.  **Equality:** All citizens are equal before the law, regardless of race, religion, gender, or social status. It also implies equal opportunity (though often an ideal rather than a reality).\n",
       "3.  **Liberty/Freedom:** Citizens enjoy fundamental freedoms such as freedom of speech, assembly, press, religion, and the right to privacy. These rights are often protected by a constitution.\n",
       "4.  **Participation:** Citizens have the right and opportunity to participate in the political process, primarily through voting, but also through civil society engagement, protests, and public debate.\n",
       "5.  **Rule of Law:** Everyone, including those in power, is subject to the law, which is applied equally and justly. Laws are transparent, publicly promulgated, and enforced.\n",
       "6.  **Accountability and Transparency:** Government officials are accountable to the people, and government processes should be transparent and open to public scrutiny.\n",
       "7.  **Protection of Human Rights:** Democracies typically uphold and protect a wide range of human rights, ensuring the dignity and well-being of individuals.\n",
       "\n",
       "## Historical Roots:\n",
       "\n",
       "*   **Ancient Greece (Athens):** Often cited as the birthplace of democracy, particularly direct democracy where citizens directly participated in decision-making assemblies (though citizenship was limited).\n",
       "*   **Roman Republic:** Introduced concepts of elected representatives and a system of checks and balances.\n",
       "*   **Magna Carta (1215):** Limited the power of the English monarch, laying groundwork for constitutionalism.\n",
       "*   **The Enlightenment (17th-18th Centuries):** Philosophers like John Locke, Jean-Jacques Rousseau, and Montesquieu developed ideas of natural rights, social contracts, and the separation of powers, which heavily influenced modern democratic thought.\n",
       "*   **American and French Revolutions:** Led to the establishment of modern democratic republics based on popular sovereignty and individual rights.\n",
       "\n",
       "## Types of Democracy:\n",
       "\n",
       "While the core principles remain, democracies can operate in different ways:\n",
       "\n",
       "1.  **Direct Democracy:** Citizens vote directly on laws and policies. This is rare in modern nation-states due to practical limitations, but aspects exist in some local governments or through referendums/initiatives.\n",
       "2.  **Representative Democracy (Republic):** Citizens elect representatives to make decisions on their behalf. This is the most common form of democracy today.\n",
       "    *   **Parliamentary System:** The executive (Prime Minister and cabinet) is chosen from the legislature (parliament) and is accountable to it (e.g., UK, Canada, Germany).\n",
       "    *   **Presidential System:** The executive (President) is elected independently of the legislature and serves a fixed term (e.g., USA, Brazil, Mexico).\n",
       "    *   **Constitutional Monarchy:** A monarch serves as head of state, but political power rests with elected representatives (e.g., Japan, Sweden).\n",
       "\n",
       "## How Democracy Works (Key Mechanisms):\n",
       "\n",
       "*   **Free and Fair Elections:** Regular elections where citizens can choose their representatives from multiple political parties, without intimidation or fraud. Universal suffrage (the right to vote for all adult citizens) is a cornerstone.\n",
       "*   **Political Parties:** Organizations that represent different ideologies and compete for political power. They help organize public opinion and provide choices for voters.\n",
       "*   **Constitutions:** Written documents that define the structure of government, enumerate rights, and limit governmental power.\n",
       "*   **Separation of Powers:** Dividing governmental authority into distinct branches (legislative, executive, judicial) to prevent the concentration of power and ensure checks and balances.\n",
       "*   **Independent Judiciary:** A court system that is impartial and can interpret laws, protect rights, and ensure the government acts within its constitutional limits.\n",
       "*   **Free Press/Media:** An independent media acts as a watchdog, informing the public and holding power accountable.\n",
       "*   **Civil Society:** Non-governmental organizations, advocacy groups, and active citizens who participate in public life, express opinions, and influence policy.\n",
       "\n",
       "## Benefits of Democracy:\n",
       "\n",
       "*   **Legitimacy:** Government gains its authority from the consent of the people, making it more stable and accepted.\n",
       "*   **Protection of Rights:** Designed to safeguard individual liberties and minority rights.\n",
       "*   **Peaceful Transfer of Power:** Elections provide a regular and non-violent mechanism for changing leadership.\n",
       "*   **Adaptability:** Can evolve and respond to changing societal needs through public debate and legislative processes.\n",
       "*   **Innovation:** Fosters open discussion and diverse ideas, potentially leading to better policy solutions.\n",
       "*   **Accountability:** Leaders are more likely to act responsibly if they know they will be held accountable by voters.\n",
       "\n",
       "## Challenges and Criticisms of Democracy:\n",
       "\n",
       "*   **Slow Decision-Making:** Deliberation, debate, and consensus-building can be time-consuming.\n",
       "*   **Tyranny of the Majority:** The concern that the majority's will might oppress the rights or interests of minority groups.\n",
       "*   **Voter Apathy:** Low voter turnout or lack of engagement can undermine the legitimacy of the system.\n",
       "*   **Polarization:** Political divisions can become entrenched, making compromise difficult.\n",
       "*   **Misinformation/Disinformation:** The spread of false information can manipulate public opinion and undermine rational debate.\n",
       "*   **Influence of Money/Lobbying:** Wealthy individuals or groups can exert undue influence on political processes.\n",
       "*   **Economic Inequality:** Significant wealth disparities can undermine political equality, as economic power can translate into political power.\n",
       "\n",
       "In essence, democracy is not a perfect system, but it is widely regarded as the most effective form of government for upholding human dignity, protecting rights, and providing a framework for peaceful societal evolution. It requires constant vigilance, active participation, and a commitment to its core principles to function effectively."
      ],
      "text/plain": [
       "<IPython.core.display.Markdown object>"
      ]
     },
     "execution_count": 28,
     "metadata": {},
     "output_type": "execute_result"
    }
   ],
   "source": [
    "from IPython.display import Markdown\n",
    "Markdown(result['messages'][-1].content)"
   ]
  },
  {
   "cell_type": "code",
   "execution_count": 29,
   "id": "6f53e368",
   "metadata": {},
   "outputs": [],
   "source": [
    "from langchain_core.messages import SystemMessage, HumanMessage\n",
    "messages = [\n",
    "    SystemMessage(\"You are an helpful assistant\"),\n",
    "    HumanMessage(\"I would like to know about democracy\")\n",
    "\n",
    "]\n",
    "\n"
   ]
  },
  {
   "cell_type": "code",
   "execution_count": 30,
   "id": "6eb60056",
   "metadata": {},
   "outputs": [
    {
     "name": "stdout",
     "output_type": "stream",
     "text": [
      "{'llm': {'messages': AIMessage(content='Democracy, at its heart, is a system of government where **power is vested in the people**, who either rule directly or through elected representatives. The word \"democracy\" itself comes from the Greek words *demos* (people) and *kratos* (power or rule), literally meaning \"rule by the people.\"\\n\\nHere\\'s a breakdown of its key aspects:\\n\\n---\\n\\n### **Core Principles of Democracy**\\n\\nWhile there are variations, most democratic systems share several fundamental principles:\\n\\n1.  **Popular Sovereignty:** The ultimate authority rests with the people. Governments derive their legitimacy from the consent of the governed.\\n2.  **Equality:** All citizens are equal before the law, with equal rights and responsibilities, regardless of their background, gender, race, religion, or economic status.\\n3.  **Liberty/Rights:** Protection of fundamental human rights and freedoms, such as freedom of speech, assembly, religion, and the press.\\n4.  **Rule of Law:** No one is above the law, including those in power. Laws are applied equally and fairly, and there is an independent judiciary to uphold them.\\n5.  **Free and Fair Elections:** Citizens have the right to choose their representatives through regular, competitive, secret ballot elections where votes are counted accurately and transparently.\\n6.  **Accountability and Transparency:** Government officials are accountable to the people and their actions are subject to public scrutiny.\\n7.  **Separation of Powers:** Power is typically divided among different branches of government (e.g., legislative, executive, judicial) to prevent the concentration of power and provide checks and balances.\\n8.  **Pluralism and Tolerance:** A healthy democracy accommodates and respects diverse viewpoints, opinions, and minority rights.\\n9.  **Citizen Participation:** Active engagement of citizens in civic life, beyond just voting, through civil society organizations, protests, and public discourse.\\n\\n---\\n\\n### **Types of Democracy**\\n\\nThere are two main forms of democracy:\\n\\n1.  **Direct Democracy:**\\n    *   Citizens directly participate in decision-making processes.\\n    *   Examples include referendums, initiatives, and recalls, where citizens vote directly on laws or policies.\\n    *   Historically, this was practiced in ancient Athens (though limited to male citizens) and is still seen in some smaller communities or cantons in Switzerland.\\n    *   **Pros:** Pure form of popular rule, fosters direct civic engagement.\\n    *   **Cons:** Impractical for large, complex societies; can lead to \"tyranny of the majority\" if minority rights aren\\'t protected.\\n\\n2.  **Representative Democracy (Republic):**\\n    *   Citizens elect representatives to make decisions on their behalf. This is the most common form of democracy today.\\n    *   **Sub-types within Representative Democracy:**\\n        *   **Parliamentary Democracy:** The executive branch (Prime Minister and Cabinet) is drawn from and accountable to the legislative branch (parliament). Examples: United Kingdom, Canada, Germany, India.\\n        *   **Presidential Democracy:** The executive branch (President) is elected independently of the legislative branch and is not directly accountable to it. Examples: United States, Brazil, Mexico.\\n        *   **Semi-Presidential Democracy:** Combines elements of both, with a directly elected president and a prime minister who is accountable to the legislature. Examples: France, Russia.\\n\\n---\\n\\n### **Historical Context**\\n\\n*   **Ancient Roots:** The concept of democracy originated in ancient Athens around the 5th century BCE, though its form was different (direct, limited to adult male citizens).\\n*   **Decline and Resurgence:** After the fall of the Roman Republic, democratic ideals largely faded for centuries, replaced by monarchies and empires.\\n*   **Enlightenment and Modern Era:** The Enlightenment thinkers of the 17th and 18th centuries (Locke, Rousseau, Montesquieu) reignited democratic thought, emphasizing individual rights, popular sovereignty, and the separation of powers. This led to democratic revolutions in the US and France, laying the groundwork for modern representative democracies.\\n*   **20th Century Expansion:** Democracy saw significant expansion after World War I and especially after World War II, as colonial empires dissolved and many new nations adopted democratic constitutions. The end of the Cold War further accelerated this trend.\\n\\n---\\n\\n### **Advantages of Democracy**\\n\\n*   **Protects Human Rights:** Tends to safeguard individual freedoms and minority rights more effectively than authoritarian regimes.\\n*   **Promotes Stability and Peaceful Change:** Provides mechanisms for orderly transitions of power through elections, reducing the likelihood of violent overthrow.\\n*   **Increases Legitimacy:** Governments elected by the people are generally seen as more legitimate, fostering greater public support.\\n*   **Encourages Citizen Participation:** Gives people a voice in their governance, fostering a sense of ownership and responsibility.\\n*   **Better Decision-Making:** Diverse perspectives and public debate can lead to more inclusive and well-considered policies.\\n*   **Reduces Corruption:** Accountability mechanisms, a free press, and transparency can help curb corruption.\\n\\n---\\n\\n### **Challenges and Criticisms of Democracy**\\n\\n*   **Tyranny of the Majority:** The risk that the majority can impose its will on a minority, potentially suppressing their rights or interests.\\n*   **Inefficiency and Slow Decision-Making:** Debates, checks and balances, and the need for broad consensus can slow down policy implementation.\\n*   **Voter Apathy:** Low voter turnout and lack of engagement can undermine the legitimacy and effectiveness of the system.\\n*   **Populism and Demagoguery:** The risk of charismatic leaders exploiting public fears and prejudices for political gain, often bypassing established democratic norms.\\n*   **Influence of Money:** Wealthy individuals and special interest groups can exert undue influence on politics through lobbying and campaign finance.\\n*   **Misinformation and Disinformation:** The spread of false or misleading information, especially through social media, can distort public discourse and undermine informed decision-making.\\n*   **Polarization:** Growing divisions within societies can make compromise difficult and hinder effective governance.\\n\\n---\\n\\n### **Conclusion**\\n\\nDemocracy is not a perfect system, but it is widely considered the most legitimate and effective form of governance for upholding individual liberties and promoting societal well-being. It is a continuous process that requires vigilance, active citizen participation, and a commitment to its core principles to thrive and adapt to new challenges.', additional_kwargs={}, response_metadata={'is_blocked': False, 'safety_ratings': [], 'citation_metadata': {'citations': [{'start_index': 5618, 'end_index': 5744, 'uri': '', 'title': '', 'license_': ''}, {'start_index': 6971, 'end_index': 7111, 'uri': '', 'title': '', 'license_': ''}]}, 'usage_metadata': {'prompt_token_count': 12, 'candidates_token_count': 1334, 'total_token_count': 2389, 'prompt_tokens_details': [{'modality': 1, 'token_count': 12}], 'candidates_tokens_details': [{'modality': 1, 'token_count': 1334}], 'thoughts_token_count': 1043, 'cached_content_token_count': 0, 'cache_tokens_details': []}, 'finish_reason': 'STOP', 'avg_logprobs': -0.4464264144783077, 'model_name': 'gemini-2.5-flash-preview-05-20'}, id='run--cad8627a-c9b5-42c3-b08c-e7710162f0b1-0', usage_metadata={'input_tokens': 12, 'output_tokens': 1334, 'total_tokens': 2389, 'output_token_details': {'reasoning': 1043}})}}\n"
     ]
    }
   ],
   "source": [
    "# synchronous\n",
    "for chunk in graph.stream({\"messages\": messages}, stream_mode=\"updates\"):\n",
    "    print(chunk)"
   ]
  },
  {
   "cell_type": "code",
   "execution_count": 34,
   "id": "55038eb8",
   "metadata": {},
   "outputs": [
    {
     "name": "stdout",
     "output_type": "stream",
     "text": [
      "{'llm': {'messages': AIMessage(content='Democracy is a fascinating and complex system of governance, often hailed as the \"rule of the people.\" Let\\'s break down what it is, its core principles, types, advantages, and challenges.\\n\\n### What is Democracy?\\n\\nAt its core, **democracy** is a system of government where the **supreme power is vested in the people** and exercised by them directly or indirectly through a system of representation, usually involving periodically held free and fair elections.\\n\\nThe most famous definition often attributed to Abraham Lincoln describes it as \"government **of the people, by the people, for the people**.\"\\n\\n### Core Principles of Democracy:\\n\\n1.  **Popular Sovereignty:** The ultimate authority resides with the people. Government legitimacy derives from the consent of the governed.\\n2.  **Equality:** All citizens are equal before the law and should have equal opportunities for political participation.\\n3.  **Liberty/Rights:** Protection of fundamental human rights and civil liberties, such as freedom of speech, assembly, religion, and the right to a fair trial.\\n4.  **Rule of Law:** Everyone, including those in power, is subject to the law. Laws are transparent, applied equally, and protect fundamental rights.\\n5.  **Participation:** Citizens have the right and opportunity to participate in the political process, primarily through voting, but also through discussion, protest, and civic engagement.\\n6.  **Accountability:** Elected officials are accountable to the people and can be removed from office through established legal procedures (like elections or impeachment).\\n7.  **Transparency:** Government processes and decisions should be open and accessible to the public, allowing citizens to hold their leaders accountable.\\n8.  **Checks and Balances:** Power is divided among different branches of government (e.g., executive, legislative, judicial) to prevent any one branch from becoming too powerful.\\n\\n### Types of Democracy:\\n\\nWhile the core idea remains, democracy manifests in different forms:\\n\\n1.  **Direct Democracy:** Citizens directly participate in decision-making, voting on laws and policies themselves (e.g., ancient Athens, or modern-day referendums and initiatives in some places like Switzerland). This is often impractical for large populations.\\n2.  **Representative Democracy (Republic):** Citizens elect representatives to make decisions on their behalf. This is the most common form today.\\n    *   **Parliamentary Democracy:** The executive branch (Prime Minister and Cabinet) is drawn from and accountable to the legislative branch (Parliament). Examples: UK, Germany, Canada, India.\\n    *   **Presidential Democracy:** The executive branch (President) is elected independently of the legislative branch and has a fixed term. Examples: USA, Brazil, Indonesia.\\n    *   **Semi-Presidential Democracy:** Combines elements of both, with a directly elected president and a prime minister who is accountable to the legislature. Examples: France, Russia.\\n3.  **Constitutional Democracy:** A form of democracy where the government\\'s power is limited by a constitution, which typically outlines the rights of citizens and the framework of government. (Most modern democracies are constitutional democracies).\\n\\n### Key Features and Institutions:\\n\\n*   **Free and Fair Elections:** Regular, competitive elections where citizens can choose their representatives without coercion.\\n*   **Multi-Party System:** Allows for diverse viewpoints and provides choices for voters.\\n*   **Independent Judiciary:** Courts that can interpret laws and protect rights, free from political interference.\\n*   **Free Press and Media:** An independent media is crucial for informing the public and holding power accountable.\\n*   **Civil Society:** Non-governmental organizations, advocacy groups, and community associations that allow citizens to express their interests and influence policy.\\n\\n### Advantages of Democracy:\\n\\n*   **Protects Human Rights:** Aims to safeguard individual freedoms and rights.\\n*   **Promotes Equality:** Emphasizes political equality and equal opportunity before the law.\\n*   **Provides Stability:** Offers a legitimate means for peaceful transfer of power and resolution of conflicts.\\n*   **Encourages Accountability:** Leaders are answerable to the people.\\n*   **Fosters Citizen Participation:** Empowers citizens to have a say in their governance.\\n*   **Allows for Self-Correction:** Mistakes can be corrected through public debate, elections, and legal processes.\\n*   **Promotes Development:** Often associated with economic development and social progress due to its emphasis on freedom and innovation.\\n\\n### Challenges and Criticisms of Democracy:\\n\\n*   **Slow Decision-Making:** Debates and consensus-building can be time-consuming.\\n*   **Tyranny of the Majority:** The possibility that the majority\\'s will might oppress the rights or interests of minority groups.\\n*   **Voter Apathy:** Low voter turnout or disengagement can undermine legitimacy.\\n*   **Polarization:** Can lead to deep divisions and gridlock, especially in highly partisan environments.\\n*   **Influence of Money:** Wealthy individuals or groups can disproportionately influence policies through lobbying or campaign donations.\\n*   **Misinformation and Disinformation:** The spread of false information can manipulate public opinion and undermine informed decision-making.\\n*   **Vulnerability to Populism:** Demagogues can exploit public frustrations and undermine democratic institutions.\\n*   **Complexity:** Can be complex for citizens to fully understand all issues and participate effectively.\\n\\n### Historical Context:\\n\\nThe roots of democracy can be traced back to ancient Athens (direct democracy) and the Roman Republic (representative elements). However, modern democracy as we know it largely developed from Enlightenment philosophies (Locke, Rousseau, Montesquieu), the American Revolution, the French Revolution, and subsequent movements for suffrage and civil rights throughout the 19th and 20th centuries. It has spread in \"waves\" of democratization, particularly after World War I, World War II, and the end of the Cold War.\\n\\nIn conclusion, democracy is an evolving ideal, constantly striving to balance individual liberty with collective will. It\\'s a system that, despite its challenges, remains widely seen as the most desirable form of government due to its emphasis on human rights, participation, and accountability.', additional_kwargs={}, response_metadata={'is_blocked': False, 'safety_ratings': [], 'citation_metadata': {'citations': [{'start_index': 4969, 'end_index': 5110, 'uri': 'https://slideplayer.com/slide/10469537/', 'title': '', 'license_': ''}, {'start_index': 5063, 'end_index': 5204, 'uri': 'http://www.electionaccess.org/resources/definitions/', 'title': '', 'license_': ''}, {'start_index': 6519, 'end_index': 6645, 'uri': '', 'title': '', 'license_': ''}, {'start_index': 7169, 'end_index': 7309, 'uri': '', 'title': '', 'license_': ''}, {'start_index': 7364, 'end_index': 7489, 'uri': '', 'title': '', 'license_': ''}]}, 'usage_metadata': {'prompt_token_count': 12, 'candidates_token_count': 1264, 'total_token_count': 2428, 'prompt_tokens_details': [{'modality': 1, 'token_count': 12}], 'candidates_tokens_details': [{'modality': 1, 'token_count': 1264}], 'thoughts_token_count': 1152, 'cached_content_token_count': 0, 'cache_tokens_details': []}, 'finish_reason': 'STOP', 'avg_logprobs': -0.4790135154241248, 'model_name': 'gemini-2.5-flash-preview-05-20'}, id='run--b5bfb2ec-73e4-4c39-9d44-6c862b3436f9-0', usage_metadata={'input_tokens': 12, 'output_tokens': 1264, 'total_tokens': 2428, 'output_token_details': {'reasoning': 1152}})}}\n"
     ]
    }
   ],
   "source": [
    "# async\n",
    "async for chunk in graph.astream({\"messages\": messages}, stream_mode=\"updates\"):\n",
    "    print(chunk)"
   ]
  },
  {
   "cell_type": "code",
   "execution_count": 19,
   "id": "aa13da78",
   "metadata": {},
   "outputs": [
    {
     "data": {
      "text/plain": [
       "AIMessage(content='That\\'s a fantastic and broad topic! Democracy is one of the most widely discussed and influential forms of governance in human history.\\n\\nLet\\'s break it down:\\n\\n---\\n\\n### What is Democracy?\\n\\nAt its core, **democracy** (from the Greek \"demos,\" meaning \"people,\" and \"kratos,\" meaning \"power\" or \"rule\") is a system of government where **the people hold the power**.\\n\\nAbraham Lincoln famously defined it as \"government of the people, by the people, for the people.\"\\n\\nIt\\'s fundamentally based on the idea that the legitimacy of government comes from the consent of the governed.\\n\\n---\\n\\n### Key Principles of Democracy:\\n\\nWhile specific implementations vary, most democratic systems share several core principles:\\n\\n1.  **Sovereignty of the People:** The ultimate power resides with the citizens.\\n2.  **Equality:** All citizens are equal before the law and have equal rights, including the right to vote. \"One person, one vote.\"\\n3.  **Liberty/Rights:** Protection of fundamental individual rights and freedoms (e.g., freedom of speech, assembly, religion, press).\\n4.  **Rule of Law:** Everyone, including those in power, is subject to and accountable under a clearly defined and publicly enforced set of laws, not arbitrary whims.\\n5.  **Free and Fair Elections:** Regular, competitive elections where citizens can choose their representatives from multiple political parties or candidates without coercion.\\n6.  **Accountability and Transparency:** Government officials are accountable to the people, and government operations are generally open to public scrutiny.\\n7.  **Multi-Party System:** The existence of multiple political parties provides choice and allows for diverse perspectives and competition.\\n8.  **Protection of Minorities:** Democratic systems should protect the rights of minority groups against the potential \"tyranny of the majority.\"\\n\\n---\\n\\n### Types of Democracy:\\n\\nWhile the core idea is consistent, democracy manifests in different forms:\\n\\n1.  **Direct Democracy:**\\n    *   **How it works:** Citizens directly participate in decision-making, voting on laws and policies themselves (e.g., through referendums, initiatives, or popular assemblies).\\n    *   **Examples:** Ancient Athens (limited participation), some modern-day Swiss cantons, and certain local town meetings.\\n    *   **Pros:** High citizen involvement, direct expression of popular will.\\n    *   **Cons:** Impractical for large populations or complex issues, potential for \"tyranny of the majority.\"\\n\\n2.  **Representative Democracy (Republic):**\\n    *   **How it works:** Citizens elect representatives to make decisions and govern on their behalf. This is the most common form today.\\n    *   **Examples:** United States, United Kingdom, India, Canada, Germany.\\n    *   **Pros:** Practical for large populations, allows for expertise in governance, can protect minority rights (through constitutional checks).\\n    *   **Cons:** Risk of representatives not truly reflecting constituents\\' wishes, potential for special interest influence.\\n\\n    *   **Sub-types of Representative Democracy:**\\n        *   **Parliamentary Democracy:** The executive branch (Prime Minister and Cabinet) is drawn from and accountable to the legislative branch (Parliament). (e.g., UK, Canada, India, Germany).\\n        *   **Presidential Democracy:** The executive branch (President) is elected independently of the legislative branch and has a fixed term. (e.g., USA, Brazil, Mexico).\\n        *   **Semi-Presidential Democracy:** A hybrid system with both a powerful elected president and a prime minister who is accountable to the legislature. (e.g., France, Russia).\\n\\n3.  **Constitutional Democracy:**\\n    *   A democracy where the powers of the government are limited by a constitution, which typically outlines the rights of citizens and the framework of government. Most modern democracies are constitutional democracies.\\n\\n4.  **Liberal Democracy:**\\n    *   A representative democracy where the power of the elected representatives is constrained by a constitution that emphasizes the protection of individual liberties and human rights. This is the most common form of democracy in the Western world.\\n\\n---\\n\\n### Advantages of Democracy:\\n\\n*   **Legitimacy:** Government derives its authority from the consent of the people.\\n*   **Protection of Rights:** Strong emphasis on individual freedoms and human rights.\\n*   **Peaceful Transitions of Power:** Elections allow for peaceful and regular changes in leadership.\\n*   **Accountability:** Leaders are accountable to the electorate and can be voted out.\\n*   **Responsiveness:** Governments are generally more responsive to public opinion and needs.\\n*   **Stability:** Often more stable than autocratic regimes as it allows for dissent and change without revolution.\\n*   **Innovation and Development:** Tends to foster economic growth, education, and social progress due to freedom and accountability.\\n\\n---\\n\\n### Challenges and Criticisms of Democracy:\\n\\n*   **Slow Decision-Making:** Requires debate, compromise, and broad consensus, which can be time-consuming.\\n*   **Voter Apathy:** Low voter turnout can weaken the legitimacy of elected officials.\\n*   **Tyranny of the Majority:** The potential for the majority\\'s will to suppress the rights or interests of minority groups (though good democracies have safeguards).\\n*   **Influence of Money/Special Interests:** Wealthy individuals or groups can exert undue influence on political processes.\\n*   **Polarization and Gridlock:** Deep divisions can lead to political stalemate and inability to address pressing issues.\\n*   **Misinformation/Disinformation:** The open nature of democratic discourse can be exploited by false narratives.\\n*   **Populism:** The rise of leaders who appeal directly to \"the people\" often by bypassing traditional institutions and norms.\\n\\n---\\n\\n### Democracy in the Modern World:\\n\\nDemocracy is the most prevalent form of government globally, but it faces significant challenges today, including:\\n\\n*   **Democratic Backsliding:** Some countries that were once considered democracies are seeing a decline in democratic norms and institutions.\\n*   **Rise of Authoritarianism:** Authoritarian regimes are becoming more assertive and sometimes more effective in projecting power.\\n*   **Global Challenges:** Issues like climate change, pandemics, and economic inequality put pressure on democratic systems to respond effectively.\\n\\nDespite its challenges, the ideal of democracy — of people governing themselves and having a say in their collective future — remains a powerful aspiration for many around the world.\\n\\n---\\n\\nI hope this comprehensive overview helps you understand the multifaceted concept of democracy! Do you have any specific aspects you\\'d like to delve into further?', additional_kwargs={}, response_metadata={'is_blocked': False, 'safety_ratings': [], 'citation_metadata': {'citations': [{'start_index': 7422, 'end_index': 7562, 'uri': '', 'title': '', 'license_': ''}, {'start_index': 7619, 'end_index': 7744, 'uri': '', 'title': '', 'license_': ''}]}, 'usage_metadata': {'prompt_token_count': 12, 'candidates_token_count': 1369, 'total_token_count': 2436, 'prompt_tokens_details': [{'modality': 1, 'token_count': 12}], 'candidates_tokens_details': [{'modality': 1, 'token_count': 1369}], 'thoughts_token_count': 1055, 'cached_content_token_count': 0, 'cache_tokens_details': []}, 'finish_reason': 'STOP', 'avg_logprobs': -0.4872189975289901, 'model_name': 'gemini-2.5-flash-preview-05-20'}, id='run--b27885bd-6062-48e3-85a9-5a36bc51b059-0', usage_metadata={'input_tokens': 12, 'output_tokens': 1369, 'total_tokens': 2436, 'output_token_details': {'reasoning': 1055}})"
      ]
     },
     "execution_count": 19,
     "metadata": {},
     "output_type": "execute_result"
    }
   ],
   "source": [
    "# synchronous\n",
    "llm.invoke(messages)"
   ]
  },
  {
   "cell_type": "code",
   "execution_count": 35,
   "id": "b633bbd3",
   "metadata": {},
   "outputs": [
    {
     "name": "stdout",
     "output_type": "stream",
     "text": [
      "Democracy is a fascinating and complex system of governance! At its core, it's about **power residing with the people**.\n",
      "\n",
      "Let's break it down:\n",
      "\n",
      "---\n",
      "\n",
      "### What is Democracy?\n",
      "\n",
      "The\n",
      " word \"democracy\" comes from the Greek words **\"demos\" (people)** and **\"kratos\" (power or rule)**. So, literally, it means \"rule by the people.\"\n",
      "\n",
      "In essence, it's a system where citizens have the power to elect their leaders and to hold them accountable.\n",
      "\n",
      "\n",
      "---\n",
      "\n",
      "### Core Principles of Democracy:\n",
      "\n",
      "While specific democracies can vary, certain fundamental principles are generally considered essential:\n",
      "\n",
      "1.  **Citizen Participation:** Citizens are involved in the political process, usually through voting, but also through activism, public debate, and holding office.\n",
      "2.  **Equality:** All\n",
      " citizens are equal before the law, with equal rights and opportunities. This often includes the principle of \"one person, one vote.\"\n",
      "3.  **Liberty and Rights:** Protection of fundamental human rights and freedoms, such as freedom of speech, assembly, religion, and the press.\n",
      "4.  **Rule of Law:**\n",
      " Everyone, including those in power, is subject to the law, which is applied equally and impartially. There's an independent judiciary.\n",
      "5.  **Accountability & Transparency:** Government officials are accountable to the people, and government operations are generally open to public scrutiny.\n",
      "6.  **Consent of the Gover\n",
      "ned:** The government's legitimacy derives from the consent of the people, usually expressed through free and fair elections.\n",
      "7.  **Political Pluralism:** The existence of multiple political parties, diverse viewpoints, and a free and independent media.\n",
      "8.  **Free and Fair Elections:** Regular, competitive elections where citizens can\n",
      " choose their representatives without coercion.\n",
      "\n",
      "---\n",
      "\n",
      "### Types of Democracy:\n",
      "\n",
      "There are two primary forms:\n",
      "\n",
      "1.  **Direct Democracy:**\n",
      "    *   Citizens directly vote on laws and policy initiatives.\n",
      "    *   Example: Ancient Athens, or modern referendums/initiatives in some places (like Switzerland, or\n",
      " some US states).\n",
      "    *   **Feasibility:** Very difficult to implement in large, modern states due to the sheer number of issues and citizens.\n",
      "\n",
      "2.  **Representative Democracy (Republic):**\n",
      "    *   Citizens elect representatives to make decisions on their behalf.\n",
      "    *   This is the most common form of\n",
      " democracy in the world today (e.g., the United States, India, Germany, the United Kingdom).\n",
      "    *   **Advantages:** More practical for large populations, allows for more informed decision-making by dedicated representatives, and provides stability.\n",
      "    *   **Disadvantages:** Representatives might not always perfectly reflect\n",
      " the will of the people, and there's a risk of special interests influencing policy.\n",
      "\n",
      "---\n",
      "\n",
      "### Advantages of Democracy:\n",
      "\n",
      "*   **Legitimacy:** Governments derive their power from the consent of the people, making them more stable.\n",
      "*   **Protection of Rights:** Democracies typically have systems (\n",
      "like bills of rights and independent courts) to protect individual freedoms.\n",
      "*   **Accountability:** Leaders are accountable to the public through elections and other oversight mechanisms.\n",
      "*   **Peaceful Transfer of Power:** Elections provide a structured and generally peaceful way to change leadership.\n",
      "*   **Flexibility and Adaptability:**\n",
      " Democracies can adapt to changing societal needs through public debate and legislative processes.\n",
      "*   **Encourages Participation:** Fosters a sense of ownership and responsibility among citizens.\n",
      "\n",
      "---\n",
      "\n",
      "### Challenges and Criticisms of Democracy:\n",
      "\n",
      "*   **Slow Decision-Making:** The need for deliberation, consensus-building, and checks and balances\n",
      " can make decision-making slow.\n",
      "*   **Tyranny of the Majority:** The concern that the majority can oppress or disregard the rights of minority groups.\n",
      "*   **Voter Apathy/Ignorance:** Low voter turnout or uninformed decisions can weaken the system.\n",
      "*   **Populism and Demagog\n",
      "uery:** The risk of charismatic leaders exploiting popular prejudices rather than promoting sound policy.\n",
      "*   **Inefficiency:** Can sometimes lead to gridlock, especially in highly partisan environments.\n",
      "*   **Cost:** Running elections and maintaining democratic institutions can be expensive.\n",
      "*   **Vulnerability to Disinformation:** In\n",
      " the digital age, the spread of false information can manipulate public opinion and undermine trust.\n",
      "\n",
      "---\n",
      "\n",
      "### Conclusion:\n",
      "\n",
      "Democracy, while imperfect and constantly evolving, remains one of the most widely adopted and highly valued forms of governance globally. It's not just a system of rules; it's a dynamic process that requires the\n",
      " continuous engagement and vigilance of its citizens to thrive. It offers the promise of self-governance, fundamental rights, and a pathway for peaceful change.\n"
     ]
    }
   ],
   "source": [
    "# async\n",
    "async for chunk in llm.astream(messages):\n",
    "    if chunk.content:\n",
    "        print(chunk.content)"
   ]
  },
  {
   "cell_type": "code",
   "execution_count": 34,
   "id": "5e1ff219",
   "metadata": {},
   "outputs": [
    {
     "data": {
      "text/plain": [
       "True"
      ]
     },
     "execution_count": 34,
     "metadata": {},
     "output_type": "execute_result"
    }
   ],
   "source": [
    "from dotenv import load_dotenv\n",
    "load_dotenv()"
   ]
  },
  {
   "cell_type": "code",
   "execution_count": 40,
   "id": "3d34aded",
   "metadata": {},
   "outputs": [
    {
     "name": "stdout",
     "output_type": "stream",
     "text": [
      "Why| did| the| ice| cream| cone| break| up| with| the| sund|ae|?\n",
      "\n",
      "|Because| it| found| someone| who| was| a| little| more| \"|ch|ill|\"!|"
     ]
    }
   ],
   "source": [
    "from dataclasses import dataclass\n",
    "\n",
    "from langchain.chat_models import init_chat_model\n",
    "from langgraph.graph import StateGraph, START\n",
    "\n",
    "\n",
    "@dataclass\n",
    "class MyState:\n",
    "    topic: str\n",
    "    joke: str = \"\"\n",
    "\n",
    "\n",
    "llm = init_chat_model(model=\"openai:gpt-4o-mini\")\n",
    "\n",
    "def call_model(state: MyState):\n",
    "    \"\"\"Call the LLM to generate a joke about a topic\"\"\"\n",
    "    llm_response = llm.invoke( \n",
    "        [\n",
    "            {\"role\": \"user\", \"content\": f\"Generate a joke about {state.topic}\"}\n",
    "        ]\n",
    "    )\n",
    "    return {\"joke\": llm_response.content}\n",
    "\n",
    "graph = (\n",
    "    StateGraph(MyState)\n",
    "    .add_node(call_model)\n",
    "    .add_edge(START, \"call_model\")\n",
    "    .compile()\n",
    ")\n",
    "\n",
    "for message_chunk, metadata in graph.stream( \n",
    "    {\"topic\": \"ice cream\"},\n",
    "    stream_mode=\"messages\",\n",
    "):\n",
    "    if message_chunk.content:\n",
    "        print(message_chunk.content, end=\"|\", flush=True)"
   ]
  }
 ],
 "metadata": {
  "kernelspec": {
   "display_name": ".venv",
   "language": "python",
   "name": "python3"
  },
  "language_info": {
   "codemirror_mode": {
    "name": "ipython",
    "version": 3
   },
   "file_extension": ".py",
   "mimetype": "text/x-python",
   "name": "python",
   "nbconvert_exporter": "python",
   "pygments_lexer": "ipython3",
   "version": "3.11.9"
  }
 },
 "nbformat": 4,
 "nbformat_minor": 5
}
