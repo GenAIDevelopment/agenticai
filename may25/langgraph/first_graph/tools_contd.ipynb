{
 "cells": [
  {
   "cell_type": "code",
   "execution_count": 2,
   "id": "8ec79b73",
   "metadata": {},
   "outputs": [],
   "source": [
    "from langgraph.graph import StateGraph, START, END\n",
    "from langchain.chat_models import init_chat_model"
   ]
  },
  {
   "cell_type": "code",
   "execution_count": 3,
   "id": "69aee5d8",
   "metadata": {},
   "outputs": [],
   "source": [
    "gemini_llm = init_chat_model(model=\"gemini-2.0-flash-lite-001\", model_provider=\"google_vertexai\")"
   ]
  },
  {
   "cell_type": "code",
   "execution_count": 7,
   "id": "bbc8d466",
   "metadata": {},
   "outputs": [
    {
     "name": "stdout",
     "output_type": "stream",
     "text": [
      "Note: you may need to restart the kernel to use updated packages.\n"
     ]
    },
    {
     "name": "stderr",
     "output_type": "stream",
     "text": [
      "\n",
      "[notice] A new release of pip is available: 24.0 -> 25.1.1\n",
      "[notice] To update, run: python.exe -m pip install --upgrade pip\n"
     ]
    }
   ],
   "source": [
    "%pip install -qU \"langchain[openai]\""
   ]
  },
  {
   "cell_type": "code",
   "execution_count": 8,
   "id": "5ed2d96e",
   "metadata": {},
   "outputs": [],
   "source": [
    "openai_llm = init_chat_model(model=\"gpt-4o-mini\")"
   ]
  },
  {
   "cell_type": "code",
   "execution_count": 9,
   "id": "342a9675",
   "metadata": {},
   "outputs": [
    {
     "data": {
      "text/plain": [
       "AIMessage(content=\"Apple's headquarters, often referred to as Apple Park, is located in **Cupertino, California, USA**.\\n\", additional_kwargs={}, response_metadata={'is_blocked': False, 'safety_ratings': [], 'usage_metadata': {'prompt_token_count': 7, 'candidates_token_count': 24, 'total_token_count': 31, 'prompt_tokens_details': [{'modality': 1, 'token_count': 7}], 'candidates_tokens_details': [{'modality': 1, 'token_count': 24}], 'thoughts_token_count': 0, 'cached_content_token_count': 0, 'cache_tokens_details': []}, 'finish_reason': 'STOP', 'avg_logprobs': -0.09013264377911885, 'model_name': 'gemini-2.0-flash-lite-001'}, id='run--0de50143-31c1-45ea-915e-16aad5808aa7-0', usage_metadata={'input_tokens': 7, 'output_tokens': 24, 'total_tokens': 31})"
      ]
     },
     "execution_count": 9,
     "metadata": {},
     "output_type": "execute_result"
    }
   ],
   "source": [
    "gemini_llm.invoke(\"Where is apple head quarters located ?\")"
   ]
  },
  {
   "cell_type": "code",
   "execution_count": 10,
   "id": "6c41a77b",
   "metadata": {},
   "outputs": [
    {
     "data": {
      "text/plain": [
       "AIMessage(content=\"Apple's headquarters is located in Cupertino, California. The main campus is known as Apple Park, which opened in April 2017. It's situated at 1 Apple Park Way, Cupertino, CA 95014.\", additional_kwargs={'refusal': None}, response_metadata={'token_usage': {'completion_tokens': 43, 'prompt_tokens': 14, 'total_tokens': 57, 'completion_tokens_details': {'accepted_prediction_tokens': 0, 'audio_tokens': 0, 'reasoning_tokens': 0, 'rejected_prediction_tokens': 0}, 'prompt_tokens_details': {'audio_tokens': 0, 'cached_tokens': 0}}, 'model_name': 'gpt-4o-mini-2024-07-18', 'system_fingerprint': 'fp_34a54ae93c', 'id': 'chatcmpl-Bd8gaag9A5k5RegF5UsdvOCdgQvHS', 'service_tier': 'default', 'finish_reason': 'stop', 'logprobs': None}, id='run--d8d8216e-10c6-42bc-9ee4-9f5c8b6f8c9a-0', usage_metadata={'input_tokens': 14, 'output_tokens': 43, 'total_tokens': 57, 'input_token_details': {'audio': 0, 'cache_read': 0}, 'output_token_details': {'audio': 0, 'reasoning': 0}})"
      ]
     },
     "execution_count": 10,
     "metadata": {},
     "output_type": "execute_result"
    }
   ],
   "source": [
    "openai_llm.invoke(\"Where is apple head quarters located ?\")"
   ]
  },
  {
   "cell_type": "code",
   "execution_count": 12,
   "id": "9c104b29",
   "metadata": {},
   "outputs": [],
   "source": [
    "# Tools are where we have our functionality and we want llm to call our tool\n",
    "from langchain.tools import tool\n",
    "\n",
    "@tool(\"addition\", parse_docstring=True, return_direct=True)\n",
    "def add(a: int, b: int) -> int:\n",
    "    \"\"\"Addition of two numbers\n",
    "\n",
    "    Args:\n",
    "      a : number\n",
    "      b : number\n",
    "\n",
    "    Returns: sum of a, b\n",
    "    \"\"\"\n",
    "    return a + b"
   ]
  },
  {
   "cell_type": "code",
   "execution_count": 14,
   "id": "db994ce9",
   "metadata": {},
   "outputs": [],
   "source": [
    "gemini_llm_with_tools = gemini_llm.bind_tools([add])"
   ]
  },
  {
   "cell_type": "code",
   "execution_count": 15,
   "id": "3ed21fa9",
   "metadata": {},
   "outputs": [],
   "source": [
    "openai_llm_with_tools = openai_llm.bind_tools([add])"
   ]
  },
  {
   "cell_type": "code",
   "execution_count": 16,
   "id": "5f588f4d",
   "metadata": {},
   "outputs": [],
   "source": [
    "result = gemini_llm_with_tools.invoke(\"What is 2 + 2 ?\")"
   ]
  },
  {
   "cell_type": "code",
   "execution_count": 17,
   "id": "ae1d868c",
   "metadata": {},
   "outputs": [
    {
     "data": {
      "text/plain": [
       "AIMessage(content='', additional_kwargs={'function_call': {'name': 'addition', 'arguments': '{\"a\": 2.0, \"b\": 2.0}'}}, response_metadata={'is_blocked': False, 'safety_ratings': [], 'usage_metadata': {'prompt_token_count': 22, 'candidates_token_count': 5, 'total_token_count': 27, 'prompt_tokens_details': [{'modality': 1, 'token_count': 22}], 'candidates_tokens_details': [{'modality': 1, 'token_count': 5}], 'thoughts_token_count': 0, 'cached_content_token_count': 0, 'cache_tokens_details': []}, 'finish_reason': 'STOP', 'avg_logprobs': -0.5441222667694092, 'model_name': 'gemini-2.0-flash-lite-001'}, id='run--730cfc0d-6000-4a54-b541-2e006b85c47f-0', tool_calls=[{'name': 'addition', 'args': {'a': 2.0, 'b': 2.0}, 'id': '571801b9-b77c-4426-b5ff-92bddd681901', 'type': 'tool_call'}], usage_metadata={'input_tokens': 22, 'output_tokens': 5, 'total_tokens': 27})"
      ]
     },
     "execution_count": 17,
     "metadata": {},
     "output_type": "execute_result"
    }
   ],
   "source": [
    "result"
   ]
  },
  {
   "cell_type": "code",
   "execution_count": 18,
   "id": "165db988",
   "metadata": {},
   "outputs": [
    {
     "data": {
      "text/plain": [
       "langchain_core.messages.ai.AIMessage"
      ]
     },
     "execution_count": 18,
     "metadata": {},
     "output_type": "execute_result"
    }
   ],
   "source": [
    "type(result)"
   ]
  },
  {
   "cell_type": "code",
   "execution_count": 19,
   "id": "f72b22ba",
   "metadata": {},
   "outputs": [],
   "source": [
    "result = gemini_llm_with_tools.invoke(\"I already have 2 pens now i bought 2 more what is the total pens i have ?\")"
   ]
  },
  {
   "cell_type": "code",
   "execution_count": 20,
   "id": "d9ecb869",
   "metadata": {},
   "outputs": [
    {
     "data": {
      "text/plain": [
       "AIMessage(content='', additional_kwargs={'function_call': {'name': 'addition', 'arguments': '{\"a\": 2.0, \"b\": 2.0}'}}, response_metadata={'is_blocked': False, 'safety_ratings': [], 'usage_metadata': {'prompt_token_count': 34, 'candidates_token_count': 5, 'total_token_count': 39, 'prompt_tokens_details': [{'modality': 1, 'token_count': 34}], 'candidates_tokens_details': [{'modality': 1, 'token_count': 5}], 'thoughts_token_count': 0, 'cached_content_token_count': 0, 'cache_tokens_details': []}, 'finish_reason': 'STOP', 'avg_logprobs': -0.0023159977048635484, 'model_name': 'gemini-2.0-flash-lite-001'}, id='run--8e1718ab-16c1-49b9-bec2-f8049e5026df-0', tool_calls=[{'name': 'addition', 'args': {'a': 2.0, 'b': 2.0}, 'id': 'b593b62b-79a9-4197-843f-6927c669019b', 'type': 'tool_call'}], usage_metadata={'input_tokens': 34, 'output_tokens': 5, 'total_tokens': 39})"
      ]
     },
     "execution_count": 20,
     "metadata": {},
     "output_type": "execute_result"
    }
   ],
   "source": [
    "result"
   ]
  },
  {
   "cell_type": "code",
   "execution_count": 21,
   "id": "e85f5b19",
   "metadata": {},
   "outputs": [],
   "source": [
    "result = gemini_llm_with_tools.invoke(\"What is capital of India?\")"
   ]
  },
  {
   "cell_type": "code",
   "execution_count": 22,
   "id": "64c31917",
   "metadata": {},
   "outputs": [
    {
     "data": {
      "text/plain": [
       "AIMessage(content='I am sorry, I cannot fulfill this request. The available tools lack the functionality to provide information on countries and their capitals.\\n', additional_kwargs={}, response_metadata={'is_blocked': False, 'safety_ratings': [], 'usage_metadata': {'prompt_token_count': 20, 'candidates_token_count': 26, 'total_token_count': 46, 'prompt_tokens_details': [{'modality': 1, 'token_count': 20}], 'candidates_tokens_details': [{'modality': 1, 'token_count': 26}], 'thoughts_token_count': 0, 'cached_content_token_count': 0, 'cache_tokens_details': []}, 'finish_reason': 'STOP', 'avg_logprobs': -0.07492930614031278, 'model_name': 'gemini-2.0-flash-lite-001'}, id='run--0ae102ec-28a2-44c5-ac38-80ebd64f0ceb-0', usage_metadata={'input_tokens': 20, 'output_tokens': 26, 'total_tokens': 46})"
      ]
     },
     "execution_count": 22,
     "metadata": {},
     "output_type": "execute_result"
    }
   ],
   "source": [
    "result"
   ]
  },
  {
   "cell_type": "code",
   "execution_count": 23,
   "id": "1e1e1288",
   "metadata": {},
   "outputs": [],
   "source": [
    "from langgraph.graph import MessagesState"
   ]
  },
  {
   "cell_type": "code",
   "execution_count": 30,
   "id": "cfd93a4d",
   "metadata": {},
   "outputs": [],
   "source": [
    "@tool(\"addition\", parse_docstring=True, return_direct=True)\n",
    "def add(a: int, b: int) -> int:\n",
    "    \"\"\"Addition of two numbers\n",
    "\n",
    "    Args:\n",
    "      a : number\n",
    "      b : number\n",
    "\n",
    "    \"\"\"\n",
    "    return a + b"
   ]
  },
  {
   "cell_type": "code",
   "execution_count": 31,
   "id": "8ddb0192",
   "metadata": {},
   "outputs": [],
   "source": [
    "@tool(\"subtraction\", parse_docstring=True, return_direct=True)\n",
    "def sub(a: int, b: int) -> int:\n",
    "    \"\"\"Subtract two numbers\n",
    "\n",
    "    Args:\n",
    "      a : number\n",
    "      b : number\n",
    "\n",
    "    \"\"\"\n",
    "    return a - b"
   ]
  },
  {
   "cell_type": "code",
   "execution_count": 33,
   "id": "9c11d705",
   "metadata": {},
   "outputs": [],
   "source": [
    "@tool(\"multipy\", parse_docstring=True, return_direct=True)\n",
    "def mul(a: int, b: int) -> int:\n",
    "    \"\"\"Multiplication of two numbers\n",
    "\n",
    "    Args:\n",
    "      a : number\n",
    "      b : number\n",
    "\n",
    "    \"\"\"\n",
    "    return a * b"
   ]
  },
  {
   "cell_type": "code",
   "execution_count": 34,
   "id": "47602528",
   "metadata": {},
   "outputs": [],
   "source": [
    "@tool(\"divide\", parse_docstring=True, return_direct=True)\n",
    "def div(a: int, b: int) -> int:\n",
    "    \"\"\"division of two numbers\n",
    "\n",
    "    Args:\n",
    "      a : number\n",
    "      b : number\n",
    "\n",
    "    \"\"\"\n",
    "    return a // b"
   ]
  },
  {
   "cell_type": "code",
   "execution_count": 35,
   "id": "d4cd891f",
   "metadata": {},
   "outputs": [],
   "source": [
    "gemini_llm = init_chat_model(model=\"gemini-2.0-flash-lite-001\", model_provider=\"google_vertexai\")"
   ]
  },
  {
   "cell_type": "code",
   "execution_count": 37,
   "id": "7cdea81a",
   "metadata": {},
   "outputs": [],
   "source": [
    "from langgraph.prebuilt import ToolNode\n",
    "toolnode = ToolNode([add, sub, mul, div])"
   ]
  },
  {
   "cell_type": "code",
   "execution_count": 38,
   "id": "7cd706ac",
   "metadata": {},
   "outputs": [],
   "source": [
    "gemini_llm_with_tools = gemini_llm.bind_tools([add, sub, mul, div])"
   ]
  },
  {
   "cell_type": "code",
   "execution_count": 40,
   "id": "4e143fd5",
   "metadata": {},
   "outputs": [],
   "source": [
    "def call_model(state: MessagesState) -> MessagesState:\n",
    "    state['messages'] = gemini_llm_with_tools.invoke(state['messages'])\n",
    "    return state"
   ]
  },
  {
   "cell_type": "code",
   "execution_count": 42,
   "id": "944d8783",
   "metadata": {},
   "outputs": [],
   "source": [
    "tool_graph_builder: StateGraph = StateGraph(MessagesState)\n",
    "tool_graph_builder.add_node(\"llm\", call_model)\n",
    "tool_graph_builder.add_node(\"tools\", toolnode)\n",
    "tool_graph_builder.add_edge(START, \"llm\")\n",
    "tool_graph_builder.add_edge(\"llm\", \"tools\")\n",
    "tool_graph_builder.add_edge(\"tools\", END)\n",
    "\n",
    "tools_graph = tool_graph_builder.compile()\n"
   ]
  },
  {
   "cell_type": "code",
   "execution_count": 43,
   "id": "eeaab7be",
   "metadata": {},
   "outputs": [
    {
     "data": {
      "image/png": "[encoded data removed]",
      "text/plain": [
       "<IPython.core.display.Image object>"
      ]
     },
     "metadata": {},
     "output_type": "display_data"
    }
   ],
   "source": [
    "from IPython.display import Image, display\n",
    "display(Image(tools_graph.get_graph().draw_mermaid_png()))"
   ]
  },
  {
   "cell_type": "code",
   "execution_count": 46,
   "id": "c67324dc",
   "metadata": {},
   "outputs": [],
   "source": [
    "result = tools_graph.invoke({ \"messages\": \"What is 2 * 5 ?\" })"
   ]
  },
  {
   "cell_type": "code",
   "execution_count": 47,
   "id": "fc32e266",
   "metadata": {},
   "outputs": [
    {
     "data": {
      "text/plain": [
       "{'messages': [HumanMessage(content='What is 2 * 5 ?', additional_kwargs={}, response_metadata={}, id='c6088036-5c44-4b28-ac91-04e287208646'),\n",
       "  AIMessage(content='', additional_kwargs={'function_call': {'name': 'multipy', 'arguments': '{\"a\": 2.0, \"b\": 5.0}'}}, response_metadata={'is_blocked': False, 'safety_ratings': [], 'usage_metadata': {'prompt_token_count': 65, 'candidates_token_count': 6, 'total_token_count': 71, 'prompt_tokens_details': [{'modality': 1, 'token_count': 65}], 'candidates_tokens_details': [{'modality': 1, 'token_count': 6}], 'thoughts_token_count': 0, 'cached_content_token_count': 0, 'cache_tokens_details': []}, 'finish_reason': 'STOP', 'avg_logprobs': -0.00013878751390924057, 'model_name': 'gemini-2.0-flash-lite-001'}, id='run--3ccec097-8dc2-4e3a-997a-778206eedd4b-0', tool_calls=[{'name': 'multipy', 'args': {'a': 2.0, 'b': 5.0}, 'id': '7b4f2a79-8897-48c4-a6e7-0e3f5baf63af', 'type': 'tool_call'}], usage_metadata={'input_tokens': 65, 'output_tokens': 6, 'total_tokens': 71}),\n",
       "  ToolMessage(content='10', name='multipy', id='7f01cadf-52cb-4f21-beb5-40cc9be52234', tool_call_id='7b4f2a79-8897-48c4-a6e7-0e3f5baf63af')]}"
      ]
     },
     "execution_count": 47,
     "metadata": {},
     "output_type": "execute_result"
    }
   ],
   "source": [
    "result"
   ]
  },
  {
   "cell_type": "code",
   "execution_count": 48,
   "id": "9f347286",
   "metadata": {},
   "outputs": [],
   "source": [
    "result = tools_graph.invoke({ \"messages\": \"I have 5 pens, now i purchase 3 more. How many pens do i have ?\" })"
   ]
  },
  {
   "cell_type": "code",
   "execution_count": 49,
   "id": "c3d6a2f0",
   "metadata": {},
   "outputs": [
    {
     "data": {
      "text/plain": [
       "{'messages': [HumanMessage(content='I have 5 pens, now i purchase 3 more. How many pens do i have ?', additional_kwargs={}, response_metadata={}, id='1f38bd07-c385-448b-b532-01072dc049d3'),\n",
       "  AIMessage(content='', additional_kwargs={'function_call': {'name': 'addition', 'arguments': '{\"a\": 5.0, \"b\": 3.0}'}}, response_metadata={'is_blocked': False, 'safety_ratings': [], 'usage_metadata': {'prompt_token_count': 77, 'candidates_token_count': 5, 'total_token_count': 82, 'prompt_tokens_details': [{'modality': 1, 'token_count': 77}], 'candidates_tokens_details': [{'modality': 1, 'token_count': 5}], 'thoughts_token_count': 0, 'cached_content_token_count': 0, 'cache_tokens_details': []}, 'finish_reason': 'STOP', 'avg_logprobs': -0.0003762520384043455, 'model_name': 'gemini-2.0-flash-lite-001'}, id='run--4d988c14-cf9d-46a1-86f0-2a9973f002d9-0', tool_calls=[{'name': 'addition', 'args': {'a': 5.0, 'b': 3.0}, 'id': '98292013-e465-4612-87b8-7e7f114d1454', 'type': 'tool_call'}], usage_metadata={'input_tokens': 77, 'output_tokens': 5, 'total_tokens': 82}),\n",
       "  ToolMessage(content='8', name='addition', id='867d4416-d97e-45e4-9e80-55aa2c62c0c1', tool_call_id='98292013-e465-4612-87b8-7e7f114d1454')]}"
      ]
     },
     "execution_count": 49,
     "metadata": {},
     "output_type": "execute_result"
    }
   ],
   "source": [
    "result"
   ]
  },
  {
   "cell_type": "code",
   "execution_count": 50,
   "id": "2c1d910e",
   "metadata": {},
   "outputs": [],
   "source": [
    "result = tools_graph.invoke({ \"messages\": \"I have 5 pens, now i lost 3 . How many pens do i have ?\" })"
   ]
  },
  {
   "cell_type": "code",
   "execution_count": 51,
   "id": "94a80f09",
   "metadata": {},
   "outputs": [
    {
     "data": {
      "text/plain": [
       "{'messages': [HumanMessage(content='I have 5 pens, now i lost 3 . How many pens do i have ?', additional_kwargs={}, response_metadata={}, id='1e9c5d4f-6cb3-4412-bdca-5db13d8489a4'),\n",
       "  AIMessage(content='', additional_kwargs={'function_call': {'name': 'subtraction', 'arguments': '{\"a\": 5.0, \"b\": 3.0}'}}, response_metadata={'is_blocked': False, 'safety_ratings': [], 'usage_metadata': {'prompt_token_count': 76, 'candidates_token_count': 6, 'total_token_count': 82, 'prompt_tokens_details': [{'modality': 1, 'token_count': 76}], 'candidates_tokens_details': [{'modality': 1, 'token_count': 6}], 'thoughts_token_count': 0, 'cached_content_token_count': 0, 'cache_tokens_details': []}, 'finish_reason': 'STOP', 'avg_logprobs': -0.0819424440463384, 'model_name': 'gemini-2.0-flash-lite-001'}, id='run--2e913b1b-0e1f-4c46-8ffa-d97f186efca2-0', tool_calls=[{'name': 'subtraction', 'args': {'a': 5.0, 'b': 3.0}, 'id': 'c7b2bbad-4f62-485e-92b4-cdc6ef058a56', 'type': 'tool_call'}], usage_metadata={'input_tokens': 76, 'output_tokens': 6, 'total_tokens': 82}),\n",
       "  ToolMessage(content='2', name='subtraction', id='4787b6fe-d2d1-4525-b7e3-4269ee6ae80a', tool_call_id='c7b2bbad-4f62-485e-92b4-cdc6ef058a56')]}"
      ]
     },
     "execution_count": 51,
     "metadata": {},
     "output_type": "execute_result"
    }
   ],
   "source": [
    "result"
   ]
  }
 ],
 "metadata": {
  "kernelspec": {
   "display_name": ".venv",
   "language": "python",
   "name": "python3"
  },
  "language_info": {
   "codemirror_mode": {
    "name": "ipython",
    "version": 3
   },
   "file_extension": ".py",
   "mimetype": "text/x-python",
   "name": "python",
   "nbconvert_exporter": "python",
   "pygments_lexer": "ipython3",
   "version": "3.11.9"
  }
 },
 "nbformat": 4,
 "nbformat_minor": 5
}
