{
 "cells": [
  {
   "cell_type": "code",
   "execution_count": 2,
   "id": "8ec79b73",
   "metadata": {},
   "outputs": [],
   "source": [
    "from langgraph.graph import StateGraph, START, END\n",
    "from langchain.chat_models import init_chat_model"
   ]
  },
  {
   "cell_type": "code",
   "execution_count": 3,
   "id": "69aee5d8",
   "metadata": {},
   "outputs": [],
   "source": [
    "gemini_llm = init_chat_model(model=\"gemini-2.0-flash-lite-001\", model_provider=\"google_vertexai\")"
   ]
  },
  {
   "cell_type": "code",
   "execution_count": 7,
   "id": "bbc8d466",
   "metadata": {},
   "outputs": [
    {
     "name": "stdout",
     "output_type": "stream",
     "text": [
      "Note: you may need to restart the kernel to use updated packages.\n"
     ]
    },
    {
     "name": "stderr",
     "output_type": "stream",
     "text": [
      "\n",
      "[notice] A new release of pip is available: 24.0 -> 25.1.1\n",
      "[notice] To update, run: python.exe -m pip install --upgrade pip\n"
     ]
    }
   ],
   "source": [
    "%pip install -qU \"langchain[openai]\""
   ]
  },
  {
   "cell_type": "code",
   "execution_count": 8,
   "id": "5ed2d96e",
   "metadata": {},
   "outputs": [],
   "source": [
    "openai_llm = init_chat_model(model=\"gpt-4o-mini\")"
   ]
  },
  {
   "cell_type": "code",
   "execution_count": 9,
   "id": "342a9675",
   "metadata": {},
   "outputs": [
    {
     "data": {
      "text/plain": [
       "AIMessage(content=\"Apple's headquarters, often referred to as Apple Park, is located in **Cupertino, California, USA**.\\n\", additional_kwargs={}, response_metadata={'is_blocked': False, 'safety_ratings': [], 'usage_metadata': {'prompt_token_count': 7, 'candidates_token_count': 24, 'total_token_count': 31, 'prompt_tokens_details': [{'modality': 1, 'token_count': 7}], 'candidates_tokens_details': [{'modality': 1, 'token_count': 24}], 'thoughts_token_count': 0, 'cached_content_token_count': 0, 'cache_tokens_details': []}, 'finish_reason': 'STOP', 'avg_logprobs': -0.09013264377911885, 'model_name': 'gemini-2.0-flash-lite-001'}, id='run--0de50143-31c1-45ea-915e-16aad5808aa7-0', usage_metadata={'input_tokens': 7, 'output_tokens': 24, 'total_tokens': 31})"
      ]
     },
     "execution_count": 9,
     "metadata": {},
     "output_type": "execute_result"
    }
   ],
   "source": [
    "gemini_llm.invoke(\"Where is apple head quarters located ?\")"
   ]
  },
  {
   "cell_type": "code",
   "execution_count": 10,
   "id": "6c41a77b",
   "metadata": {},
   "outputs": [
    {
     "data": {
      "text/plain": [
       "AIMessage(content=\"Apple's headquarters is located in Cupertino, California. The main campus is known as Apple Park, which opened in April 2017. It's situated at 1 Apple Park Way, Cupertino, CA 95014.\", additional_kwargs={'refusal': None}, response_metadata={'token_usage': {'completion_tokens': 43, 'prompt_tokens': 14, 'total_tokens': 57, 'completion_tokens_details': {'accepted_prediction_tokens': 0, 'audio_tokens': 0, 'reasoning_tokens': 0, 'rejected_prediction_tokens': 0}, 'prompt_tokens_details': {'audio_tokens': 0, 'cached_tokens': 0}}, 'model_name': 'gpt-4o-mini-2024-07-18', 'system_fingerprint': 'fp_34a54ae93c', 'id': 'chatcmpl-Bd8gaag9A5k5RegF5UsdvOCdgQvHS', 'service_tier': 'default', 'finish_reason': 'stop', 'logprobs': None}, id='run--d8d8216e-10c6-42bc-9ee4-9f5c8b6f8c9a-0', usage_metadata={'input_tokens': 14, 'output_tokens': 43, 'total_tokens': 57, 'input_token_details': {'audio': 0, 'cache_read': 0}, 'output_token_details': {'audio': 0, 'reasoning': 0}})"
      ]
     },
     "execution_count": 10,
     "metadata": {},
     "output_type": "execute_result"
    }
   ],
   "source": [
    "openai_llm.invoke(\"Where is apple head quarters located ?\")"
   ]
  },
  {
   "cell_type": "code",
   "execution_count": 12,
   "id": "9c104b29",
   "metadata": {},
   "outputs": [],
   "source": [
    "# Tools are where we have our functionality and we want llm to call our tool\n",
    "from langchain.tools import tool\n",
    "\n",
    "@tool(\"addition\", parse_docstring=True, return_direct=True)\n",
    "def add(a: int, b: int) -> int:\n",
    "    \"\"\"Addition of two numbers\n",
    "\n",
    "    Args:\n",
    "      a : number\n",
    "      b : number\n",
    "\n",
    "    Returns: sum of a, b\n",
    "    \"\"\"\n",
    "    return a + b"
   ]
  },
  {
   "cell_type": "code",
   "execution_count": 14,
   "id": "db994ce9",
   "metadata": {},
   "outputs": [],
   "source": [
    "gemini_llm_with_tools = gemini_llm.bind_tools([add])"
   ]
  },
  {
   "cell_type": "code",
   "execution_count": 15,
   "id": "3ed21fa9",
   "metadata": {},
   "outputs": [],
   "source": [
    "openai_llm_with_tools = openai_llm.bind_tools([add])"
   ]
  },
  {
   "cell_type": "code",
   "execution_count": 16,
   "id": "5f588f4d",
   "metadata": {},
   "outputs": [],
   "source": [
    "result = gemini_llm_with_tools.invoke(\"What is 2 + 2 ?\")"
   ]
  },
  {
   "cell_type": "code",
   "execution_count": 17,
   "id": "ae1d868c",
   "metadata": {},
   "outputs": [
    {
     "data": {
      "text/plain": [
       "AIMessage(content='', additional_kwargs={'function_call': {'name': 'addition', 'arguments': '{\"a\": 2.0, \"b\": 2.0}'}}, response_metadata={'is_blocked': False, 'safety_ratings': [], 'usage_metadata': {'prompt_token_count': 22, 'candidates_token_count': 5, 'total_token_count': 27, 'prompt_tokens_details': [{'modality': 1, 'token_count': 22}], 'candidates_tokens_details': [{'modality': 1, 'token_count': 5}], 'thoughts_token_count': 0, 'cached_content_token_count': 0, 'cache_tokens_details': []}, 'finish_reason': 'STOP', 'avg_logprobs': -0.5441222667694092, 'model_name': 'gemini-2.0-flash-lite-001'}, id='run--730cfc0d-6000-4a54-b541-2e006b85c47f-0', tool_calls=[{'name': 'addition', 'args': {'a': 2.0, 'b': 2.0}, 'id': '571801b9-b77c-4426-b5ff-92bddd681901', 'type': 'tool_call'}], usage_metadata={'input_tokens': 22, 'output_tokens': 5, 'total_tokens': 27})"
      ]
     },
     "execution_count": 17,
     "metadata": {},
     "output_type": "execute_result"
    }
   ],
   "source": [
    "result"
   ]
  },
  {
   "cell_type": "code",
   "execution_count": 18,
   "id": "165db988",
   "metadata": {},
   "outputs": [
    {
     "data": {
      "text/plain": [
       "langchain_core.messages.ai.AIMessage"
      ]
     },
     "execution_count": 18,
     "metadata": {},
     "output_type": "execute_result"
    }
   ],
   "source": [
    "type(result)"
   ]
  },
  {
   "cell_type": "code",
   "execution_count": 19,
   "id": "f72b22ba",
   "metadata": {},
   "outputs": [],
   "source": [
    "result = gemini_llm_with_tools.invoke(\"I already have 2 pens now i bought 2 more what is the total pens i have ?\")"
   ]
  },
  {
   "cell_type": "code",
   "execution_count": 20,
   "id": "d9ecb869",
   "metadata": {},
   "outputs": [
    {
     "data": {
      "text/plain": [
       "AIMessage(content='', additional_kwargs={'function_call': {'name': 'addition', 'arguments': '{\"a\": 2.0, \"b\": 2.0}'}}, response_metadata={'is_blocked': False, 'safety_ratings': [], 'usage_metadata': {'prompt_token_count': 34, 'candidates_token_count': 5, 'total_token_count': 39, 'prompt_tokens_details': [{'modality': 1, 'token_count': 34}], 'candidates_tokens_details': [{'modality': 1, 'token_count': 5}], 'thoughts_token_count': 0, 'cached_content_token_count': 0, 'cache_tokens_details': []}, 'finish_reason': 'STOP', 'avg_logprobs': -0.0023159977048635484, 'model_name': 'gemini-2.0-flash-lite-001'}, id='run--8e1718ab-16c1-49b9-bec2-f8049e5026df-0', tool_calls=[{'name': 'addition', 'args': {'a': 2.0, 'b': 2.0}, 'id': 'b593b62b-79a9-4197-843f-6927c669019b', 'type': 'tool_call'}], usage_metadata={'input_tokens': 34, 'output_tokens': 5, 'total_tokens': 39})"
      ]
     },
     "execution_count": 20,
     "metadata": {},
     "output_type": "execute_result"
    }
   ],
   "source": [
    "result"
   ]
  },
  {
   "cell_type": "code",
   "execution_count": 21,
   "id": "e85f5b19",
   "metadata": {},
   "outputs": [],
   "source": [
    "result = gemini_llm_with_tools.invoke(\"What is capital of India?\")"
   ]
  },
  {
   "cell_type": "code",
   "execution_count": 22,
   "id": "64c31917",
   "metadata": {},
   "outputs": [
    {
     "data": {
      "text/plain": [
       "AIMessage(content='I am sorry, I cannot fulfill this request. The available tools lack the functionality to provide information on countries and their capitals.\\n', additional_kwargs={}, response_metadata={'is_blocked': False, 'safety_ratings': [], 'usage_metadata': {'prompt_token_count': 20, 'candidates_token_count': 26, 'total_token_count': 46, 'prompt_tokens_details': [{'modality': 1, 'token_count': 20}], 'candidates_tokens_details': [{'modality': 1, 'token_count': 26}], 'thoughts_token_count': 0, 'cached_content_token_count': 0, 'cache_tokens_details': []}, 'finish_reason': 'STOP', 'avg_logprobs': -0.07492930614031278, 'model_name': 'gemini-2.0-flash-lite-001'}, id='run--0ae102ec-28a2-44c5-ac38-80ebd64f0ceb-0', usage_metadata={'input_tokens': 20, 'output_tokens': 26, 'total_tokens': 46})"
      ]
     },
     "execution_count": 22,
     "metadata": {},
     "output_type": "execute_result"
    }
   ],
   "source": [
    "result"
   ]
  }
 ],
 "metadata": {
  "kernelspec": {
   "display_name": ".venv",
   "language": "python",
   "name": "python3"
  },
  "language_info": {
   "codemirror_mode": {
    "name": "ipython",
    "version": 3
   },
   "file_extension": ".py",
   "mimetype": "text/x-python",
   "name": "python",
   "nbconvert_exporter": "python",
   "pygments_lexer": "ipython3",
   "version": "3.11.9"
  }
 },
 "nbformat": 4,
 "nbformat_minor": 5
}
