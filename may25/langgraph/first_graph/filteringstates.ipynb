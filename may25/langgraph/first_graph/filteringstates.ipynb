{
 "cells": [
  {
   "cell_type": "code",
   "execution_count": 13,
   "id": "08f4d0fc",
   "metadata": {},
   "outputs": [],
   "source": [
    "from langgraph.graph import StateGraph, START, END\n",
    "from typing import TypedDict"
   ]
  },
  {
   "cell_type": "code",
   "execution_count": 14,
   "id": "ed67666f",
   "metadata": {},
   "outputs": [],
   "source": [
    "class OverallState(TypedDict):\n",
    "    question: str\n",
    "    answer: str"
   ]
  },
  {
   "cell_type": "code",
   "execution_count": 15,
   "id": "34037509",
   "metadata": {},
   "outputs": [],
   "source": [
    "class InputState(TypedDict):\n",
    "    question: str\n",
    "\n",
    "class OutputState(TypedDict):\n",
    "    answer: str"
   ]
  },
  {
   "cell_type": "code",
   "execution_count": 16,
   "id": "edc330da",
   "metadata": {},
   "outputs": [],
   "source": [
    "def node_1(state: OverallState) -> OverallState:\n",
    "    state['answer'] = \"Correct\"\n",
    "    return state"
   ]
  },
  {
   "cell_type": "code",
   "execution_count": 17,
   "id": "478f0d8e",
   "metadata": {},
   "outputs": [
    {
     "data": {
      "text/plain": [
       "<langgraph.graph.state.StateGraph at 0x27da2d1bdd0>"
      ]
     },
     "execution_count": 17,
     "metadata": {},
     "output_type": "execute_result"
    }
   ],
   "source": [
    "state_graph_builder = StateGraph(OverallState,input=InputState, output=OutputState)\n",
    "state_graph_builder.add_node(\"answerthis\", node_1)\n",
    "state_graph_builder.add_edge(START, \"answerthis\")\n",
    "state_graph_builder.add_edge(\"answerthis\", END)"
   ]
  },
  {
   "cell_type": "code",
   "execution_count": 18,
   "id": "61817578",
   "metadata": {},
   "outputs": [],
   "source": [
    "state_graph = state_graph_builder.compile()"
   ]
  },
  {
   "cell_type": "code",
   "execution_count": 19,
   "id": "9170af3d",
   "metadata": {},
   "outputs": [],
   "source": [
    "response = state_graph.invoke({\"question\": \"Are you intelligent\"})"
   ]
  },
  {
   "cell_type": "code",
   "execution_count": 20,
   "id": "cc6d59e3",
   "metadata": {},
   "outputs": [
    {
     "data": {
      "text/plain": [
       "{'answer': 'Correct'}"
      ]
     },
     "execution_count": 20,
     "metadata": {},
     "output_type": "execute_result"
    }
   ],
   "source": [
    "response"
   ]
  },
  {
   "cell_type": "code",
   "execution_count": null,
   "id": "0dd43bf2",
   "metadata": {},
   "outputs": [],
   "source": [
    "from pydantic import BaseModel\n",
    "class InputState(BaseModel):\n",
    "    question: str\n",
    "\n",
    "class OutputState(BaseModel):\n",
    "    answer: str\n",
    "\n",
    "class OverallState(InputState, OutputState):\n",
    "    pass"
   ]
  }
 ],
 "metadata": {
  "kernelspec": {
   "display_name": ".venv",
   "language": "python",
   "name": "python3"
  },
  "language_info": {
   "codemirror_mode": {
    "name": "ipython",
    "version": 3
   },
   "file_extension": ".py",
   "mimetype": "text/x-python",
   "name": "python",
   "nbconvert_exporter": "python",
   "pygments_lexer": "ipython3",
   "version": "3.11.9"
  }
 },
 "nbformat": 4,
 "nbformat_minor": 5
}
