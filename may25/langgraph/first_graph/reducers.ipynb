{
 "cells": [
  {
   "cell_type": "code",
   "execution_count": 167,
   "id": "b8d42cdc",
   "metadata": {},
   "outputs": [],
   "source": [
    "from langgraph.graph import StateGraph, START, END\n",
    "from typing import TypedDict"
   ]
  },
  {
   "cell_type": "code",
   "execution_count": 168,
   "id": "de16874f",
   "metadata": {},
   "outputs": [],
   "source": [
    "class GraphState(TypedDict):\n",
    "    message: str"
   ]
  },
  {
   "cell_type": "code",
   "execution_count": 169,
   "id": "c0cdcdab",
   "metadata": {},
   "outputs": [],
   "source": [
    "def node_a(state: GraphState) -> GraphState:\n",
    "    state['message'] = \"Im in Node A\"\n",
    "    return state\n",
    "\n",
    "def node_b(state: GraphState) -> GraphState:\n",
    "    state['message'] = \"Im in Node B\"\n",
    "    return state\n",
    "\n",
    "def node_c(state: GraphState) -> GraphState:\n",
    "    state['message'] = \"Im in Node C\"\n",
    "    return state"
   ]
  },
  {
   "cell_type": "code",
   "execution_count": 170,
   "id": "590cfe51",
   "metadata": {},
   "outputs": [],
   "source": [
    "graph_builder = StateGraph(GraphState)\n",
    "graph_builder.set_entry_point(\"A\")\n",
    "graph_builder.add_node(\"A\", node_a )\n",
    "graph_builder.add_node(\"B\", node_b )\n",
    "graph_builder.add_node(\"C\", node_c )\n",
    "graph_builder.add_edge(\"A\", \"B\")\n",
    "graph_builder.add_edge(\"A\", \"C\")\n",
    "graph_builder.set_finish_point(\"B\")\n",
    "graph_builder.set_finish_point(\"C\")\n",
    "graph = graph_builder.compile()"
   ]
  },
  {
   "cell_type": "code",
   "execution_count": 171,
   "id": "1a335f6b",
   "metadata": {},
   "outputs": [],
   "source": [
    "from langgraph.graph.state import CompiledStateGraph\n",
    "from IPython.display import Image, display\n",
    "\n",
    "def draw_graph(graph: CompiledStateGraph):\n",
    "    display(Image(graph.get_graph().draw_mermaid_png()))\n"
   ]
  },
  {
   "cell_type": "code",
   "execution_count": 172,
   "id": "9d19f7f8",
   "metadata": {},
   "outputs": [
    {
     "data": {
      "image/png": "[encoded data removed]",
      "text/plain": [
       "<IPython.core.display.Image object>"
      ]
     },
     "metadata": {},
     "output_type": "display_data"
    }
   ],
   "source": [
    "draw_graph(graph)"
   ]
  },
  {
   "cell_type": "code",
   "execution_count": 173,
   "id": "2481e2bf",
   "metadata": {},
   "outputs": [
    {
     "ename": "InvalidUpdateError",
     "evalue": "Expected dict, got {'', 'message'}\nFor troubleshooting, visit: https://python.langchain.com/docs/troubleshooting/errors/INVALID_GRAPH_NODE_RETURN_VALUE",
     "output_type": "error",
     "traceback": [
      "\u001b[31m---------------------------------------------------------------------------\u001b[39m",
      "\u001b[31mInvalidUpdateError\u001b[39m                        Traceback (most recent call last)",
      "\u001b[36mCell\u001b[39m\u001b[36m \u001b[39m\u001b[32mIn[173]\u001b[39m\u001b[32m, line 1\u001b[39m\n\u001b[32m----> \u001b[39m\u001b[32m1\u001b[39m result = \u001b[43mgraph\u001b[49m\u001b[43m.\u001b[49m\u001b[43minvoke\u001b[49m\u001b[43m(\u001b[49m\u001b[43m{\u001b[49m\u001b[33;43m\"\u001b[39;49m\u001b[33;43mmessage\u001b[39;49m\u001b[33;43m\"\u001b[39;49m\u001b[43m,\u001b[49m\u001b[43m \u001b[49m\u001b[33;43m\"\u001b[39;49m\u001b[33;43m\"\u001b[39;49m\u001b[43m}\u001b[49m\u001b[43m)\u001b[49m\n",
      "\u001b[36mFile \u001b[39m\u001b[32mc:\\khajaclassroom\\GenerativeAI\\agenticai\\may25\\langgraph\\first_graph\\.venv\\Lib\\site-packages\\langgraph\\pregel\\__init__.py:2894\u001b[39m, in \u001b[36mPregel.invoke\u001b[39m\u001b[34m(self, input, config, stream_mode, output_keys, interrupt_before, interrupt_after, checkpoint_during, debug, **kwargs)\u001b[39m\n\u001b[32m   2891\u001b[39m chunks: \u001b[38;5;28mlist\u001b[39m[Union[\u001b[38;5;28mdict\u001b[39m[\u001b[38;5;28mstr\u001b[39m, Any], Any]] = []\n\u001b[32m   2892\u001b[39m interrupts: \u001b[38;5;28mlist\u001b[39m[Interrupt] = []\n\u001b[32m-> \u001b[39m\u001b[32m2894\u001b[39m \u001b[43m\u001b[49m\u001b[38;5;28;43;01mfor\u001b[39;49;00m\u001b[43m \u001b[49m\u001b[43mchunk\u001b[49m\u001b[43m \u001b[49m\u001b[38;5;129;43;01min\u001b[39;49;00m\u001b[43m \u001b[49m\u001b[38;5;28;43mself\u001b[39;49m\u001b[43m.\u001b[49m\u001b[43mstream\u001b[49m\u001b[43m(\u001b[49m\n\u001b[32m   2895\u001b[39m \u001b[43m    \u001b[49m\u001b[38;5;28;43minput\u001b[39;49m\u001b[43m,\u001b[49m\n\u001b[32m   2896\u001b[39m \u001b[43m    \u001b[49m\u001b[43mconfig\u001b[49m\u001b[43m,\u001b[49m\n\u001b[32m   2897\u001b[39m \u001b[43m    \u001b[49m\u001b[43mstream_mode\u001b[49m\u001b[43m=\u001b[49m\u001b[43mstream_mode\u001b[49m\u001b[43m,\u001b[49m\n\u001b[32m   2898\u001b[39m \u001b[43m    \u001b[49m\u001b[43moutput_keys\u001b[49m\u001b[43m=\u001b[49m\u001b[43moutput_keys\u001b[49m\u001b[43m,\u001b[49m\n\u001b[32m   2899\u001b[39m \u001b[43m    \u001b[49m\u001b[43minterrupt_before\u001b[49m\u001b[43m=\u001b[49m\u001b[43minterrupt_before\u001b[49m\u001b[43m,\u001b[49m\n\u001b[32m   2900\u001b[39m \u001b[43m    \u001b[49m\u001b[43minterrupt_after\u001b[49m\u001b[43m=\u001b[49m\u001b[43minterrupt_after\u001b[49m\u001b[43m,\u001b[49m\n\u001b[32m   2901\u001b[39m \u001b[43m    \u001b[49m\u001b[43mcheckpoint_during\u001b[49m\u001b[43m=\u001b[49m\u001b[43mcheckpoint_during\u001b[49m\u001b[43m,\u001b[49m\n\u001b[32m   2902\u001b[39m \u001b[43m    \u001b[49m\u001b[43mdebug\u001b[49m\u001b[43m=\u001b[49m\u001b[43mdebug\u001b[49m\u001b[43m,\u001b[49m\n\u001b[32m   2903\u001b[39m \u001b[43m    \u001b[49m\u001b[43m*\u001b[49m\u001b[43m*\u001b[49m\u001b[43mkwargs\u001b[49m\u001b[43m,\u001b[49m\n\u001b[32m   2904\u001b[39m \u001b[43m\u001b[49m\u001b[43m)\u001b[49m\u001b[43m:\u001b[49m\n\u001b[32m   2905\u001b[39m \u001b[43m    \u001b[49m\u001b[38;5;28;43;01mif\u001b[39;49;00m\u001b[43m \u001b[49m\u001b[43mstream_mode\u001b[49m\u001b[43m \u001b[49m\u001b[43m==\u001b[49m\u001b[43m \u001b[49m\u001b[33;43m\"\u001b[39;49m\u001b[33;43mvalues\u001b[39;49m\u001b[33;43m\"\u001b[39;49m\u001b[43m:\u001b[49m\n\u001b[32m   2906\u001b[39m \u001b[43m        \u001b[49m\u001b[38;5;28;43;01mif\u001b[39;49;00m\u001b[43m \u001b[49m\u001b[43m(\u001b[49m\n\u001b[32m   2907\u001b[39m \u001b[43m            \u001b[49m\u001b[38;5;28;43misinstance\u001b[39;49m\u001b[43m(\u001b[49m\u001b[43mchunk\u001b[49m\u001b[43m,\u001b[49m\u001b[43m \u001b[49m\u001b[38;5;28;43mdict\u001b[39;49m\u001b[43m)\u001b[49m\n\u001b[32m   2908\u001b[39m \u001b[43m            \u001b[49m\u001b[38;5;129;43;01mand\u001b[39;49;00m\u001b[43m \u001b[49m\u001b[43m(\u001b[49m\u001b[43mints\u001b[49m\u001b[43m \u001b[49m\u001b[43m:=\u001b[49m\u001b[43m \u001b[49m\u001b[43mchunk\u001b[49m\u001b[43m.\u001b[49m\u001b[43mget\u001b[49m\u001b[43m(\u001b[49m\u001b[43mINTERRUPT\u001b[49m\u001b[43m)\u001b[49m\u001b[43m)\u001b[49m\u001b[43m \u001b[49m\u001b[38;5;129;43;01mis\u001b[39;49;00m\u001b[43m \u001b[49m\u001b[38;5;129;43;01mnot\u001b[39;49;00m\u001b[43m \u001b[49m\u001b[38;5;28;43;01mNone\u001b[39;49;00m\n\u001b[32m   2909\u001b[39m \u001b[43m        \u001b[49m\u001b[43m)\u001b[49m\u001b[43m:\u001b[49m\n",
      "\u001b[36mFile \u001b[39m\u001b[32mc:\\khajaclassroom\\GenerativeAI\\agenticai\\may25\\langgraph\\first_graph\\.venv\\Lib\\site-packages\\langgraph\\pregel\\__init__.py:2527\u001b[39m, in \u001b[36mPregel.stream\u001b[39m\u001b[34m(self, input, config, stream_mode, output_keys, interrupt_before, interrupt_after, checkpoint_during, debug, subgraphs)\u001b[39m\n\u001b[32m   2525\u001b[39m         \u001b[38;5;28;01mfor\u001b[39;00m task \u001b[38;5;129;01min\u001b[39;00m loop.match_cached_writes():\n\u001b[32m   2526\u001b[39m             loop.output_writes(task.id, task.writes, cached=\u001b[38;5;28;01mTrue\u001b[39;00m)\n\u001b[32m-> \u001b[39m\u001b[32m2527\u001b[39m \u001b[43m        \u001b[49m\u001b[38;5;28;43;01mfor\u001b[39;49;00m\u001b[43m \u001b[49m\u001b[43m_\u001b[49m\u001b[43m \u001b[49m\u001b[38;5;129;43;01min\u001b[39;49;00m\u001b[43m \u001b[49m\u001b[43mrunner\u001b[49m\u001b[43m.\u001b[49m\u001b[43mtick\u001b[49m\u001b[43m(\u001b[49m\n\u001b[32m   2528\u001b[39m \u001b[43m            \u001b[49m\u001b[43m[\u001b[49m\u001b[43mt\u001b[49m\u001b[43m \u001b[49m\u001b[38;5;28;43;01mfor\u001b[39;49;00m\u001b[43m \u001b[49m\u001b[43mt\u001b[49m\u001b[43m \u001b[49m\u001b[38;5;129;43;01min\u001b[39;49;00m\u001b[43m \u001b[49m\u001b[43mloop\u001b[49m\u001b[43m.\u001b[49m\u001b[43mtasks\u001b[49m\u001b[43m.\u001b[49m\u001b[43mvalues\u001b[49m\u001b[43m(\u001b[49m\u001b[43m)\u001b[49m\u001b[43m \u001b[49m\u001b[38;5;28;43;01mif\u001b[39;49;00m\u001b[43m \u001b[49m\u001b[38;5;129;43;01mnot\u001b[39;49;00m\u001b[43m \u001b[49m\u001b[43mt\u001b[49m\u001b[43m.\u001b[49m\u001b[43mwrites\u001b[49m\u001b[43m]\u001b[49m\u001b[43m,\u001b[49m\n\u001b[32m   2529\u001b[39m \u001b[43m            \u001b[49m\u001b[43mtimeout\u001b[49m\u001b[43m=\u001b[49m\u001b[38;5;28;43mself\u001b[39;49m\u001b[43m.\u001b[49m\u001b[43mstep_timeout\u001b[49m\u001b[43m,\u001b[49m\n\u001b[32m   2530\u001b[39m \u001b[43m            \u001b[49m\u001b[43mget_waiter\u001b[49m\u001b[43m=\u001b[49m\u001b[43mget_waiter\u001b[49m\u001b[43m,\u001b[49m\n\u001b[32m   2531\u001b[39m \u001b[43m            \u001b[49m\u001b[43mschedule_task\u001b[49m\u001b[43m=\u001b[49m\u001b[43mloop\u001b[49m\u001b[43m.\u001b[49m\u001b[43maccept_push\u001b[49m\u001b[43m,\u001b[49m\n\u001b[32m   2532\u001b[39m \u001b[43m        \u001b[49m\u001b[43m)\u001b[49m\u001b[43m:\u001b[49m\n\u001b[32m   2533\u001b[39m \u001b[43m            \u001b[49m\u001b[38;5;66;43;03m# emit output\u001b[39;49;00m\n\u001b[32m   2534\u001b[39m \u001b[43m            \u001b[49m\u001b[38;5;28;43;01myield from\u001b[39;49;00m\u001b[43m \u001b[49m\u001b[43moutput\u001b[49m\u001b[43m(\u001b[49m\u001b[43m)\u001b[49m\n\u001b[32m   2535\u001b[39m \u001b[38;5;66;03m# emit output\u001b[39;00m\n",
      "\u001b[36mFile \u001b[39m\u001b[32mc:\\khajaclassroom\\GenerativeAI\\agenticai\\may25\\langgraph\\first_graph\\.venv\\Lib\\site-packages\\langgraph\\pregel\\runner.py:157\u001b[39m, in \u001b[36mPregelRunner.tick\u001b[39m\u001b[34m(self, tasks, reraise, timeout, retry_policy, get_waiter, schedule_task)\u001b[39m\n\u001b[32m    155\u001b[39m t = tasks[\u001b[32m0\u001b[39m]\n\u001b[32m    156\u001b[39m \u001b[38;5;28;01mtry\u001b[39;00m:\n\u001b[32m--> \u001b[39m\u001b[32m157\u001b[39m     \u001b[43mrun_with_retry\u001b[49m\u001b[43m(\u001b[49m\n\u001b[32m    158\u001b[39m \u001b[43m        \u001b[49m\u001b[43mt\u001b[49m\u001b[43m,\u001b[49m\n\u001b[32m    159\u001b[39m \u001b[43m        \u001b[49m\u001b[43mretry_policy\u001b[49m\u001b[43m,\u001b[49m\n\u001b[32m    160\u001b[39m \u001b[43m        \u001b[49m\u001b[43mconfigurable\u001b[49m\u001b[43m=\u001b[49m\u001b[43m{\u001b[49m\n\u001b[32m    161\u001b[39m \u001b[43m            \u001b[49m\u001b[43mCONFIG_KEY_CALL\u001b[49m\u001b[43m:\u001b[49m\u001b[43m \u001b[49m\u001b[43mpartial\u001b[49m\u001b[43m(\u001b[49m\n\u001b[32m    162\u001b[39m \u001b[43m                \u001b[49m\u001b[43m_call\u001b[49m\u001b[43m,\u001b[49m\n\u001b[32m    163\u001b[39m \u001b[43m                \u001b[49m\u001b[43mweakref\u001b[49m\u001b[43m.\u001b[49m\u001b[43mref\u001b[49m\u001b[43m(\u001b[49m\u001b[43mt\u001b[49m\u001b[43m)\u001b[49m\u001b[43m,\u001b[49m\n\u001b[32m    164\u001b[39m \u001b[43m                \u001b[49m\u001b[43mretry\u001b[49m\u001b[43m=\u001b[49m\u001b[43mretry_policy\u001b[49m\u001b[43m,\u001b[49m\n\u001b[32m    165\u001b[39m \u001b[43m                \u001b[49m\u001b[43mfutures\u001b[49m\u001b[43m=\u001b[49m\u001b[43mweakref\u001b[49m\u001b[43m.\u001b[49m\u001b[43mref\u001b[49m\u001b[43m(\u001b[49m\u001b[43mfutures\u001b[49m\u001b[43m)\u001b[49m\u001b[43m,\u001b[49m\n\u001b[32m    166\u001b[39m \u001b[43m                \u001b[49m\u001b[43mschedule_task\u001b[49m\u001b[43m=\u001b[49m\u001b[43mschedule_task\u001b[49m\u001b[43m,\u001b[49m\n\u001b[32m    167\u001b[39m \u001b[43m                \u001b[49m\u001b[43msubmit\u001b[49m\u001b[43m=\u001b[49m\u001b[38;5;28;43mself\u001b[39;49m\u001b[43m.\u001b[49m\u001b[43msubmit\u001b[49m\u001b[43m,\u001b[49m\n\u001b[32m    168\u001b[39m \u001b[43m                \u001b[49m\u001b[43mreraise\u001b[49m\u001b[43m=\u001b[49m\u001b[43mreraise\u001b[49m\u001b[43m,\u001b[49m\n\u001b[32m    169\u001b[39m \u001b[43m            \u001b[49m\u001b[43m)\u001b[49m\u001b[43m,\u001b[49m\n\u001b[32m    170\u001b[39m \u001b[43m        \u001b[49m\u001b[43m}\u001b[49m\u001b[43m,\u001b[49m\n\u001b[32m    171\u001b[39m \u001b[43m    \u001b[49m\u001b[43m)\u001b[49m\n\u001b[32m    172\u001b[39m     \u001b[38;5;28mself\u001b[39m.commit(t, \u001b[38;5;28;01mNone\u001b[39;00m)\n\u001b[32m    173\u001b[39m \u001b[38;5;28;01mexcept\u001b[39;00m \u001b[38;5;167;01mException\u001b[39;00m \u001b[38;5;28;01mas\u001b[39;00m exc:\n",
      "\u001b[36mFile \u001b[39m\u001b[32mc:\\khajaclassroom\\GenerativeAI\\agenticai\\may25\\langgraph\\first_graph\\.venv\\Lib\\site-packages\\langgraph\\pregel\\retry.py:40\u001b[39m, in \u001b[36mrun_with_retry\u001b[39m\u001b[34m(task, retry_policy, configurable)\u001b[39m\n\u001b[32m     38\u001b[39m     task.writes.clear()\n\u001b[32m     39\u001b[39m     \u001b[38;5;66;03m# run the task\u001b[39;00m\n\u001b[32m---> \u001b[39m\u001b[32m40\u001b[39m     \u001b[38;5;28;01mreturn\u001b[39;00m \u001b[43mtask\u001b[49m\u001b[43m.\u001b[49m\u001b[43mproc\u001b[49m\u001b[43m.\u001b[49m\u001b[43minvoke\u001b[49m\u001b[43m(\u001b[49m\u001b[43mtask\u001b[49m\u001b[43m.\u001b[49m\u001b[43minput\u001b[49m\u001b[43m,\u001b[49m\u001b[43m \u001b[49m\u001b[43mconfig\u001b[49m\u001b[43m)\u001b[49m\n\u001b[32m     41\u001b[39m \u001b[38;5;28;01mexcept\u001b[39;00m ParentCommand \u001b[38;5;28;01mas\u001b[39;00m exc:\n\u001b[32m     42\u001b[39m     ns: \u001b[38;5;28mstr\u001b[39m = config[CONF][CONFIG_KEY_CHECKPOINT_NS]\n",
      "\u001b[36mFile \u001b[39m\u001b[32mc:\\khajaclassroom\\GenerativeAI\\agenticai\\may25\\langgraph\\first_graph\\.venv\\Lib\\site-packages\\langgraph\\utils\\runnable.py:377\u001b[39m, in \u001b[36mRunnableCallable.invoke\u001b[39m\u001b[34m(self, input, config, **kwargs)\u001b[39m\n\u001b[32m    375\u001b[39m         run_manager.on_chain_end(ret)\n\u001b[32m    376\u001b[39m \u001b[38;5;28;01melse\u001b[39;00m:\n\u001b[32m--> \u001b[39m\u001b[32m377\u001b[39m     ret = \u001b[38;5;28;43mself\u001b[39;49m\u001b[43m.\u001b[49m\u001b[43mfunc\u001b[49m\u001b[43m(\u001b[49m\u001b[43m*\u001b[49m\u001b[43margs\u001b[49m\u001b[43m,\u001b[49m\u001b[43m \u001b[49m\u001b[43m*\u001b[49m\u001b[43m*\u001b[49m\u001b[43mkwargs\u001b[49m\u001b[43m)\u001b[49m\n\u001b[32m    378\u001b[39m \u001b[38;5;28;01mif\u001b[39;00m \u001b[38;5;28mself\u001b[39m.recurse \u001b[38;5;129;01mand\u001b[39;00m \u001b[38;5;28misinstance\u001b[39m(ret, Runnable):\n\u001b[32m    379\u001b[39m     \u001b[38;5;28;01mreturn\u001b[39;00m ret.invoke(\u001b[38;5;28minput\u001b[39m, config)\n",
      "\u001b[36mFile \u001b[39m\u001b[32mc:\\khajaclassroom\\GenerativeAI\\agenticai\\may25\\langgraph\\first_graph\\.venv\\Lib\\site-packages\\langgraph\\pregel\\write.py:99\u001b[39m, in \u001b[36mChannelWrite._write\u001b[39m\u001b[34m(self, input, config)\u001b[39m\n\u001b[32m     90\u001b[39m \u001b[38;5;28;01mdef\u001b[39;00m\u001b[38;5;250m \u001b[39m\u001b[34m_write\u001b[39m(\u001b[38;5;28mself\u001b[39m, \u001b[38;5;28minput\u001b[39m: Any, config: RunnableConfig) -> \u001b[38;5;28;01mNone\u001b[39;00m:\n\u001b[32m     91\u001b[39m     writes = [\n\u001b[32m     92\u001b[39m         ChannelWriteEntry(write.channel, \u001b[38;5;28minput\u001b[39m, write.skip_none, write.mapper)\n\u001b[32m     93\u001b[39m         \u001b[38;5;28;01mif\u001b[39;00m \u001b[38;5;28misinstance\u001b[39m(write, ChannelWriteEntry) \u001b[38;5;129;01mand\u001b[39;00m write.value \u001b[38;5;129;01mis\u001b[39;00m PASSTHROUGH\n\u001b[32m   (...)\u001b[39m\u001b[32m     97\u001b[39m         \u001b[38;5;28;01mfor\u001b[39;00m write \u001b[38;5;129;01min\u001b[39;00m \u001b[38;5;28mself\u001b[39m.writes\n\u001b[32m     98\u001b[39m     ]\n\u001b[32m---> \u001b[39m\u001b[32m99\u001b[39m     \u001b[38;5;28;43mself\u001b[39;49m\u001b[43m.\u001b[49m\u001b[43mdo_write\u001b[49m\u001b[43m(\u001b[49m\n\u001b[32m    100\u001b[39m \u001b[43m        \u001b[49m\u001b[43mconfig\u001b[49m\u001b[43m,\u001b[49m\n\u001b[32m    101\u001b[39m \u001b[43m        \u001b[49m\u001b[43mwrites\u001b[49m\u001b[43m,\u001b[49m\n\u001b[32m    102\u001b[39m \u001b[43m    \u001b[49m\u001b[43m)\u001b[49m\n\u001b[32m    103\u001b[39m     \u001b[38;5;28;01mreturn\u001b[39;00m \u001b[38;5;28minput\u001b[39m\n",
      "\u001b[36mFile \u001b[39m\u001b[32mc:\\khajaclassroom\\GenerativeAI\\agenticai\\may25\\langgraph\\first_graph\\.venv\\Lib\\site-packages\\langgraph\\pregel\\write.py:142\u001b[39m, in \u001b[36mChannelWrite.do_write\u001b[39m\u001b[34m(config, writes, allow_passthrough, require_at_least_one_of)\u001b[39m\n\u001b[32m    139\u001b[39m \u001b[38;5;66;03m# if we want to persist writes found before hitting a ParentCommand\u001b[39;00m\n\u001b[32m    140\u001b[39m \u001b[38;5;66;03m# can move this to a finally block\u001b[39;00m\n\u001b[32m    141\u001b[39m write: TYPE_SEND = config[CONF][CONFIG_KEY_SEND]\n\u001b[32m--> \u001b[39m\u001b[32m142\u001b[39m write(\u001b[43m_assemble_writes\u001b[49m\u001b[43m(\u001b[49m\u001b[43mwrites\u001b[49m\u001b[43m)\u001b[49m)\n",
      "\u001b[36mFile \u001b[39m\u001b[32mc:\\khajaclassroom\\GenerativeAI\\agenticai\\may25\\langgraph\\first_graph\\.venv\\Lib\\site-packages\\langgraph\\pregel\\write.py:199\u001b[39m, in \u001b[36m_assemble_writes\u001b[39m\u001b[34m(writes)\u001b[39m\n\u001b[32m    197\u001b[39m     tuples.append((TASKS, w))\n\u001b[32m    198\u001b[39m \u001b[38;5;28;01melif\u001b[39;00m \u001b[38;5;28misinstance\u001b[39m(w, ChannelWriteTupleEntry):\n\u001b[32m--> \u001b[39m\u001b[32m199\u001b[39m     \u001b[38;5;28;01mif\u001b[39;00m ww := \u001b[43mw\u001b[49m\u001b[43m.\u001b[49m\u001b[43mmapper\u001b[49m\u001b[43m(\u001b[49m\u001b[43mw\u001b[49m\u001b[43m.\u001b[49m\u001b[43mvalue\u001b[49m\u001b[43m)\u001b[49m:\n\u001b[32m    200\u001b[39m         tuples.extend(ww)\n\u001b[32m    201\u001b[39m \u001b[38;5;28;01melif\u001b[39;00m \u001b[38;5;28misinstance\u001b[39m(w, ChannelWriteEntry):\n",
      "\u001b[36mFile \u001b[39m\u001b[32mc:\\khajaclassroom\\GenerativeAI\\agenticai\\may25\\langgraph\\first_graph\\.venv\\Lib\\site-packages\\langgraph\\graph\\state.py:770\u001b[39m, in \u001b[36mCompiledStateGraph.attach_node.<locals>._get_updates\u001b[39m\u001b[34m(input)\u001b[39m\n\u001b[32m    765\u001b[39m \u001b[38;5;28;01melse\u001b[39;00m:\n\u001b[32m    766\u001b[39m     msg = create_error_message(\n\u001b[32m    767\u001b[39m         message=\u001b[33mf\u001b[39m\u001b[33m\"\u001b[39m\u001b[33mExpected dict, got \u001b[39m\u001b[38;5;132;01m{\u001b[39;00m\u001b[38;5;28minput\u001b[39m\u001b[38;5;132;01m}\u001b[39;00m\u001b[33m\"\u001b[39m,\n\u001b[32m    768\u001b[39m         error_code=ErrorCode.INVALID_GRAPH_NODE_RETURN_VALUE,\n\u001b[32m    769\u001b[39m     )\n\u001b[32m--> \u001b[39m\u001b[32m770\u001b[39m     \u001b[38;5;28;01mraise\u001b[39;00m InvalidUpdateError(msg)\n",
      "\u001b[31mInvalidUpdateError\u001b[39m: Expected dict, got {'', 'message'}\nFor troubleshooting, visit: https://python.langchain.com/docs/troubleshooting/errors/INVALID_GRAPH_NODE_RETURN_VALUE",
      "During task with name '__start__' and id 'd6bdcd13-cb9f-b1be-fa00-6712d8915391'"
     ]
    }
   ],
   "source": [
    "result = graph.invoke({\"message\", \"\"})"
   ]
  },
  {
   "cell_type": "code",
   "execution_count": null,
   "id": "a5658661",
   "metadata": {},
   "outputs": [],
   "source": [
    "from operator import add\n",
    "from typing import Annotated\n",
    "class UpdatedGraphState(TypedDict):\n",
    "    messages: Annotated[str,add]"
   ]
  },
  {
   "cell_type": "code",
   "execution_count": null,
   "id": "c916d784",
   "metadata": {},
   "outputs": [],
   "source": [
    "def node_a(state: UpdatedGraphState) -> UpdatedGraphState:\n",
    "    state['messages'] = \"Im in Node A \"\n",
    "    return state\n",
    "\n",
    "def node_b(state: UpdatedGraphState) -> UpdatedGraphState:\n",
    "    state['messages'] = \"Im in Node B \" \n",
    "    return state\n",
    "\n",
    "def node_c(state: UpdatedGraphState) -> UpdatedGraphState:\n",
    "    state['messages'] = \"Im in Node C \"\n",
    "    return state"
   ]
  },
  {
   "cell_type": "code",
   "execution_count": null,
   "id": "5a6b9dcd",
   "metadata": {},
   "outputs": [],
   "source": [
    "graph_builder = StateGraph(UpdatedGraphState)\n",
    "graph_builder.set_entry_point(\"A\")\n",
    "graph_builder.add_node(\"A\", node_a )\n",
    "graph_builder.add_node(\"B\", node_b )\n",
    "graph_builder.add_node(\"C\", node_c )\n",
    "graph_builder.add_edge(\"A\", \"B\")\n",
    "graph_builder.add_edge(\"A\", \"C\")\n",
    "graph_builder.set_finish_point(\"B\")\n",
    "graph_builder.set_finish_point(\"C\")\n",
    "graph = graph_builder.compile()"
   ]
  },
  {
   "cell_type": "code",
   "execution_count": null,
   "id": "2bc538a0",
   "metadata": {},
   "outputs": [
    {
     "data": {
      "image/png": "[encoded data removed]",
      "text/plain": [
       "<IPython.core.display.Image object>"
      ]
     },
     "metadata": {},
     "output_type": "display_data"
    }
   ],
   "source": [
    "draw_graph(graph)"
   ]
  },
  {
   "cell_type": "code",
   "execution_count": null,
   "id": "da9f513e",
   "metadata": {},
   "outputs": [],
   "source": [
    "result = graph.invoke({\"messages\": \"\"})"
   ]
  },
  {
   "cell_type": "code",
   "execution_count": null,
   "id": "f33c8132",
   "metadata": {},
   "outputs": [
    {
     "name": "stdout",
     "output_type": "stream",
     "text": [
      "{'messages': 'Im in Node A Im in Node B Im in Node C '}\n"
     ]
    }
   ],
   "source": [
    "print(result)\n"
   ]
  },
  {
   "cell_type": "code",
   "execution_count": null,
   "id": "9a8a8bfe",
   "metadata": {},
   "outputs": [],
   "source": [
    "from langchain_core.messages import AIMessage, HumanMessage, SystemMessage, AnyMessage"
   ]
  },
  {
   "cell_type": "code",
   "execution_count": null,
   "id": "c939533c",
   "metadata": {},
   "outputs": [],
   "source": [
    "from langgraph.graph import add_messages"
   ]
  },
  {
   "cell_type": "code",
   "execution_count": null,
   "id": "ed855c76",
   "metadata": {},
   "outputs": [],
   "source": [
    "messages = []"
   ]
  },
  {
   "cell_type": "code",
   "execution_count": null,
   "id": "4bb15dbf",
   "metadata": {},
   "outputs": [],
   "source": [
    "messages = add_messages(messages,[HumanMessage(\"How are you\")])"
   ]
  },
  {
   "cell_type": "code",
   "execution_count": null,
   "id": "8c44ffcd",
   "metadata": {},
   "outputs": [
    {
     "data": {
      "text/plain": [
       "[HumanMessage(content='How are you', additional_kwargs={}, response_metadata={}, id='cde88fc2-54d4-40ff-b2b4-db49180310e5')]"
      ]
     },
     "execution_count": 66,
     "metadata": {},
     "output_type": "execute_result"
    }
   ],
   "source": [
    "messages"
   ]
  },
  {
   "cell_type": "code",
   "execution_count": null,
   "id": "ee557749",
   "metadata": {},
   "outputs": [],
   "source": [
    "messages = add_messages(messages,[HumanMessage(\"What are you\"), AIMessage(\"Im an LLM\"), HumanMessage(\"What is LLM?\")])"
   ]
  },
  {
   "cell_type": "code",
   "execution_count": null,
   "id": "d38b6300",
   "metadata": {},
   "outputs": [
    {
     "data": {
      "text/plain": [
       "[HumanMessage(content='How are you', additional_kwargs={}, response_metadata={}, id='cde88fc2-54d4-40ff-b2b4-db49180310e5'),\n",
       " HumanMessage(content='What are you', additional_kwargs={}, response_metadata={}, id='9e1172ea-afcb-490a-9d43-e9ee6bb96c5f'),\n",
       " AIMessage(content='Im an LLM', additional_kwargs={}, response_metadata={}, id='c70563f8-8896-41d3-976e-511db9018045'),\n",
       " HumanMessage(content='What is LLM?', additional_kwargs={}, response_metadata={}, id='841611d3-df3e-4bd1-9b6d-643767c03117')]"
      ]
     },
     "execution_count": 68,
     "metadata": {},
     "output_type": "execute_result"
    }
   ],
   "source": [
    "messages"
   ]
  },
  {
   "cell_type": "code",
   "execution_count": null,
   "id": "c0e65154",
   "metadata": {},
   "outputs": [
    {
     "data": {
      "text/plain": [
       "SystemMessage(content='You are an helpful assitant', additional_kwargs={}, response_metadata={})"
      ]
     },
     "execution_count": 69,
     "metadata": {},
     "output_type": "execute_result"
    }
   ],
   "source": [
    "my_message = SystemMessage(\"You are an helpful assitant\")\n",
    "my_message"
   ]
  },
  {
   "cell_type": "code",
   "execution_count": null,
   "id": "6f204232",
   "metadata": {},
   "outputs": [
    {
     "data": {
      "text/plain": [
       "[HumanMessage(content='How are you', additional_kwargs={}, response_metadata={}, id='cde88fc2-54d4-40ff-b2b4-db49180310e5'),\n",
       " HumanMessage(content='What are you', additional_kwargs={}, response_metadata={}, id='9e1172ea-afcb-490a-9d43-e9ee6bb96c5f'),\n",
       " AIMessage(content='Im an LLM', additional_kwargs={}, response_metadata={}, id='c70563f8-8896-41d3-976e-511db9018045'),\n",
       " HumanMessage(content='What is LLM?', additional_kwargs={}, response_metadata={}, id='841611d3-df3e-4bd1-9b6d-643767c03117')]"
      ]
     },
     "execution_count": 70,
     "metadata": {},
     "output_type": "execute_result"
    }
   ],
   "source": [
    "messages"
   ]
  },
  {
   "cell_type": "code",
   "execution_count": null,
   "id": "6b139059",
   "metadata": {},
   "outputs": [
    {
     "data": {
      "text/plain": [
       "[HumanMessage(content='How are you', additional_kwargs={}, response_metadata={}, id='cde88fc2-54d4-40ff-b2b4-db49180310e5'),\n",
       " HumanMessage(content='What are you', additional_kwargs={}, response_metadata={}, id='9e1172ea-afcb-490a-9d43-e9ee6bb96c5f'),\n",
       " AIMessage(content='Im an LLM', additional_kwargs={}, response_metadata={}, id='c70563f8-8896-41d3-976e-511db9018045'),\n",
       " HumanMessage(content='What is LLM?', additional_kwargs={}, response_metadata={}, id='841611d3-df3e-4bd1-9b6d-643767c03117'),\n",
       " SystemMessage(content='You are an helpful assitant', additional_kwargs={}, response_metadata={}, id='3b778f19-493c-45a2-a1bc-25b50d1b7fb3')]"
      ]
     },
     "execution_count": 71,
     "metadata": {},
     "output_type": "execute_result"
    }
   ],
   "source": [
    "messages = add_messages(messages,[my_message])\n",
    "messages"
   ]
  },
  {
   "cell_type": "code",
   "execution_count": null,
   "id": "114b477d",
   "metadata": {},
   "outputs": [
    {
     "data": {
      "text/plain": [
       "[HumanMessage(content='How are you', additional_kwargs={}, response_metadata={}, id='cde88fc2-54d4-40ff-b2b4-db49180310e5'),\n",
       " HumanMessage(content='What are you', additional_kwargs={}, response_metadata={}, id='9e1172ea-afcb-490a-9d43-e9ee6bb96c5f'),\n",
       " AIMessage(content='Im an LLM', additional_kwargs={}, response_metadata={}, id='c70563f8-8896-41d3-976e-511db9018045'),\n",
       " HumanMessage(content='What is LLM?', additional_kwargs={}, response_metadata={}, id='841611d3-df3e-4bd1-9b6d-643767c03117'),\n",
       " SystemMessage(content='You are an helpful assitant', additional_kwargs={}, response_metadata={}, id='3b778f19-493c-45a2-a1bc-25b50d1b7fb3')]"
      ]
     },
     "execution_count": 72,
     "metadata": {},
     "output_type": "execute_result"
    }
   ],
   "source": [
    "messages = add_messages(messages,[my_message])\n",
    "messages"
   ]
  },
  {
   "cell_type": "code",
   "execution_count": null,
   "id": "e1c33a48",
   "metadata": {},
   "outputs": [
    {
     "data": {
      "text/plain": [
       "[HumanMessage(content='How are you', additional_kwargs={}, response_metadata={}, id='cde88fc2-54d4-40ff-b2b4-db49180310e5'),\n",
       " HumanMessage(content='What are you', additional_kwargs={}, response_metadata={}, id='9e1172ea-afcb-490a-9d43-e9ee6bb96c5f'),\n",
       " AIMessage(content='Im an LLM', additional_kwargs={}, response_metadata={}, id='c70563f8-8896-41d3-976e-511db9018045'),\n",
       " HumanMessage(content='What is LLM?', additional_kwargs={}, response_metadata={}, id='841611d3-df3e-4bd1-9b6d-643767c03117'),\n",
       " SystemMessage(content='You are an helpful assitant', additional_kwargs={}, response_metadata={}, id='3b778f19-493c-45a2-a1bc-25b50d1b7fb3'),\n",
       " SystemMessage(content='You are an helpful assitant', additional_kwargs={}, response_metadata={}, id='0c663131-098d-4596-a09f-64fddc2d9544')]"
      ]
     },
     "execution_count": 73,
     "metadata": {},
     "output_type": "execute_result"
    }
   ],
   "source": [
    "messages = add_messages(messages,[SystemMessage(\"You are an helpful assitant\")])\n",
    "messages"
   ]
  },
  {
   "cell_type": "code",
   "execution_count": null,
   "id": "73e67cb5",
   "metadata": {},
   "outputs": [],
   "source": [
    "class MessageUpdateState(TypedDict):\n",
    "    messages: Annotated[list[AnyMessage], add_messages]"
   ]
  },
  {
   "cell_type": "code",
   "execution_count": null,
   "id": "077a2327",
   "metadata": {},
   "outputs": [],
   "source": [
    "def node_a(state: MessageUpdateState) -> MessageUpdateState:\n",
    "    state['messages'] = HumanMessage('Who are you')\n",
    "    return state"
   ]
  },
  {
   "cell_type": "code",
   "execution_count": null,
   "id": "1e45e5f1",
   "metadata": {},
   "outputs": [],
   "source": [
    "def node_b(state: MessageUpdateState) -> MessageUpdateState:\n",
    "    state['messages'] = HumanMessage('Why are you')\n",
    "    return state"
   ]
  },
  {
   "cell_type": "code",
   "execution_count": null,
   "id": "4c56ed3d",
   "metadata": {},
   "outputs": [],
   "source": [
    "def node_c(state: MessageUpdateState) -> MessageUpdateState:\n",
    "    state['messages'] = HumanMessage('What are you')\n",
    "    return state"
   ]
  },
  {
   "cell_type": "code",
   "execution_count": null,
   "id": "bf264905",
   "metadata": {},
   "outputs": [],
   "source": [
    "message_graph_builder = StateGraph(MessageUpdateState)\n",
    "message_graph_builder.add_node(\"A\", node_a)\n",
    "message_graph_builder.add_node(\"B\", node_b)\n",
    "message_graph_builder.add_node(\"C\", node_c)\n",
    "message_graph_builder.add_edge(START, \"A\")\n",
    "message_graph_builder.add_edge(START, \"B\")\n",
    "message_graph_builder.add_edge(START, \"C\")\n",
    "message_graph_builder.set_finish_point(\"A\")\n",
    "message_graph_builder.set_finish_point(\"B\")\n",
    "message_graph_builder.set_finish_point(\"C\")\n",
    "message_graph = message_graph_builder.compile()"
   ]
  },
  {
   "cell_type": "code",
   "execution_count": null,
   "id": "efcc0eaf",
   "metadata": {},
   "outputs": [
    {
     "data": {
      "image/png": "[encoded data removed]",
      "text/plain": [
       "<IPython.core.display.Image object>"
      ]
     },
     "metadata": {},
     "output_type": "display_data"
    }
   ],
   "source": [
    "draw_graph(message_graph)"
   ]
  },
  {
   "cell_type": "code",
   "execution_count": null,
   "id": "3d1c1c2f",
   "metadata": {},
   "outputs": [],
   "source": [
    "result = message_graph.invoke({\"messages\": []})"
   ]
  },
  {
   "cell_type": "code",
   "execution_count": null,
   "id": "ea6e32d9",
   "metadata": {},
   "outputs": [
    {
     "data": {
      "text/plain": [
       "{'messages': [HumanMessage(content='Who are you', additional_kwargs={}, response_metadata={}, id='da88e568-2b35-473a-9981-f64b42469ffe'),\n",
       "  HumanMessage(content='Why are you', additional_kwargs={}, response_metadata={}, id='854e545c-42e1-4424-9939-698b98a3018d'),\n",
       "  HumanMessage(content='What are you', additional_kwargs={}, response_metadata={}, id='6ce4a345-6791-420b-bd81-dc5a32014584')]}"
      ]
     },
     "execution_count": 103,
     "metadata": {},
     "output_type": "execute_result"
    }
   ],
   "source": [
    "result"
   ]
  },
  {
   "cell_type": "code",
   "execution_count": null,
   "id": "91e025be",
   "metadata": {},
   "outputs": [
    {
     "data": {
      "text/plain": [
       "[HumanMessage(content='Who are you', additional_kwargs={}, response_metadata={}, id='da88e568-2b35-473a-9981-f64b42469ffe'),\n",
       " HumanMessage(content='Why are you', additional_kwargs={}, response_metadata={}, id='854e545c-42e1-4424-9939-698b98a3018d'),\n",
       " HumanMessage(content='What are you', additional_kwargs={}, response_metadata={}, id='6ce4a345-6791-420b-bd81-dc5a32014584')]"
      ]
     },
     "execution_count": 104,
     "metadata": {},
     "output_type": "execute_result"
    }
   ],
   "source": [
    "result['messages']"
   ]
  },
  {
   "cell_type": "code",
   "execution_count": null,
   "id": "7733e6a3",
   "metadata": {},
   "outputs": [],
   "source": [
    "result = message_graph.invoke({\"messages\": result['messages'] })"
   ]
  },
  {
   "cell_type": "code",
   "execution_count": null,
   "id": "2cca4872",
   "metadata": {},
   "outputs": [
    {
     "data": {
      "text/plain": [
       "[HumanMessage(content='Who are you', additional_kwargs={}, response_metadata={}, id='da88e568-2b35-473a-9981-f64b42469ffe'),\n",
       " HumanMessage(content='Why are you', additional_kwargs={}, response_metadata={}, id='854e545c-42e1-4424-9939-698b98a3018d'),\n",
       " HumanMessage(content='What are you', additional_kwargs={}, response_metadata={}, id='6ce4a345-6791-420b-bd81-dc5a32014584'),\n",
       " HumanMessage(content='Who are you', additional_kwargs={}, response_metadata={}, id='caa6428d-7f74-4ae7-aa6a-5493fd630bde'),\n",
       " HumanMessage(content='Why are you', additional_kwargs={}, response_metadata={}, id='f6bb8334-420f-4b17-8ca6-159ede910ba8'),\n",
       " HumanMessage(content='What are you', additional_kwargs={}, response_metadata={}, id='7f57245d-5675-4ec2-a8f0-b057b3fd15b4')]"
      ]
     },
     "execution_count": 106,
     "metadata": {},
     "output_type": "execute_result"
    }
   ],
   "source": [
    "result['messages']"
   ]
  },
  {
   "cell_type": "code",
   "execution_count": null,
   "id": "204d2df7",
   "metadata": {},
   "outputs": [],
   "source": [
    "result = message_graph.invoke({\"messages\": result['messages'] })"
   ]
  },
  {
   "cell_type": "code",
   "execution_count": null,
   "id": "be6e7af8",
   "metadata": {},
   "outputs": [
    {
     "data": {
      "text/plain": [
       "[HumanMessage(content='Who are you', additional_kwargs={}, response_metadata={}, id='da88e568-2b35-473a-9981-f64b42469ffe'),\n",
       " HumanMessage(content='Why are you', additional_kwargs={}, response_metadata={}, id='854e545c-42e1-4424-9939-698b98a3018d'),\n",
       " HumanMessage(content='What are you', additional_kwargs={}, response_metadata={}, id='6ce4a345-6791-420b-bd81-dc5a32014584'),\n",
       " HumanMessage(content='Who are you', additional_kwargs={}, response_metadata={}, id='caa6428d-7f74-4ae7-aa6a-5493fd630bde'),\n",
       " HumanMessage(content='Why are you', additional_kwargs={}, response_metadata={}, id='f6bb8334-420f-4b17-8ca6-159ede910ba8'),\n",
       " HumanMessage(content='What are you', additional_kwargs={}, response_metadata={}, id='7f57245d-5675-4ec2-a8f0-b057b3fd15b4'),\n",
       " HumanMessage(content='Who are you', additional_kwargs={}, response_metadata={}, id='32ca4ded-94f1-4202-9060-28cdb047eec1'),\n",
       " HumanMessage(content='Why are you', additional_kwargs={}, response_metadata={}, id='e8405eac-120e-4d12-829d-10f2dbd004d4'),\n",
       " HumanMessage(content='What are you', additional_kwargs={}, response_metadata={}, id='92700593-f462-4ba1-9af7-31352a5c7126')]"
      ]
     },
     "execution_count": 108,
     "metadata": {},
     "output_type": "execute_result"
    }
   ],
   "source": [
    "result['messages']"
   ]
  },
  {
   "cell_type": "code",
   "execution_count": null,
   "id": "fc308493",
   "metadata": {},
   "outputs": [],
   "source": [
    "# Whatever we have done in above steps is already implemented as MessagesState"
   ]
  },
  {
   "cell_type": "code",
   "execution_count": null,
   "id": "ee50930c",
   "metadata": {},
   "outputs": [],
   "source": [
    "from langchain_core.messages import RemoveMessage"
   ]
  },
  {
   "cell_type": "code",
   "execution_count": null,
   "id": "c68708ff",
   "metadata": {},
   "outputs": [
    {
     "data": {
      "text/plain": [
       "[HumanMessage(content='Who are you', additional_kwargs={}, response_metadata={}, id='da88e568-2b35-473a-9981-f64b42469ffe'),\n",
       " HumanMessage(content='Why are you', additional_kwargs={}, response_metadata={}, id='854e545c-42e1-4424-9939-698b98a3018d'),\n",
       " HumanMessage(content='What are you', additional_kwargs={}, response_metadata={}, id='6ce4a345-6791-420b-bd81-dc5a32014584'),\n",
       " HumanMessage(content='Who are you', additional_kwargs={}, response_metadata={}, id='caa6428d-7f74-4ae7-aa6a-5493fd630bde'),\n",
       " HumanMessage(content='Why are you', additional_kwargs={}, response_metadata={}, id='f6bb8334-420f-4b17-8ca6-159ede910ba8'),\n",
       " HumanMessage(content='What are you', additional_kwargs={}, response_metadata={}, id='7f57245d-5675-4ec2-a8f0-b057b3fd15b4'),\n",
       " HumanMessage(content='Who are you', additional_kwargs={}, response_metadata={}, id='32ca4ded-94f1-4202-9060-28cdb047eec1'),\n",
       " HumanMessage(content='Why are you', additional_kwargs={}, response_metadata={}, id='e8405eac-120e-4d12-829d-10f2dbd004d4'),\n",
       " HumanMessage(content='What are you', additional_kwargs={}, response_metadata={}, id='92700593-f462-4ba1-9af7-31352a5c7126')]"
      ]
     },
     "execution_count": 122,
     "metadata": {},
     "output_type": "execute_result"
    }
   ],
   "source": [
    "messages = result['messages']\n",
    "messages"
   ]
  },
  {
   "cell_type": "code",
   "execution_count": null,
   "id": "dbff1ee9",
   "metadata": {},
   "outputs": [
    {
     "data": {
      "text/plain": [
       "['da88e568-2b35-473a-9981-f64b42469ffe',\n",
       " '854e545c-42e1-4424-9939-698b98a3018d',\n",
       " '6ce4a345-6791-420b-bd81-dc5a32014584',\n",
       " 'caa6428d-7f74-4ae7-aa6a-5493fd630bde',\n",
       " 'f6bb8334-420f-4b17-8ca6-159ede910ba8',\n",
       " '7f57245d-5675-4ec2-a8f0-b057b3fd15b4',\n",
       " '32ca4ded-94f1-4202-9060-28cdb047eec1',\n",
       " 'e8405eac-120e-4d12-829d-10f2dbd004d4',\n",
       " '92700593-f462-4ba1-9af7-31352a5c7126']"
      ]
     },
     "execution_count": 128,
     "metadata": {},
     "output_type": "execute_result"
    }
   ],
   "source": [
    "all_ids = [message.id for message in result['messages']]\n",
    "all_ids"
   ]
  },
  {
   "cell_type": "code",
   "execution_count": null,
   "id": "29380834",
   "metadata": {},
   "outputs": [
    {
     "data": {
      "text/plain": [
       "['da88e568-2b35-473a-9981-f64b42469ffe',\n",
       " '854e545c-42e1-4424-9939-698b98a3018d',\n",
       " '6ce4a345-6791-420b-bd81-dc5a32014584',\n",
       " 'caa6428d-7f74-4ae7-aa6a-5493fd630bde',\n",
       " 'f6bb8334-420f-4b17-8ca6-159ede910ba8',\n",
       " '7f57245d-5675-4ec2-a8f0-b057b3fd15b4']"
      ]
     },
     "execution_count": 130,
     "metadata": {},
     "output_type": "execute_result"
    }
   ],
   "source": [
    "deleted_ids = [message.id for message in result['messages'][:-3]]\n",
    "deleted_ids"
   ]
  },
  {
   "cell_type": "code",
   "execution_count": null,
   "id": "09df34c6",
   "metadata": {},
   "outputs": [
    {
     "data": {
      "text/plain": [
       "[RemoveMessage(content='', additional_kwargs={}, response_metadata={}, id='da88e568-2b35-473a-9981-f64b42469ffe'),\n",
       " RemoveMessage(content='', additional_kwargs={}, response_metadata={}, id='854e545c-42e1-4424-9939-698b98a3018d'),\n",
       " RemoveMessage(content='', additional_kwargs={}, response_metadata={}, id='6ce4a345-6791-420b-bd81-dc5a32014584'),\n",
       " RemoveMessage(content='', additional_kwargs={}, response_metadata={}, id='caa6428d-7f74-4ae7-aa6a-5493fd630bde'),\n",
       " RemoveMessage(content='', additional_kwargs={}, response_metadata={}, id='f6bb8334-420f-4b17-8ca6-159ede910ba8'),\n",
       " RemoveMessage(content='', additional_kwargs={}, response_metadata={}, id='7f57245d-5675-4ec2-a8f0-b057b3fd15b4')]"
      ]
     },
     "execution_count": 131,
     "metadata": {},
     "output_type": "execute_result"
    }
   ],
   "source": [
    "deleted_messages = [ RemoveMessage(id=message.id) for message in result['messages'][:-3] ]\n"
   ]
  },
  {
   "cell_type": "code",
   "execution_count": null,
   "id": "fa464ec8",
   "metadata": {},
   "outputs": [],
   "source": [
    "messsages = add_messages(deleted_messages,result['messages'] )"
   ]
  },
  {
   "cell_type": "code",
   "execution_count": null,
   "id": "21e8b218",
   "metadata": {},
   "outputs": [
    {
     "data": {
      "text/plain": [
       "[HumanMessage(content='Who are you', additional_kwargs={}, response_metadata={}, id='da88e568-2b35-473a-9981-f64b42469ffe'),\n",
       " HumanMessage(content='Why are you', additional_kwargs={}, response_metadata={}, id='854e545c-42e1-4424-9939-698b98a3018d'),\n",
       " HumanMessage(content='What are you', additional_kwargs={}, response_metadata={}, id='6ce4a345-6791-420b-bd81-dc5a32014584'),\n",
       " HumanMessage(content='Who are you', additional_kwargs={}, response_metadata={}, id='caa6428d-7f74-4ae7-aa6a-5493fd630bde'),\n",
       " HumanMessage(content='Why are you', additional_kwargs={}, response_metadata={}, id='f6bb8334-420f-4b17-8ca6-159ede910ba8'),\n",
       " HumanMessage(content='What are you', additional_kwargs={}, response_metadata={}, id='7f57245d-5675-4ec2-a8f0-b057b3fd15b4'),\n",
       " HumanMessage(content='Who are you', additional_kwargs={}, response_metadata={}, id='32ca4ded-94f1-4202-9060-28cdb047eec1'),\n",
       " HumanMessage(content='Why are you', additional_kwargs={}, response_metadata={}, id='e8405eac-120e-4d12-829d-10f2dbd004d4'),\n",
       " HumanMessage(content='What are you', additional_kwargs={}, response_metadata={}, id='92700593-f462-4ba1-9af7-31352a5c7126')]"
      ]
     },
     "execution_count": 133,
     "metadata": {},
     "output_type": "execute_result"
    }
   ],
   "source": [
    "messages"
   ]
  },
  {
   "cell_type": "code",
   "execution_count": 186,
   "id": "6f4be2db",
   "metadata": {},
   "outputs": [],
   "source": [
    "def previous_n_messages(\n",
    "        left: list[AnyMessage], \n",
    "        right: list[AnyMessage],\n",
    "       ) -> list[AnyMessage]:\n",
    "    if not isinstance(left, list):\n",
    "        left = [left]\n",
    "    if not isinstance(right, list):\n",
    "        right = [right]\n",
    "\n",
    "    all = left + right\n",
    "    return all[-3:]\n"
   ]
  },
  {
   "cell_type": "code",
   "execution_count": 187,
   "id": "6b9c72c3",
   "metadata": {},
   "outputs": [],
   "source": [
    "left_messages = [\n",
    "    HumanMessage('Question 1'),\n",
    "    HumanMessage('Question 2'),\n",
    "    HumanMessage('Question 3'),\n",
    "    HumanMessage('Question 4'),\n",
    "]\n",
    "\n",
    "right_messages = [\n",
    "    HumanMessage('Question 5'),\n",
    "]\n",
    "\n"
   ]
  },
  {
   "cell_type": "code",
   "execution_count": 188,
   "id": "79f0ef4c",
   "metadata": {},
   "outputs": [
    {
     "data": {
      "text/plain": [
       "[HumanMessage(content='Question 3', additional_kwargs={}, response_metadata={}),\n",
       " HumanMessage(content='Question 4', additional_kwargs={}, response_metadata={}),\n",
       " HumanMessage(content='Question 5', additional_kwargs={}, response_metadata={})]"
      ]
     },
     "execution_count": 188,
     "metadata": {},
     "output_type": "execute_result"
    }
   ],
   "source": [
    "previous_n_messages(left_messages, right_messages)"
   ]
  },
  {
   "cell_type": "code",
   "execution_count": 190,
   "id": "42af548b",
   "metadata": {},
   "outputs": [],
   "source": [
    "class MyMessageState(TypedDict):\n",
    "    messages: Annotated[ list[AnyMessage], previous_n_messages]"
   ]
  },
  {
   "cell_type": "code",
   "execution_count": 191,
   "id": "a22dd931",
   "metadata": {},
   "outputs": [],
   "source": [
    "def node_1(state: MyMessageState)-> MyMessageState:\n",
    "    state['messages'] = HumanMessage('I,m node 1')\n",
    "    return state\n",
    "\n",
    "def node_2(state: MyMessageState)-> MyMessageState:\n",
    "    state['messages'] = HumanMessage('I,m node 2')\n",
    "    return state\n",
    "\n",
    "def node_3(state: MyMessageState)-> MyMessageState:\n",
    "    state['messages'] = HumanMessage('I,m node 3')\n",
    "    return state\n",
    "\n",
    "\n"
   ]
  },
  {
   "cell_type": "code",
   "execution_count": 192,
   "id": "7f7ab632",
   "metadata": {},
   "outputs": [],
   "source": [
    "my_graph_builder = StateGraph(MyMessageState)\n",
    "my_graph_builder.add_node(\"1\", node_1)\n",
    "my_graph_builder.add_node(\"2\", node_2)\n",
    "my_graph_builder.add_node(\"3\", node_3)\n",
    "my_graph_builder.set_entry_point(\"1\")\n",
    "my_graph_builder.add_edge(\"1\", \"2\")\n",
    "my_graph_builder.add_edge(\"2\", \"3\")\n",
    "my_graph_builder.set_finish_point(\"3\")\n",
    "my_graph = my_graph_builder.compile()"
   ]
  },
  {
   "cell_type": "code",
   "execution_count": 193,
   "id": "f2f89ebc",
   "metadata": {},
   "outputs": [
    {
     "data": {
      "image/png": "[encoded data removed]",
      "text/plain": [
       "<IPython.core.display.Image object>"
      ]
     },
     "metadata": {},
     "output_type": "display_data"
    }
   ],
   "source": [
    "draw_graph(my_graph)"
   ]
  },
  {
   "cell_type": "code",
   "execution_count": 194,
   "id": "753ea4fb",
   "metadata": {},
   "outputs": [],
   "source": [
    "results = my_graph.invoke({\"messages\": HumanMessage('Hi')})"
   ]
  },
  {
   "cell_type": "code",
   "execution_count": null,
   "id": "d75531e4",
   "metadata": {},
   "outputs": [
    {
     "data": {
      "text/plain": [
       "{'messages': [HumanMessage(content='I,m node 1', additional_kwargs={}, response_metadata={}),\n",
       "  HumanMessage(content='I,m node 2', additional_kwargs={}, response_metadata={}),\n",
       "  HumanMessage(content='I,m node 3', additional_kwargs={}, response_metadata={})]}"
      ]
     },
     "execution_count": 195,
     "metadata": {},
     "output_type": "execute_result"
    }
   ],
   "source": [
    "results"
   ]
  },
  {
   "cell_type": "code",
   "execution_count": null,
   "id": "e8e320e2",
   "metadata": {},
   "outputs": [
    {
     "ename": "",
     "evalue": "",
     "output_type": "error",
     "traceback": [
      "\u001b[1;31mThe Kernel crashed while executing code in the current cell or a previous cell. \n",
      "\u001b[1;31mPlease review the code in the cell(s) to identify a possible cause of the failure. \n",
      "\u001b[1;31mClick <a href='https://aka.ms/vscodeJupyterKernelCrash'>here</a> for more info. \n",
      "\u001b[1;31mView Jupyter <a href='command:jupyter.viewOutput'>log</a> for further details."
     ]
    }
   ],
   "source": [
    "results = my_graph.invoke({\"messages\": results['messages']})"
   ]
  }
 ],
 "metadata": {
  "kernelspec": {
   "display_name": ".venv",
   "language": "python",
   "name": "python3"
  },
  "language_info": {
   "codemirror_mode": {
    "name": "ipython",
    "version": 3
   },
   "file_extension": ".py",
   "mimetype": "text/x-python",
   "name": "python",
   "nbconvert_exporter": "python",
   "pygments_lexer": "ipython3",
   "version": "3.11.9"
  }
 },
 "nbformat": 4,
 "nbformat_minor": 5
}
